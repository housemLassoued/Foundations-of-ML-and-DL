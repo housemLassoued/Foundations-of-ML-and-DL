{
  "cells": [
    {
      "cell_type": "markdown",
      "metadata": {
        "id": "view-in-github",
        "colab_type": "text"
      },
      "source": [
        "<a href=\"https://colab.research.google.com/github/housemLassoued/ML-deployment/blob/main/untitled0.ipynb\" target=\"_parent\"><img src=\"https://colab.research.google.com/assets/colab-badge.svg\" alt=\"Open In Colab\"/></a>"
      ]
    },
    {
      "cell_type": "markdown",
      "source": [
        "# **1**.Import Libraries And Initialize Plotly for Notebooks:"
      ],
      "metadata": {
        "id": "B-txKfAu-YzW"
      }
    },
    {
      "cell_type": "code",
      "source": [
        "# Data analysis and Manipulation\n",
        "#plotly.graph_objs, plotly.io, and plotly.express are used for creating and rendering interactive plots.\n",
        "import plotly.graph_objs as go\n",
        "import plotly.io as pio\n",
        "import plotly.express as px\n",
        "import pandas as pd\n",
        "\n",
        "# Data Visualization\n",
        "import matplotlib.pyplot as plt\n",
        "\n",
        "# Importing Plotly\n",
        "import plotly.offline as py\n",
        "#py.init_notebook_mode(connected=True) sets up Plotly for use in notebooks.\n",
        "py.init_notebook_mode(connected=True)\n",
        "\n",
        "# Initializing Plotly\n",
        "#ensures that Plotly renders the plots correctly in Google Colab.\n",
        "pio.renderers.default = 'colab'\n"
      ],
      "metadata": {
        "id": "o7_DNED1TS7R",
        "colab": {
          "base_uri": "https://localhost:8080/",
          "height": 17
        },
        "outputId": "b730ab15-d8da-4c43-b0bc-b7db09a3926e"
      },
      "execution_count": 6,
      "outputs": [
        {
          "output_type": "display_data",
          "data": {
            "text/html": [
              "        <script type=\"text/javascript\">\n",
              "        window.PlotlyConfig = {MathJaxConfig: 'local'};\n",
              "        if (window.MathJax && window.MathJax.Hub && window.MathJax.Hub.Config) {window.MathJax.Hub.Config({SVG: {font: \"STIX-Web\"}});}\n",
              "        if (typeof require !== 'undefined') {\n",
              "        require.undef(\"plotly\");\n",
              "        requirejs.config({\n",
              "            paths: {\n",
              "                'plotly': ['https://cdn.plot.ly/plotly-2.24.1.min']\n",
              "            }\n",
              "        });\n",
              "        require(['plotly'], function(Plotly) {\n",
              "            window._Plotly = Plotly;\n",
              "        });\n",
              "        }\n",
              "        </script>\n",
              "        "
            ]
          },
          "metadata": {}
        }
      ]
    }
  ],
  "metadata": {
    "colab": {
      "provenance": [],
      "gpuType": "T4",
      "authorship_tag": "ABX9TyPlGuiufA7xAEruxlqGaUJh",
      "include_colab_link": true
    },
    "kernelspec": {
      "display_name": "Python 3",
      "name": "python3"
    },
    "language_info": {
      "name": "python"
    },
    "accelerator": "GPU"
  },
  "nbformat": 4,
  "nbformat_minor": 0
}