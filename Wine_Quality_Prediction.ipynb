{
  "nbformat": 4,
  "nbformat_minor": 0,
  "metadata": {
    "colab": {
      "provenance": [],
      "authorship_tag": "ABX9TyMYes5xGw+yddp/eQmY0jEI",
      "include_colab_link": true
    },
    "kernelspec": {
      "name": "python3",
      "display_name": "Python 3"
    },
    "language_info": {
      "name": "python"
    }
  },
  "cells": [
    {
      "cell_type": "markdown",
      "metadata": {
        "id": "view-in-github",
        "colab_type": "text"
      },
      "source": [
        "<a href=\"https://colab.research.google.com/github/housemLassoued/ML-deployment/blob/main/Wine_Quality_Prediction.ipynb\" target=\"_parent\"><img src=\"https://colab.research.google.com/assets/colab-badge.svg\" alt=\"Open In Colab\"/></a>"
      ]
    },
    {
      "cell_type": "code",
      "execution_count": 81,
      "metadata": {
        "id": "UkSl7j40BdTh"
      },
      "outputs": [],
      "source": [
        "import pandas as pd\n",
        "import plotly.express as px\n",
        "from sklearn.preprocessing import StandardScaler\n",
        "from sklearn.model_selection import train_test_split\n",
        "from sklearn.ensemble import RandomForestClassifier\n",
        "from sklearn.metrics import accuracy_score,precision_score,recall_score,f1_score\n",
        "from sklearn.linear_model import LogisticRegression\n",
        "from xgboost import XGBClassifier\n",
        "from sklearn.svm import SVC\n",
        "import numpy as np"
      ]
    },
    {
      "cell_type": "code",
      "source": [
        "df= pd.read_csv('/content/WineQT.csv')"
      ],
      "metadata": {
        "id": "5tviZlwCB03U"
      },
      "execution_count": 82,
      "outputs": []
    },
    {
      "cell_type": "code",
      "source": [
        "df.head()"
      ],
      "metadata": {
        "colab": {
          "base_uri": "https://localhost:8080/",
          "height": 224
        },
        "id": "RIpHcE8xB8xd",
        "outputId": "36ba23a3-78b7-4ee2-972f-6a925a63b806"
      },
      "execution_count": 83,
      "outputs": [
        {
          "output_type": "execute_result",
          "data": {
            "text/plain": [
              "   fixed acidity  volatile acidity  citric acid  residual sugar  chlorides  \\\n",
              "0            7.4              0.70         0.00             1.9      0.076   \n",
              "1            7.8              0.88         0.00             2.6      0.098   \n",
              "2            7.8              0.76         0.04             2.3      0.092   \n",
              "3           11.2              0.28         0.56             1.9      0.075   \n",
              "4            7.4              0.70         0.00             1.9      0.076   \n",
              "\n",
              "   free sulfur dioxide  total sulfur dioxide  density    pH  sulphates  \\\n",
              "0                 11.0                  34.0   0.9978  3.51       0.56   \n",
              "1                 25.0                  67.0   0.9968  3.20       0.68   \n",
              "2                 15.0                  54.0   0.9970  3.26       0.65   \n",
              "3                 17.0                  60.0   0.9980  3.16       0.58   \n",
              "4                 11.0                  34.0   0.9978  3.51       0.56   \n",
              "\n",
              "   alcohol  quality  Id  \n",
              "0      9.4        5   0  \n",
              "1      9.8        5   1  \n",
              "2      9.8        5   2  \n",
              "3      9.8        6   3  \n",
              "4      9.4        5   4  "
            ],
            "text/html": [
              "\n",
              "  <div id=\"df-e6cce5b1-38ed-45e0-8b65-d2392cceb24a\" class=\"colab-df-container\">\n",
              "    <div>\n",
              "<style scoped>\n",
              "    .dataframe tbody tr th:only-of-type {\n",
              "        vertical-align: middle;\n",
              "    }\n",
              "\n",
              "    .dataframe tbody tr th {\n",
              "        vertical-align: top;\n",
              "    }\n",
              "\n",
              "    .dataframe thead th {\n",
              "        text-align: right;\n",
              "    }\n",
              "</style>\n",
              "<table border=\"1\" class=\"dataframe\">\n",
              "  <thead>\n",
              "    <tr style=\"text-align: right;\">\n",
              "      <th></th>\n",
              "      <th>fixed acidity</th>\n",
              "      <th>volatile acidity</th>\n",
              "      <th>citric acid</th>\n",
              "      <th>residual sugar</th>\n",
              "      <th>chlorides</th>\n",
              "      <th>free sulfur dioxide</th>\n",
              "      <th>total sulfur dioxide</th>\n",
              "      <th>density</th>\n",
              "      <th>pH</th>\n",
              "      <th>sulphates</th>\n",
              "      <th>alcohol</th>\n",
              "      <th>quality</th>\n",
              "      <th>Id</th>\n",
              "    </tr>\n",
              "  </thead>\n",
              "  <tbody>\n",
              "    <tr>\n",
              "      <th>0</th>\n",
              "      <td>7.4</td>\n",
              "      <td>0.70</td>\n",
              "      <td>0.00</td>\n",
              "      <td>1.9</td>\n",
              "      <td>0.076</td>\n",
              "      <td>11.0</td>\n",
              "      <td>34.0</td>\n",
              "      <td>0.9978</td>\n",
              "      <td>3.51</td>\n",
              "      <td>0.56</td>\n",
              "      <td>9.4</td>\n",
              "      <td>5</td>\n",
              "      <td>0</td>\n",
              "    </tr>\n",
              "    <tr>\n",
              "      <th>1</th>\n",
              "      <td>7.8</td>\n",
              "      <td>0.88</td>\n",
              "      <td>0.00</td>\n",
              "      <td>2.6</td>\n",
              "      <td>0.098</td>\n",
              "      <td>25.0</td>\n",
              "      <td>67.0</td>\n",
              "      <td>0.9968</td>\n",
              "      <td>3.20</td>\n",
              "      <td>0.68</td>\n",
              "      <td>9.8</td>\n",
              "      <td>5</td>\n",
              "      <td>1</td>\n",
              "    </tr>\n",
              "    <tr>\n",
              "      <th>2</th>\n",
              "      <td>7.8</td>\n",
              "      <td>0.76</td>\n",
              "      <td>0.04</td>\n",
              "      <td>2.3</td>\n",
              "      <td>0.092</td>\n",
              "      <td>15.0</td>\n",
              "      <td>54.0</td>\n",
              "      <td>0.9970</td>\n",
              "      <td>3.26</td>\n",
              "      <td>0.65</td>\n",
              "      <td>9.8</td>\n",
              "      <td>5</td>\n",
              "      <td>2</td>\n",
              "    </tr>\n",
              "    <tr>\n",
              "      <th>3</th>\n",
              "      <td>11.2</td>\n",
              "      <td>0.28</td>\n",
              "      <td>0.56</td>\n",
              "      <td>1.9</td>\n",
              "      <td>0.075</td>\n",
              "      <td>17.0</td>\n",
              "      <td>60.0</td>\n",
              "      <td>0.9980</td>\n",
              "      <td>3.16</td>\n",
              "      <td>0.58</td>\n",
              "      <td>9.8</td>\n",
              "      <td>6</td>\n",
              "      <td>3</td>\n",
              "    </tr>\n",
              "    <tr>\n",
              "      <th>4</th>\n",
              "      <td>7.4</td>\n",
              "      <td>0.70</td>\n",
              "      <td>0.00</td>\n",
              "      <td>1.9</td>\n",
              "      <td>0.076</td>\n",
              "      <td>11.0</td>\n",
              "      <td>34.0</td>\n",
              "      <td>0.9978</td>\n",
              "      <td>3.51</td>\n",
              "      <td>0.56</td>\n",
              "      <td>9.4</td>\n",
              "      <td>5</td>\n",
              "      <td>4</td>\n",
              "    </tr>\n",
              "  </tbody>\n",
              "</table>\n",
              "</div>\n",
              "    <div class=\"colab-df-buttons\">\n",
              "\n",
              "  <div class=\"colab-df-container\">\n",
              "    <button class=\"colab-df-convert\" onclick=\"convertToInteractive('df-e6cce5b1-38ed-45e0-8b65-d2392cceb24a')\"\n",
              "            title=\"Convert this dataframe to an interactive table.\"\n",
              "            style=\"display:none;\">\n",
              "\n",
              "  <svg xmlns=\"http://www.w3.org/2000/svg\" height=\"24px\" viewBox=\"0 -960 960 960\">\n",
              "    <path d=\"M120-120v-720h720v720H120Zm60-500h600v-160H180v160Zm220 220h160v-160H400v160Zm0 220h160v-160H400v160ZM180-400h160v-160H180v160Zm440 0h160v-160H620v160ZM180-180h160v-160H180v160Zm440 0h160v-160H620v160Z\"/>\n",
              "  </svg>\n",
              "    </button>\n",
              "\n",
              "  <style>\n",
              "    .colab-df-container {\n",
              "      display:flex;\n",
              "      gap: 12px;\n",
              "    }\n",
              "\n",
              "    .colab-df-convert {\n",
              "      background-color: #E8F0FE;\n",
              "      border: none;\n",
              "      border-radius: 50%;\n",
              "      cursor: pointer;\n",
              "      display: none;\n",
              "      fill: #1967D2;\n",
              "      height: 32px;\n",
              "      padding: 0 0 0 0;\n",
              "      width: 32px;\n",
              "    }\n",
              "\n",
              "    .colab-df-convert:hover {\n",
              "      background-color: #E2EBFA;\n",
              "      box-shadow: 0px 1px 2px rgba(60, 64, 67, 0.3), 0px 1px 3px 1px rgba(60, 64, 67, 0.15);\n",
              "      fill: #174EA6;\n",
              "    }\n",
              "\n",
              "    .colab-df-buttons div {\n",
              "      margin-bottom: 4px;\n",
              "    }\n",
              "\n",
              "    [theme=dark] .colab-df-convert {\n",
              "      background-color: #3B4455;\n",
              "      fill: #D2E3FC;\n",
              "    }\n",
              "\n",
              "    [theme=dark] .colab-df-convert:hover {\n",
              "      background-color: #434B5C;\n",
              "      box-shadow: 0px 1px 3px 1px rgba(0, 0, 0, 0.15);\n",
              "      filter: drop-shadow(0px 1px 2px rgba(0, 0, 0, 0.3));\n",
              "      fill: #FFFFFF;\n",
              "    }\n",
              "  </style>\n",
              "\n",
              "    <script>\n",
              "      const buttonEl =\n",
              "        document.querySelector('#df-e6cce5b1-38ed-45e0-8b65-d2392cceb24a button.colab-df-convert');\n",
              "      buttonEl.style.display =\n",
              "        google.colab.kernel.accessAllowed ? 'block' : 'none';\n",
              "\n",
              "      async function convertToInteractive(key) {\n",
              "        const element = document.querySelector('#df-e6cce5b1-38ed-45e0-8b65-d2392cceb24a');\n",
              "        const dataTable =\n",
              "          await google.colab.kernel.invokeFunction('convertToInteractive',\n",
              "                                                    [key], {});\n",
              "        if (!dataTable) return;\n",
              "\n",
              "        const docLinkHtml = 'Like what you see? Visit the ' +\n",
              "          '<a target=\"_blank\" href=https://colab.research.google.com/notebooks/data_table.ipynb>data table notebook</a>'\n",
              "          + ' to learn more about interactive tables.';\n",
              "        element.innerHTML = '';\n",
              "        dataTable['output_type'] = 'display_data';\n",
              "        await google.colab.output.renderOutput(dataTable, element);\n",
              "        const docLink = document.createElement('div');\n",
              "        docLink.innerHTML = docLinkHtml;\n",
              "        element.appendChild(docLink);\n",
              "      }\n",
              "    </script>\n",
              "  </div>\n",
              "\n",
              "\n",
              "<div id=\"df-7a136cd8-f4f5-4487-8754-ab05c946150c\">\n",
              "  <button class=\"colab-df-quickchart\" onclick=\"quickchart('df-7a136cd8-f4f5-4487-8754-ab05c946150c')\"\n",
              "            title=\"Suggest charts\"\n",
              "            style=\"display:none;\">\n",
              "\n",
              "<svg xmlns=\"http://www.w3.org/2000/svg\" height=\"24px\"viewBox=\"0 0 24 24\"\n",
              "     width=\"24px\">\n",
              "    <g>\n",
              "        <path d=\"M19 3H5c-1.1 0-2 .9-2 2v14c0 1.1.9 2 2 2h14c1.1 0 2-.9 2-2V5c0-1.1-.9-2-2-2zM9 17H7v-7h2v7zm4 0h-2V7h2v10zm4 0h-2v-4h2v4z\"/>\n",
              "    </g>\n",
              "</svg>\n",
              "  </button>\n",
              "\n",
              "<style>\n",
              "  .colab-df-quickchart {\n",
              "      --bg-color: #E8F0FE;\n",
              "      --fill-color: #1967D2;\n",
              "      --hover-bg-color: #E2EBFA;\n",
              "      --hover-fill-color: #174EA6;\n",
              "      --disabled-fill-color: #AAA;\n",
              "      --disabled-bg-color: #DDD;\n",
              "  }\n",
              "\n",
              "  [theme=dark] .colab-df-quickchart {\n",
              "      --bg-color: #3B4455;\n",
              "      --fill-color: #D2E3FC;\n",
              "      --hover-bg-color: #434B5C;\n",
              "      --hover-fill-color: #FFFFFF;\n",
              "      --disabled-bg-color: #3B4455;\n",
              "      --disabled-fill-color: #666;\n",
              "  }\n",
              "\n",
              "  .colab-df-quickchart {\n",
              "    background-color: var(--bg-color);\n",
              "    border: none;\n",
              "    border-radius: 50%;\n",
              "    cursor: pointer;\n",
              "    display: none;\n",
              "    fill: var(--fill-color);\n",
              "    height: 32px;\n",
              "    padding: 0;\n",
              "    width: 32px;\n",
              "  }\n",
              "\n",
              "  .colab-df-quickchart:hover {\n",
              "    background-color: var(--hover-bg-color);\n",
              "    box-shadow: 0 1px 2px rgba(60, 64, 67, 0.3), 0 1px 3px 1px rgba(60, 64, 67, 0.15);\n",
              "    fill: var(--button-hover-fill-color);\n",
              "  }\n",
              "\n",
              "  .colab-df-quickchart-complete:disabled,\n",
              "  .colab-df-quickchart-complete:disabled:hover {\n",
              "    background-color: var(--disabled-bg-color);\n",
              "    fill: var(--disabled-fill-color);\n",
              "    box-shadow: none;\n",
              "  }\n",
              "\n",
              "  .colab-df-spinner {\n",
              "    border: 2px solid var(--fill-color);\n",
              "    border-color: transparent;\n",
              "    border-bottom-color: var(--fill-color);\n",
              "    animation:\n",
              "      spin 1s steps(1) infinite;\n",
              "  }\n",
              "\n",
              "  @keyframes spin {\n",
              "    0% {\n",
              "      border-color: transparent;\n",
              "      border-bottom-color: var(--fill-color);\n",
              "      border-left-color: var(--fill-color);\n",
              "    }\n",
              "    20% {\n",
              "      border-color: transparent;\n",
              "      border-left-color: var(--fill-color);\n",
              "      border-top-color: var(--fill-color);\n",
              "    }\n",
              "    30% {\n",
              "      border-color: transparent;\n",
              "      border-left-color: var(--fill-color);\n",
              "      border-top-color: var(--fill-color);\n",
              "      border-right-color: var(--fill-color);\n",
              "    }\n",
              "    40% {\n",
              "      border-color: transparent;\n",
              "      border-right-color: var(--fill-color);\n",
              "      border-top-color: var(--fill-color);\n",
              "    }\n",
              "    60% {\n",
              "      border-color: transparent;\n",
              "      border-right-color: var(--fill-color);\n",
              "    }\n",
              "    80% {\n",
              "      border-color: transparent;\n",
              "      border-right-color: var(--fill-color);\n",
              "      border-bottom-color: var(--fill-color);\n",
              "    }\n",
              "    90% {\n",
              "      border-color: transparent;\n",
              "      border-bottom-color: var(--fill-color);\n",
              "    }\n",
              "  }\n",
              "</style>\n",
              "\n",
              "  <script>\n",
              "    async function quickchart(key) {\n",
              "      const quickchartButtonEl =\n",
              "        document.querySelector('#' + key + ' button');\n",
              "      quickchartButtonEl.disabled = true;  // To prevent multiple clicks.\n",
              "      quickchartButtonEl.classList.add('colab-df-spinner');\n",
              "      try {\n",
              "        const charts = await google.colab.kernel.invokeFunction(\n",
              "            'suggestCharts', [key], {});\n",
              "      } catch (error) {\n",
              "        console.error('Error during call to suggestCharts:', error);\n",
              "      }\n",
              "      quickchartButtonEl.classList.remove('colab-df-spinner');\n",
              "      quickchartButtonEl.classList.add('colab-df-quickchart-complete');\n",
              "    }\n",
              "    (() => {\n",
              "      let quickchartButtonEl =\n",
              "        document.querySelector('#df-7a136cd8-f4f5-4487-8754-ab05c946150c button');\n",
              "      quickchartButtonEl.style.display =\n",
              "        google.colab.kernel.accessAllowed ? 'block' : 'none';\n",
              "    })();\n",
              "  </script>\n",
              "</div>\n",
              "\n",
              "    </div>\n",
              "  </div>\n"
            ],
            "application/vnd.google.colaboratory.intrinsic+json": {
              "type": "dataframe",
              "variable_name": "df",
              "summary": "{\n  \"name\": \"df\",\n  \"rows\": 1143,\n  \"fields\": [\n    {\n      \"column\": \"fixed acidity\",\n      \"properties\": {\n        \"dtype\": \"number\",\n        \"std\": 1.74759501716954,\n        \"min\": 4.6,\n        \"max\": 15.9,\n        \"num_unique_values\": 91,\n        \"samples\": [\n          9.7,\n          7.0,\n          9.0\n        ],\n        \"semantic_type\": \"\",\n        \"description\": \"\"\n      }\n    },\n    {\n      \"column\": \"volatile acidity\",\n      \"properties\": {\n        \"dtype\": \"number\",\n        \"std\": 0.1796331930225245,\n        \"min\": 0.12,\n        \"max\": 1.58,\n        \"num_unique_values\": 135,\n        \"samples\": [\n          0.715,\n          0.48,\n          0.92\n        ],\n        \"semantic_type\": \"\",\n        \"description\": \"\"\n      }\n    },\n    {\n      \"column\": \"citric acid\",\n      \"properties\": {\n        \"dtype\": \"number\",\n        \"std\": 0.19668585234821898,\n        \"min\": 0.0,\n        \"max\": 1.0,\n        \"num_unique_values\": 77,\n        \"samples\": [\n          0.02,\n          0.19,\n          0.11\n        ],\n        \"semantic_type\": \"\",\n        \"description\": \"\"\n      }\n    },\n    {\n      \"column\": \"residual sugar\",\n      \"properties\": {\n        \"dtype\": \"number\",\n        \"std\": 1.3559174666826799,\n        \"min\": 0.9,\n        \"max\": 15.5,\n        \"num_unique_values\": 80,\n        \"samples\": [\n          4.0,\n          1.9,\n          7.2\n        ],\n        \"semantic_type\": \"\",\n        \"description\": \"\"\n      }\n    },\n    {\n      \"column\": \"chlorides\",\n      \"properties\": {\n        \"dtype\": \"number\",\n        \"std\": 0.04726733795238057,\n        \"min\": 0.012,\n        \"max\": 0.611,\n        \"num_unique_values\": 131,\n        \"samples\": [\n          0.061,\n          0.119,\n          0.066\n        ],\n        \"semantic_type\": \"\",\n        \"description\": \"\"\n      }\n    },\n    {\n      \"column\": \"free sulfur dioxide\",\n      \"properties\": {\n        \"dtype\": \"number\",\n        \"std\": 10.250486123430822,\n        \"min\": 1.0,\n        \"max\": 68.0,\n        \"num_unique_values\": 53,\n        \"samples\": [\n          30.0,\n          46.0,\n          40.0\n        ],\n        \"semantic_type\": \"\",\n        \"description\": \"\"\n      }\n    },\n    {\n      \"column\": \"total sulfur dioxide\",\n      \"properties\": {\n        \"dtype\": \"number\",\n        \"std\": 32.78213030734311,\n        \"min\": 6.0,\n        \"max\": 289.0,\n        \"num_unique_values\": 138,\n        \"samples\": [\n          70.0,\n          91.0,\n          71.0\n        ],\n        \"semantic_type\": \"\",\n        \"description\": \"\"\n      }\n    },\n    {\n      \"column\": \"density\",\n      \"properties\": {\n        \"dtype\": \"number\",\n        \"std\": 0.0019250671302545696,\n        \"min\": 0.99007,\n        \"max\": 1.00369,\n        \"num_unique_values\": 388,\n        \"samples\": [\n          0.99434,\n          0.9927,\n          0.99528\n        ],\n        \"semantic_type\": \"\",\n        \"description\": \"\"\n      }\n    },\n    {\n      \"column\": \"pH\",\n      \"properties\": {\n        \"dtype\": \"number\",\n        \"std\": 0.15666405977275194,\n        \"min\": 2.74,\n        \"max\": 4.01,\n        \"num_unique_values\": 87,\n        \"samples\": [\n          2.92,\n          3.51,\n          3.44\n        ],\n        \"semantic_type\": \"\",\n        \"description\": \"\"\n      }\n    },\n    {\n      \"column\": \"sulphates\",\n      \"properties\": {\n        \"dtype\": \"number\",\n        \"std\": 0.1703987144670741,\n        \"min\": 0.33,\n        \"max\": 2.0,\n        \"num_unique_values\": 89,\n        \"samples\": [\n          0.72,\n          1.61,\n          1.12\n        ],\n        \"semantic_type\": \"\",\n        \"description\": \"\"\n      }\n    },\n    {\n      \"column\": \"alcohol\",\n      \"properties\": {\n        \"dtype\": \"number\",\n        \"std\": 1.0821956098764445,\n        \"min\": 8.4,\n        \"max\": 14.9,\n        \"num_unique_values\": 61,\n        \"samples\": [\n          9.4,\n          9.9,\n          12.7\n        ],\n        \"semantic_type\": \"\",\n        \"description\": \"\"\n      }\n    },\n    {\n      \"column\": \"quality\",\n      \"properties\": {\n        \"dtype\": \"number\",\n        \"std\": 0,\n        \"min\": 3,\n        \"max\": 8,\n        \"num_unique_values\": 6,\n        \"samples\": [\n          5,\n          6,\n          3\n        ],\n        \"semantic_type\": \"\",\n        \"description\": \"\"\n      }\n    },\n    {\n      \"column\": \"Id\",\n      \"properties\": {\n        \"dtype\": \"number\",\n        \"std\": 463,\n        \"min\": 0,\n        \"max\": 1597,\n        \"num_unique_values\": 1143,\n        \"samples\": [\n          222,\n          1514,\n          417\n        ],\n        \"semantic_type\": \"\",\n        \"description\": \"\"\n      }\n    }\n  ]\n}"
            }
          },
          "metadata": {},
          "execution_count": 83
        }
      ]
    },
    {
      "cell_type": "code",
      "source": [
        "df.info()"
      ],
      "metadata": {
        "colab": {
          "base_uri": "https://localhost:8080/"
        },
        "id": "6QH2Dic6CHh3",
        "outputId": "8e5809c9-f299-4f4f-9f84-260432c3800e"
      },
      "execution_count": 84,
      "outputs": [
        {
          "output_type": "stream",
          "name": "stdout",
          "text": [
            "<class 'pandas.core.frame.DataFrame'>\n",
            "RangeIndex: 1143 entries, 0 to 1142\n",
            "Data columns (total 13 columns):\n",
            " #   Column                Non-Null Count  Dtype  \n",
            "---  ------                --------------  -----  \n",
            " 0   fixed acidity         1143 non-null   float64\n",
            " 1   volatile acidity      1143 non-null   float64\n",
            " 2   citric acid           1143 non-null   float64\n",
            " 3   residual sugar        1143 non-null   float64\n",
            " 4   chlorides             1143 non-null   float64\n",
            " 5   free sulfur dioxide   1143 non-null   float64\n",
            " 6   total sulfur dioxide  1143 non-null   float64\n",
            " 7   density               1143 non-null   float64\n",
            " 8   pH                    1143 non-null   float64\n",
            " 9   sulphates             1143 non-null   float64\n",
            " 10  alcohol               1143 non-null   float64\n",
            " 11  quality               1143 non-null   int64  \n",
            " 12  Id                    1143 non-null   int64  \n",
            "dtypes: float64(11), int64(2)\n",
            "memory usage: 116.2 KB\n"
          ]
        }
      ]
    },
    {
      "cell_type": "code",
      "source": [
        "df['quality'].value_counts()"
      ],
      "metadata": {
        "colab": {
          "base_uri": "https://localhost:8080/",
          "height": 304
        },
        "id": "2Ak_046tCdps",
        "outputId": "92f088c3-d9b4-4514-e416-8edc8842e792"
      },
      "execution_count": 85,
      "outputs": [
        {
          "output_type": "execute_result",
          "data": {
            "text/plain": [
              "quality\n",
              "5    483\n",
              "6    462\n",
              "7    143\n",
              "4     33\n",
              "8     16\n",
              "3      6\n",
              "Name: count, dtype: int64"
            ],
            "text/html": [
              "<table border=\"1\" class=\"dataframe\">\n",
              "  <thead>\n",
              "    <tr style=\"text-align: right;\">\n",
              "      <th></th>\n",
              "      <th>count</th>\n",
              "    </tr>\n",
              "    <tr>\n",
              "      <th>quality</th>\n",
              "      <th></th>\n",
              "    </tr>\n",
              "  </thead>\n",
              "  <tbody>\n",
              "    <tr>\n",
              "      <th>5</th>\n",
              "      <td>483</td>\n",
              "    </tr>\n",
              "    <tr>\n",
              "      <th>6</th>\n",
              "      <td>462</td>\n",
              "    </tr>\n",
              "    <tr>\n",
              "      <th>7</th>\n",
              "      <td>143</td>\n",
              "    </tr>\n",
              "    <tr>\n",
              "      <th>4</th>\n",
              "      <td>33</td>\n",
              "    </tr>\n",
              "    <tr>\n",
              "      <th>8</th>\n",
              "      <td>16</td>\n",
              "    </tr>\n",
              "    <tr>\n",
              "      <th>3</th>\n",
              "      <td>6</td>\n",
              "    </tr>\n",
              "  </tbody>\n",
              "</table><br><label><b>dtype:</b> int64</label>"
            ]
          },
          "metadata": {},
          "execution_count": 85
        }
      ]
    },
    {
      "cell_type": "code",
      "source": [
        "df=df.drop('Id',axis=1)"
      ],
      "metadata": {
        "id": "E--BczVaDZFJ"
      },
      "execution_count": 86,
      "outputs": []
    },
    {
      "cell_type": "code",
      "source": [
        "\n",
        "for column in df.columns:\n",
        "    fig = px.histogram(df, x=column, title=f'Histogramme pour {column}')\n",
        "    fig.show()"
      ],
      "metadata": {
        "colab": {
          "base_uri": "https://localhost:8080/",
          "height": 1000
        },
        "id": "plUlrCo-Guq1",
        "outputId": "c8665007-0507-46a6-8845-ff8f9f36e2ef"
      },
      "execution_count": 87,
      "outputs": [
        {
          "output_type": "display_data",
          "data": {
            "text/html": [
              "<html>\n",
              "<head><meta charset=\"utf-8\" /></head>\n",
              "<body>\n",
              "    <div>            <script src=\"https://cdnjs.cloudflare.com/ajax/libs/mathjax/2.7.5/MathJax.js?config=TeX-AMS-MML_SVG\"></script><script type=\"text/javascript\">if (window.MathJax && window.MathJax.Hub && window.MathJax.Hub.Config) {window.MathJax.Hub.Config({SVG: {font: \"STIX-Web\"}});}</script>                <script type=\"text/javascript\">window.PlotlyConfig = {MathJaxConfig: 'local'};</script>\n",
              "        <script charset=\"utf-8\" src=\"https://cdn.plot.ly/plotly-2.24.1.min.js\"></script>                <div id=\"2061d503-5258-4a9d-b8bc-804740220b18\" class=\"plotly-graph-div\" style=\"height:525px; width:100%;\"></div>            <script type=\"text/javascript\">                                    window.PLOTLYENV=window.PLOTLYENV || {};                                    if (document.getElementById(\"2061d503-5258-4a9d-b8bc-804740220b18\")) {                    Plotly.newPlot(                        \"2061d503-5258-4a9d-b8bc-804740220b18\",                        [{\"alignmentgroup\":\"True\",\"bingroup\":\"x\",\"hovertemplate\":\"fixed acidity=%{x}\\u003cbr\\u003ecount=%{y}\\u003cextra\\u003e\\u003c\\u002fextra\\u003e\",\"legendgroup\":\"\",\"marker\":{\"color\":\"#636efa\",\"pattern\":{\"shape\":\"\"}},\"name\":\"\",\"offsetgroup\":\"\",\"orientation\":\"v\",\"showlegend\":false,\"x\":[7.4,7.8,7.8,11.2,7.4,7.4,7.9,7.3,7.8,6.7,5.6,7.8,8.5,7.9,7.6,7.9,8.5,6.9,6.3,7.6,7.1,7.8,6.7,8.3,5.2,7.8,7.8,8.1,7.3,8.8,7.5,8.1,4.6,7.7,8.8,6.6,6.6,8.6,7.6,10.2,7.8,7.3,8.8,7.7,7.0,7.2,7.2,6.6,8.0,7.7,8.3,8.8,6.8,6.7,8.3,6.2,7.4,6.3,6.9,8.6,7.7,9.3,7.0,7.9,8.6,7.7,5.0,6.8,7.6,8.1,8.3,8.1,8.1,7.2,8.1,7.8,6.2,7.8,8.4,10.1,7.8,9.4,8.3,7.3,8.8,7.3,7.8,8.2,8.1,8.0,8.0,5.6,7.9,8.4,7.2,8.4,5.2,6.3,5.2,8.1,5.8,6.9,7.3,9.2,7.5,7.5,7.1,7.1,7.1,7.1,6.8,7.6,7.6,7.8,7.4,7.3,7.8,6.8,7.3,6.8,7.9,8.0,7.4,6.9,7.3,7.5,7.0,8.8,8.8,8.9,7.2,6.8,6.7,8.9,7.4,7.9,8.2,6.4,7.6,7.6,7.3,11.5,6.9,9.6,7.0,12.8,12.8,7.8,9.7,8.0,8.2,7.8,7.0,8.7,8.1,7.5,7.8,7.4,6.8,8.6,7.7,8.9,5.2,8.0,8.5,8.2,7.2,8.9,12.0,7.7,15.0,15.0,7.3,7.1,7.3,10.8,7.1,11.1,7.7,8.0,9.4,6.6,7.7,10.0,7.9,7.0,8.0,7.9,12.5,8.1,7.9,6.9,11.5,7.9,7.9,6.9,11.5,10.3,8.9,11.4,7.7,8.9,9.9,9.9,12.0,7.5,8.7,11.6,8.7,10.4,6.9,13.3,10.8,10.6,7.1,7.2,7.5,11.1,8.3,8.4,7.6,10.3,10.3,7.9,9.0,8.6,7.4,9.8,9.6,9.3,10.0,10.0,11.6,10.3,13.4,8.4,7.9,11.9,8.9,7.8,12.5,10.9,10.9,11.9,13.8,9.6,9.1,7.7,13.5,6.1,6.7,11.5,10.5,11.9,12.6,8.2,8.6,11.9,12.5,12.8,12.8,10.4,9.4,7.9,9.1,11.5,9.4,11.4,8.3,7.7,7.8,5.6,13.7,9.5,12.0,6.6,11.5,8.7,6.6,12.2,11.4,7.7,9.8,12.0,12.5,9.0,7.1,9.9,8.8,8.6,10.6,7.0,11.9,6.8,6.6,7.7,10.5,6.6,6.4,9.5,9.1,12.8,10.5,7.8,12.3,10.4,12.3,8.0,11.1,7.0,12.6,15.6,5.3,12.5,9.3,8.6,11.9,11.9,6.8,10.4,7.0,11.3,8.9,9.2,11.6,9.2,8.3,11.5,10.3,8.8,11.4,8.7,13.0,9.6,12.5,9.6,9.3,10.4,9.4,10.6,9.4,10.6,10.2,10.2,9.3,9.2,8.9,8.7,6.5,10.7,7.8,7.2,10.7,8.7,7.8,10.4,10.4,10.5,10.2,10.4,11.2,13.3,10.0,10.7,10.5,10.5,8.5,12.5,10.4,9.8,9.3,9.2,7.0,9.9,9.1,11.9,11.9,10.3,10.0,9.1,9.9,8.1,12.9,11.2,9.2,9.5,9.3,11.2,14.3,9.1,7.5,10.6,12.4,6.8,9.4,9.5,5.0,15.5,10.9,15.6,13.0,12.7,9.0,7.6,13.0,12.7,8.7,9.8,6.2,11.5,10.2,9.9,8.8,8.8,10.6,12.3,12.3,12.0,7.3,5.0,9.0,6.6,9.0,9.9,8.9,12.4,8.5,7.7,8.3,8.8,10.1,6.3,8.8,13.2,7.5,9.6,11.5,11.3,8.3,8.2,10.0,6.8,8.8,8.8,8.7,7.6,8.7,10.4,7.6,10.1,7.9,8.7,9.6,9.5,8.9,9.9,9.9,9.9,8.3,8.7,6.7,10.7,15.9,9.4,8.6,9.7,10.7,12.0,7.2,7.2,7.5,7.2,9.4,8.3,11.3,11.3,8.2,8.2,10.8,8.6,8.3,10.8,8.0,8.5,8.1,9.8,8.1,7.7,8.1,9.2,8.6,9.0,9.0,5.1,7.0,9.4,11.8,10.6,7.0,7.0,7.5,9.1,8.4,7.0,7.4,7.8,10.6,8.9,9.9,7.6,8.4,7.1,8.4,8.9,7.1,9.0,8.1,6.4,6.4,6.4,9.5,8.9,7.3,7.0,7.7,7.7,8.2,9.0,8.3,9.2,11.1,7.3,8.2,7.2,7.3,8.3,7.6,8.3,7.8,7.8,6.3,8.1,8.1,8.8,9.0,9.3,8.8,9.1,9.2,8.8,7.1,7.9,7.1,9.4,9.5,7.9,7.2,6.9,8.3,7.1,7.0,6.5,7.1,9.9,10.0,10.0,8.6,7.4,8.8,7.1,7.7,10.1,10.8,8.7,9.3,9.4,8.6,5.1,7.7,8.4,8.4,7.4,7.6,7.3,12.9,6.9,12.6,9.1,7.0,4.9,6.7,7.1,7.5,7.1,7.5,5.9,11.6,6.7,6.7,10.1,6.6,10.6,7.1,6.4,7.4,6.4,9.3,9.3,9.3,9.3,9.3,8.2,11.7,7.2,7.5,7.2,7.2,6.9,7.3,8.8,7.7,7.6,8.4,8.8,8.9,9.0,6.8,10.7,7.2,10.1,7.2,7.2,7.1,8.3,7.1,8.3,8.9,7.4,7.4,6.8,7.2,6.1,7.4,9.3,9.1,10.0,8.6,5.3,6.8,8.4,8.4,9.6,8.4,8.6,8.6,9.4,8.4,8.6,8.7,7.4,7.6,6.6,8.8,6.2,9.9,10.1,8.3,10.2,8.3,8.9,8.9,8.3,8.2,10.2,8.5,9.0,6.4,8.5,7.1,6.6,8.5,8.5,9.0,10.4,8.8,7.2,8.4,7.0,9.1,9.5,7.3,9.1,7.4,7.1,7.7,9.7,7.7,7.1,7.1,7.7,8.9,6.4,7.5,8.2,6.8,9.1,9.1,8.9,8.9,8.9,7.7,7.5,8.0,8.9,8.0,7.0,11.3,11.3,7.0,8.2,7.7,8.6,7.9,6.4,7.7,8.1,8.9,10.1,7.6,8.7,8.9,6.9,6.4,6.9,7.6,7.1,9.3,9.3,8.5,5.6,8.3,8.2,8.9,7.6,9.9,8.9,11.6,9.1,8.0,10.2,8.2,7.7,6.6,11.1,8.0,9.3,7.5,8.0,9.9,8.6,7.9,7.9,7.2,8.7,6.8,8.5,7.9,11.6,11.6,10.0,7.9,7.0,9.2,6.6,6.6,8.6,8.4,7.4,7.4,8.0,6.3,9.1,8.1,10.8,8.3,5.4,7.9,5.0,7.0,7.0,7.0,7.1,5.6,7.9,6.3,8.8,6.3,10.0,9.1,7.4,7.2,8.5,8.0,10.4,7.5,8.2,7.3,8.2,6.9,7.0,7.3,8.2,7.8,10.0,7.8,10.0,6.1,8.3,9.6,8.3,8.5,5.1,8.5,9.0,8.2,6.5,7.6,9.2,9.7,7.6,7.6,6.5,6.5,5.6,8.2,9.8,6.8,6.7,6.7,8.8,9.1,6.5,7.2,7.0,6.2,7.7,7.7,7.9,7.7,7.9,8.6,9.9,7.2,7.2,9.9,7.2,6.2,6.8,6.8,10.2,7.9,9.0,10.9,10.9,12.6,9.2,7.5,9.0,5.1,7.6,7.7,7.8,7.6,7.1,7.8,7.1,8.1,6.5,7.5,8.3,7.4,7.4,7.1,7.5,7.1,7.9,7.8,7.5,7.0,6.8,8.6,6.3,9.8,8.5,7.2,7.2,10.4,6.9,5.0,7.3,5.9,7.5,7.8,8.0,8.5,7.0,8.0,9.8,7.1,7.1,7.9,8.7,7.0,11.3,7.0,7.0,7.6,8.2,5.9,6.6,7.2,5.7,7.6,5.2,6.7,9.1,7.6,7.5,9.7,7.0,6.5,8.0,7.5,5.4,9.1,5.0,9.1,6.7,6.7,6.7,6.7,6.5,7.4,7.4,7.8,8.4,9.1,7.2,6.6,6.0,6.0,6.0,7.5,7.5,7.5,7.5,11.5,8.2,6.1,7.2,7.2,7.6,6.1,6.1,7.3,7.4,11.6,8.3,11.6,7.2,7.3,6.9,8.0,8.7,7.5,8.7,8.2,7.2,7.5,7.5,8.0,8.0,7.1,8.0,7.4,6.6,6.0,8.0,7.1,8.0,8.6,8.7,7.3,7.2,7.9,7.6,7.2,8.0,8.2,6.0,8.1,6.0,6.6,6.4,8.2,9.9,10.0,6.2,10.0,7.3,7.8,7.7,7.8,7.5,7.0,6.4,7.6,7.8,7.9,7.4,7.6,6.1,10.2,10.0,6.8,7.0,7.3,6.9,7.4,6.8,7.2,7.2,7.8,6.6,11.7,6.5,7.6,8.4,7.9,6.4,6.2,6.9,6.8,7.3,6.7,7.3,7.3,10.0,6.7,7.6,6.1,9.9,5.3,9.9,5.3,7.1,8.2,5.6,8.2,8.1,7.0,6.8,6.0,5.6,7.1,6.2,7.7,6.4,7.0,6.9,6.9,7.8,6.2,7.5,6.7,6.8,7.5,7.1,7.9,6.4,7.1,6.9,6.9,6.5,7.4,6.6,6.1,6.8,6.7,6.8,7.9,7.1,6.6,6.1,7.2,8.0,6.6,7.0,6.2,6.2,8.4,6.5,7.0,11.2,7.4,7.1,6.3,7.3,7.0,6.6,6.6,6.9,7.8,7.8,7.8,7.2,7.2,6.7,6.7,7.2,7.0,6.2,6.4,6.4,7.3,6.0,7.5,8.0,6.2,6.8,7.4,6.1,6.2,6.7,7.5,5.8,6.3,5.4,6.3,6.8,6.2,5.9,5.9],\"xaxis\":\"x\",\"yaxis\":\"y\",\"type\":\"histogram\"}],                        {\"template\":{\"data\":{\"histogram2dcontour\":[{\"type\":\"histogram2dcontour\",\"colorbar\":{\"outlinewidth\":0,\"ticks\":\"\"},\"colorscale\":[[0.0,\"#0d0887\"],[0.1111111111111111,\"#46039f\"],[0.2222222222222222,\"#7201a8\"],[0.3333333333333333,\"#9c179e\"],[0.4444444444444444,\"#bd3786\"],[0.5555555555555556,\"#d8576b\"],[0.6666666666666666,\"#ed7953\"],[0.7777777777777778,\"#fb9f3a\"],[0.8888888888888888,\"#fdca26\"],[1.0,\"#f0f921\"]]}],\"choropleth\":[{\"type\":\"choropleth\",\"colorbar\":{\"outlinewidth\":0,\"ticks\":\"\"}}],\"histogram2d\":[{\"type\":\"histogram2d\",\"colorbar\":{\"outlinewidth\":0,\"ticks\":\"\"},\"colorscale\":[[0.0,\"#0d0887\"],[0.1111111111111111,\"#46039f\"],[0.2222222222222222,\"#7201a8\"],[0.3333333333333333,\"#9c179e\"],[0.4444444444444444,\"#bd3786\"],[0.5555555555555556,\"#d8576b\"],[0.6666666666666666,\"#ed7953\"],[0.7777777777777778,\"#fb9f3a\"],[0.8888888888888888,\"#fdca26\"],[1.0,\"#f0f921\"]]}],\"heatmap\":[{\"type\":\"heatmap\",\"colorbar\":{\"outlinewidth\":0,\"ticks\":\"\"},\"colorscale\":[[0.0,\"#0d0887\"],[0.1111111111111111,\"#46039f\"],[0.2222222222222222,\"#7201a8\"],[0.3333333333333333,\"#9c179e\"],[0.4444444444444444,\"#bd3786\"],[0.5555555555555556,\"#d8576b\"],[0.6666666666666666,\"#ed7953\"],[0.7777777777777778,\"#fb9f3a\"],[0.8888888888888888,\"#fdca26\"],[1.0,\"#f0f921\"]]}],\"heatmapgl\":[{\"type\":\"heatmapgl\",\"colorbar\":{\"outlinewidth\":0,\"ticks\":\"\"},\"colorscale\":[[0.0,\"#0d0887\"],[0.1111111111111111,\"#46039f\"],[0.2222222222222222,\"#7201a8\"],[0.3333333333333333,\"#9c179e\"],[0.4444444444444444,\"#bd3786\"],[0.5555555555555556,\"#d8576b\"],[0.6666666666666666,\"#ed7953\"],[0.7777777777777778,\"#fb9f3a\"],[0.8888888888888888,\"#fdca26\"],[1.0,\"#f0f921\"]]}],\"contourcarpet\":[{\"type\":\"contourcarpet\",\"colorbar\":{\"outlinewidth\":0,\"ticks\":\"\"}}],\"contour\":[{\"type\":\"contour\",\"colorbar\":{\"outlinewidth\":0,\"ticks\":\"\"},\"colorscale\":[[0.0,\"#0d0887\"],[0.1111111111111111,\"#46039f\"],[0.2222222222222222,\"#7201a8\"],[0.3333333333333333,\"#9c179e\"],[0.4444444444444444,\"#bd3786\"],[0.5555555555555556,\"#d8576b\"],[0.6666666666666666,\"#ed7953\"],[0.7777777777777778,\"#fb9f3a\"],[0.8888888888888888,\"#fdca26\"],[1.0,\"#f0f921\"]]}],\"surface\":[{\"type\":\"surface\",\"colorbar\":{\"outlinewidth\":0,\"ticks\":\"\"},\"colorscale\":[[0.0,\"#0d0887\"],[0.1111111111111111,\"#46039f\"],[0.2222222222222222,\"#7201a8\"],[0.3333333333333333,\"#9c179e\"],[0.4444444444444444,\"#bd3786\"],[0.5555555555555556,\"#d8576b\"],[0.6666666666666666,\"#ed7953\"],[0.7777777777777778,\"#fb9f3a\"],[0.8888888888888888,\"#fdca26\"],[1.0,\"#f0f921\"]]}],\"mesh3d\":[{\"type\":\"mesh3d\",\"colorbar\":{\"outlinewidth\":0,\"ticks\":\"\"}}],\"scatter\":[{\"fillpattern\":{\"fillmode\":\"overlay\",\"size\":10,\"solidity\":0.2},\"type\":\"scatter\"}],\"parcoords\":[{\"type\":\"parcoords\",\"line\":{\"colorbar\":{\"outlinewidth\":0,\"ticks\":\"\"}}}],\"scatterpolargl\":[{\"type\":\"scatterpolargl\",\"marker\":{\"colorbar\":{\"outlinewidth\":0,\"ticks\":\"\"}}}],\"bar\":[{\"error_x\":{\"color\":\"#2a3f5f\"},\"error_y\":{\"color\":\"#2a3f5f\"},\"marker\":{\"line\":{\"color\":\"#E5ECF6\",\"width\":0.5},\"pattern\":{\"fillmode\":\"overlay\",\"size\":10,\"solidity\":0.2}},\"type\":\"bar\"}],\"scattergeo\":[{\"type\":\"scattergeo\",\"marker\":{\"colorbar\":{\"outlinewidth\":0,\"ticks\":\"\"}}}],\"scatterpolar\":[{\"type\":\"scatterpolar\",\"marker\":{\"colorbar\":{\"outlinewidth\":0,\"ticks\":\"\"}}}],\"histogram\":[{\"marker\":{\"pattern\":{\"fillmode\":\"overlay\",\"size\":10,\"solidity\":0.2}},\"type\":\"histogram\"}],\"scattergl\":[{\"type\":\"scattergl\",\"marker\":{\"colorbar\":{\"outlinewidth\":0,\"ticks\":\"\"}}}],\"scatter3d\":[{\"type\":\"scatter3d\",\"line\":{\"colorbar\":{\"outlinewidth\":0,\"ticks\":\"\"}},\"marker\":{\"colorbar\":{\"outlinewidth\":0,\"ticks\":\"\"}}}],\"scattermapbox\":[{\"type\":\"scattermapbox\",\"marker\":{\"colorbar\":{\"outlinewidth\":0,\"ticks\":\"\"}}}],\"scatterternary\":[{\"type\":\"scatterternary\",\"marker\":{\"colorbar\":{\"outlinewidth\":0,\"ticks\":\"\"}}}],\"scattercarpet\":[{\"type\":\"scattercarpet\",\"marker\":{\"colorbar\":{\"outlinewidth\":0,\"ticks\":\"\"}}}],\"carpet\":[{\"aaxis\":{\"endlinecolor\":\"#2a3f5f\",\"gridcolor\":\"white\",\"linecolor\":\"white\",\"minorgridcolor\":\"white\",\"startlinecolor\":\"#2a3f5f\"},\"baxis\":{\"endlinecolor\":\"#2a3f5f\",\"gridcolor\":\"white\",\"linecolor\":\"white\",\"minorgridcolor\":\"white\",\"startlinecolor\":\"#2a3f5f\"},\"type\":\"carpet\"}],\"table\":[{\"cells\":{\"fill\":{\"color\":\"#EBF0F8\"},\"line\":{\"color\":\"white\"}},\"header\":{\"fill\":{\"color\":\"#C8D4E3\"},\"line\":{\"color\":\"white\"}},\"type\":\"table\"}],\"barpolar\":[{\"marker\":{\"line\":{\"color\":\"#E5ECF6\",\"width\":0.5},\"pattern\":{\"fillmode\":\"overlay\",\"size\":10,\"solidity\":0.2}},\"type\":\"barpolar\"}],\"pie\":[{\"automargin\":true,\"type\":\"pie\"}]},\"layout\":{\"autotypenumbers\":\"strict\",\"colorway\":[\"#636efa\",\"#EF553B\",\"#00cc96\",\"#ab63fa\",\"#FFA15A\",\"#19d3f3\",\"#FF6692\",\"#B6E880\",\"#FF97FF\",\"#FECB52\"],\"font\":{\"color\":\"#2a3f5f\"},\"hovermode\":\"closest\",\"hoverlabel\":{\"align\":\"left\"},\"paper_bgcolor\":\"white\",\"plot_bgcolor\":\"#E5ECF6\",\"polar\":{\"bgcolor\":\"#E5ECF6\",\"angularaxis\":{\"gridcolor\":\"white\",\"linecolor\":\"white\",\"ticks\":\"\"},\"radialaxis\":{\"gridcolor\":\"white\",\"linecolor\":\"white\",\"ticks\":\"\"}},\"ternary\":{\"bgcolor\":\"#E5ECF6\",\"aaxis\":{\"gridcolor\":\"white\",\"linecolor\":\"white\",\"ticks\":\"\"},\"baxis\":{\"gridcolor\":\"white\",\"linecolor\":\"white\",\"ticks\":\"\"},\"caxis\":{\"gridcolor\":\"white\",\"linecolor\":\"white\",\"ticks\":\"\"}},\"coloraxis\":{\"colorbar\":{\"outlinewidth\":0,\"ticks\":\"\"}},\"colorscale\":{\"sequential\":[[0.0,\"#0d0887\"],[0.1111111111111111,\"#46039f\"],[0.2222222222222222,\"#7201a8\"],[0.3333333333333333,\"#9c179e\"],[0.4444444444444444,\"#bd3786\"],[0.5555555555555556,\"#d8576b\"],[0.6666666666666666,\"#ed7953\"],[0.7777777777777778,\"#fb9f3a\"],[0.8888888888888888,\"#fdca26\"],[1.0,\"#f0f921\"]],\"sequentialminus\":[[0.0,\"#0d0887\"],[0.1111111111111111,\"#46039f\"],[0.2222222222222222,\"#7201a8\"],[0.3333333333333333,\"#9c179e\"],[0.4444444444444444,\"#bd3786\"],[0.5555555555555556,\"#d8576b\"],[0.6666666666666666,\"#ed7953\"],[0.7777777777777778,\"#fb9f3a\"],[0.8888888888888888,\"#fdca26\"],[1.0,\"#f0f921\"]],\"diverging\":[[0,\"#8e0152\"],[0.1,\"#c51b7d\"],[0.2,\"#de77ae\"],[0.3,\"#f1b6da\"],[0.4,\"#fde0ef\"],[0.5,\"#f7f7f7\"],[0.6,\"#e6f5d0\"],[0.7,\"#b8e186\"],[0.8,\"#7fbc41\"],[0.9,\"#4d9221\"],[1,\"#276419\"]]},\"xaxis\":{\"gridcolor\":\"white\",\"linecolor\":\"white\",\"ticks\":\"\",\"title\":{\"standoff\":15},\"zerolinecolor\":\"white\",\"automargin\":true,\"zerolinewidth\":2},\"yaxis\":{\"gridcolor\":\"white\",\"linecolor\":\"white\",\"ticks\":\"\",\"title\":{\"standoff\":15},\"zerolinecolor\":\"white\",\"automargin\":true,\"zerolinewidth\":2},\"scene\":{\"xaxis\":{\"backgroundcolor\":\"#E5ECF6\",\"gridcolor\":\"white\",\"linecolor\":\"white\",\"showbackground\":true,\"ticks\":\"\",\"zerolinecolor\":\"white\",\"gridwidth\":2},\"yaxis\":{\"backgroundcolor\":\"#E5ECF6\",\"gridcolor\":\"white\",\"linecolor\":\"white\",\"showbackground\":true,\"ticks\":\"\",\"zerolinecolor\":\"white\",\"gridwidth\":2},\"zaxis\":{\"backgroundcolor\":\"#E5ECF6\",\"gridcolor\":\"white\",\"linecolor\":\"white\",\"showbackground\":true,\"ticks\":\"\",\"zerolinecolor\":\"white\",\"gridwidth\":2}},\"shapedefaults\":{\"line\":{\"color\":\"#2a3f5f\"}},\"annotationdefaults\":{\"arrowcolor\":\"#2a3f5f\",\"arrowhead\":0,\"arrowwidth\":1},\"geo\":{\"bgcolor\":\"white\",\"landcolor\":\"#E5ECF6\",\"subunitcolor\":\"white\",\"showland\":true,\"showlakes\":true,\"lakecolor\":\"white\"},\"title\":{\"x\":0.05},\"mapbox\":{\"style\":\"light\"}}},\"xaxis\":{\"anchor\":\"y\",\"domain\":[0.0,1.0],\"title\":{\"text\":\"fixed acidity\"}},\"yaxis\":{\"anchor\":\"x\",\"domain\":[0.0,1.0],\"title\":{\"text\":\"count\"}},\"legend\":{\"tracegroupgap\":0},\"title\":{\"text\":\"Histogramme pour fixed acidity\"},\"barmode\":\"relative\"},                        {\"responsive\": true}                    ).then(function(){\n",
              "                            \n",
              "var gd = document.getElementById('2061d503-5258-4a9d-b8bc-804740220b18');\n",
              "var x = new MutationObserver(function (mutations, observer) {{\n",
              "        var display = window.getComputedStyle(gd).display;\n",
              "        if (!display || display === 'none') {{\n",
              "            console.log([gd, 'removed!']);\n",
              "            Plotly.purge(gd);\n",
              "            observer.disconnect();\n",
              "        }}\n",
              "}});\n",
              "\n",
              "// Listen for the removal of the full notebook cells\n",
              "var notebookContainer = gd.closest('#notebook-container');\n",
              "if (notebookContainer) {{\n",
              "    x.observe(notebookContainer, {childList: true});\n",
              "}}\n",
              "\n",
              "// Listen for the clearing of the current output cell\n",
              "var outputEl = gd.closest('.output');\n",
              "if (outputEl) {{\n",
              "    x.observe(outputEl, {childList: true});\n",
              "}}\n",
              "\n",
              "                        })                };                            </script>        </div>\n",
              "</body>\n",
              "</html>"
            ]
          },
          "metadata": {}
        },
        {
          "output_type": "display_data",
          "data": {
            "text/html": [
              "<html>\n",
              "<head><meta charset=\"utf-8\" /></head>\n",
              "<body>\n",
              "    <div>            <script src=\"https://cdnjs.cloudflare.com/ajax/libs/mathjax/2.7.5/MathJax.js?config=TeX-AMS-MML_SVG\"></script><script type=\"text/javascript\">if (window.MathJax && window.MathJax.Hub && window.MathJax.Hub.Config) {window.MathJax.Hub.Config({SVG: {font: \"STIX-Web\"}});}</script>                <script type=\"text/javascript\">window.PlotlyConfig = {MathJaxConfig: 'local'};</script>\n",
              "        <script charset=\"utf-8\" src=\"https://cdn.plot.ly/plotly-2.24.1.min.js\"></script>                <div id=\"0f8b23be-2da2-479e-81c1-55d65f79ba8b\" class=\"plotly-graph-div\" style=\"height:525px; width:100%;\"></div>            <script type=\"text/javascript\">                                    window.PLOTLYENV=window.PLOTLYENV || {};                                    if (document.getElementById(\"0f8b23be-2da2-479e-81c1-55d65f79ba8b\")) {                    Plotly.newPlot(                        \"0f8b23be-2da2-479e-81c1-55d65f79ba8b\",                        [{\"alignmentgroup\":\"True\",\"bingroup\":\"x\",\"hovertemplate\":\"volatile acidity=%{x}\\u003cbr\\u003ecount=%{y}\\u003cextra\\u003e\\u003c\\u002fextra\\u003e\",\"legendgroup\":\"\",\"marker\":{\"color\":\"#636efa\",\"pattern\":{\"shape\":\"\"}},\"name\":\"\",\"offsetgroup\":\"\",\"orientation\":\"v\",\"showlegend\":false,\"x\":[0.7,0.88,0.76,0.28,0.7,0.66,0.6,0.65,0.58,0.58,0.615,0.61,0.28,0.32,0.39,0.43,0.49,0.4,0.39,0.41,0.71,0.645,0.675,0.655,0.32,0.645,0.6,0.38,0.45,0.61,0.49,0.66,0.52,0.935,0.66,0.52,0.5,0.38,0.51,0.42,0.59,0.39,0.4,0.69,0.735,0.725,0.725,0.705,0.705,0.69,0.675,0.41,0.785,0.75,0.625,0.45,0.5,0.3,0.55,0.49,0.49,0.39,0.62,0.52,0.49,0.49,1.02,0.775,0.9,0.545,0.61,0.545,0.575,0.49,0.575,0.41,0.63,0.56,0.62,0.31,0.56,0.4,0.54,1.07,0.55,0.695,0.5,1.33,1.33,0.59,0.745,0.5,1.04,0.745,0.415,0.745,0.34,0.39,0.34,0.67,0.68,0.49,0.33,0.52,0.6,0.6,0.43,0.43,0.43,0.68,0.6,0.95,0.68,0.53,0.6,0.59,0.63,0.64,0.55,0.63,0.885,0.42,0.62,0.5,0.38,0.52,0.805,0.61,0.61,0.61,0.73,0.61,0.62,0.31,0.39,0.5,0.5,0.37,0.55,0.55,0.58,0.3,1.09,0.32,0.43,0.3,0.3,0.44,0.53,0.725,0.57,0.735,0.49,0.625,0.725,0.49,0.34,0.53,0.61,0.645,0.43,0.59,0.48,0.38,0.37,1.0,0.63,0.635,0.38,0.58,0.21,0.21,0.66,0.68,0.66,0.32,0.6,0.35,0.775,0.57,0.34,0.695,0.41,0.31,0.33,0.975,0.52,0.37,0.56,0.87,0.35,0.54,0.18,0.545,0.545,0.54,0.18,0.32,0.4,0.26,0.27,0.4,0.59,0.59,0.45,0.4,0.52,0.42,0.52,0.55,0.36,0.34,0.5,0.83,0.63,0.65,0.53,0.18,0.705,0.65,0.62,0.41,0.43,0.53,0.46,0.47,0.36,0.66,0.77,0.61,0.49,0.49,0.53,0.44,0.27,0.56,0.65,0.695,0.43,0.43,0.28,0.39,0.39,0.57,0.49,0.56,0.795,0.665,0.53,0.21,0.75,0.41,0.42,0.43,0.38,0.7,0.45,0.58,0.46,0.615,0.615,0.575,0.27,0.24,0.28,0.45,0.27,0.625,0.26,0.51,0.46,0.85,0.415,0.37,0.37,0.735,0.59,0.765,0.735,0.48,0.6,0.69,0.44,0.39,0.46,0.43,0.735,0.4,0.52,0.725,0.48,0.58,0.38,0.77,0.84,0.96,0.24,0.84,0.67,0.78,0.52,0.84,0.24,0.55,0.39,0.41,0.39,0.67,0.45,0.62,0.31,0.685,0.57,0.38,0.48,0.53,0.39,0.39,0.56,0.33,0.23,0.62,0.59,0.63,0.58,0.43,0.615,0.315,0.5,0.46,0.36,0.82,0.32,0.54,0.37,0.68,0.27,0.24,0.685,0.28,0.3,0.36,0.67,0.645,0.39,0.41,0.4,0.69,0.39,0.35,0.52,0.34,0.35,0.69,0.52,0.44,0.44,0.24,0.49,0.24,0.67,0.29,0.59,0.4,0.51,0.51,0.655,0.6,0.61,0.25,0.4,0.43,0.38,0.63,0.22,0.38,0.38,0.27,0.48,0.22,0.63,0.825,0.35,0.5,0.59,0.46,0.715,0.66,0.31,0.47,0.55,0.31,0.35,0.51,0.43,0.46,1.04,0.645,0.53,0.645,0.47,0.6,0.54,0.29,0.47,0.6,0.7,0.5,0.36,0.35,0.24,0.5,0.44,0.47,0.31,0.5,0.5,0.28,0.73,0.42,0.45,0.39,0.45,0.49,0.595,0.4,0.585,0.835,0.58,0.48,0.65,0.36,0.24,0.38,0.64,0.6,0.31,0.37,0.54,0.56,0.58,0.69,0.6,0.6,0.54,0.685,0.54,0.28,0.41,0.935,0.35,0.84,0.88,0.885,0.29,0.54,0.54,0.54,0.845,0.48,0.42,0.43,0.36,0.33,0.47,0.55,0.43,0.5,0.52,0.52,0.42,0.57,0.59,0.49,0.34,0.34,0.73,0.73,0.4,0.8,0.78,0.26,0.45,0.46,0.78,0.98,0.78,0.66,0.38,0.92,0.49,0.48,0.47,0.47,0.65,0.615,0.38,1.02,0.65,0.64,0.38,0.765,1.035,0.78,0.49,0.545,1.025,0.565,0.74,0.46,0.56,0.66,0.56,0.48,0.31,0.66,0.72,0.57,0.57,0.865,0.55,0.875,0.835,0.45,0.56,0.965,0.59,0.69,0.76,0.53,0.39,0.51,0.34,0.5,0.51,0.65,0.54,0.65,0.48,0.91,0.98,0.87,0.87,0.42,0.58,0.655,0.7,0.68,0.67,0.59,0.59,0.72,0.59,0.685,0.57,0.4,1.0,0.635,0.43,0.52,0.57,0.46,0.59,0.35,0.56,0.56,0.63,0.37,0.64,0.61,0.6,0.27,0.89,0.46,0.37,0.5,0.55,0.585,0.56,0.52,0.25,0.53,0.48,0.49,0.5,0.39,0.41,0.66,0.685,0.42,0.54,0.48,0.27,0.46,0.685,0.61,0.47,0.28,0.28,0.31,0.66,0.5,0.685,0.64,0.68,0.64,0.43,0.43,0.36,0.36,0.36,0.26,0.28,0.62,0.42,0.62,0.635,0.56,0.35,0.31,0.715,0.715,0.31,0.61,0.75,0.8,0.57,0.9,0.66,0.45,0.66,0.63,0.59,0.31,0.59,0.31,0.31,0.635,0.635,0.59,0.54,0.56,0.52,0.38,0.28,0.46,0.315,0.715,0.41,0.36,0.62,0.41,0.62,0.47,0.22,0.24,0.67,0.47,0.33,0.61,0.4,0.61,0.3,0.46,0.27,0.43,0.3,0.44,0.28,0.12,0.12,0.28,0.31,0.34,0.21,0.36,0.57,0.47,0.56,0.57,0.47,0.66,0.4,0.26,0.33,0.41,0.59,0.4,0.5,0.86,0.52,0.5,0.58,0.36,0.39,0.295,0.39,0.34,0.34,0.6,0.84,0.69,0.43,0.43,0.36,0.29,0.3,0.35,0.28,0.32,1.005,0.71,0.58,0.38,0.18,0.5,0.36,0.36,0.51,0.32,0.58,0.83,0.31,0.795,0.58,0.82,0.745,0.37,0.31,0.41,0.5,0.49,0.39,0.44,0.78,0.43,0.49,0.5,0.46,0.605,0.33,0.64,0.48,0.42,0.53,0.48,0.23,0.4,0.38,0.29,0.74,0.61,0.52,0.31,0.62,0.33,0.77,0.62,0.32,0.37,0.3,0.3,0.38,0.42,0.48,0.34,0.19,0.41,0.41,0.26,0.34,0.54,0.31,0.725,0.725,0.52,0.34,0.49,0.49,0.48,0.57,0.3,0.78,0.47,0.53,0.42,0.33,0.4,0.69,0.69,0.69,0.39,0.66,0.54,0.47,0.24,0.76,0.43,0.6,0.36,0.48,0.28,0.25,0.52,0.41,0.51,0.4,0.38,0.45,0.22,0.32,0.2,0.5,0.41,0.39,0.35,0.58,0.6,0.42,0.6,0.18,0.51,0.32,0.785,0.33,0.34,0.5,0.36,0.42,0.36,0.36,0.61,0.88,0.915,0.35,0.39,0.66,0.64,0.64,0.955,0.4,0.885,0.25,0.745,0.43,0.57,0.26,0.58,0.57,0.34,0.42,0.74,0.36,0.36,0.72,0.36,0.39,0.65,0.65,0.33,0.57,0.39,0.32,0.32,0.39,0.46,0.58,0.58,0.42,0.43,0.18,0.815,0.43,0.75,0.55,0.75,0.73,0.67,0.61,0.56,0.55,0.74,0.6,0.58,0.72,0.66,0.7,0.59,0.58,0.64,0.635,1.02,0.45,0.37,0.57,0.57,0.43,0.41,0.38,0.44,0.46,0.58,0.58,0.715,0.4,0.69,0.715,0.3,0.46,0.46,0.765,0.63,0.42,0.37,0.6,0.6,0.74,0.635,0.395,0.63,0.53,0.6,1.58,0.645,0.86,0.37,0.79,0.61,0.69,0.62,0.51,1.18,0.63,0.74,0.76,0.74,0.34,0.46,0.46,0.46,0.46,0.52,0.6,0.6,0.87,0.39,0.775,0.835,0.58,0.5,0.5,0.5,0.51,0.51,0.51,0.51,0.42,0.44,0.59,0.655,0.62,0.645,0.32,0.34,0.43,0.64,0.475,0.85,0.475,0.605,0.74,0.54,0.77,0.78,0.58,0.78,0.885,0.45,0.57,0.57,0.6,0.6,0.755,0.81,0.64,0.64,0.49,0.64,0.62,0.52,0.685,0.675,0.59,0.67,0.69,0.3,0.33,0.5,0.24,0.51,0.29,0.51,0.96,0.47,0.24,0.57,0.32,0.58,0.32,0.34,0.53,0.64,0.53,0.4,0.54,0.53,0.41,0.64,0.18,0.41,0.43,0.4,0.54,0.38,0.915,0.59,0.67,0.58,0.785,0.67,0.38,0.37,0.32,0.58,0.45,0.9,0.49,0.29,0.2,0.42,0.785,0.63,0.59,0.48,1.04,0.48,0.98,0.69,0.7,0.35,0.6,0.5,0.47,0.5,0.47,0.875,0.28,0.62,0.28,0.33,0.655,0.68,0.64,0.54,0.22,0.65,0.54,0.31,0.43,0.74,0.74,0.82,0.44,0.38,0.76,0.81,0.38,0.27,0.18,0.36,0.69,0.84,0.84,0.53,0.47,0.7,0.32,0.48,0.48,0.47,0.29,0.69,0.44,0.705,0.53,0.39,0.56,0.55,0.64,0.52,0.37,0.63,0.57,0.4,0.36,0.67,0.68,0.735,0.56,0.88,0.855,0.63,0.6,0.6,0.6,0.695,0.695,0.67,0.16,0.695,0.56,0.51,0.36,0.38,0.69,0.58,0.52,0.3,0.7,0.67,0.35,0.715,0.46,0.32,0.31,0.61,0.55,0.74,0.51,0.62,0.6,0.55,0.645],\"xaxis\":\"x\",\"yaxis\":\"y\",\"type\":\"histogram\"}],                        {\"template\":{\"data\":{\"histogram2dcontour\":[{\"type\":\"histogram2dcontour\",\"colorbar\":{\"outlinewidth\":0,\"ticks\":\"\"},\"colorscale\":[[0.0,\"#0d0887\"],[0.1111111111111111,\"#46039f\"],[0.2222222222222222,\"#7201a8\"],[0.3333333333333333,\"#9c179e\"],[0.4444444444444444,\"#bd3786\"],[0.5555555555555556,\"#d8576b\"],[0.6666666666666666,\"#ed7953\"],[0.7777777777777778,\"#fb9f3a\"],[0.8888888888888888,\"#fdca26\"],[1.0,\"#f0f921\"]]}],\"choropleth\":[{\"type\":\"choropleth\",\"colorbar\":{\"outlinewidth\":0,\"ticks\":\"\"}}],\"histogram2d\":[{\"type\":\"histogram2d\",\"colorbar\":{\"outlinewidth\":0,\"ticks\":\"\"},\"colorscale\":[[0.0,\"#0d0887\"],[0.1111111111111111,\"#46039f\"],[0.2222222222222222,\"#7201a8\"],[0.3333333333333333,\"#9c179e\"],[0.4444444444444444,\"#bd3786\"],[0.5555555555555556,\"#d8576b\"],[0.6666666666666666,\"#ed7953\"],[0.7777777777777778,\"#fb9f3a\"],[0.8888888888888888,\"#fdca26\"],[1.0,\"#f0f921\"]]}],\"heatmap\":[{\"type\":\"heatmap\",\"colorbar\":{\"outlinewidth\":0,\"ticks\":\"\"},\"colorscale\":[[0.0,\"#0d0887\"],[0.1111111111111111,\"#46039f\"],[0.2222222222222222,\"#7201a8\"],[0.3333333333333333,\"#9c179e\"],[0.4444444444444444,\"#bd3786\"],[0.5555555555555556,\"#d8576b\"],[0.6666666666666666,\"#ed7953\"],[0.7777777777777778,\"#fb9f3a\"],[0.8888888888888888,\"#fdca26\"],[1.0,\"#f0f921\"]]}],\"heatmapgl\":[{\"type\":\"heatmapgl\",\"colorbar\":{\"outlinewidth\":0,\"ticks\":\"\"},\"colorscale\":[[0.0,\"#0d0887\"],[0.1111111111111111,\"#46039f\"],[0.2222222222222222,\"#7201a8\"],[0.3333333333333333,\"#9c179e\"],[0.4444444444444444,\"#bd3786\"],[0.5555555555555556,\"#d8576b\"],[0.6666666666666666,\"#ed7953\"],[0.7777777777777778,\"#fb9f3a\"],[0.8888888888888888,\"#fdca26\"],[1.0,\"#f0f921\"]]}],\"contourcarpet\":[{\"type\":\"contourcarpet\",\"colorbar\":{\"outlinewidth\":0,\"ticks\":\"\"}}],\"contour\":[{\"type\":\"contour\",\"colorbar\":{\"outlinewidth\":0,\"ticks\":\"\"},\"colorscale\":[[0.0,\"#0d0887\"],[0.1111111111111111,\"#46039f\"],[0.2222222222222222,\"#7201a8\"],[0.3333333333333333,\"#9c179e\"],[0.4444444444444444,\"#bd3786\"],[0.5555555555555556,\"#d8576b\"],[0.6666666666666666,\"#ed7953\"],[0.7777777777777778,\"#fb9f3a\"],[0.8888888888888888,\"#fdca26\"],[1.0,\"#f0f921\"]]}],\"surface\":[{\"type\":\"surface\",\"colorbar\":{\"outlinewidth\":0,\"ticks\":\"\"},\"colorscale\":[[0.0,\"#0d0887\"],[0.1111111111111111,\"#46039f\"],[0.2222222222222222,\"#7201a8\"],[0.3333333333333333,\"#9c179e\"],[0.4444444444444444,\"#bd3786\"],[0.5555555555555556,\"#d8576b\"],[0.6666666666666666,\"#ed7953\"],[0.7777777777777778,\"#fb9f3a\"],[0.8888888888888888,\"#fdca26\"],[1.0,\"#f0f921\"]]}],\"mesh3d\":[{\"type\":\"mesh3d\",\"colorbar\":{\"outlinewidth\":0,\"ticks\":\"\"}}],\"scatter\":[{\"fillpattern\":{\"fillmode\":\"overlay\",\"size\":10,\"solidity\":0.2},\"type\":\"scatter\"}],\"parcoords\":[{\"type\":\"parcoords\",\"line\":{\"colorbar\":{\"outlinewidth\":0,\"ticks\":\"\"}}}],\"scatterpolargl\":[{\"type\":\"scatterpolargl\",\"marker\":{\"colorbar\":{\"outlinewidth\":0,\"ticks\":\"\"}}}],\"bar\":[{\"error_x\":{\"color\":\"#2a3f5f\"},\"error_y\":{\"color\":\"#2a3f5f\"},\"marker\":{\"line\":{\"color\":\"#E5ECF6\",\"width\":0.5},\"pattern\":{\"fillmode\":\"overlay\",\"size\":10,\"solidity\":0.2}},\"type\":\"bar\"}],\"scattergeo\":[{\"type\":\"scattergeo\",\"marker\":{\"colorbar\":{\"outlinewidth\":0,\"ticks\":\"\"}}}],\"scatterpolar\":[{\"type\":\"scatterpolar\",\"marker\":{\"colorbar\":{\"outlinewidth\":0,\"ticks\":\"\"}}}],\"histogram\":[{\"marker\":{\"pattern\":{\"fillmode\":\"overlay\",\"size\":10,\"solidity\":0.2}},\"type\":\"histogram\"}],\"scattergl\":[{\"type\":\"scattergl\",\"marker\":{\"colorbar\":{\"outlinewidth\":0,\"ticks\":\"\"}}}],\"scatter3d\":[{\"type\":\"scatter3d\",\"line\":{\"colorbar\":{\"outlinewidth\":0,\"ticks\":\"\"}},\"marker\":{\"colorbar\":{\"outlinewidth\":0,\"ticks\":\"\"}}}],\"scattermapbox\":[{\"type\":\"scattermapbox\",\"marker\":{\"colorbar\":{\"outlinewidth\":0,\"ticks\":\"\"}}}],\"scatterternary\":[{\"type\":\"scatterternary\",\"marker\":{\"colorbar\":{\"outlinewidth\":0,\"ticks\":\"\"}}}],\"scattercarpet\":[{\"type\":\"scattercarpet\",\"marker\":{\"colorbar\":{\"outlinewidth\":0,\"ticks\":\"\"}}}],\"carpet\":[{\"aaxis\":{\"endlinecolor\":\"#2a3f5f\",\"gridcolor\":\"white\",\"linecolor\":\"white\",\"minorgridcolor\":\"white\",\"startlinecolor\":\"#2a3f5f\"},\"baxis\":{\"endlinecolor\":\"#2a3f5f\",\"gridcolor\":\"white\",\"linecolor\":\"white\",\"minorgridcolor\":\"white\",\"startlinecolor\":\"#2a3f5f\"},\"type\":\"carpet\"}],\"table\":[{\"cells\":{\"fill\":{\"color\":\"#EBF0F8\"},\"line\":{\"color\":\"white\"}},\"header\":{\"fill\":{\"color\":\"#C8D4E3\"},\"line\":{\"color\":\"white\"}},\"type\":\"table\"}],\"barpolar\":[{\"marker\":{\"line\":{\"color\":\"#E5ECF6\",\"width\":0.5},\"pattern\":{\"fillmode\":\"overlay\",\"size\":10,\"solidity\":0.2}},\"type\":\"barpolar\"}],\"pie\":[{\"automargin\":true,\"type\":\"pie\"}]},\"layout\":{\"autotypenumbers\":\"strict\",\"colorway\":[\"#636efa\",\"#EF553B\",\"#00cc96\",\"#ab63fa\",\"#FFA15A\",\"#19d3f3\",\"#FF6692\",\"#B6E880\",\"#FF97FF\",\"#FECB52\"],\"font\":{\"color\":\"#2a3f5f\"},\"hovermode\":\"closest\",\"hoverlabel\":{\"align\":\"left\"},\"paper_bgcolor\":\"white\",\"plot_bgcolor\":\"#E5ECF6\",\"polar\":{\"bgcolor\":\"#E5ECF6\",\"angularaxis\":{\"gridcolor\":\"white\",\"linecolor\":\"white\",\"ticks\":\"\"},\"radialaxis\":{\"gridcolor\":\"white\",\"linecolor\":\"white\",\"ticks\":\"\"}},\"ternary\":{\"bgcolor\":\"#E5ECF6\",\"aaxis\":{\"gridcolor\":\"white\",\"linecolor\":\"white\",\"ticks\":\"\"},\"baxis\":{\"gridcolor\":\"white\",\"linecolor\":\"white\",\"ticks\":\"\"},\"caxis\":{\"gridcolor\":\"white\",\"linecolor\":\"white\",\"ticks\":\"\"}},\"coloraxis\":{\"colorbar\":{\"outlinewidth\":0,\"ticks\":\"\"}},\"colorscale\":{\"sequential\":[[0.0,\"#0d0887\"],[0.1111111111111111,\"#46039f\"],[0.2222222222222222,\"#7201a8\"],[0.3333333333333333,\"#9c179e\"],[0.4444444444444444,\"#bd3786\"],[0.5555555555555556,\"#d8576b\"],[0.6666666666666666,\"#ed7953\"],[0.7777777777777778,\"#fb9f3a\"],[0.8888888888888888,\"#fdca26\"],[1.0,\"#f0f921\"]],\"sequentialminus\":[[0.0,\"#0d0887\"],[0.1111111111111111,\"#46039f\"],[0.2222222222222222,\"#7201a8\"],[0.3333333333333333,\"#9c179e\"],[0.4444444444444444,\"#bd3786\"],[0.5555555555555556,\"#d8576b\"],[0.6666666666666666,\"#ed7953\"],[0.7777777777777778,\"#fb9f3a\"],[0.8888888888888888,\"#fdca26\"],[1.0,\"#f0f921\"]],\"diverging\":[[0,\"#8e0152\"],[0.1,\"#c51b7d\"],[0.2,\"#de77ae\"],[0.3,\"#f1b6da\"],[0.4,\"#fde0ef\"],[0.5,\"#f7f7f7\"],[0.6,\"#e6f5d0\"],[0.7,\"#b8e186\"],[0.8,\"#7fbc41\"],[0.9,\"#4d9221\"],[1,\"#276419\"]]},\"xaxis\":{\"gridcolor\":\"white\",\"linecolor\":\"white\",\"ticks\":\"\",\"title\":{\"standoff\":15},\"zerolinecolor\":\"white\",\"automargin\":true,\"zerolinewidth\":2},\"yaxis\":{\"gridcolor\":\"white\",\"linecolor\":\"white\",\"ticks\":\"\",\"title\":{\"standoff\":15},\"zerolinecolor\":\"white\",\"automargin\":true,\"zerolinewidth\":2},\"scene\":{\"xaxis\":{\"backgroundcolor\":\"#E5ECF6\",\"gridcolor\":\"white\",\"linecolor\":\"white\",\"showbackground\":true,\"ticks\":\"\",\"zerolinecolor\":\"white\",\"gridwidth\":2},\"yaxis\":{\"backgroundcolor\":\"#E5ECF6\",\"gridcolor\":\"white\",\"linecolor\":\"white\",\"showbackground\":true,\"ticks\":\"\",\"zerolinecolor\":\"white\",\"gridwidth\":2},\"zaxis\":{\"backgroundcolor\":\"#E5ECF6\",\"gridcolor\":\"white\",\"linecolor\":\"white\",\"showbackground\":true,\"ticks\":\"\",\"zerolinecolor\":\"white\",\"gridwidth\":2}},\"shapedefaults\":{\"line\":{\"color\":\"#2a3f5f\"}},\"annotationdefaults\":{\"arrowcolor\":\"#2a3f5f\",\"arrowhead\":0,\"arrowwidth\":1},\"geo\":{\"bgcolor\":\"white\",\"landcolor\":\"#E5ECF6\",\"subunitcolor\":\"white\",\"showland\":true,\"showlakes\":true,\"lakecolor\":\"white\"},\"title\":{\"x\":0.05},\"mapbox\":{\"style\":\"light\"}}},\"xaxis\":{\"anchor\":\"y\",\"domain\":[0.0,1.0],\"title\":{\"text\":\"volatile acidity\"}},\"yaxis\":{\"anchor\":\"x\",\"domain\":[0.0,1.0],\"title\":{\"text\":\"count\"}},\"legend\":{\"tracegroupgap\":0},\"title\":{\"text\":\"Histogramme pour volatile acidity\"},\"barmode\":\"relative\"},                        {\"responsive\": true}                    ).then(function(){\n",
              "                            \n",
              "var gd = document.getElementById('0f8b23be-2da2-479e-81c1-55d65f79ba8b');\n",
              "var x = new MutationObserver(function (mutations, observer) {{\n",
              "        var display = window.getComputedStyle(gd).display;\n",
              "        if (!display || display === 'none') {{\n",
              "            console.log([gd, 'removed!']);\n",
              "            Plotly.purge(gd);\n",
              "            observer.disconnect();\n",
              "        }}\n",
              "}});\n",
              "\n",
              "// Listen for the removal of the full notebook cells\n",
              "var notebookContainer = gd.closest('#notebook-container');\n",
              "if (notebookContainer) {{\n",
              "    x.observe(notebookContainer, {childList: true});\n",
              "}}\n",
              "\n",
              "// Listen for the clearing of the current output cell\n",
              "var outputEl = gd.closest('.output');\n",
              "if (outputEl) {{\n",
              "    x.observe(outputEl, {childList: true});\n",
              "}}\n",
              "\n",
              "                        })                };                            </script>        </div>\n",
              "</body>\n",
              "</html>"
            ]
          },
          "metadata": {}
        },
        {
          "output_type": "display_data",
          "data": {
            "text/html": [
              "<html>\n",
              "<head><meta charset=\"utf-8\" /></head>\n",
              "<body>\n",
              "    <div>            <script src=\"https://cdnjs.cloudflare.com/ajax/libs/mathjax/2.7.5/MathJax.js?config=TeX-AMS-MML_SVG\"></script><script type=\"text/javascript\">if (window.MathJax && window.MathJax.Hub && window.MathJax.Hub.Config) {window.MathJax.Hub.Config({SVG: {font: \"STIX-Web\"}});}</script>                <script type=\"text/javascript\">window.PlotlyConfig = {MathJaxConfig: 'local'};</script>\n",
              "        <script charset=\"utf-8\" src=\"https://cdn.plot.ly/plotly-2.24.1.min.js\"></script>                <div id=\"76645d7a-eb0d-48bd-9cd1-785593d11c6d\" class=\"plotly-graph-div\" style=\"height:525px; width:100%;\"></div>            <script type=\"text/javascript\">                                    window.PLOTLYENV=window.PLOTLYENV || {};                                    if (document.getElementById(\"76645d7a-eb0d-48bd-9cd1-785593d11c6d\")) {                    Plotly.newPlot(                        \"76645d7a-eb0d-48bd-9cd1-785593d11c6d\",                        [{\"alignmentgroup\":\"True\",\"bingroup\":\"x\",\"hovertemplate\":\"citric acid=%{x}\\u003cbr\\u003ecount=%{y}\\u003cextra\\u003e\\u003c\\u002fextra\\u003e\",\"legendgroup\":\"\",\"marker\":{\"color\":\"#636efa\",\"pattern\":{\"shape\":\"\"}},\"name\":\"\",\"offsetgroup\":\"\",\"orientation\":\"v\",\"showlegend\":false,\"x\":[0.0,0.0,0.04,0.56,0.0,0.0,0.06,0.0,0.02,0.08,0.0,0.29,0.56,0.51,0.31,0.21,0.11,0.14,0.16,0.24,0.0,0.0,0.07,0.12,0.25,0.0,0.14,0.28,0.36,0.3,0.2,0.22,0.15,0.43,0.26,0.04,0.04,0.36,0.15,0.57,0.18,0.31,0.4,0.49,0.05,0.05,0.05,0.07,0.05,0.22,0.26,0.64,0.0,0.12,0.2,0.2,0.47,0.48,0.15,0.28,0.26,0.44,0.08,0.26,0.28,0.26,0.04,0.0,0.06,0.18,0.3,0.18,0.22,0.24,0.22,0.68,0.31,0.19,0.09,0.44,0.19,0.31,0.28,0.09,0.04,0.0,0.17,0.0,0.0,0.16,0.56,0.09,0.05,0.11,0.36,0.11,0.0,0.08,0.0,0.55,0.02,0.1,0.47,1.0,0.03,0.03,0.42,0.42,0.42,0.0,0.18,0.03,0.02,0.04,0.26,0.26,0.48,0.1,0.03,0.07,0.03,0.17,0.05,0.04,0.21,0.42,0.0,0.14,0.14,0.49,0.02,0.2,0.21,0.57,0.48,0.33,0.35,0.25,0.21,0.21,0.3,0.6,0.06,0.47,0.36,0.74,0.74,0.28,0.6,0.24,0.26,0.08,0.49,0.16,0.22,0.19,0.37,0.26,0.04,0.25,0.25,0.5,0.04,0.06,0.2,0.09,0.0,0.37,0.56,0.1,0.44,0.44,0.0,0.07,0.0,0.44,0.0,0.48,0.42,0.23,0.37,0.0,0.76,0.47,0.23,0.04,0.03,0.23,0.49,0.0,0.46,0.04,0.51,0.06,0.06,0.04,0.51,0.45,0.32,0.44,0.68,0.32,0.07,0.07,0.55,0.12,0.09,0.53,0.09,0.23,0.25,0.52,0.46,0.37,0.06,0.02,0.06,0.48,0.12,0.6,0.32,0.42,0.44,0.24,0.31,0.3,0.29,0.39,0.12,0.26,0.2,0.2,0.66,0.5,0.62,0.08,0.01,0.53,0.45,0.32,0.54,0.47,0.47,0.5,0.67,0.31,0.0,0.0,0.79,0.4,0.01,0.52,0.66,0.66,0.66,0.23,0.31,0.66,0.63,0.66,0.66,0.61,0.53,0.4,0.48,0.5,0.53,0.66,0.42,0.28,0.26,0.05,0.68,0.52,0.76,0.02,0.59,0.22,0.02,0.54,0.49,0.05,0.47,0.66,0.49,0.34,0.16,0.53,0.34,0.24,0.64,0.12,0.51,0.0,0.03,0.2,0.47,0.03,0.08,0.22,0.33,0.63,0.47,0.35,0.63,0.55,0.63,0.3,0.73,0.18,0.72,0.76,0.01,0.6,0.29,0.22,0.69,0.69,0.03,0.63,0.4,0.67,0.39,0.21,0.66,0.52,0.22,0.54,0.42,0.45,0.69,0.02,0.65,0.42,0.55,0.24,0.41,0.49,0.11,0.39,0.56,0.6,0.39,0.36,0.4,0.5,0.51,0.31,0.23,0.53,0.25,0.32,0.53,0.31,0.25,0.73,0.73,0.42,0.63,0.46,0.55,0.75,0.31,0.48,0.64,0.64,0.49,0.49,0.49,0.49,0.49,0.49,0.49,0.24,0.24,0.49,0.49,0.24,0.24,0.24,0.24,0.24,0.49,0.74,0.24,0.49,0.24,0.24,0.74,0.49,0.24,0.49,0.49,0.01,0.24,0.24,0.24,0.49,0.49,0.49,0.49,0.49,0.49,0.49,0.49,0.49,0.24,0.49,0.24,0.49,0.49,0.24,0.49,0.49,0.49,0.49,0.49,0.49,0.24,0.24,0.49,0.49,0.49,0.58,0.41,0.51,0.18,0.0,0.13,0.41,0.37,0.19,0.54,0.55,0.0,0.5,0.51,0.41,0.24,0.23,0.22,0.0,0.29,0.29,0.26,0.23,0.26,0.54,0.14,0.22,0.21,0.0,0.28,0.27,0.35,0.45,0.45,0.45,0.01,0.3,0.27,0.39,0.65,0.59,0.47,0.17,0.39,0.59,0.07,0.07,0.31,0.06,0.14,0.36,0.45,0.45,0.21,0.21,0.41,0.11,0.1,0.45,0.23,0.31,0.23,0.32,0.23,0.04,0.48,0.24,0.51,0.32,0.31,0.02,0.02,0.28,0.55,0.43,0.02,0.02,0.48,0.04,0.15,0.08,0.19,0.12,0.43,0.34,0.28,0.11,0.04,0.0,0.04,0.24,0.3,0.17,0.09,0.02,0.02,0.03,0.66,0.13,0.03,0.34,0.2,0.1,0.0,0.0,0.29,0.24,0.54,0.18,0.38,0.18,0.18,0.1,0.13,0.1,0.68,0.07,0.01,0.0,0.0,0.21,0.25,0.26,0.0,0.11,0.1,0.18,0.02,0.01,0.02,0.26,0.27,0.29,0.0,0.17,0.3,0.03,0.0,0.14,0.01,0.41,0.24,0.24,0.17,0.43,0.17,0.02,0.0,0.54,0.3,0.31,0.44,0.34,0.09,0.0,0.08,0.22,0.39,0.12,0.31,0.1,0.55,0.24,0.54,0.15,0.0,0.0,0.13,0.28,0.34,0.14,0.07,0.08,0.44,0.28,0.28,0.35,0.0,0.45,0.35,0.21,0.16,0.21,0.44,0.44,0.39,0.39,0.39,0.34,0.47,0.06,0.32,0.06,0.07,0.03,0.24,0.4,0.01,0.0,0.29,0.19,0.14,0.12,0.0,0.34,0.03,0.23,0.03,0.03,0.01,0.39,0.01,0.39,0.36,0.1,0.1,0.06,0.27,0.0,0.13,0.48,0.46,0.44,0.4,0.19,0.31,0.32,0.12,0.37,0.12,0.27,0.36,0.33,0.19,0.27,0.38,0.01,0.29,0.01,0.38,0.17,0.49,0.4,0.49,0.58,0.48,0.45,0.45,0.48,0.4,0.48,0.52,0.52,0.12,0.27,0.14,0.02,0.27,0.2,0.43,0.48,0.41,0.3,0.29,0.32,0.3,0.26,0.32,0.3,0.0,0.3,0.12,0.4,0.12,0.28,0.28,0.06,0.34,0.0,0.3,0.29,0.32,0.33,0.34,0.4,0.45,0.31,0.15,0.0,0.16,0.4,0.37,0.14,0.66,0.66,0.09,0.42,0.01,0.0,0.32,0.0,0.01,0.0,0.18,0.34,0.34,0.41,0.21,0.19,0.33,0.0,0.0,0.17,0.36,0.36,0.59,0.05,0.42,0.27,0.53,0.25,0.57,0.53,0.57,0.5,0.44,0.65,0.09,0.18,0.08,0.53,0.35,0.45,0.2,0.33,0.56,0.65,0.68,0.68,0.3,0.45,0.08,0.4,0.42,0.54,0.54,0.54,0.42,0.09,0.36,0.09,0.09,0.38,0.42,0.27,0.27,0.34,0.28,0.41,0.1,0.43,0.0,0.27,0.41,0.5,0.07,0.07,0.07,0.12,0.0,0.34,0.0,0.35,0.0,0.33,0.0,0.34,0.07,0.35,0.43,0.45,0.15,0.24,0.3,0.32,0.11,0.3,0.23,0.43,0.12,0.45,0.42,0.47,0.23,0.25,0.35,0.25,0.51,0.18,0.42,0.24,0.39,0.27,0.29,0.34,0.46,0.31,0.31,0.0,0.03,0.0,0.33,0.43,0.07,0.23,0.23,0.05,0.57,0.0,0.37,0.12,0.22,0.21,0.26,0.23,0.21,0.36,0.39,0.19,0.46,0.46,0.55,0.46,0.43,0.02,0.02,0.46,0.31,0.4,0.52,0.52,0.49,0.23,0.03,0.25,0.0,0.29,0.34,0.01,0.29,0.01,0.0,0.01,0.0,0.0,0.2,0.22,0.19,0.07,0.01,0.14,0.0,0.0,0.06,0.22,0.28,0.0,0.68,0.0,0.38,0.32,0.05,0.05,0.5,0.31,0.01,0.2,0.0,0.2,0.13,0.22,0.4,0.0,0.22,0.39,0.2,0.2,0.0,0.28,0.19,0.5,0.3,0.3,0.0,0.1,0.13,0.0,0.14,0.0,0.0,0.0,0.07,0.32,0.21,0.26,0.32,0.1,0.15,0.21,0.27,0.0,0.68,0.0,0.42,0.24,0.24,0.24,0.24,0.11,0.26,0.26,0.26,0.1,0.22,0.0,0.02,0.0,0.0,0.0,0.02,0.02,0.02,0.02,0.48,0.24,0.01,0.03,0.01,0.03,0.25,0.25,0.24,0.17,0.4,0.14,0.4,0.02,0.08,0.3,0.32,0.51,0.56,0.51,0.2,0.15,0.02,0.02,0.22,0.22,0.15,0.25,0.07,0.31,0.0,0.22,0.06,0.25,0.1,0.1,0.26,0.0,0.21,0.42,0.33,0.39,0.34,0.0,0.36,0.0,0.0,0.4,0.34,0.25,0.59,0.0,0.59,0.33,0.01,0.21,0.01,0.18,0.0,0.09,0.33,0.0,0.4,0.24,0.31,0.16,0.37,0.38,0.29,0.0,0.02,0.2,0.19,0.0,0.31,0.32,0.44,0.02,0.63,0.0,0.33,0.4,0.35,0.09,0.0,0.01,0.1,0.32,0.08,0.32,0.05,0.11,0.08,0.6,0.08,0.5,0.11,0.5,0.11,0.05,0.6,0.03,0.6,0.44,0.16,0.21,0.05,0.04,0.49,0.06,0.26,0.09,0.02,0.03,0.03,0.29,0.39,0.57,0.02,0.05,0.57,0.6,0.4,0.21,0.04,0.21,0.21,0.06,0.46,0.08,0.25,0.25,0.08,0.08,0.49,0.08,0.09,0.1,0.13,0.3,0.14,0.13,0.09,0.08,0.43,0.33,0.02,0.5,0.3,0.0,0.01,0.0,0.17,0.04,0.02,0.33,0.26,0.26,0.26,0.13,0.13,0.02,0.64,0.13,0.13,0.14,0.53,0.14,0.32,0.2,0.4,0.63,0.15,0.15,0.33,0.1,0.29,0.44,0.41,0.11,0.15,0.09,0.13,0.08,0.08,0.1,0.12],\"xaxis\":\"x\",\"yaxis\":\"y\",\"type\":\"histogram\"}],                        {\"template\":{\"data\":{\"histogram2dcontour\":[{\"type\":\"histogram2dcontour\",\"colorbar\":{\"outlinewidth\":0,\"ticks\":\"\"},\"colorscale\":[[0.0,\"#0d0887\"],[0.1111111111111111,\"#46039f\"],[0.2222222222222222,\"#7201a8\"],[0.3333333333333333,\"#9c179e\"],[0.4444444444444444,\"#bd3786\"],[0.5555555555555556,\"#d8576b\"],[0.6666666666666666,\"#ed7953\"],[0.7777777777777778,\"#fb9f3a\"],[0.8888888888888888,\"#fdca26\"],[1.0,\"#f0f921\"]]}],\"choropleth\":[{\"type\":\"choropleth\",\"colorbar\":{\"outlinewidth\":0,\"ticks\":\"\"}}],\"histogram2d\":[{\"type\":\"histogram2d\",\"colorbar\":{\"outlinewidth\":0,\"ticks\":\"\"},\"colorscale\":[[0.0,\"#0d0887\"],[0.1111111111111111,\"#46039f\"],[0.2222222222222222,\"#7201a8\"],[0.3333333333333333,\"#9c179e\"],[0.4444444444444444,\"#bd3786\"],[0.5555555555555556,\"#d8576b\"],[0.6666666666666666,\"#ed7953\"],[0.7777777777777778,\"#fb9f3a\"],[0.8888888888888888,\"#fdca26\"],[1.0,\"#f0f921\"]]}],\"heatmap\":[{\"type\":\"heatmap\",\"colorbar\":{\"outlinewidth\":0,\"ticks\":\"\"},\"colorscale\":[[0.0,\"#0d0887\"],[0.1111111111111111,\"#46039f\"],[0.2222222222222222,\"#7201a8\"],[0.3333333333333333,\"#9c179e\"],[0.4444444444444444,\"#bd3786\"],[0.5555555555555556,\"#d8576b\"],[0.6666666666666666,\"#ed7953\"],[0.7777777777777778,\"#fb9f3a\"],[0.8888888888888888,\"#fdca26\"],[1.0,\"#f0f921\"]]}],\"heatmapgl\":[{\"type\":\"heatmapgl\",\"colorbar\":{\"outlinewidth\":0,\"ticks\":\"\"},\"colorscale\":[[0.0,\"#0d0887\"],[0.1111111111111111,\"#46039f\"],[0.2222222222222222,\"#7201a8\"],[0.3333333333333333,\"#9c179e\"],[0.4444444444444444,\"#bd3786\"],[0.5555555555555556,\"#d8576b\"],[0.6666666666666666,\"#ed7953\"],[0.7777777777777778,\"#fb9f3a\"],[0.8888888888888888,\"#fdca26\"],[1.0,\"#f0f921\"]]}],\"contourcarpet\":[{\"type\":\"contourcarpet\",\"colorbar\":{\"outlinewidth\":0,\"ticks\":\"\"}}],\"contour\":[{\"type\":\"contour\",\"colorbar\":{\"outlinewidth\":0,\"ticks\":\"\"},\"colorscale\":[[0.0,\"#0d0887\"],[0.1111111111111111,\"#46039f\"],[0.2222222222222222,\"#7201a8\"],[0.3333333333333333,\"#9c179e\"],[0.4444444444444444,\"#bd3786\"],[0.5555555555555556,\"#d8576b\"],[0.6666666666666666,\"#ed7953\"],[0.7777777777777778,\"#fb9f3a\"],[0.8888888888888888,\"#fdca26\"],[1.0,\"#f0f921\"]]}],\"surface\":[{\"type\":\"surface\",\"colorbar\":{\"outlinewidth\":0,\"ticks\":\"\"},\"colorscale\":[[0.0,\"#0d0887\"],[0.1111111111111111,\"#46039f\"],[0.2222222222222222,\"#7201a8\"],[0.3333333333333333,\"#9c179e\"],[0.4444444444444444,\"#bd3786\"],[0.5555555555555556,\"#d8576b\"],[0.6666666666666666,\"#ed7953\"],[0.7777777777777778,\"#fb9f3a\"],[0.8888888888888888,\"#fdca26\"],[1.0,\"#f0f921\"]]}],\"mesh3d\":[{\"type\":\"mesh3d\",\"colorbar\":{\"outlinewidth\":0,\"ticks\":\"\"}}],\"scatter\":[{\"fillpattern\":{\"fillmode\":\"overlay\",\"size\":10,\"solidity\":0.2},\"type\":\"scatter\"}],\"parcoords\":[{\"type\":\"parcoords\",\"line\":{\"colorbar\":{\"outlinewidth\":0,\"ticks\":\"\"}}}],\"scatterpolargl\":[{\"type\":\"scatterpolargl\",\"marker\":{\"colorbar\":{\"outlinewidth\":0,\"ticks\":\"\"}}}],\"bar\":[{\"error_x\":{\"color\":\"#2a3f5f\"},\"error_y\":{\"color\":\"#2a3f5f\"},\"marker\":{\"line\":{\"color\":\"#E5ECF6\",\"width\":0.5},\"pattern\":{\"fillmode\":\"overlay\",\"size\":10,\"solidity\":0.2}},\"type\":\"bar\"}],\"scattergeo\":[{\"type\":\"scattergeo\",\"marker\":{\"colorbar\":{\"outlinewidth\":0,\"ticks\":\"\"}}}],\"scatterpolar\":[{\"type\":\"scatterpolar\",\"marker\":{\"colorbar\":{\"outlinewidth\":0,\"ticks\":\"\"}}}],\"histogram\":[{\"marker\":{\"pattern\":{\"fillmode\":\"overlay\",\"size\":10,\"solidity\":0.2}},\"type\":\"histogram\"}],\"scattergl\":[{\"type\":\"scattergl\",\"marker\":{\"colorbar\":{\"outlinewidth\":0,\"ticks\":\"\"}}}],\"scatter3d\":[{\"type\":\"scatter3d\",\"line\":{\"colorbar\":{\"outlinewidth\":0,\"ticks\":\"\"}},\"marker\":{\"colorbar\":{\"outlinewidth\":0,\"ticks\":\"\"}}}],\"scattermapbox\":[{\"type\":\"scattermapbox\",\"marker\":{\"colorbar\":{\"outlinewidth\":0,\"ticks\":\"\"}}}],\"scatterternary\":[{\"type\":\"scatterternary\",\"marker\":{\"colorbar\":{\"outlinewidth\":0,\"ticks\":\"\"}}}],\"scattercarpet\":[{\"type\":\"scattercarpet\",\"marker\":{\"colorbar\":{\"outlinewidth\":0,\"ticks\":\"\"}}}],\"carpet\":[{\"aaxis\":{\"endlinecolor\":\"#2a3f5f\",\"gridcolor\":\"white\",\"linecolor\":\"white\",\"minorgridcolor\":\"white\",\"startlinecolor\":\"#2a3f5f\"},\"baxis\":{\"endlinecolor\":\"#2a3f5f\",\"gridcolor\":\"white\",\"linecolor\":\"white\",\"minorgridcolor\":\"white\",\"startlinecolor\":\"#2a3f5f\"},\"type\":\"carpet\"}],\"table\":[{\"cells\":{\"fill\":{\"color\":\"#EBF0F8\"},\"line\":{\"color\":\"white\"}},\"header\":{\"fill\":{\"color\":\"#C8D4E3\"},\"line\":{\"color\":\"white\"}},\"type\":\"table\"}],\"barpolar\":[{\"marker\":{\"line\":{\"color\":\"#E5ECF6\",\"width\":0.5},\"pattern\":{\"fillmode\":\"overlay\",\"size\":10,\"solidity\":0.2}},\"type\":\"barpolar\"}],\"pie\":[{\"automargin\":true,\"type\":\"pie\"}]},\"layout\":{\"autotypenumbers\":\"strict\",\"colorway\":[\"#636efa\",\"#EF553B\",\"#00cc96\",\"#ab63fa\",\"#FFA15A\",\"#19d3f3\",\"#FF6692\",\"#B6E880\",\"#FF97FF\",\"#FECB52\"],\"font\":{\"color\":\"#2a3f5f\"},\"hovermode\":\"closest\",\"hoverlabel\":{\"align\":\"left\"},\"paper_bgcolor\":\"white\",\"plot_bgcolor\":\"#E5ECF6\",\"polar\":{\"bgcolor\":\"#E5ECF6\",\"angularaxis\":{\"gridcolor\":\"white\",\"linecolor\":\"white\",\"ticks\":\"\"},\"radialaxis\":{\"gridcolor\":\"white\",\"linecolor\":\"white\",\"ticks\":\"\"}},\"ternary\":{\"bgcolor\":\"#E5ECF6\",\"aaxis\":{\"gridcolor\":\"white\",\"linecolor\":\"white\",\"ticks\":\"\"},\"baxis\":{\"gridcolor\":\"white\",\"linecolor\":\"white\",\"ticks\":\"\"},\"caxis\":{\"gridcolor\":\"white\",\"linecolor\":\"white\",\"ticks\":\"\"}},\"coloraxis\":{\"colorbar\":{\"outlinewidth\":0,\"ticks\":\"\"}},\"colorscale\":{\"sequential\":[[0.0,\"#0d0887\"],[0.1111111111111111,\"#46039f\"],[0.2222222222222222,\"#7201a8\"],[0.3333333333333333,\"#9c179e\"],[0.4444444444444444,\"#bd3786\"],[0.5555555555555556,\"#d8576b\"],[0.6666666666666666,\"#ed7953\"],[0.7777777777777778,\"#fb9f3a\"],[0.8888888888888888,\"#fdca26\"],[1.0,\"#f0f921\"]],\"sequentialminus\":[[0.0,\"#0d0887\"],[0.1111111111111111,\"#46039f\"],[0.2222222222222222,\"#7201a8\"],[0.3333333333333333,\"#9c179e\"],[0.4444444444444444,\"#bd3786\"],[0.5555555555555556,\"#d8576b\"],[0.6666666666666666,\"#ed7953\"],[0.7777777777777778,\"#fb9f3a\"],[0.8888888888888888,\"#fdca26\"],[1.0,\"#f0f921\"]],\"diverging\":[[0,\"#8e0152\"],[0.1,\"#c51b7d\"],[0.2,\"#de77ae\"],[0.3,\"#f1b6da\"],[0.4,\"#fde0ef\"],[0.5,\"#f7f7f7\"],[0.6,\"#e6f5d0\"],[0.7,\"#b8e186\"],[0.8,\"#7fbc41\"],[0.9,\"#4d9221\"],[1,\"#276419\"]]},\"xaxis\":{\"gridcolor\":\"white\",\"linecolor\":\"white\",\"ticks\":\"\",\"title\":{\"standoff\":15},\"zerolinecolor\":\"white\",\"automargin\":true,\"zerolinewidth\":2},\"yaxis\":{\"gridcolor\":\"white\",\"linecolor\":\"white\",\"ticks\":\"\",\"title\":{\"standoff\":15},\"zerolinecolor\":\"white\",\"automargin\":true,\"zerolinewidth\":2},\"scene\":{\"xaxis\":{\"backgroundcolor\":\"#E5ECF6\",\"gridcolor\":\"white\",\"linecolor\":\"white\",\"showbackground\":true,\"ticks\":\"\",\"zerolinecolor\":\"white\",\"gridwidth\":2},\"yaxis\":{\"backgroundcolor\":\"#E5ECF6\",\"gridcolor\":\"white\",\"linecolor\":\"white\",\"showbackground\":true,\"ticks\":\"\",\"zerolinecolor\":\"white\",\"gridwidth\":2},\"zaxis\":{\"backgroundcolor\":\"#E5ECF6\",\"gridcolor\":\"white\",\"linecolor\":\"white\",\"showbackground\":true,\"ticks\":\"\",\"zerolinecolor\":\"white\",\"gridwidth\":2}},\"shapedefaults\":{\"line\":{\"color\":\"#2a3f5f\"}},\"annotationdefaults\":{\"arrowcolor\":\"#2a3f5f\",\"arrowhead\":0,\"arrowwidth\":1},\"geo\":{\"bgcolor\":\"white\",\"landcolor\":\"#E5ECF6\",\"subunitcolor\":\"white\",\"showland\":true,\"showlakes\":true,\"lakecolor\":\"white\"},\"title\":{\"x\":0.05},\"mapbox\":{\"style\":\"light\"}}},\"xaxis\":{\"anchor\":\"y\",\"domain\":[0.0,1.0],\"title\":{\"text\":\"citric acid\"}},\"yaxis\":{\"anchor\":\"x\",\"domain\":[0.0,1.0],\"title\":{\"text\":\"count\"}},\"legend\":{\"tracegroupgap\":0},\"title\":{\"text\":\"Histogramme pour citric acid\"},\"barmode\":\"relative\"},                        {\"responsive\": true}                    ).then(function(){\n",
              "                            \n",
              "var gd = document.getElementById('76645d7a-eb0d-48bd-9cd1-785593d11c6d');\n",
              "var x = new MutationObserver(function (mutations, observer) {{\n",
              "        var display = window.getComputedStyle(gd).display;\n",
              "        if (!display || display === 'none') {{\n",
              "            console.log([gd, 'removed!']);\n",
              "            Plotly.purge(gd);\n",
              "            observer.disconnect();\n",
              "        }}\n",
              "}});\n",
              "\n",
              "// Listen for the removal of the full notebook cells\n",
              "var notebookContainer = gd.closest('#notebook-container');\n",
              "if (notebookContainer) {{\n",
              "    x.observe(notebookContainer, {childList: true});\n",
              "}}\n",
              "\n",
              "// Listen for the clearing of the current output cell\n",
              "var outputEl = gd.closest('.output');\n",
              "if (outputEl) {{\n",
              "    x.observe(outputEl, {childList: true});\n",
              "}}\n",
              "\n",
              "                        })                };                            </script>        </div>\n",
              "</body>\n",
              "</html>"
            ]
          },
          "metadata": {}
        },
        {
          "output_type": "display_data",
          "data": {
            "text/html": [
              "<html>\n",
              "<head><meta charset=\"utf-8\" /></head>\n",
              "<body>\n",
              "    <div>            <script src=\"https://cdnjs.cloudflare.com/ajax/libs/mathjax/2.7.5/MathJax.js?config=TeX-AMS-MML_SVG\"></script><script type=\"text/javascript\">if (window.MathJax && window.MathJax.Hub && window.MathJax.Hub.Config) {window.MathJax.Hub.Config({SVG: {font: \"STIX-Web\"}});}</script>                <script type=\"text/javascript\">window.PlotlyConfig = {MathJaxConfig: 'local'};</script>\n",
              "        <script charset=\"utf-8\" src=\"https://cdn.plot.ly/plotly-2.24.1.min.js\"></script>                <div id=\"1b62ea67-a902-422e-b1b2-e66ccc348254\" class=\"plotly-graph-div\" style=\"height:525px; width:100%;\"></div>            <script type=\"text/javascript\">                                    window.PLOTLYENV=window.PLOTLYENV || {};                                    if (document.getElementById(\"1b62ea67-a902-422e-b1b2-e66ccc348254\")) {                    Plotly.newPlot(                        \"1b62ea67-a902-422e-b1b2-e66ccc348254\",                        [{\"alignmentgroup\":\"True\",\"bingroup\":\"x\",\"hovertemplate\":\"residual sugar=%{x}\\u003cbr\\u003ecount=%{y}\\u003cextra\\u003e\\u003c\\u002fextra\\u003e\",\"legendgroup\":\"\",\"marker\":{\"color\":\"#636efa\",\"pattern\":{\"shape\":\"\"}},\"name\":\"\",\"offsetgroup\":\"\",\"orientation\":\"v\",\"showlegend\":false,\"x\":[1.9,2.6,2.3,1.9,1.9,1.8,1.6,1.2,2.0,1.8,1.6,1.6,1.8,1.8,2.3,1.6,2.3,2.4,1.4,1.8,1.9,2.0,2.4,2.3,1.8,5.5,2.4,2.1,5.9,2.8,2.6,2.2,2.1,2.2,1.7,2.2,2.1,3.0,2.8,3.4,2.3,2.4,2.2,1.8,2.0,4.65,4.65,1.6,1.9,1.9,2.1,2.2,2.4,2.0,1.5,1.6,2.0,1.8,2.2,1.9,1.9,2.1,1.8,1.9,1.9,1.9,1.4,3.0,2.5,1.9,2.1,1.9,2.1,2.2,2.1,1.7,1.7,1.8,2.2,2.3,1.8,2.2,1.9,1.7,2.2,2.5,1.6,1.7,1.8,1.8,2.0,2.3,2.2,1.9,2.0,1.9,1.8,1.7,1.8,1.8,1.8,2.3,2.1,3.4,1.8,1.8,5.5,5.5,5.5,2.2,1.9,2.0,1.3,1.7,7.3,7.2,1.7,2.1,1.6,2.1,1.8,2.0,1.9,1.5,2.0,2.3,2.5,2.4,2.4,2.0,2.5,1.8,1.9,2.0,2.0,2.0,2.9,1.9,2.2,2.2,2.4,2.0,2.1,1.4,1.6,2.6,2.6,2.7,2.0,2.8,2.2,2.4,5.6,2.0,2.2,1.9,2.0,2.0,1.5,2.0,2.6,2.0,1.6,1.8,2.8,2.3,1.9,1.7,2.1,1.8,2.2,2.2,2.0,1.9,2.0,1.6,1.8,3.1,1.9,3.2,2.2,2.1,1.8,2.6,1.7,2.0,1.7,1.8,2.4,3.3,3.6,3.0,4.0,4.0,4.0,3.0,4.0,6.4,5.6,3.6,3.5,5.6,3.4,3.4,2.0,3.0,2.5,3.3,2.5,2.7,2.4,3.2,2.5,2.6,2.0,2.3,2.6,1.5,2.6,2.1,2.2,2.4,2.4,2.0,2.8,3.0,2.6,3.2,2.9,3.4,11.0,11.0,3.65,4.5,2.6,2.1,2.5,3.4,1.9,2.8,2.3,1.8,1.8,2.6,3.0,2.8,2.6,2.4,4.8,1.4,2.4,3.0,2.95,3.1,2.6,2.0,2.6,2.5,2.0,5.8,5.8,2.6,2.4,1.6,1.8,3.0,2.4,6.2,2.0,2.1,1.9,1.4,2.9,2.0,4.2,7.9,2.6,2.3,7.9,2.6,2.7,2.7,2.5,3.0,4.5,2.5,1.9,6.7,2.7,6.6,2.2,1.9,2.0,1.8,2.3,2.0,2.1,2.3,2.1,1.9,1.3,2.4,2.1,2.2,2.3,3.2,2.3,2.0,3.2,1.5,2.2,3.7,1.7,2.6,2.1,2.0,2.8,2.8,1.7,2.8,1.6,5.2,2.3,2.7,2.2,2.3,2.6,2.1,2.0,2.6,2.1,1.2,2.6,2.4,2.6,2.2,2.0,1.8,2.7,15.5,2.8,2.2,1.9,1.8,2.6,2.5,2.6,3.0,8.3,2.6,1.9,2.5,2.6,3.0,1.9,6.55,6.55,1.8,2.9,1.8,2.3,2.8,2.2,2.1,2.4,2.4,6.1,4.3,2.1,2.7,2.5,2.4,2.5,2.4,2.1,2.7,2.7,2.1,2.7,2.1,2.4,2.1,5.8,5.15,3.3,6.3,2.1,2.5,1.8,2.6,2.0,2.5,2.6,2.1,2.8,2.7,1.6,4.2,4.6,4.2,4.3,2.8,2.9,2.7,4.3,2.8,2.5,2.6,2.2,3.3,2.4,2.3,2.8,2.9,2.2,2.2,2.2,1.9,1.9,2.0,2.6,1.7,2.6,3.5,7.9,2.0,2.1,2.6,2.9,3.3,5.1,3.2,2.5,2.7,2.4,2.3,2.2,2.3,3.4,3.4,1.9,5.6,2.2,2.2,2.5,2.3,2.5,2.7,3.0,3.4,1.9,1.4,2.4,2.3,1.9,2.3,2.3,2.3,2.2,2.8,8.6,2.2,7.5,2.8,2.4,2.9,2.2,1.4,1.4,1.4,1.6,1.6,2.0,1.8,2.0,2.0,1.7,1.7,2.2,2.3,2.6,3.3,2.2,2.25,2.6,2.3,2.6,1.6,1.8,2.6,2.0,2.8,2.7,1.3,2.1,3.2,2.1,2.9,2.1,2.1,2.6,1.6,6.0,2.0,3.0,2.5,2.8,3.0,2.6,2.6,2.0,3.9,2.0,2.85,2.2,3.0,2.8,1.8,1.8,3.2,2.3,3.45,2.1,2.7,2.0,2.1,2.5,2.4,4.2,2.6,2.7,2.1,2.5,2.1,2.1,2.9,2.5,2.9,1.7,1.9,2.0,2.2,2.2,2.5,2.8,2.0,1.7,2.8,3.0,2.9,2.3,1.9,2.3,2.4,2.3,1.8,3.0,2.4,3.4,2.6,2.0,2.4,2.5,2.3,2.2,2.2,2.9,2.6,2.9,2.5,2.6,2.3,2.6,2.5,1.6,3.6,3.3,1.7,2.5,2.7,2.0,1.9,2.8,2.6,2.8,2.1,2.8,3.2,1.9,2.1,2.0,2.8,2.3,2.8,2.5,2.1,1.6,2.4,2.4,1.6,3.0,2.6,2.0,1.8,1.8,1.8,1.9,1.9,1.5,1.5,1.5,2.5,1.7,2.7,2.7,2.5,2.6,1.5,2.0,2.8,2.1,2.1,3.1,4.0,2.5,2.4,2.5,6.6,2.3,1.9,2.3,2.2,2.3,2.4,2.3,2.4,2.6,2.4,2.4,6.0,2.6,2.2,2.4,3.8,9.0,2.9,2.2,1.5,8.8,2.2,1.8,2.3,1.8,2.3,1.9,2.3,2.2,2.3,3.3,2.0,1.9,1.9,2.3,1.6,5.0,2.6,3.8,4.1,2.1,1.8,1.8,2.1,2.2,2.1,1.9,2.1,2.3,1.9,1.6,2.1,1.9,2.1,2.4,1.9,5.9,2.1,2.6,3.6,1.9,1.9,2.1,1.9,2.0,1.6,1.7,1.5,1.7,2.0,2.0,2.0,1.4,1.65,2.2,1.6,1.8,2.05,2.0,3.6,1.7,2.0,2.1,1.6,2.0,2.2,0.9,1.8,2.4,2.4,2.1,2.3,1.8,2.8,1.9,2.2,1.8,4.1,2.5,2.4,2.5,6.2,2.2,1.7,3.3,1.4,1.7,1.8,1.7,1.8,1.4,2.4,2.3,2.0,4.0,3.9,2.4,4.0,1.8,1.8,1.9,2.4,2.0,2.4,2.4,2.2,2.8,1.5,8.1,2.7,2.0,6.4,8.3,8.3,1.8,2.4,1.8,4.7,1.6,1.5,1.5,1.9,2.0,2.0,2.2,5.5,5.5,1.5,2.1,2.1,2.1,2.2,2.1,2.0,3.3,2.1,1.4,2.0,1.5,4.3,2.5,2.5,2.5,2.1,2.5,2.5,1.4,1.7,2.9,2.7,1.9,1.8,5.5,1.7,1.7,2.0,3.7,2.0,1.7,2.5,2.4,1.8,2.3,2.5,1.8,6.2,2.0,2.0,2.5,2.2,2.1,2.2,1.75,2.1,2.3,1.7,2.5,2.8,2.3,1.6,2.1,1.7,1.7,2.2,5.6,2.1,2.4,1.65,1.6,2.1,2.1,1.8,4.6,2.3,2.5,1.8,1.8,1.5,2.0,2.3,1.5,1.9,1.8,5.8,2.1,2.1,1.7,2.1,2.0,2.1,2.1,1.9,2.0,1.3,1.8,1.8,2.5,2.6,4.1,2.0,1.8,2.1,2.7,2.6,2.1,2.2,1.7,2.2,2.5,4.3,1.7,2.4,1.8,1.7,2.3,2.2,1.8,1.4,1.9,1.8,4.8,2.7,1.8,2.0,2.5,1.8,2.3,2.3,2.3,2.0,1.6,1.6,1.9,2.0,2.1,2.3,6.3,1.9,2.3,1.7,1.9,1.9,2.0,2.7,2.3,1.8,4.5,4.5,1.9,2.1,2.4,4.3,2.1,1.4,2.1,2.15,2.0,2.1,2.3,1.9,2.5,1.4,3.0,1.9,2.0,1.2,1.7,1.2,1.8,1.7,1.7,1.7,1.7,1.8,2.1,2.1,3.8,1.7,2.2,2.0,2.4,1.4,1.4,1.4,1.7,1.7,1.7,1.7,2.6,2.3,2.1,1.8,2.3,1.9,1.8,1.8,2.5,5.4,1.4,2.5,1.4,1.9,1.7,2.2,2.1,1.7,3.1,1.7,1.4,2.0,2.6,2.6,2.1,2.1,1.8,3.4,1.8,6.1,2.3,2.4,1.3,2.0,1.6,1.6,2.0,2.2,2.1,2.0,1.7,2.6,5.1,2.1,2.2,2.1,1.8,2.4,5.1,2.0,2.2,1.6,2.2,2.5,1.6,2.2,1.6,1.6,2.1,3.9,2.5,1.9,2.2,1.8,2.1,1.8,15.4,1.6,4.8,1.7,2.2,1.75,5.2,1.9,2.0,2.0,2.7,2.0,2.2,1.6,1.9,1.7,1.7,2.3,2.1,2.4,1.7,2.1,2.3,2.1,2.1,1.4,3.75,2.6,1.8,13.8,2.2,13.8,2.2,5.7,3.0,1.5,3.0,1.5,2.1,2.1,1.9,1.7,1.8,1.6,1.9,1.4,1.9,2.3,2.3,4.3,2.5,2.3,1.8,2.0,2.3,2.1,1.8,2.2,2.1,4.1,4.1,2.0,2.2,2.6,2.3,2.0,2.1,2.2,2.2,2.1,2.2,2.8,2.0,1.9,2.4,2.2,2.5,4.4,2.3,1.8,2.0,2.0,1.8,2.3,3.7,2.2,1.7,2.2,2.4,6.7,2.0,2.0,2.0,2.0,2.0,1.9,2.1,2.0,1.6,1.9,2.2,2.2,2.2,2.4,2.2,1.6,5.1,1.8,2.4,2.6,2.1,2.4,2.4,1.8,1.8,1.7,2.3,1.9,2.0,2.2,2.0],\"xaxis\":\"x\",\"yaxis\":\"y\",\"type\":\"histogram\"}],                        {\"template\":{\"data\":{\"histogram2dcontour\":[{\"type\":\"histogram2dcontour\",\"colorbar\":{\"outlinewidth\":0,\"ticks\":\"\"},\"colorscale\":[[0.0,\"#0d0887\"],[0.1111111111111111,\"#46039f\"],[0.2222222222222222,\"#7201a8\"],[0.3333333333333333,\"#9c179e\"],[0.4444444444444444,\"#bd3786\"],[0.5555555555555556,\"#d8576b\"],[0.6666666666666666,\"#ed7953\"],[0.7777777777777778,\"#fb9f3a\"],[0.8888888888888888,\"#fdca26\"],[1.0,\"#f0f921\"]]}],\"choropleth\":[{\"type\":\"choropleth\",\"colorbar\":{\"outlinewidth\":0,\"ticks\":\"\"}}],\"histogram2d\":[{\"type\":\"histogram2d\",\"colorbar\":{\"outlinewidth\":0,\"ticks\":\"\"},\"colorscale\":[[0.0,\"#0d0887\"],[0.1111111111111111,\"#46039f\"],[0.2222222222222222,\"#7201a8\"],[0.3333333333333333,\"#9c179e\"],[0.4444444444444444,\"#bd3786\"],[0.5555555555555556,\"#d8576b\"],[0.6666666666666666,\"#ed7953\"],[0.7777777777777778,\"#fb9f3a\"],[0.8888888888888888,\"#fdca26\"],[1.0,\"#f0f921\"]]}],\"heatmap\":[{\"type\":\"heatmap\",\"colorbar\":{\"outlinewidth\":0,\"ticks\":\"\"},\"colorscale\":[[0.0,\"#0d0887\"],[0.1111111111111111,\"#46039f\"],[0.2222222222222222,\"#7201a8\"],[0.3333333333333333,\"#9c179e\"],[0.4444444444444444,\"#bd3786\"],[0.5555555555555556,\"#d8576b\"],[0.6666666666666666,\"#ed7953\"],[0.7777777777777778,\"#fb9f3a\"],[0.8888888888888888,\"#fdca26\"],[1.0,\"#f0f921\"]]}],\"heatmapgl\":[{\"type\":\"heatmapgl\",\"colorbar\":{\"outlinewidth\":0,\"ticks\":\"\"},\"colorscale\":[[0.0,\"#0d0887\"],[0.1111111111111111,\"#46039f\"],[0.2222222222222222,\"#7201a8\"],[0.3333333333333333,\"#9c179e\"],[0.4444444444444444,\"#bd3786\"],[0.5555555555555556,\"#d8576b\"],[0.6666666666666666,\"#ed7953\"],[0.7777777777777778,\"#fb9f3a\"],[0.8888888888888888,\"#fdca26\"],[1.0,\"#f0f921\"]]}],\"contourcarpet\":[{\"type\":\"contourcarpet\",\"colorbar\":{\"outlinewidth\":0,\"ticks\":\"\"}}],\"contour\":[{\"type\":\"contour\",\"colorbar\":{\"outlinewidth\":0,\"ticks\":\"\"},\"colorscale\":[[0.0,\"#0d0887\"],[0.1111111111111111,\"#46039f\"],[0.2222222222222222,\"#7201a8\"],[0.3333333333333333,\"#9c179e\"],[0.4444444444444444,\"#bd3786\"],[0.5555555555555556,\"#d8576b\"],[0.6666666666666666,\"#ed7953\"],[0.7777777777777778,\"#fb9f3a\"],[0.8888888888888888,\"#fdca26\"],[1.0,\"#f0f921\"]]}],\"surface\":[{\"type\":\"surface\",\"colorbar\":{\"outlinewidth\":0,\"ticks\":\"\"},\"colorscale\":[[0.0,\"#0d0887\"],[0.1111111111111111,\"#46039f\"],[0.2222222222222222,\"#7201a8\"],[0.3333333333333333,\"#9c179e\"],[0.4444444444444444,\"#bd3786\"],[0.5555555555555556,\"#d8576b\"],[0.6666666666666666,\"#ed7953\"],[0.7777777777777778,\"#fb9f3a\"],[0.8888888888888888,\"#fdca26\"],[1.0,\"#f0f921\"]]}],\"mesh3d\":[{\"type\":\"mesh3d\",\"colorbar\":{\"outlinewidth\":0,\"ticks\":\"\"}}],\"scatter\":[{\"fillpattern\":{\"fillmode\":\"overlay\",\"size\":10,\"solidity\":0.2},\"type\":\"scatter\"}],\"parcoords\":[{\"type\":\"parcoords\",\"line\":{\"colorbar\":{\"outlinewidth\":0,\"ticks\":\"\"}}}],\"scatterpolargl\":[{\"type\":\"scatterpolargl\",\"marker\":{\"colorbar\":{\"outlinewidth\":0,\"ticks\":\"\"}}}],\"bar\":[{\"error_x\":{\"color\":\"#2a3f5f\"},\"error_y\":{\"color\":\"#2a3f5f\"},\"marker\":{\"line\":{\"color\":\"#E5ECF6\",\"width\":0.5},\"pattern\":{\"fillmode\":\"overlay\",\"size\":10,\"solidity\":0.2}},\"type\":\"bar\"}],\"scattergeo\":[{\"type\":\"scattergeo\",\"marker\":{\"colorbar\":{\"outlinewidth\":0,\"ticks\":\"\"}}}],\"scatterpolar\":[{\"type\":\"scatterpolar\",\"marker\":{\"colorbar\":{\"outlinewidth\":0,\"ticks\":\"\"}}}],\"histogram\":[{\"marker\":{\"pattern\":{\"fillmode\":\"overlay\",\"size\":10,\"solidity\":0.2}},\"type\":\"histogram\"}],\"scattergl\":[{\"type\":\"scattergl\",\"marker\":{\"colorbar\":{\"outlinewidth\":0,\"ticks\":\"\"}}}],\"scatter3d\":[{\"type\":\"scatter3d\",\"line\":{\"colorbar\":{\"outlinewidth\":0,\"ticks\":\"\"}},\"marker\":{\"colorbar\":{\"outlinewidth\":0,\"ticks\":\"\"}}}],\"scattermapbox\":[{\"type\":\"scattermapbox\",\"marker\":{\"colorbar\":{\"outlinewidth\":0,\"ticks\":\"\"}}}],\"scatterternary\":[{\"type\":\"scatterternary\",\"marker\":{\"colorbar\":{\"outlinewidth\":0,\"ticks\":\"\"}}}],\"scattercarpet\":[{\"type\":\"scattercarpet\",\"marker\":{\"colorbar\":{\"outlinewidth\":0,\"ticks\":\"\"}}}],\"carpet\":[{\"aaxis\":{\"endlinecolor\":\"#2a3f5f\",\"gridcolor\":\"white\",\"linecolor\":\"white\",\"minorgridcolor\":\"white\",\"startlinecolor\":\"#2a3f5f\"},\"baxis\":{\"endlinecolor\":\"#2a3f5f\",\"gridcolor\":\"white\",\"linecolor\":\"white\",\"minorgridcolor\":\"white\",\"startlinecolor\":\"#2a3f5f\"},\"type\":\"carpet\"}],\"table\":[{\"cells\":{\"fill\":{\"color\":\"#EBF0F8\"},\"line\":{\"color\":\"white\"}},\"header\":{\"fill\":{\"color\":\"#C8D4E3\"},\"line\":{\"color\":\"white\"}},\"type\":\"table\"}],\"barpolar\":[{\"marker\":{\"line\":{\"color\":\"#E5ECF6\",\"width\":0.5},\"pattern\":{\"fillmode\":\"overlay\",\"size\":10,\"solidity\":0.2}},\"type\":\"barpolar\"}],\"pie\":[{\"automargin\":true,\"type\":\"pie\"}]},\"layout\":{\"autotypenumbers\":\"strict\",\"colorway\":[\"#636efa\",\"#EF553B\",\"#00cc96\",\"#ab63fa\",\"#FFA15A\",\"#19d3f3\",\"#FF6692\",\"#B6E880\",\"#FF97FF\",\"#FECB52\"],\"font\":{\"color\":\"#2a3f5f\"},\"hovermode\":\"closest\",\"hoverlabel\":{\"align\":\"left\"},\"paper_bgcolor\":\"white\",\"plot_bgcolor\":\"#E5ECF6\",\"polar\":{\"bgcolor\":\"#E5ECF6\",\"angularaxis\":{\"gridcolor\":\"white\",\"linecolor\":\"white\",\"ticks\":\"\"},\"radialaxis\":{\"gridcolor\":\"white\",\"linecolor\":\"white\",\"ticks\":\"\"}},\"ternary\":{\"bgcolor\":\"#E5ECF6\",\"aaxis\":{\"gridcolor\":\"white\",\"linecolor\":\"white\",\"ticks\":\"\"},\"baxis\":{\"gridcolor\":\"white\",\"linecolor\":\"white\",\"ticks\":\"\"},\"caxis\":{\"gridcolor\":\"white\",\"linecolor\":\"white\",\"ticks\":\"\"}},\"coloraxis\":{\"colorbar\":{\"outlinewidth\":0,\"ticks\":\"\"}},\"colorscale\":{\"sequential\":[[0.0,\"#0d0887\"],[0.1111111111111111,\"#46039f\"],[0.2222222222222222,\"#7201a8\"],[0.3333333333333333,\"#9c179e\"],[0.4444444444444444,\"#bd3786\"],[0.5555555555555556,\"#d8576b\"],[0.6666666666666666,\"#ed7953\"],[0.7777777777777778,\"#fb9f3a\"],[0.8888888888888888,\"#fdca26\"],[1.0,\"#f0f921\"]],\"sequentialminus\":[[0.0,\"#0d0887\"],[0.1111111111111111,\"#46039f\"],[0.2222222222222222,\"#7201a8\"],[0.3333333333333333,\"#9c179e\"],[0.4444444444444444,\"#bd3786\"],[0.5555555555555556,\"#d8576b\"],[0.6666666666666666,\"#ed7953\"],[0.7777777777777778,\"#fb9f3a\"],[0.8888888888888888,\"#fdca26\"],[1.0,\"#f0f921\"]],\"diverging\":[[0,\"#8e0152\"],[0.1,\"#c51b7d\"],[0.2,\"#de77ae\"],[0.3,\"#f1b6da\"],[0.4,\"#fde0ef\"],[0.5,\"#f7f7f7\"],[0.6,\"#e6f5d0\"],[0.7,\"#b8e186\"],[0.8,\"#7fbc41\"],[0.9,\"#4d9221\"],[1,\"#276419\"]]},\"xaxis\":{\"gridcolor\":\"white\",\"linecolor\":\"white\",\"ticks\":\"\",\"title\":{\"standoff\":15},\"zerolinecolor\":\"white\",\"automargin\":true,\"zerolinewidth\":2},\"yaxis\":{\"gridcolor\":\"white\",\"linecolor\":\"white\",\"ticks\":\"\",\"title\":{\"standoff\":15},\"zerolinecolor\":\"white\",\"automargin\":true,\"zerolinewidth\":2},\"scene\":{\"xaxis\":{\"backgroundcolor\":\"#E5ECF6\",\"gridcolor\":\"white\",\"linecolor\":\"white\",\"showbackground\":true,\"ticks\":\"\",\"zerolinecolor\":\"white\",\"gridwidth\":2},\"yaxis\":{\"backgroundcolor\":\"#E5ECF6\",\"gridcolor\":\"white\",\"linecolor\":\"white\",\"showbackground\":true,\"ticks\":\"\",\"zerolinecolor\":\"white\",\"gridwidth\":2},\"zaxis\":{\"backgroundcolor\":\"#E5ECF6\",\"gridcolor\":\"white\",\"linecolor\":\"white\",\"showbackground\":true,\"ticks\":\"\",\"zerolinecolor\":\"white\",\"gridwidth\":2}},\"shapedefaults\":{\"line\":{\"color\":\"#2a3f5f\"}},\"annotationdefaults\":{\"arrowcolor\":\"#2a3f5f\",\"arrowhead\":0,\"arrowwidth\":1},\"geo\":{\"bgcolor\":\"white\",\"landcolor\":\"#E5ECF6\",\"subunitcolor\":\"white\",\"showland\":true,\"showlakes\":true,\"lakecolor\":\"white\"},\"title\":{\"x\":0.05},\"mapbox\":{\"style\":\"light\"}}},\"xaxis\":{\"anchor\":\"y\",\"domain\":[0.0,1.0],\"title\":{\"text\":\"residual sugar\"}},\"yaxis\":{\"anchor\":\"x\",\"domain\":[0.0,1.0],\"title\":{\"text\":\"count\"}},\"legend\":{\"tracegroupgap\":0},\"title\":{\"text\":\"Histogramme pour residual sugar\"},\"barmode\":\"relative\"},                        {\"responsive\": true}                    ).then(function(){\n",
              "                            \n",
              "var gd = document.getElementById('1b62ea67-a902-422e-b1b2-e66ccc348254');\n",
              "var x = new MutationObserver(function (mutations, observer) {{\n",
              "        var display = window.getComputedStyle(gd).display;\n",
              "        if (!display || display === 'none') {{\n",
              "            console.log([gd, 'removed!']);\n",
              "            Plotly.purge(gd);\n",
              "            observer.disconnect();\n",
              "        }}\n",
              "}});\n",
              "\n",
              "// Listen for the removal of the full notebook cells\n",
              "var notebookContainer = gd.closest('#notebook-container');\n",
              "if (notebookContainer) {{\n",
              "    x.observe(notebookContainer, {childList: true});\n",
              "}}\n",
              "\n",
              "// Listen for the clearing of the current output cell\n",
              "var outputEl = gd.closest('.output');\n",
              "if (outputEl) {{\n",
              "    x.observe(outputEl, {childList: true});\n",
              "}}\n",
              "\n",
              "                        })                };                            </script>        </div>\n",
              "</body>\n",
              "</html>"
            ]
          },
          "metadata": {}
        },
        {
          "output_type": "display_data",
          "data": {
            "text/html": [
              "<html>\n",
              "<head><meta charset=\"utf-8\" /></head>\n",
              "<body>\n",
              "    <div>            <script src=\"https://cdnjs.cloudflare.com/ajax/libs/mathjax/2.7.5/MathJax.js?config=TeX-AMS-MML_SVG\"></script><script type=\"text/javascript\">if (window.MathJax && window.MathJax.Hub && window.MathJax.Hub.Config) {window.MathJax.Hub.Config({SVG: {font: \"STIX-Web\"}});}</script>                <script type=\"text/javascript\">window.PlotlyConfig = {MathJaxConfig: 'local'};</script>\n",
              "        <script charset=\"utf-8\" src=\"https://cdn.plot.ly/plotly-2.24.1.min.js\"></script>                <div id=\"c775c380-3b33-48e1-b628-e90272eb5c5e\" class=\"plotly-graph-div\" style=\"height:525px; width:100%;\"></div>            <script type=\"text/javascript\">                                    window.PLOTLYENV=window.PLOTLYENV || {};                                    if (document.getElementById(\"c775c380-3b33-48e1-b628-e90272eb5c5e\")) {                    Plotly.newPlot(                        \"c775c380-3b33-48e1-b628-e90272eb5c5e\",                        [{\"alignmentgroup\":\"True\",\"bingroup\":\"x\",\"hovertemplate\":\"chlorides=%{x}\\u003cbr\\u003ecount=%{y}\\u003cextra\\u003e\\u003c\\u002fextra\\u003e\",\"legendgroup\":\"\",\"marker\":{\"color\":\"#636efa\",\"pattern\":{\"shape\":\"\"}},\"name\":\"\",\"offsetgroup\":\"\",\"orientation\":\"v\",\"showlegend\":false,\"x\":[0.076,0.098,0.092,0.075,0.076,0.075,0.069,0.065,0.073,0.0969999999999999,0.089,0.114,0.092,0.341,0.0819999999999999,0.106,0.084,0.085,0.08,0.08,0.08,0.0819999999999999,0.089,0.083,0.103,0.086,0.086,0.066,0.074,0.088,0.332,0.069,0.054,0.114,0.074,0.069,0.068,0.081,0.11,0.07,0.076,0.074,0.079,0.115,0.081,0.086,0.086,0.076,0.074,0.084,0.084,0.093,0.104,0.086,0.08,0.069,0.086,0.069,0.076,0.11,0.062,0.107,0.076,0.079,0.11,0.062,0.045,0.102,0.079,0.08,0.084,0.08,0.077,0.07,0.077,0.467,0.088,0.104,0.084,0.08,0.104,0.09,0.077,0.178,0.119,0.075,0.0819999999999999,0.081,0.0819999999999999,0.065,0.118,0.049,0.084,0.09,0.081,0.09,0.05,0.066,0.05,0.1169999999999999,0.087,0.074,0.077,0.61,0.095,0.095,0.071,0.07,0.071,0.073,0.079,0.09,0.072,0.076,0.07,0.07,0.1,0.085,0.072,0.089,0.0579999999999999,0.073,0.068,0.085,0.08,0.087,0.068,0.067,0.067,0.27,0.076,0.077,0.079,0.111,0.0819999999999999,0.084,0.077,0.074,0.071,0.071,0.074,0.067,0.061,0.0559999999999999,0.089,0.095,0.095,0.1,0.039,0.083,0.06,0.092,0.06,0.1009999999999999,0.072,0.076,0.0819999999999999,0.1009999999999999,0.057,0.083,0.073,0.337,0.054,0.078,0.09,0.065,0.0969999999999999,0.263,0.093,0.102,0.075,0.075,0.084,0.075,0.084,0.063,0.074,0.09,0.092,0.073,0.075,0.075,0.611,0.085,0.077,0.087,0.07,0.077,0.064,0.096,0.078,0.077,0.104,0.087,0.087,0.077,0.104,0.073,0.087,0.071,0.358,0.087,0.102,0.102,0.073,0.092,0.091,0.105,0.091,0.091,0.098,0.094,0.073,0.086,0.083,0.094,0.086,0.068,0.092,0.1119999999999999,0.0819999999999999,0.213,0.214,0.072,0.093,0.076,0.087,0.083,0.0819999999999999,0.09,0.071,0.071,0.121,0.107,0.0819999999999999,0.105,0.078,0.128,0.052,0.08,0.0819999999999999,0.118,0.118,0.0819999999999999,0.093,0.089,0.096,0.09,0.12,0.066,0.078,0.08,0.1159999999999999,0.109,0.088,0.099,0.086,0.072,0.071,0.083,0.083,0.076,0.074,0.0559999999999999,0.067,0.078,0.074,0.088,0.08,0.087,0.088,0.045,0.085,0.0819999999999999,0.066,0.122,0.087,0.064,0.122,0.085,0.085,0.075,0.063,0.093,0.07,0.08,0.1,0.0969999999999999,0.087,0.1169999999999999,0.111,0.091,0.121,0.066,0.059,0.047,0.066,0.059,0.045,0.077,0.07,0.088,0.066,0.074,0.091,0.076,0.091,0.06,0.066,0.062,0.072,0.1,0.054,0.081,0.127,0.1,0.095,0.095,0.084,0.084,0.063,0.086,0.095,0.0969999999999999,0.074,0.083,0.087,0.084,0.069,0.065,0.09,0.07,0.093,0.081,0.083,0.087,0.091,0.075,0.077,0.069,0.08,0.152,0.054,0.053,0.073,0.055,0.052,0.086,0.051,0.07,0.081,0.09,0.07,0.086,0.081,0.074,0.074,0.077,0.072,0.075,0.084,0.084,0.09,0.125,0.107,0.107,0.122,0.1,0.2,0.088,0.085,0.086,0.0969999999999999,0.077,0.078,0.098,0.098,0.072,0.102,0.078,0.077,0.084,0.066,0.1,0.1009999999999999,0.064,0.07,0.085,0.075,0.094,0.078,0.067,0.079,0.074,0.092,0.092,0.05,0.095,0.118,0.095,0.085,0.075,0.094,0.092,0.085,0.075,0.226,0.25,0.095,0.07,0.075,0.103,0.083,0.085,0.063,0.089,0.089,0.074,0.108,0.06,0.084,0.07,0.084,0.094,0.086,0.059,0.078,0.081,0.096,0.092,0.11,0.075,0.083,0.081,0.077,0.079,0.079,0.088,0.076,0.078,0.08,0.124,0.098,0.098,0.0969999999999999,0.111,0.0969999999999999,0.105,0.087,0.105,0.073,0.065,0.086,0.084,0.067,0.071,0.071,0.071,0.07,0.066,0.068,0.106,0.096,0.079,0.074,0.087,0.106,0.073,0.074,0.074,0.08,0.076,0.084,0.222,0.0819999999999999,0.0819999999999999,0.074,0.074,0.084,0.084,0.081,0.06,0.094,0.078,0.059,0.078,0.059,0.039,0.157,0.087,0.422,0.084,0.084,0.034,0.066,0.087,0.071,0.076,0.066,0.067,0.073,0.078,0.073,0.093,0.077,0.068,0.08,0.093,0.078,0.079,0.0819999999999999,0.086,0.0819999999999999,0.094,0.053,0.077,0.084,0.067,0.067,0.071,0.387,0.088,0.092,0.0819999999999999,0.075,0.1119999999999999,0.093,0.088,0.075,0.078,0.095,0.07,0.08,0.071,0.07,0.089,0.0969999999999999,0.089,0.415,0.0579999999999999,0.057,0.084,0.084,0.092,0.075,0.096,0.069,0.093,0.091,0.089,0.0819999999999999,0.076,0.0819999999999999,0.0819999999999999,0.0819999999999999,0.157,0.102,0.241,0.079,0.076,0.19,0.114,0.077,0.083,0.079,0.079,0.099,0.0819999999999999,0.084,0.081,0.055,0.065,0.132,0.126,0.038,0.0819999999999999,0.068,0.044,0.114,0.084,0.0409999999999999,0.165,0.07,0.068,0.072,0.102,0.103,0.0969999999999999,0.099,0.048,0.076,0.068,0.05,0.076,0.0579999999999999,0.071,0.147,0.012,0.012,0.075,0.115,0.119,0.088,0.081,0.078,0.081,0.085,0.085,0.08,0.08,0.08,0.073,0.054,0.077,0.067,0.078,0.077,0.086,0.067,0.109,0.064,0.068,0.1939999999999999,0.094,0.086,0.083,0.072,0.1119999999999999,0.078,0.0819999999999999,0.078,0.08,0.08,0.078,0.08,0.078,0.0559999999999999,0.08,0.08,0.06,0.084,0.079,0.078,0.132,0.114,0.065,0.079,0.161,0.084,0.081,0.072,0.091,0.072,0.055,0.064,0.061,0.093,0.055,0.063,0.074,0.078,0.08,0.06,0.073,0.0819999999999999,0.092,0.09,0.092,0.093,0.075,0.075,0.093,0.0579999999999999,0.052,0.09,0.111,0.12,0.0579999999999999,0.078,0.115,0.0579999999999999,0.0969999999999999,0.068,0.066,0.073,0.083,0.109,0.061,0.065,0.079,0.07,0.065,0.064,0.08,0.0969999999999999,0.073,0.0969999999999999,0.0819999999999999,0.0819999999999999,0.079,0.05,0.055,0.062,0.081,0.067,0.063,0.064,0.11,0.067,0.088,0.102,0.092,0.12,0.068,0.049,0.078,0.123,0.123,0.062,0.098,0.088,0.095,0.066,0.065,0.088,0.095,0.077,0.085,0.0819999999999999,0.078,0.088,0.079,0.046,0.07,0.076,0.0819999999999999,0.081,0.084,0.414,0.073,0.07,0.095,0.1009999999999999,0.104,0.093,0.1009999999999999,0.074,0.071,0.098,0.075,0.067,0.083,0.07,0.06,0.086,0.057,0.098,0.088,0.073,0.08,0.05,0.05,0.073,0.072,0.074,0.055,0.057,0.095,0.095,0.083,0.086,0.081,0.079,0.1169999999999999,0.1169999999999999,0.096,0.072,0.071,0.071,0.073,0.048,0.068,0.09,0.171,0.07,0.092,0.0559999999999999,0.046,0.091,0.091,0.091,0.065,0.066,0.076,0.055,0.055,0.072,0.095,0.0579999999999999,0.075,0.089,0.061,0.067,0.08,0.104,0.079,0.08,0.08,0.043,0.065,0.066,0.076,0.178,0.071,0.086,0.061,0.044,0.118,0.083,0.118,0.071,0.042,0.075,0.078,0.074,0.067,0.086,0.062,0.074,0.079,0.079,0.095,0.079,0.0409999999999999,0.076,0.068,0.07,0.08,0.08,0.075,0.08,0.166,0.063,0.114,0.078,0.069,0.052,0.076,0.069,0.065,0.068,0.111,0.074,0.074,0.136,0.074,0.071,0.078,0.078,0.081,0.079,0.044,0.132,0.132,0.08,0.091,0.08,0.104,0.044,0.075,0.066,0.074,0.075,0.059,0.07,0.059,0.081,0.057,0.076,0.0819999999999999,0.0819999999999999,0.086,0.079,0.077,0.123,0.096,0.079,0.0819999999999999,0.085,0.123,0.4029999999999999,0.083,0.081,0.066,0.081,0.081,0.068,0.079,0.048,0.049,0.077,0.073,0.102,0.075,0.05,0.114,0.075,0.062,0.077,0.077,0.084,0.096,0.071,0.09,0.068,0.068,0.1,0.073,0.0559999999999999,0.093,0.064,0.063,0.1369999999999999,0.08,0.1,0.064,0.087,0.073,0.088,0.071,0.064,0.083,0.083,0.0409999999999999,0.414,0.0409999999999999,0.0579999999999999,0.077,0.077,0.077,0.077,0.073,0.083,0.083,0.107,0.075,0.079,0.166,0.069,0.057,0.057,0.057,0.084,0.084,0.084,0.084,0.077,0.063,0.0559999999999999,0.078,0.065,0.086,0.086,0.084,0.078,0.168,0.091,0.093,0.091,0.096,0.094,0.088,0.079,0.415,0.153,0.415,0.086,0.078,0.077,0.077,0.08,0.08,0.107,0.076,0.1,0.083,0.068,0.094,0.07,0.078,0.092,0.09,0.08,0.068,0.08,0.052,0.061,0.0819999999999999,0.062,0.064,0.048,0.064,0.0819999999999999,0.071,0.062,0.104,0.077,0.065,0.077,0.064,0.077,0.077,0.077,0.079,0.079,0.123,0.078,0.072,0.049,0.066,0.069,0.069,0.214,0.1689999999999999,0.07,0.052,0.072,0.0579999999999999,0.094,0.08,0.0559999999999999,0.062,0.104,0.062,0.073,0.052,0.074,0.067,0.054,0.054,0.06,0.076,0.063,0.062,0.067,0.062,0.061,0.084,0.067,0.073,0.071,0.205,0.048,0.205,0.048,0.0819999999999999,0.104,0.08,0.104,0.042,0.074,0.07,0.066,0.049,0.039,0.05,0.089,0.066,0.08,0.054,0.054,0.083,0.077,0.106,0.078,0.07,0.106,0.074,0.062,0.047,0.068,0.074,0.074,0.063,0.114,0.106,0.071,0.076,0.064,0.064,0.096,0.063,0.063,0.081,0.0579999999999999,0.074,0.064,0.075,0.081,0.071,0.063,0.059,0.072,0.099,0.074,0.083,0.103,0.08,0.065,0.066,0.062,0.235,0.08,0.08,0.08,0.076,0.076,0.061,0.059,0.076,0.077,0.0559999999999999,0.23,0.038,0.069,0.075,0.06,0.081,0.076,0.118,0.068,0.053,0.074,0.061,0.065,0.066,0.077,0.089,0.076,0.068,0.09,0.062,0.075],\"xaxis\":\"x\",\"yaxis\":\"y\",\"type\":\"histogram\"}],                        {\"template\":{\"data\":{\"histogram2dcontour\":[{\"type\":\"histogram2dcontour\",\"colorbar\":{\"outlinewidth\":0,\"ticks\":\"\"},\"colorscale\":[[0.0,\"#0d0887\"],[0.1111111111111111,\"#46039f\"],[0.2222222222222222,\"#7201a8\"],[0.3333333333333333,\"#9c179e\"],[0.4444444444444444,\"#bd3786\"],[0.5555555555555556,\"#d8576b\"],[0.6666666666666666,\"#ed7953\"],[0.7777777777777778,\"#fb9f3a\"],[0.8888888888888888,\"#fdca26\"],[1.0,\"#f0f921\"]]}],\"choropleth\":[{\"type\":\"choropleth\",\"colorbar\":{\"outlinewidth\":0,\"ticks\":\"\"}}],\"histogram2d\":[{\"type\":\"histogram2d\",\"colorbar\":{\"outlinewidth\":0,\"ticks\":\"\"},\"colorscale\":[[0.0,\"#0d0887\"],[0.1111111111111111,\"#46039f\"],[0.2222222222222222,\"#7201a8\"],[0.3333333333333333,\"#9c179e\"],[0.4444444444444444,\"#bd3786\"],[0.5555555555555556,\"#d8576b\"],[0.6666666666666666,\"#ed7953\"],[0.7777777777777778,\"#fb9f3a\"],[0.8888888888888888,\"#fdca26\"],[1.0,\"#f0f921\"]]}],\"heatmap\":[{\"type\":\"heatmap\",\"colorbar\":{\"outlinewidth\":0,\"ticks\":\"\"},\"colorscale\":[[0.0,\"#0d0887\"],[0.1111111111111111,\"#46039f\"],[0.2222222222222222,\"#7201a8\"],[0.3333333333333333,\"#9c179e\"],[0.4444444444444444,\"#bd3786\"],[0.5555555555555556,\"#d8576b\"],[0.6666666666666666,\"#ed7953\"],[0.7777777777777778,\"#fb9f3a\"],[0.8888888888888888,\"#fdca26\"],[1.0,\"#f0f921\"]]}],\"heatmapgl\":[{\"type\":\"heatmapgl\",\"colorbar\":{\"outlinewidth\":0,\"ticks\":\"\"},\"colorscale\":[[0.0,\"#0d0887\"],[0.1111111111111111,\"#46039f\"],[0.2222222222222222,\"#7201a8\"],[0.3333333333333333,\"#9c179e\"],[0.4444444444444444,\"#bd3786\"],[0.5555555555555556,\"#d8576b\"],[0.6666666666666666,\"#ed7953\"],[0.7777777777777778,\"#fb9f3a\"],[0.8888888888888888,\"#fdca26\"],[1.0,\"#f0f921\"]]}],\"contourcarpet\":[{\"type\":\"contourcarpet\",\"colorbar\":{\"outlinewidth\":0,\"ticks\":\"\"}}],\"contour\":[{\"type\":\"contour\",\"colorbar\":{\"outlinewidth\":0,\"ticks\":\"\"},\"colorscale\":[[0.0,\"#0d0887\"],[0.1111111111111111,\"#46039f\"],[0.2222222222222222,\"#7201a8\"],[0.3333333333333333,\"#9c179e\"],[0.4444444444444444,\"#bd3786\"],[0.5555555555555556,\"#d8576b\"],[0.6666666666666666,\"#ed7953\"],[0.7777777777777778,\"#fb9f3a\"],[0.8888888888888888,\"#fdca26\"],[1.0,\"#f0f921\"]]}],\"surface\":[{\"type\":\"surface\",\"colorbar\":{\"outlinewidth\":0,\"ticks\":\"\"},\"colorscale\":[[0.0,\"#0d0887\"],[0.1111111111111111,\"#46039f\"],[0.2222222222222222,\"#7201a8\"],[0.3333333333333333,\"#9c179e\"],[0.4444444444444444,\"#bd3786\"],[0.5555555555555556,\"#d8576b\"],[0.6666666666666666,\"#ed7953\"],[0.7777777777777778,\"#fb9f3a\"],[0.8888888888888888,\"#fdca26\"],[1.0,\"#f0f921\"]]}],\"mesh3d\":[{\"type\":\"mesh3d\",\"colorbar\":{\"outlinewidth\":0,\"ticks\":\"\"}}],\"scatter\":[{\"fillpattern\":{\"fillmode\":\"overlay\",\"size\":10,\"solidity\":0.2},\"type\":\"scatter\"}],\"parcoords\":[{\"type\":\"parcoords\",\"line\":{\"colorbar\":{\"outlinewidth\":0,\"ticks\":\"\"}}}],\"scatterpolargl\":[{\"type\":\"scatterpolargl\",\"marker\":{\"colorbar\":{\"outlinewidth\":0,\"ticks\":\"\"}}}],\"bar\":[{\"error_x\":{\"color\":\"#2a3f5f\"},\"error_y\":{\"color\":\"#2a3f5f\"},\"marker\":{\"line\":{\"color\":\"#E5ECF6\",\"width\":0.5},\"pattern\":{\"fillmode\":\"overlay\",\"size\":10,\"solidity\":0.2}},\"type\":\"bar\"}],\"scattergeo\":[{\"type\":\"scattergeo\",\"marker\":{\"colorbar\":{\"outlinewidth\":0,\"ticks\":\"\"}}}],\"scatterpolar\":[{\"type\":\"scatterpolar\",\"marker\":{\"colorbar\":{\"outlinewidth\":0,\"ticks\":\"\"}}}],\"histogram\":[{\"marker\":{\"pattern\":{\"fillmode\":\"overlay\",\"size\":10,\"solidity\":0.2}},\"type\":\"histogram\"}],\"scattergl\":[{\"type\":\"scattergl\",\"marker\":{\"colorbar\":{\"outlinewidth\":0,\"ticks\":\"\"}}}],\"scatter3d\":[{\"type\":\"scatter3d\",\"line\":{\"colorbar\":{\"outlinewidth\":0,\"ticks\":\"\"}},\"marker\":{\"colorbar\":{\"outlinewidth\":0,\"ticks\":\"\"}}}],\"scattermapbox\":[{\"type\":\"scattermapbox\",\"marker\":{\"colorbar\":{\"outlinewidth\":0,\"ticks\":\"\"}}}],\"scatterternary\":[{\"type\":\"scatterternary\",\"marker\":{\"colorbar\":{\"outlinewidth\":0,\"ticks\":\"\"}}}],\"scattercarpet\":[{\"type\":\"scattercarpet\",\"marker\":{\"colorbar\":{\"outlinewidth\":0,\"ticks\":\"\"}}}],\"carpet\":[{\"aaxis\":{\"endlinecolor\":\"#2a3f5f\",\"gridcolor\":\"white\",\"linecolor\":\"white\",\"minorgridcolor\":\"white\",\"startlinecolor\":\"#2a3f5f\"},\"baxis\":{\"endlinecolor\":\"#2a3f5f\",\"gridcolor\":\"white\",\"linecolor\":\"white\",\"minorgridcolor\":\"white\",\"startlinecolor\":\"#2a3f5f\"},\"type\":\"carpet\"}],\"table\":[{\"cells\":{\"fill\":{\"color\":\"#EBF0F8\"},\"line\":{\"color\":\"white\"}},\"header\":{\"fill\":{\"color\":\"#C8D4E3\"},\"line\":{\"color\":\"white\"}},\"type\":\"table\"}],\"barpolar\":[{\"marker\":{\"line\":{\"color\":\"#E5ECF6\",\"width\":0.5},\"pattern\":{\"fillmode\":\"overlay\",\"size\":10,\"solidity\":0.2}},\"type\":\"barpolar\"}],\"pie\":[{\"automargin\":true,\"type\":\"pie\"}]},\"layout\":{\"autotypenumbers\":\"strict\",\"colorway\":[\"#636efa\",\"#EF553B\",\"#00cc96\",\"#ab63fa\",\"#FFA15A\",\"#19d3f3\",\"#FF6692\",\"#B6E880\",\"#FF97FF\",\"#FECB52\"],\"font\":{\"color\":\"#2a3f5f\"},\"hovermode\":\"closest\",\"hoverlabel\":{\"align\":\"left\"},\"paper_bgcolor\":\"white\",\"plot_bgcolor\":\"#E5ECF6\",\"polar\":{\"bgcolor\":\"#E5ECF6\",\"angularaxis\":{\"gridcolor\":\"white\",\"linecolor\":\"white\",\"ticks\":\"\"},\"radialaxis\":{\"gridcolor\":\"white\",\"linecolor\":\"white\",\"ticks\":\"\"}},\"ternary\":{\"bgcolor\":\"#E5ECF6\",\"aaxis\":{\"gridcolor\":\"white\",\"linecolor\":\"white\",\"ticks\":\"\"},\"baxis\":{\"gridcolor\":\"white\",\"linecolor\":\"white\",\"ticks\":\"\"},\"caxis\":{\"gridcolor\":\"white\",\"linecolor\":\"white\",\"ticks\":\"\"}},\"coloraxis\":{\"colorbar\":{\"outlinewidth\":0,\"ticks\":\"\"}},\"colorscale\":{\"sequential\":[[0.0,\"#0d0887\"],[0.1111111111111111,\"#46039f\"],[0.2222222222222222,\"#7201a8\"],[0.3333333333333333,\"#9c179e\"],[0.4444444444444444,\"#bd3786\"],[0.5555555555555556,\"#d8576b\"],[0.6666666666666666,\"#ed7953\"],[0.7777777777777778,\"#fb9f3a\"],[0.8888888888888888,\"#fdca26\"],[1.0,\"#f0f921\"]],\"sequentialminus\":[[0.0,\"#0d0887\"],[0.1111111111111111,\"#46039f\"],[0.2222222222222222,\"#7201a8\"],[0.3333333333333333,\"#9c179e\"],[0.4444444444444444,\"#bd3786\"],[0.5555555555555556,\"#d8576b\"],[0.6666666666666666,\"#ed7953\"],[0.7777777777777778,\"#fb9f3a\"],[0.8888888888888888,\"#fdca26\"],[1.0,\"#f0f921\"]],\"diverging\":[[0,\"#8e0152\"],[0.1,\"#c51b7d\"],[0.2,\"#de77ae\"],[0.3,\"#f1b6da\"],[0.4,\"#fde0ef\"],[0.5,\"#f7f7f7\"],[0.6,\"#e6f5d0\"],[0.7,\"#b8e186\"],[0.8,\"#7fbc41\"],[0.9,\"#4d9221\"],[1,\"#276419\"]]},\"xaxis\":{\"gridcolor\":\"white\",\"linecolor\":\"white\",\"ticks\":\"\",\"title\":{\"standoff\":15},\"zerolinecolor\":\"white\",\"automargin\":true,\"zerolinewidth\":2},\"yaxis\":{\"gridcolor\":\"white\",\"linecolor\":\"white\",\"ticks\":\"\",\"title\":{\"standoff\":15},\"zerolinecolor\":\"white\",\"automargin\":true,\"zerolinewidth\":2},\"scene\":{\"xaxis\":{\"backgroundcolor\":\"#E5ECF6\",\"gridcolor\":\"white\",\"linecolor\":\"white\",\"showbackground\":true,\"ticks\":\"\",\"zerolinecolor\":\"white\",\"gridwidth\":2},\"yaxis\":{\"backgroundcolor\":\"#E5ECF6\",\"gridcolor\":\"white\",\"linecolor\":\"white\",\"showbackground\":true,\"ticks\":\"\",\"zerolinecolor\":\"white\",\"gridwidth\":2},\"zaxis\":{\"backgroundcolor\":\"#E5ECF6\",\"gridcolor\":\"white\",\"linecolor\":\"white\",\"showbackground\":true,\"ticks\":\"\",\"zerolinecolor\":\"white\",\"gridwidth\":2}},\"shapedefaults\":{\"line\":{\"color\":\"#2a3f5f\"}},\"annotationdefaults\":{\"arrowcolor\":\"#2a3f5f\",\"arrowhead\":0,\"arrowwidth\":1},\"geo\":{\"bgcolor\":\"white\",\"landcolor\":\"#E5ECF6\",\"subunitcolor\":\"white\",\"showland\":true,\"showlakes\":true,\"lakecolor\":\"white\"},\"title\":{\"x\":0.05},\"mapbox\":{\"style\":\"light\"}}},\"xaxis\":{\"anchor\":\"y\",\"domain\":[0.0,1.0],\"title\":{\"text\":\"chlorides\"}},\"yaxis\":{\"anchor\":\"x\",\"domain\":[0.0,1.0],\"title\":{\"text\":\"count\"}},\"legend\":{\"tracegroupgap\":0},\"title\":{\"text\":\"Histogramme pour chlorides\"},\"barmode\":\"relative\"},                        {\"responsive\": true}                    ).then(function(){\n",
              "                            \n",
              "var gd = document.getElementById('c775c380-3b33-48e1-b628-e90272eb5c5e');\n",
              "var x = new MutationObserver(function (mutations, observer) {{\n",
              "        var display = window.getComputedStyle(gd).display;\n",
              "        if (!display || display === 'none') {{\n",
              "            console.log([gd, 'removed!']);\n",
              "            Plotly.purge(gd);\n",
              "            observer.disconnect();\n",
              "        }}\n",
              "}});\n",
              "\n",
              "// Listen for the removal of the full notebook cells\n",
              "var notebookContainer = gd.closest('#notebook-container');\n",
              "if (notebookContainer) {{\n",
              "    x.observe(notebookContainer, {childList: true});\n",
              "}}\n",
              "\n",
              "// Listen for the clearing of the current output cell\n",
              "var outputEl = gd.closest('.output');\n",
              "if (outputEl) {{\n",
              "    x.observe(outputEl, {childList: true});\n",
              "}}\n",
              "\n",
              "                        })                };                            </script>        </div>\n",
              "</body>\n",
              "</html>"
            ]
          },
          "metadata": {}
        },
        {
          "output_type": "display_data",
          "data": {
            "text/html": [
              "<html>\n",
              "<head><meta charset=\"utf-8\" /></head>\n",
              "<body>\n",
              "    <div>            <script src=\"https://cdnjs.cloudflare.com/ajax/libs/mathjax/2.7.5/MathJax.js?config=TeX-AMS-MML_SVG\"></script><script type=\"text/javascript\">if (window.MathJax && window.MathJax.Hub && window.MathJax.Hub.Config) {window.MathJax.Hub.Config({SVG: {font: \"STIX-Web\"}});}</script>                <script type=\"text/javascript\">window.PlotlyConfig = {MathJaxConfig: 'local'};</script>\n",
              "        <script charset=\"utf-8\" src=\"https://cdn.plot.ly/plotly-2.24.1.min.js\"></script>                <div id=\"52c1a8b4-14f4-44dc-a037-ce178ae301cf\" class=\"plotly-graph-div\" style=\"height:525px; width:100%;\"></div>            <script type=\"text/javascript\">                                    window.PLOTLYENV=window.PLOTLYENV || {};                                    if (document.getElementById(\"52c1a8b4-14f4-44dc-a037-ce178ae301cf\")) {                    Plotly.newPlot(                        \"52c1a8b4-14f4-44dc-a037-ce178ae301cf\",                        [{\"alignmentgroup\":\"True\",\"bingroup\":\"x\",\"hovertemplate\":\"free sulfur dioxide=%{x}\\u003cbr\\u003ecount=%{y}\\u003cextra\\u003e\\u003c\\u002fextra\\u003e\",\"legendgroup\":\"\",\"marker\":{\"color\":\"#636efa\",\"pattern\":{\"shape\":\"\"}},\"name\":\"\",\"offsetgroup\":\"\",\"orientation\":\"v\",\"showlegend\":false,\"x\":[11.0,25.0,15.0,17.0,11.0,13.0,15.0,15.0,9.0,15.0,16.0,9.0,35.0,17.0,23.0,10.0,9.0,21.0,11.0,4.0,14.0,8.0,17.0,15.0,13.0,5.0,3.0,13.0,12.0,17.0,8.0,9.0,8.0,22.0,4.0,8.0,6.0,30.0,33.0,4.0,17.0,9.0,19.0,20.0,13.0,4.0,4.0,6.0,8.0,18.0,11.0,9.0,14.0,12.0,27.0,3.0,21.0,18.0,19.0,20.0,9.0,34.0,8.0,42.0,20.0,9.0,41.0,8.0,5.0,13.0,11.0,13.0,12.0,5.0,12.0,18.0,15.0,12.0,11.0,22.0,12.0,13.0,11.0,10.0,14.0,3.0,21.0,3.0,3.0,3.0,30.0,17.0,13.0,16.0,13.0,16.0,27.0,3.0,27.0,32.0,21.0,12.0,5.0,32.0,25.0,25.0,28.0,29.0,28.0,12.0,18.0,7.0,9.0,17.0,36.0,35.0,14.0,18.0,17.0,11.0,4.0,6.0,24.0,19.0,7.0,8.0,7.0,10.0,10.0,23.0,16.0,11.0,8.0,26.0,14.0,15.0,21.0,21.0,7.0,7.0,15.0,12.0,12.0,9.0,14.0,9.0,9.0,18.0,5.0,10.0,28.0,10.0,26.0,13.0,11.0,10.0,24.0,16.0,5.0,8.0,29.0,27.0,19.0,12.0,18.0,7.0,14.0,5.0,6.0,28.0,10.0,10.0,6.0,16.0,6.0,16.0,16.0,5.0,8.0,17.0,5.0,12.0,8.0,14.0,18.0,12.0,10.0,23.0,5.0,26.0,15.0,7.0,4.0,27.0,27.0,7.0,4.0,5.0,10.0,6.0,5.0,10.0,32.0,32.0,25.0,29.0,20.0,33.0,20.0,18.0,5.0,17.0,5.0,26.0,8.0,5.0,20.0,7.0,12.0,12.0,7.0,6.0,5.0,15.0,19.0,30.0,26.0,21.0,30.0,25.0,13.0,13.0,6.0,5.0,6.0,16.0,17.0,7.0,6.0,29.0,12.0,6.0,6.0,6.0,6.0,15.0,11.0,8.0,23.0,40.5,17.0,29.0,12.0,10.0,10.0,14.0,21.0,6.0,6.0,7.0,7.0,11.0,6.0,11.0,26.0,19.0,6.0,6.0,11.0,23.0,23.0,12.0,17.0,6.0,7.0,68.0,13.0,9.0,68.0,19.0,10.0,15.0,9.0,12.0,26.0,26.0,15.0,6.0,24.0,31.0,6.0,34.0,7.0,34.0,32.0,15.0,6.0,32.0,19.0,6.0,9.0,13.0,6.0,21.0,6.0,22.0,6.0,38.0,6.0,7.0,6.0,6.0,5.0,31.0,6.0,7.0,17.0,17.0,18.0,5.0,21.0,6.0,5.0,29.0,10.0,14.0,6.0,5.0,21.0,7.0,6.0,36.0,15.0,25.0,25.0,5.0,6.0,6.0,6.0,6.0,6.0,7.0,6.0,5.0,10.0,12.0,13.0,23.0,28.0,5.0,14.0,43.0,5.0,23.0,14.0,38.0,38.0,6.0,10.0,6.0,6.0,23.0,26.0,15.0,6.0,6.0,34.0,5.0,5.0,15.0,38.0,23.0,33.0,6.0,1.0,12.0,12.0,15.0,13.0,1.0,6.0,5.0,5.0,5.0,20.0,5.0,5.0,16.0,6.0,38.0,10.0,6.0,27.0,9.0,14.0,14.0,32.0,10.0,10.0,10.0,6.0,5.0,41.0,25.0,6.0,5.0,5.0,5.0,19.0,10.0,10.0,6.0,18.0,17.0,18.0,5.0,5.0,10.0,18.0,19.0,21.0,23.0,21.0,9.0,30.0,6.0,5.0,6.0,14.0,26.0,11.0,15.0,25.0,5.0,18.0,28.0,14.0,6.0,16.0,14.0,9.0,21.0,5.0,5.0,7.0,20.0,7.0,5.0,21.0,11.0,46.0,24.0,30.0,31.0,25.0,16.0,16.0,16.0,5.0,10.0,24.0,8.0,22.0,9.0,7.0,20.0,8.0,23.0,5.0,5.0,15.0,9.0,25.0,6.0,6.0,6.0,5.0,5.0,7.0,12.0,45.0,20.0,16.0,32.0,5.0,35.0,5.0,4.0,5.0,12.0,16.0,21.0,24.0,18.0,8.0,18.0,5.0,26.0,8.0,9.0,22.0,4.0,11.0,10.0,16.0,11.0,21.0,16.0,21.0,12.0,10.0,17.0,10.0,35.0,36.0,5.0,18.0,4.0,4.0,27.0,12.0,4.0,10.0,16.0,9.0,11.0,19.0,19.0,12.0,28.0,21.0,12.0,12.0,12.0,12.0,17.0,24.0,17.0,14.0,22.0,15.0,10.0,10.0,33.0,9.0,5.0,8.0,11.0,12.0,12.0,24.0,7.0,24.0,23.0,23.0,1.0,7.0,6.0,7.0,21.0,12.0,9.0,20.0,11.0,19.0,19.0,21.0,18.0,25.0,17.0,7.0,7.0,7.0,24.0,21.0,5.0,8.0,14.0,14.0,4.0,4.0,4.0,4.0,4.0,7.0,4.0,19.0,9.0,9.0,16.0,15.0,6.0,4.0,15.0,5.0,16.0,36.0,36.0,36.0,9.0,21.0,34.0,9.0,14.0,12.0,14.0,9.0,9.0,41.0,41.0,41.0,16.0,17.0,15.0,7.0,17.0,16.0,36.0,28.0,7.0,31.0,30.0,14.0,30.0,9.0,8.0,32.0,23.0,16.0,10.0,16.0,17.0,27.0,17.0,27.0,17.0,10.0,16.0,16.0,11.0,12.0,6.0,34.0,3.0,3.0,4.0,3.0,7.0,26.0,32.0,38.0,10.0,38.0,14.0,53.0,52.0,11.0,14.0,10.0,13.0,29.0,8.0,19.0,7.0,9.0,13.0,11.0,11.0,6.0,10.0,10.0,6.0,6.0,5.0,9.0,5.0,25.0,18.0,7.0,6.0,18.0,23.0,29.0,6.0,7.0,35.0,31.0,9.0,8.0,13.0,51.0,8.0,7.0,35.0,19.0,14.0,19.0,31.0,31.0,19.0,4.0,7.0,6.0,27.0,4.0,13.0,12.0,12.0,7.0,12.0,11.0,22.0,3.0,12.0,36.0,10.0,3.0,3.0,4.0,3.0,12.0,17.0,14.0,28.0,12.0,5.0,15.0,5.0,26.0,25.0,21.0,13.0,12.0,32.0,33.0,27.0,3.0,6.0,16.0,19.0,9.0,5.0,3.0,28.0,30.0,3.0,3.0,7.0,6.0,6.0,5.0,6.0,13.0,3.0,28.0,19.0,30.0,16.0,3.0,3.0,37.5,37.5,31.0,32.0,40.0,3.0,18.0,22.0,22.0,42.0,8.0,10.0,11.0,9.0,9.0,5.0,23.0,14.0,14.0,16.0,13.0,10.0,4.0,27.0,6.0,23.0,6.0,29.0,15.0,15.0,15.0,14.0,7.0,8.0,27.0,13.0,26.0,28.0,5.0,18.0,10.0,6.0,22.0,6.0,29.0,16.0,33.0,24.0,6.0,16.0,35.0,31.0,6.0,6.0,9.0,6.0,16.0,9.0,17.0,9.0,45.0,16.0,12.0,10.0,29.0,8.0,5.0,5.0,5.0,26.0,26.0,48.0,23.0,17.0,11.0,5.0,16.0,11.0,11.0,5.0,6.0,6.0,11.0,15.0,21.0,4.0,19.0,23.0,4.0,5.0,6.0,33.0,24.0,24.0,24.0,24.0,14.0,8.0,8.0,6.0,10.0,25.0,17.0,17.0,8.0,18.0,27.0,8.0,18.0,19.0,15.0,48.0,19.0,11.0,7.0,11.0,12.0,11.0,36.0,10.0,15.0,15.0,24.0,27.0,6.0,6.0,20.0,43.0,12.0,15.0,19.0,17.0,34.0,26.0,16.0,16.0,13.0,21.0,26.0,24.0,25.0,34.0,17.0,13.0,3.0,3.0,13.0,3.0,28.0,28.0,9.0,17.0,18.0,20.0,20.0,20.0,6.0,25.0,14.0,51.0,15.0,11.0,5.0,15.0,20.0,4.0,21.0,24.0,22.0,27.0,12.0,14.0,17.0,16.0,18.0,16.0,9.0,18.0,18.0,18.0,18.0,13.0,17.0,17.0,31.0,6.0,12.0,4.0,19.0,15.0,15.0,15.0,13.0,13.0,13.0,13.0,8.0,10.0,5.0,7.0,8.0,14.0,5.0,4.0,27.0,52.0,6.0,13.0,6.0,10.0,10.0,9.0,16.0,12.0,5.0,12.0,7.0,10.0,11.0,11.0,25.0,25.0,20.0,34.0,8.0,7.0,15.0,5.0,5.0,19.0,3.0,4.0,17.0,10.0,33.0,6.0,3.0,12.0,8.0,40.0,35.0,40.0,5.0,8.0,8.0,12.0,3.0,8.0,3.0,21.0,3.0,32.0,3.0,24.0,39.0,14.0,6.0,27.0,38.0,18.0,13.0,11.0,55.0,27.0,15.0,3.0,31.0,8.0,19.0,22.0,15.0,15.0,8.0,37.0,7.0,9.0,27.0,8.0,7.0,34.0,6.0,14.0,34.0,31.0,19.0,31.0,20.0,8.0,8.0,23.0,14.0,48.0,16.0,48.0,16.0,3.0,10.0,6.0,10.0,6.0,8.0,9.0,9.0,5.0,8.0,6.0,23.0,15.0,15.0,7.0,7.0,21.0,6.0,5.0,6.0,6.0,5.0,17.0,7.0,26.0,19.0,16.0,16.0,29.0,7.0,14.0,23.0,29.0,18.0,18.0,21.0,42.0,9.0,13.0,18.0,32.0,13.0,15.0,15.0,11.0,12.0,16.0,17.0,19.0,17.0,18.0,32.0,18.0,15.0,12.0,15.0,66.0,31.0,31.0,31.0,12.0,12.0,26.0,24.0,12.0,25.0,15.0,19.0,15.0,35.0,15.0,12.0,16.0,13.0,13.0,9.0,13.0,32.0,24.0,34.0,18.0,26.0,16.0,29.0,28.0,32.0,39.0,32.0],\"xaxis\":\"x\",\"yaxis\":\"y\",\"type\":\"histogram\"}],                        {\"template\":{\"data\":{\"histogram2dcontour\":[{\"type\":\"histogram2dcontour\",\"colorbar\":{\"outlinewidth\":0,\"ticks\":\"\"},\"colorscale\":[[0.0,\"#0d0887\"],[0.1111111111111111,\"#46039f\"],[0.2222222222222222,\"#7201a8\"],[0.3333333333333333,\"#9c179e\"],[0.4444444444444444,\"#bd3786\"],[0.5555555555555556,\"#d8576b\"],[0.6666666666666666,\"#ed7953\"],[0.7777777777777778,\"#fb9f3a\"],[0.8888888888888888,\"#fdca26\"],[1.0,\"#f0f921\"]]}],\"choropleth\":[{\"type\":\"choropleth\",\"colorbar\":{\"outlinewidth\":0,\"ticks\":\"\"}}],\"histogram2d\":[{\"type\":\"histogram2d\",\"colorbar\":{\"outlinewidth\":0,\"ticks\":\"\"},\"colorscale\":[[0.0,\"#0d0887\"],[0.1111111111111111,\"#46039f\"],[0.2222222222222222,\"#7201a8\"],[0.3333333333333333,\"#9c179e\"],[0.4444444444444444,\"#bd3786\"],[0.5555555555555556,\"#d8576b\"],[0.6666666666666666,\"#ed7953\"],[0.7777777777777778,\"#fb9f3a\"],[0.8888888888888888,\"#fdca26\"],[1.0,\"#f0f921\"]]}],\"heatmap\":[{\"type\":\"heatmap\",\"colorbar\":{\"outlinewidth\":0,\"ticks\":\"\"},\"colorscale\":[[0.0,\"#0d0887\"],[0.1111111111111111,\"#46039f\"],[0.2222222222222222,\"#7201a8\"],[0.3333333333333333,\"#9c179e\"],[0.4444444444444444,\"#bd3786\"],[0.5555555555555556,\"#d8576b\"],[0.6666666666666666,\"#ed7953\"],[0.7777777777777778,\"#fb9f3a\"],[0.8888888888888888,\"#fdca26\"],[1.0,\"#f0f921\"]]}],\"heatmapgl\":[{\"type\":\"heatmapgl\",\"colorbar\":{\"outlinewidth\":0,\"ticks\":\"\"},\"colorscale\":[[0.0,\"#0d0887\"],[0.1111111111111111,\"#46039f\"],[0.2222222222222222,\"#7201a8\"],[0.3333333333333333,\"#9c179e\"],[0.4444444444444444,\"#bd3786\"],[0.5555555555555556,\"#d8576b\"],[0.6666666666666666,\"#ed7953\"],[0.7777777777777778,\"#fb9f3a\"],[0.8888888888888888,\"#fdca26\"],[1.0,\"#f0f921\"]]}],\"contourcarpet\":[{\"type\":\"contourcarpet\",\"colorbar\":{\"outlinewidth\":0,\"ticks\":\"\"}}],\"contour\":[{\"type\":\"contour\",\"colorbar\":{\"outlinewidth\":0,\"ticks\":\"\"},\"colorscale\":[[0.0,\"#0d0887\"],[0.1111111111111111,\"#46039f\"],[0.2222222222222222,\"#7201a8\"],[0.3333333333333333,\"#9c179e\"],[0.4444444444444444,\"#bd3786\"],[0.5555555555555556,\"#d8576b\"],[0.6666666666666666,\"#ed7953\"],[0.7777777777777778,\"#fb9f3a\"],[0.8888888888888888,\"#fdca26\"],[1.0,\"#f0f921\"]]}],\"surface\":[{\"type\":\"surface\",\"colorbar\":{\"outlinewidth\":0,\"ticks\":\"\"},\"colorscale\":[[0.0,\"#0d0887\"],[0.1111111111111111,\"#46039f\"],[0.2222222222222222,\"#7201a8\"],[0.3333333333333333,\"#9c179e\"],[0.4444444444444444,\"#bd3786\"],[0.5555555555555556,\"#d8576b\"],[0.6666666666666666,\"#ed7953\"],[0.7777777777777778,\"#fb9f3a\"],[0.8888888888888888,\"#fdca26\"],[1.0,\"#f0f921\"]]}],\"mesh3d\":[{\"type\":\"mesh3d\",\"colorbar\":{\"outlinewidth\":0,\"ticks\":\"\"}}],\"scatter\":[{\"fillpattern\":{\"fillmode\":\"overlay\",\"size\":10,\"solidity\":0.2},\"type\":\"scatter\"}],\"parcoords\":[{\"type\":\"parcoords\",\"line\":{\"colorbar\":{\"outlinewidth\":0,\"ticks\":\"\"}}}],\"scatterpolargl\":[{\"type\":\"scatterpolargl\",\"marker\":{\"colorbar\":{\"outlinewidth\":0,\"ticks\":\"\"}}}],\"bar\":[{\"error_x\":{\"color\":\"#2a3f5f\"},\"error_y\":{\"color\":\"#2a3f5f\"},\"marker\":{\"line\":{\"color\":\"#E5ECF6\",\"width\":0.5},\"pattern\":{\"fillmode\":\"overlay\",\"size\":10,\"solidity\":0.2}},\"type\":\"bar\"}],\"scattergeo\":[{\"type\":\"scattergeo\",\"marker\":{\"colorbar\":{\"outlinewidth\":0,\"ticks\":\"\"}}}],\"scatterpolar\":[{\"type\":\"scatterpolar\",\"marker\":{\"colorbar\":{\"outlinewidth\":0,\"ticks\":\"\"}}}],\"histogram\":[{\"marker\":{\"pattern\":{\"fillmode\":\"overlay\",\"size\":10,\"solidity\":0.2}},\"type\":\"histogram\"}],\"scattergl\":[{\"type\":\"scattergl\",\"marker\":{\"colorbar\":{\"outlinewidth\":0,\"ticks\":\"\"}}}],\"scatter3d\":[{\"type\":\"scatter3d\",\"line\":{\"colorbar\":{\"outlinewidth\":0,\"ticks\":\"\"}},\"marker\":{\"colorbar\":{\"outlinewidth\":0,\"ticks\":\"\"}}}],\"scattermapbox\":[{\"type\":\"scattermapbox\",\"marker\":{\"colorbar\":{\"outlinewidth\":0,\"ticks\":\"\"}}}],\"scatterternary\":[{\"type\":\"scatterternary\",\"marker\":{\"colorbar\":{\"outlinewidth\":0,\"ticks\":\"\"}}}],\"scattercarpet\":[{\"type\":\"scattercarpet\",\"marker\":{\"colorbar\":{\"outlinewidth\":0,\"ticks\":\"\"}}}],\"carpet\":[{\"aaxis\":{\"endlinecolor\":\"#2a3f5f\",\"gridcolor\":\"white\",\"linecolor\":\"white\",\"minorgridcolor\":\"white\",\"startlinecolor\":\"#2a3f5f\"},\"baxis\":{\"endlinecolor\":\"#2a3f5f\",\"gridcolor\":\"white\",\"linecolor\":\"white\",\"minorgridcolor\":\"white\",\"startlinecolor\":\"#2a3f5f\"},\"type\":\"carpet\"}],\"table\":[{\"cells\":{\"fill\":{\"color\":\"#EBF0F8\"},\"line\":{\"color\":\"white\"}},\"header\":{\"fill\":{\"color\":\"#C8D4E3\"},\"line\":{\"color\":\"white\"}},\"type\":\"table\"}],\"barpolar\":[{\"marker\":{\"line\":{\"color\":\"#E5ECF6\",\"width\":0.5},\"pattern\":{\"fillmode\":\"overlay\",\"size\":10,\"solidity\":0.2}},\"type\":\"barpolar\"}],\"pie\":[{\"automargin\":true,\"type\":\"pie\"}]},\"layout\":{\"autotypenumbers\":\"strict\",\"colorway\":[\"#636efa\",\"#EF553B\",\"#00cc96\",\"#ab63fa\",\"#FFA15A\",\"#19d3f3\",\"#FF6692\",\"#B6E880\",\"#FF97FF\",\"#FECB52\"],\"font\":{\"color\":\"#2a3f5f\"},\"hovermode\":\"closest\",\"hoverlabel\":{\"align\":\"left\"},\"paper_bgcolor\":\"white\",\"plot_bgcolor\":\"#E5ECF6\",\"polar\":{\"bgcolor\":\"#E5ECF6\",\"angularaxis\":{\"gridcolor\":\"white\",\"linecolor\":\"white\",\"ticks\":\"\"},\"radialaxis\":{\"gridcolor\":\"white\",\"linecolor\":\"white\",\"ticks\":\"\"}},\"ternary\":{\"bgcolor\":\"#E5ECF6\",\"aaxis\":{\"gridcolor\":\"white\",\"linecolor\":\"white\",\"ticks\":\"\"},\"baxis\":{\"gridcolor\":\"white\",\"linecolor\":\"white\",\"ticks\":\"\"},\"caxis\":{\"gridcolor\":\"white\",\"linecolor\":\"white\",\"ticks\":\"\"}},\"coloraxis\":{\"colorbar\":{\"outlinewidth\":0,\"ticks\":\"\"}},\"colorscale\":{\"sequential\":[[0.0,\"#0d0887\"],[0.1111111111111111,\"#46039f\"],[0.2222222222222222,\"#7201a8\"],[0.3333333333333333,\"#9c179e\"],[0.4444444444444444,\"#bd3786\"],[0.5555555555555556,\"#d8576b\"],[0.6666666666666666,\"#ed7953\"],[0.7777777777777778,\"#fb9f3a\"],[0.8888888888888888,\"#fdca26\"],[1.0,\"#f0f921\"]],\"sequentialminus\":[[0.0,\"#0d0887\"],[0.1111111111111111,\"#46039f\"],[0.2222222222222222,\"#7201a8\"],[0.3333333333333333,\"#9c179e\"],[0.4444444444444444,\"#bd3786\"],[0.5555555555555556,\"#d8576b\"],[0.6666666666666666,\"#ed7953\"],[0.7777777777777778,\"#fb9f3a\"],[0.8888888888888888,\"#fdca26\"],[1.0,\"#f0f921\"]],\"diverging\":[[0,\"#8e0152\"],[0.1,\"#c51b7d\"],[0.2,\"#de77ae\"],[0.3,\"#f1b6da\"],[0.4,\"#fde0ef\"],[0.5,\"#f7f7f7\"],[0.6,\"#e6f5d0\"],[0.7,\"#b8e186\"],[0.8,\"#7fbc41\"],[0.9,\"#4d9221\"],[1,\"#276419\"]]},\"xaxis\":{\"gridcolor\":\"white\",\"linecolor\":\"white\",\"ticks\":\"\",\"title\":{\"standoff\":15},\"zerolinecolor\":\"white\",\"automargin\":true,\"zerolinewidth\":2},\"yaxis\":{\"gridcolor\":\"white\",\"linecolor\":\"white\",\"ticks\":\"\",\"title\":{\"standoff\":15},\"zerolinecolor\":\"white\",\"automargin\":true,\"zerolinewidth\":2},\"scene\":{\"xaxis\":{\"backgroundcolor\":\"#E5ECF6\",\"gridcolor\":\"white\",\"linecolor\":\"white\",\"showbackground\":true,\"ticks\":\"\",\"zerolinecolor\":\"white\",\"gridwidth\":2},\"yaxis\":{\"backgroundcolor\":\"#E5ECF6\",\"gridcolor\":\"white\",\"linecolor\":\"white\",\"showbackground\":true,\"ticks\":\"\",\"zerolinecolor\":\"white\",\"gridwidth\":2},\"zaxis\":{\"backgroundcolor\":\"#E5ECF6\",\"gridcolor\":\"white\",\"linecolor\":\"white\",\"showbackground\":true,\"ticks\":\"\",\"zerolinecolor\":\"white\",\"gridwidth\":2}},\"shapedefaults\":{\"line\":{\"color\":\"#2a3f5f\"}},\"annotationdefaults\":{\"arrowcolor\":\"#2a3f5f\",\"arrowhead\":0,\"arrowwidth\":1},\"geo\":{\"bgcolor\":\"white\",\"landcolor\":\"#E5ECF6\",\"subunitcolor\":\"white\",\"showland\":true,\"showlakes\":true,\"lakecolor\":\"white\"},\"title\":{\"x\":0.05},\"mapbox\":{\"style\":\"light\"}}},\"xaxis\":{\"anchor\":\"y\",\"domain\":[0.0,1.0],\"title\":{\"text\":\"free sulfur dioxide\"}},\"yaxis\":{\"anchor\":\"x\",\"domain\":[0.0,1.0],\"title\":{\"text\":\"count\"}},\"legend\":{\"tracegroupgap\":0},\"title\":{\"text\":\"Histogramme pour free sulfur dioxide\"},\"barmode\":\"relative\"},                        {\"responsive\": true}                    ).then(function(){\n",
              "                            \n",
              "var gd = document.getElementById('52c1a8b4-14f4-44dc-a037-ce178ae301cf');\n",
              "var x = new MutationObserver(function (mutations, observer) {{\n",
              "        var display = window.getComputedStyle(gd).display;\n",
              "        if (!display || display === 'none') {{\n",
              "            console.log([gd, 'removed!']);\n",
              "            Plotly.purge(gd);\n",
              "            observer.disconnect();\n",
              "        }}\n",
              "}});\n",
              "\n",
              "// Listen for the removal of the full notebook cells\n",
              "var notebookContainer = gd.closest('#notebook-container');\n",
              "if (notebookContainer) {{\n",
              "    x.observe(notebookContainer, {childList: true});\n",
              "}}\n",
              "\n",
              "// Listen for the clearing of the current output cell\n",
              "var outputEl = gd.closest('.output');\n",
              "if (outputEl) {{\n",
              "    x.observe(outputEl, {childList: true});\n",
              "}}\n",
              "\n",
              "                        })                };                            </script>        </div>\n",
              "</body>\n",
              "</html>"
            ]
          },
          "metadata": {}
        },
        {
          "output_type": "display_data",
          "data": {
            "text/html": [
              "<html>\n",
              "<head><meta charset=\"utf-8\" /></head>\n",
              "<body>\n",
              "    <div>            <script src=\"https://cdnjs.cloudflare.com/ajax/libs/mathjax/2.7.5/MathJax.js?config=TeX-AMS-MML_SVG\"></script><script type=\"text/javascript\">if (window.MathJax && window.MathJax.Hub && window.MathJax.Hub.Config) {window.MathJax.Hub.Config({SVG: {font: \"STIX-Web\"}});}</script>                <script type=\"text/javascript\">window.PlotlyConfig = {MathJaxConfig: 'local'};</script>\n",
              "        <script charset=\"utf-8\" src=\"https://cdn.plot.ly/plotly-2.24.1.min.js\"></script>                <div id=\"d292e3e4-932a-481b-96c5-630020ae15cb\" class=\"plotly-graph-div\" style=\"height:525px; width:100%;\"></div>            <script type=\"text/javascript\">                                    window.PLOTLYENV=window.PLOTLYENV || {};                                    if (document.getElementById(\"d292e3e4-932a-481b-96c5-630020ae15cb\")) {                    Plotly.newPlot(                        \"d292e3e4-932a-481b-96c5-630020ae15cb\",                        [{\"alignmentgroup\":\"True\",\"bingroup\":\"x\",\"hovertemplate\":\"total sulfur dioxide=%{x}\\u003cbr\\u003ecount=%{y}\\u003cextra\\u003e\\u003c\\u002fextra\\u003e\",\"legendgroup\":\"\",\"marker\":{\"color\":\"#636efa\",\"pattern\":{\"shape\":\"\"}},\"name\":\"\",\"offsetgroup\":\"\",\"orientation\":\"v\",\"showlegend\":false,\"x\":[34.0,67.0,54.0,60.0,34.0,40.0,59.0,21.0,18.0,65.0,59.0,29.0,103.0,56.0,71.0,37.0,67.0,40.0,23.0,11.0,35.0,16.0,82.0,113.0,50.0,18.0,15.0,30.0,87.0,46.0,14.0,23.0,65.0,114.0,23.0,15.0,14.0,119.0,73.0,10.0,54.0,46.0,52.0,112.0,54.0,11.0,11.0,15.0,19.0,94.0,43.0,42.0,30.0,80.0,119.0,15.0,73.0,61.0,40.0,136.0,31.0,125.0,24.0,140.0,136.0,31.0,85.0,23.0,10.0,35.0,50.0,35.0,65.0,36.0,65.0,69.0,64.0,47.0,108.0,46.0,47.0,62.0,40.0,89.0,56.0,13.0,102.0,12.0,12.0,16.0,134.0,99.0,29.0,63.0,45.0,63.0,63.0,20.0,63.0,141.0,94.0,30.0,11.0,69.0,99.0,99.0,128.0,129.0,128.0,22.0,86.0,20.0,20.0,31.0,121.0,121.0,96.0,101.0,42.0,44.0,8.0,18.0,42.0,49.0,35.0,38.0,20.0,42.0,42.0,110.0,42.0,65.0,62.0,85.0,67.0,143.0,127.0,49.0,28.0,28.0,55.0,27.0,31.0,24.0,37.0,28.0,28.0,95.0,19.0,62.0,65.0,41.0,121.0,49.0,41.0,44.0,58.0,72.0,10.0,28.0,63.0,81.0,106.0,49.0,58.0,37.0,38.0,62.0,24.0,109.0,24.0,24.0,23.0,51.0,23.0,37.0,34.0,21.0,86.0,119.0,13.0,56.0,45.0,33.0,45.0,67.0,35.0,49.0,27.0,61.0,37.0,27.0,23.0,61.0,61.0,27.0,23.0,13.0,47.0,19.0,10.0,47.0,71.0,71.0,49.0,53.0,49.0,98.0,49.0,48.0,16.0,53.0,27.0,70.0,29.0,31.0,44.0,15.0,28.0,90.0,54.0,14.0,12.0,105.0,98.0,135.0,72.0,59.0,74.0,87.0,50.0,50.0,14.0,13.0,21.0,44.0,38.0,21.0,16.0,58.0,29.0,14.0,14.0,32.0,15.0,46.0,26.0,19.0,77.0,165.0,32.0,55.0,29.0,23.0,41.0,81.0,50.0,37.0,15.0,42.0,42.0,24.0,18.0,25.0,46.0,47.0,18.0,24.0,27.0,54.0,53.0,88.0,43.0,26.0,38.0,124.0,49.0,42.0,124.0,64.0,41.0,27.0,28.0,30.0,49.0,86.0,77.0,19.0,122.0,134.0,20.0,124.0,20.0,52.0,48.0,60.0,24.0,48.0,48.0,32.0,30.0,35.0,24.0,66.0,18.0,54.0,18.0,62.0,22.0,50.0,29.0,43.0,27.0,72.0,16.0,27.0,35.0,35.0,35.0,22.0,67.0,19.0,22.0,65.0,47.0,23.0,19.0,15.0,51.0,18.0,21.0,48.0,47.0,52.0,68.0,28.0,16.0,20.0,31.0,23.0,17.0,18.0,17.0,14.0,26.0,25.0,27.0,81.0,91.0,16.0,38.0,113.0,16.0,81.0,38.0,76.0,76.0,22.0,26.0,21.0,13.0,43.0,62.0,49.0,15.0,15.0,151.0,14.0,16.0,33.0,142.0,116.0,85.0,33.0,28.0,42.0,42.0,33.0,32.0,28.0,33.0,13.0,35.0,17.0,47.0,17.0,20.0,53.0,15.0,106.0,28.0,21.0,69.0,25.0,45.0,44.0,96.0,23.0,17.0,23.0,47.0,19.0,110.0,60.0,47.0,19.0,15.0,20.0,42.0,37.0,28.0,14.0,111.0,110.0,40.0,14.0,14.0,21.0,102.0,50.0,75.0,149.0,75.0,43.0,109.0,24.0,30.0,14.0,63.0,52.0,65.0,39.0,57.0,16.0,29.0,71.0,28.0,16.0,112.0,104.0,32.0,58.0,15.0,15.0,31.0,84.0,31.0,19.0,43.0,86.0,102.0,33.0,147.0,145.0,57.0,40.0,40.0,40.0,14.0,28.0,148.0,32.0,71.0,30.0,29.0,53.0,32.0,42.0,20.0,20.0,42.0,27.0,48.0,16.0,15.0,15.0,13.0,13.0,17.0,31.0,87.0,49.0,29.0,58.0,15.0,152.0,15.0,9.0,17.0,93.0,62.0,122.0,125.0,44.0,25.0,72.0,19.0,88.0,25.0,23.0,84.0,14.0,54.0,19.0,37.0,35.0,84.0,112.0,77.0,49.0,22.0,45.0,22.0,106.0,127.0,13.0,49.0,11.0,11.0,58.0,37.0,14.0,19.0,72.0,39.0,22.0,58.0,38.0,16.0,139.0,101.0,28.0,57.0,31.0,28.0,40.0,66.0,40.0,32.0,47.0,33.0,31.0,31.0,88.0,104.0,35.0,19.0,44.0,48.0,74.0,94.0,32.0,94.0,143.0,144.0,44.0,16.0,18.0,34.0,92.0,45.0,37.0,85.0,61.0,58.0,58.0,119.0,82.0,130.0,87.0,13.0,26.0,60.0,64.0,42.0,14.0,17.0,86.0,46.0,18.0,10.0,12.0,15.0,14.0,24.0,7.0,41.0,59.0,22.0,42.0,36.0,16.0,8.0,37.0,9.0,24.0,51.0,100.0,100.0,28.0,31.0,68.0,92.0,31.0,39.0,31.0,22.0,22.0,55.0,55.0,55.0,47.0,32.0,85.0,25.0,84.0,86.0,46.0,48.0,16.0,43.0,35.0,26.0,69.0,30.0,28.0,64.0,99.0,86.0,18.0,86.0,88.0,43.0,43.0,43.0,43.0,39.0,33.0,33.0,18.0,78.0,9.0,61.0,11.0,9.0,8.0,6.0,62.0,45.0,79.0,46.0,23.0,46.0,28.0,77.0,73.0,75.0,28.0,19.0,38.0,66.0,25.0,72.0,11.0,17.0,52.0,24.0,24.0,12.0,21.0,21.0,12.0,10.0,9.0,23.0,10.0,36.0,38.0,18.0,16.0,38.0,113.0,46.0,10.0,13.0,72.0,119.0,29.0,17.0,28.0,70.0,17.0,11.0,70.0,27.0,21.0,27.0,68.0,68.0,41.0,10.0,12.0,12.0,45.0,8.0,27.0,25.0,24.0,12.0,19.0,32.0,31.0,7.0,28.0,109.0,23.0,8.0,8.0,9.0,9.0,18.0,43.0,36.0,52.0,18.0,14.0,48.0,17.0,35.0,42.0,39.0,26.0,53.0,38.0,45.0,51.0,14.0,17.0,45.0,25.0,20.0,77.0,10.0,90.0,52.0,10.0,8.0,16.0,15.0,17.0,10.0,20.0,26.0,10.0,52.0,37.0,92.0,37.0,8.0,8.0,278.0,289.0,70.0,59.0,64.0,9.0,30.0,41.0,41.0,74.0,19.0,16.0,31.0,17.0,17.0,18.0,36.0,25.0,25.0,25.0,49.0,24.0,13.0,66.0,14.0,55.0,35.0,80.0,21.0,21.0,21.0,24.0,15.0,17.0,33.0,27.0,52.0,89.0,10.0,38.0,18.0,15.0,50.0,13.0,94.0,86.0,79.0,71.0,12.0,20.0,70.0,51.0,21.0,14.0,21.0,11.0,70.0,38.0,38.0,38.0,88.0,101.0,19.0,21.0,48.0,44.0,14.0,12.0,16.0,65.0,65.0,59.0,47.0,78.0,47.0,11.0,61.0,119.0,119.0,19.0,20.0,12.0,41.0,64.0,56.0,9.0,77.0,94.0,9.0,10.0,12.0,76.0,44.0,44.0,52.0,44.0,24.0,15.0,15.0,9.0,79.0,50.0,44.0,44.0,20.0,77.0,46.0,21.0,88.0,66.0,58.0,90.0,66.0,18.0,17.0,18.0,24.0,20.0,60.0,86.0,34.0,48.0,37.0,60.0,14.0,13.0,35.0,60.0,69.0,33.0,56.0,24.0,66.0,51.0,36.0,36.0,19.0,51.0,60.0,64.0,44.0,44.0,36.0,81.0,10.0,10.0,81.0,9.0,54.0,54.0,22.0,69.0,36.0,47.0,110.0,110.0,12.0,60.0,28.0,77.5,29.0,18.0,9.0,28.0,57.0,15.0,68.0,88.0,91.0,63.0,27.0,41.0,91.0,46.0,64.0,46.0,18.0,34.0,34.0,34.0,34.0,38.0,91.0,91.0,67.0,25.0,48.0,11.0,40.0,26.0,26.0,26.0,31.0,31.0,31.0,31.0,20.0,28.0,13.0,12.0,46.0,57.0,32.0,28.0,67.0,98.0,28.0,54.0,28.0,31.0,45.0,105.0,74.0,66.0,14.0,66.0,31.0,28.0,35.0,35.0,105.0,105.0,84.0,85.0,23.0,49.0,33.0,33.0,12.0,59.0,12.0,11.0,104.0,24.0,141.0,24.0,13.0,46.0,22.0,54.0,53.0,54.0,16.0,19.0,22.0,89.0,15.0,18.0,15.0,37.0,19.0,133.0,19.0,58.0,55.0,31.0,23.0,55.0,67.0,47.0,74.0,25.0,95.0,90.0,39.0,8.0,92.0,22.0,98.0,39.0,29.0,28.0,17.0,53.0,23.0,17.0,85.0,20.0,15.0,64.0,13.0,39.0,53.0,54.0,32.0,54.0,49.0,24.0,16.0,44.0,45.0,82.0,89.0,82.0,89.0,14.0,22.0,13.0,22.0,12.0,25.0,23.0,17.0,13.0,18.0,18.0,147.0,28.0,28.0,16.0,16.0,64.0,14.0,12.0,12.0,14.0,12.0,25.0,20.0,48.0,27.0,65.0,65.0,44.0,20.0,27.0,58.0,61.0,34.0,38.0,59.0,52.0,18.0,28.0,22.0,84.0,29.0,35.0,26.0,32.0,19.0,28.0,26.0,50.0,24.0,27.0,54.0,28.0,24.0,20.0,23.0,115.0,131.0,131.0,131.0,20.0,20.0,42.0,52.0,20.0,42.0,34.0,35.0,25.0,104.0,50.0,20.0,29.0,27.0,20.0,26.0,27.0,98.0,34.0,60.0,28.0,35.0,26.0,40.0,38.0,44.0,51.0,44.0],\"xaxis\":\"x\",\"yaxis\":\"y\",\"type\":\"histogram\"}],                        {\"template\":{\"data\":{\"histogram2dcontour\":[{\"type\":\"histogram2dcontour\",\"colorbar\":{\"outlinewidth\":0,\"ticks\":\"\"},\"colorscale\":[[0.0,\"#0d0887\"],[0.1111111111111111,\"#46039f\"],[0.2222222222222222,\"#7201a8\"],[0.3333333333333333,\"#9c179e\"],[0.4444444444444444,\"#bd3786\"],[0.5555555555555556,\"#d8576b\"],[0.6666666666666666,\"#ed7953\"],[0.7777777777777778,\"#fb9f3a\"],[0.8888888888888888,\"#fdca26\"],[1.0,\"#f0f921\"]]}],\"choropleth\":[{\"type\":\"choropleth\",\"colorbar\":{\"outlinewidth\":0,\"ticks\":\"\"}}],\"histogram2d\":[{\"type\":\"histogram2d\",\"colorbar\":{\"outlinewidth\":0,\"ticks\":\"\"},\"colorscale\":[[0.0,\"#0d0887\"],[0.1111111111111111,\"#46039f\"],[0.2222222222222222,\"#7201a8\"],[0.3333333333333333,\"#9c179e\"],[0.4444444444444444,\"#bd3786\"],[0.5555555555555556,\"#d8576b\"],[0.6666666666666666,\"#ed7953\"],[0.7777777777777778,\"#fb9f3a\"],[0.8888888888888888,\"#fdca26\"],[1.0,\"#f0f921\"]]}],\"heatmap\":[{\"type\":\"heatmap\",\"colorbar\":{\"outlinewidth\":0,\"ticks\":\"\"},\"colorscale\":[[0.0,\"#0d0887\"],[0.1111111111111111,\"#46039f\"],[0.2222222222222222,\"#7201a8\"],[0.3333333333333333,\"#9c179e\"],[0.4444444444444444,\"#bd3786\"],[0.5555555555555556,\"#d8576b\"],[0.6666666666666666,\"#ed7953\"],[0.7777777777777778,\"#fb9f3a\"],[0.8888888888888888,\"#fdca26\"],[1.0,\"#f0f921\"]]}],\"heatmapgl\":[{\"type\":\"heatmapgl\",\"colorbar\":{\"outlinewidth\":0,\"ticks\":\"\"},\"colorscale\":[[0.0,\"#0d0887\"],[0.1111111111111111,\"#46039f\"],[0.2222222222222222,\"#7201a8\"],[0.3333333333333333,\"#9c179e\"],[0.4444444444444444,\"#bd3786\"],[0.5555555555555556,\"#d8576b\"],[0.6666666666666666,\"#ed7953\"],[0.7777777777777778,\"#fb9f3a\"],[0.8888888888888888,\"#fdca26\"],[1.0,\"#f0f921\"]]}],\"contourcarpet\":[{\"type\":\"contourcarpet\",\"colorbar\":{\"outlinewidth\":0,\"ticks\":\"\"}}],\"contour\":[{\"type\":\"contour\",\"colorbar\":{\"outlinewidth\":0,\"ticks\":\"\"},\"colorscale\":[[0.0,\"#0d0887\"],[0.1111111111111111,\"#46039f\"],[0.2222222222222222,\"#7201a8\"],[0.3333333333333333,\"#9c179e\"],[0.4444444444444444,\"#bd3786\"],[0.5555555555555556,\"#d8576b\"],[0.6666666666666666,\"#ed7953\"],[0.7777777777777778,\"#fb9f3a\"],[0.8888888888888888,\"#fdca26\"],[1.0,\"#f0f921\"]]}],\"surface\":[{\"type\":\"surface\",\"colorbar\":{\"outlinewidth\":0,\"ticks\":\"\"},\"colorscale\":[[0.0,\"#0d0887\"],[0.1111111111111111,\"#46039f\"],[0.2222222222222222,\"#7201a8\"],[0.3333333333333333,\"#9c179e\"],[0.4444444444444444,\"#bd3786\"],[0.5555555555555556,\"#d8576b\"],[0.6666666666666666,\"#ed7953\"],[0.7777777777777778,\"#fb9f3a\"],[0.8888888888888888,\"#fdca26\"],[1.0,\"#f0f921\"]]}],\"mesh3d\":[{\"type\":\"mesh3d\",\"colorbar\":{\"outlinewidth\":0,\"ticks\":\"\"}}],\"scatter\":[{\"fillpattern\":{\"fillmode\":\"overlay\",\"size\":10,\"solidity\":0.2},\"type\":\"scatter\"}],\"parcoords\":[{\"type\":\"parcoords\",\"line\":{\"colorbar\":{\"outlinewidth\":0,\"ticks\":\"\"}}}],\"scatterpolargl\":[{\"type\":\"scatterpolargl\",\"marker\":{\"colorbar\":{\"outlinewidth\":0,\"ticks\":\"\"}}}],\"bar\":[{\"error_x\":{\"color\":\"#2a3f5f\"},\"error_y\":{\"color\":\"#2a3f5f\"},\"marker\":{\"line\":{\"color\":\"#E5ECF6\",\"width\":0.5},\"pattern\":{\"fillmode\":\"overlay\",\"size\":10,\"solidity\":0.2}},\"type\":\"bar\"}],\"scattergeo\":[{\"type\":\"scattergeo\",\"marker\":{\"colorbar\":{\"outlinewidth\":0,\"ticks\":\"\"}}}],\"scatterpolar\":[{\"type\":\"scatterpolar\",\"marker\":{\"colorbar\":{\"outlinewidth\":0,\"ticks\":\"\"}}}],\"histogram\":[{\"marker\":{\"pattern\":{\"fillmode\":\"overlay\",\"size\":10,\"solidity\":0.2}},\"type\":\"histogram\"}],\"scattergl\":[{\"type\":\"scattergl\",\"marker\":{\"colorbar\":{\"outlinewidth\":0,\"ticks\":\"\"}}}],\"scatter3d\":[{\"type\":\"scatter3d\",\"line\":{\"colorbar\":{\"outlinewidth\":0,\"ticks\":\"\"}},\"marker\":{\"colorbar\":{\"outlinewidth\":0,\"ticks\":\"\"}}}],\"scattermapbox\":[{\"type\":\"scattermapbox\",\"marker\":{\"colorbar\":{\"outlinewidth\":0,\"ticks\":\"\"}}}],\"scatterternary\":[{\"type\":\"scatterternary\",\"marker\":{\"colorbar\":{\"outlinewidth\":0,\"ticks\":\"\"}}}],\"scattercarpet\":[{\"type\":\"scattercarpet\",\"marker\":{\"colorbar\":{\"outlinewidth\":0,\"ticks\":\"\"}}}],\"carpet\":[{\"aaxis\":{\"endlinecolor\":\"#2a3f5f\",\"gridcolor\":\"white\",\"linecolor\":\"white\",\"minorgridcolor\":\"white\",\"startlinecolor\":\"#2a3f5f\"},\"baxis\":{\"endlinecolor\":\"#2a3f5f\",\"gridcolor\":\"white\",\"linecolor\":\"white\",\"minorgridcolor\":\"white\",\"startlinecolor\":\"#2a3f5f\"},\"type\":\"carpet\"}],\"table\":[{\"cells\":{\"fill\":{\"color\":\"#EBF0F8\"},\"line\":{\"color\":\"white\"}},\"header\":{\"fill\":{\"color\":\"#C8D4E3\"},\"line\":{\"color\":\"white\"}},\"type\":\"table\"}],\"barpolar\":[{\"marker\":{\"line\":{\"color\":\"#E5ECF6\",\"width\":0.5},\"pattern\":{\"fillmode\":\"overlay\",\"size\":10,\"solidity\":0.2}},\"type\":\"barpolar\"}],\"pie\":[{\"automargin\":true,\"type\":\"pie\"}]},\"layout\":{\"autotypenumbers\":\"strict\",\"colorway\":[\"#636efa\",\"#EF553B\",\"#00cc96\",\"#ab63fa\",\"#FFA15A\",\"#19d3f3\",\"#FF6692\",\"#B6E880\",\"#FF97FF\",\"#FECB52\"],\"font\":{\"color\":\"#2a3f5f\"},\"hovermode\":\"closest\",\"hoverlabel\":{\"align\":\"left\"},\"paper_bgcolor\":\"white\",\"plot_bgcolor\":\"#E5ECF6\",\"polar\":{\"bgcolor\":\"#E5ECF6\",\"angularaxis\":{\"gridcolor\":\"white\",\"linecolor\":\"white\",\"ticks\":\"\"},\"radialaxis\":{\"gridcolor\":\"white\",\"linecolor\":\"white\",\"ticks\":\"\"}},\"ternary\":{\"bgcolor\":\"#E5ECF6\",\"aaxis\":{\"gridcolor\":\"white\",\"linecolor\":\"white\",\"ticks\":\"\"},\"baxis\":{\"gridcolor\":\"white\",\"linecolor\":\"white\",\"ticks\":\"\"},\"caxis\":{\"gridcolor\":\"white\",\"linecolor\":\"white\",\"ticks\":\"\"}},\"coloraxis\":{\"colorbar\":{\"outlinewidth\":0,\"ticks\":\"\"}},\"colorscale\":{\"sequential\":[[0.0,\"#0d0887\"],[0.1111111111111111,\"#46039f\"],[0.2222222222222222,\"#7201a8\"],[0.3333333333333333,\"#9c179e\"],[0.4444444444444444,\"#bd3786\"],[0.5555555555555556,\"#d8576b\"],[0.6666666666666666,\"#ed7953\"],[0.7777777777777778,\"#fb9f3a\"],[0.8888888888888888,\"#fdca26\"],[1.0,\"#f0f921\"]],\"sequentialminus\":[[0.0,\"#0d0887\"],[0.1111111111111111,\"#46039f\"],[0.2222222222222222,\"#7201a8\"],[0.3333333333333333,\"#9c179e\"],[0.4444444444444444,\"#bd3786\"],[0.5555555555555556,\"#d8576b\"],[0.6666666666666666,\"#ed7953\"],[0.7777777777777778,\"#fb9f3a\"],[0.8888888888888888,\"#fdca26\"],[1.0,\"#f0f921\"]],\"diverging\":[[0,\"#8e0152\"],[0.1,\"#c51b7d\"],[0.2,\"#de77ae\"],[0.3,\"#f1b6da\"],[0.4,\"#fde0ef\"],[0.5,\"#f7f7f7\"],[0.6,\"#e6f5d0\"],[0.7,\"#b8e186\"],[0.8,\"#7fbc41\"],[0.9,\"#4d9221\"],[1,\"#276419\"]]},\"xaxis\":{\"gridcolor\":\"white\",\"linecolor\":\"white\",\"ticks\":\"\",\"title\":{\"standoff\":15},\"zerolinecolor\":\"white\",\"automargin\":true,\"zerolinewidth\":2},\"yaxis\":{\"gridcolor\":\"white\",\"linecolor\":\"white\",\"ticks\":\"\",\"title\":{\"standoff\":15},\"zerolinecolor\":\"white\",\"automargin\":true,\"zerolinewidth\":2},\"scene\":{\"xaxis\":{\"backgroundcolor\":\"#E5ECF6\",\"gridcolor\":\"white\",\"linecolor\":\"white\",\"showbackground\":true,\"ticks\":\"\",\"zerolinecolor\":\"white\",\"gridwidth\":2},\"yaxis\":{\"backgroundcolor\":\"#E5ECF6\",\"gridcolor\":\"white\",\"linecolor\":\"white\",\"showbackground\":true,\"ticks\":\"\",\"zerolinecolor\":\"white\",\"gridwidth\":2},\"zaxis\":{\"backgroundcolor\":\"#E5ECF6\",\"gridcolor\":\"white\",\"linecolor\":\"white\",\"showbackground\":true,\"ticks\":\"\",\"zerolinecolor\":\"white\",\"gridwidth\":2}},\"shapedefaults\":{\"line\":{\"color\":\"#2a3f5f\"}},\"annotationdefaults\":{\"arrowcolor\":\"#2a3f5f\",\"arrowhead\":0,\"arrowwidth\":1},\"geo\":{\"bgcolor\":\"white\",\"landcolor\":\"#E5ECF6\",\"subunitcolor\":\"white\",\"showland\":true,\"showlakes\":true,\"lakecolor\":\"white\"},\"title\":{\"x\":0.05},\"mapbox\":{\"style\":\"light\"}}},\"xaxis\":{\"anchor\":\"y\",\"domain\":[0.0,1.0],\"title\":{\"text\":\"total sulfur dioxide\"}},\"yaxis\":{\"anchor\":\"x\",\"domain\":[0.0,1.0],\"title\":{\"text\":\"count\"}},\"legend\":{\"tracegroupgap\":0},\"title\":{\"text\":\"Histogramme pour total sulfur dioxide\"},\"barmode\":\"relative\"},                        {\"responsive\": true}                    ).then(function(){\n",
              "                            \n",
              "var gd = document.getElementById('d292e3e4-932a-481b-96c5-630020ae15cb');\n",
              "var x = new MutationObserver(function (mutations, observer) {{\n",
              "        var display = window.getComputedStyle(gd).display;\n",
              "        if (!display || display === 'none') {{\n",
              "            console.log([gd, 'removed!']);\n",
              "            Plotly.purge(gd);\n",
              "            observer.disconnect();\n",
              "        }}\n",
              "}});\n",
              "\n",
              "// Listen for the removal of the full notebook cells\n",
              "var notebookContainer = gd.closest('#notebook-container');\n",
              "if (notebookContainer) {{\n",
              "    x.observe(notebookContainer, {childList: true});\n",
              "}}\n",
              "\n",
              "// Listen for the clearing of the current output cell\n",
              "var outputEl = gd.closest('.output');\n",
              "if (outputEl) {{\n",
              "    x.observe(outputEl, {childList: true});\n",
              "}}\n",
              "\n",
              "                        })                };                            </script>        </div>\n",
              "</body>\n",
              "</html>"
            ]
          },
          "metadata": {}
        },
        {
          "output_type": "display_data",
          "data": {
            "text/html": [
              "<html>\n",
              "<head><meta charset=\"utf-8\" /></head>\n",
              "<body>\n",
              "    <div>            <script src=\"https://cdnjs.cloudflare.com/ajax/libs/mathjax/2.7.5/MathJax.js?config=TeX-AMS-MML_SVG\"></script><script type=\"text/javascript\">if (window.MathJax && window.MathJax.Hub && window.MathJax.Hub.Config) {window.MathJax.Hub.Config({SVG: {font: \"STIX-Web\"}});}</script>                <script type=\"text/javascript\">window.PlotlyConfig = {MathJaxConfig: 'local'};</script>\n",
              "        <script charset=\"utf-8\" src=\"https://cdn.plot.ly/plotly-2.24.1.min.js\"></script>                <div id=\"7c40afdd-b778-4b57-95c5-22147ccee54c\" class=\"plotly-graph-div\" style=\"height:525px; width:100%;\"></div>            <script type=\"text/javascript\">                                    window.PLOTLYENV=window.PLOTLYENV || {};                                    if (document.getElementById(\"7c40afdd-b778-4b57-95c5-22147ccee54c\")) {                    Plotly.newPlot(                        \"7c40afdd-b778-4b57-95c5-22147ccee54c\",                        [{\"alignmentgroup\":\"True\",\"bingroup\":\"x\",\"hovertemplate\":\"density=%{x}\\u003cbr\\u003ecount=%{y}\\u003cextra\\u003e\\u003c\\u002fextra\\u003e\",\"legendgroup\":\"\",\"marker\":{\"color\":\"#636efa\",\"pattern\":{\"shape\":\"\"}},\"name\":\"\",\"offsetgroup\":\"\",\"orientation\":\"v\",\"showlegend\":false,\"x\":[0.9978,0.9968,0.997,0.998,0.9978,0.9978,0.9964,0.9946,0.9968,0.9959,0.9943,0.9974,0.9969,0.9969,0.9982,0.9966,0.9968,0.9968,0.9955,0.9962,0.9972,0.9964,0.9958,0.9966,0.9957,0.9986,0.9975,0.9968,0.9978,0.9976,0.9968,0.9968,0.9934,0.997,0.9971,0.9956,0.9955,0.997,0.9955,0.9971,0.9975,0.9962,0.998,0.9968,0.9966,0.9962,0.9962,0.9962,0.9962,0.9961,0.9976,0.9986,0.9966,0.9958,0.9972,0.9958,0.997,0.9959,0.9961,0.9972,0.9966,0.9978,0.9978,0.9964,0.9972,0.9966,0.9938,0.9965,0.9967,0.9972,0.9972,0.9972,0.9967,0.996,0.9967,0.9973,0.9969,0.9964,0.9964,0.9988,0.9964,0.9966,0.9978,0.9962,0.9962,0.998,0.996,0.9964,0.9964,0.9962,0.9968,0.9937,0.9959,0.9965,0.9972,0.9965,0.9916,0.9954,0.9916,0.9968,0.9944,0.9959,0.9958,0.9996,0.995,0.995,0.9973,0.9973,0.9973,0.9969,0.9968,0.9959,0.9965,0.9964,0.9982,0.9981,0.9961,0.9956,0.9956,0.9953,0.9972,0.9972,0.9961,0.9958,0.9961,0.9972,0.9969,0.9969,0.9969,0.9972,0.9972,0.9971,0.997,0.9971,0.9972,0.9968,0.9976,0.9974,0.9964,0.9964,0.9968,0.9981,0.9948,0.99695,0.99615,0.9994,0.9994,0.9966,0.99585,0.99685,0.9959,0.9974,0.9974,0.9962,0.9967,0.9957,0.9964,0.9957,0.99525,0.99815,0.99615,0.9964,0.9927,0.99625,0.998,0.99685,0.99675,0.9971,0.99925,0.99565,1.00005,1.00005,0.9983,0.99685,0.9983,0.9985,0.9972,0.9986,0.9959,0.99675,0.998,0.9968,0.9968,0.99965,0.99625,0.99565,0.99575,0.9963,0.9999,1.00025,0.9973,0.9987,0.9996,0.9965,0.9965,0.9987,0.9996,0.9976,0.9991,0.9986,0.9972,0.9991,1.00015,1.00015,0.9997,0.9967,0.9976,1.001,0.9976,0.9994,0.9964,1.0014,1.0001,0.9981,0.99855,0.9993,0.9965,0.9973,0.9994,0.9973,0.9966,0.9994,0.9994,0.996,0.99815,0.9976,0.99645,0.9989,0.99865,0.99975,1.0015,1.0015,0.9978,0.998,1.0002,0.9958,0.9963,0.9992,0.9948,0.9974,0.9997,0.9982,0.9982,1.0006,0.9986,0.9979,0.9994,0.9974,1.0018,0.9912,0.9955,1.0001,0.997,1.0,1.001,0.9973,0.9982,0.9992,0.9988,1.0022,1.0022,1.0,0.9962,0.9967,0.9967,1.0003,0.9962,0.9988,0.9974,0.998,0.9981,0.9924,1.0014,0.998,1.0004,0.9994,0.9988,0.9963,0.9994,1.0,0.9994,0.9974,0.9981,0.9996,0.9981,0.9987,0.9966,0.9986,0.9982,1.0014,0.997,0.9956,0.9996,0.9976,0.9952,0.9955,0.9978,0.9952,0.9949,0.9988,0.9978,0.9997,0.9978,0.9974,1.0004,0.9996,1.0004,0.9958,0.9986,0.9951,0.9987,1.0032,0.9934,0.9996,0.9968,0.9967,0.9994,0.9994,0.9968,0.9998,0.9952,0.9988,0.9986,0.9988,1.0008,0.9976,0.9982,0.9987,0.9982,0.9947,1.0,0.9952,0.9996,0.997,0.9995,0.9988,0.998,0.9977,0.9984,1.0026,0.9964,0.9986,0.9976,0.9982,0.9984,0.9952,0.995,1.0002,0.9952,0.9972,0.9984,0.9966,0.9972,1.0002,0.9984,0.999,0.999,0.9976,0.9968,0.9976,1.0,0.9986,0.9994,0.998,0.9973,0.9973,1.001,1.001,0.9994,0.9982,0.9978,0.9976,0.9962,0.9974,0.999,1.0004,1.0004,0.9956,1.0,0.999,0.9974,0.9972,1.0014,0.9996,0.9988,0.9988,0.9966,0.9993,1.0008,0.9982,0.9983,0.9987,0.9994,0.9958,0.998,0.998,0.9934,1.00315,1.0002,1.00315,1.0021,0.9994,0.9982,0.9971,1.0021,0.9994,0.9991,0.999,0.9946,1.0003,0.9978,0.9978,0.9982,0.9982,0.9976,1.0002,1.0002,0.9976,0.9967,0.9917,0.9987,0.9922,0.9987,1.0004,0.9998,0.9994,0.9967,0.9975,0.9984,0.9982,1.0026,0.9956,0.9983,1.0006,0.9965,0.9997,0.9982,0.9988,0.9976,0.9976,0.9974,0.9997,0.9988,0.9988,0.9976,0.9964,0.9976,0.9988,0.9964,1.001,0.9964,0.9954,0.9979,0.9978,0.997,0.9991,0.9991,0.9991,0.9967,0.9964,0.9948,0.9986,0.9976,0.9976,0.9979,1.0004,0.9986,0.998,0.9973,0.9973,0.9978,0.9972,0.9981,0.998,0.9988,0.9988,0.9968,0.9968,0.9984,0.9979,0.9983,0.9972,0.9962,0.998,0.997,0.998,0.997,0.9962,0.9976,0.9998,0.9979,0.9984,0.9984,0.9921,0.9972,1.0001,0.9986,0.9984,0.9972,0.997,0.9972,0.998,0.999,0.9956,0.9966,0.996,0.9985,0.9998,0.998,0.9968,0.9976,0.9976,0.9976,0.9982,0.9965,0.9976,0.9994,0.997,0.997,0.995,0.9982,0.9994,0.9966,0.998,0.9987,0.9963,1.0002,0.999,0.9965,0.99788,1.0001,0.99768,0.9978,0.99761,0.99768,0.99803,0.99785,0.99803,0.99656,0.99525,0.99488,0.99656,0.99656,0.99823,0.99779,0.99738,0.99701,0.99888,0.99888,0.99738,0.99744,0.99668,0.99744,0.9978,0.99782,0.9973,0.99586,0.9961,0.99788,0.99745,0.99676,0.99732,0.99746,0.9982,0.9991,0.9991,0.998,0.99708,0.99818,0.99745,0.99639,0.99531,0.99786,0.99746,0.99526,0.9987,0.99735,0.99264,0.9971,0.99682,0.99386,0.99702,0.99693,0.99562,1.00012,0.99462,0.99939,0.99976,0.99606,0.99154,0.9973,0.99682,0.9951,0.99624,0.99632,0.99376,0.99836,0.99064,0.99064,0.99672,0.99629,0.99708,0.9963,0.99689,0.9977,0.99689,0.99708,0.99708,0.99652,0.99652,0.99652,0.99594,0.99686,0.99746,0.99628,0.99746,0.99748,0.99522,0.99576,0.99614,0.99371,0.99533,0.99536,0.99787,0.99824,0.99836,0.99491,1.00289,0.99743,0.99774,0.99743,0.99745,0.9955,0.99444,0.9955,0.99444,0.99562,0.99736,0.99736,0.9962,0.9964,0.9948,0.99528,0.99577,0.99901,0.99674,0.99512,0.99395,0.99824,0.9964,0.99504,0.99786,0.99504,0.99516,0.99604,0.99786,0.99736,0.99516,0.99468,0.99748,0.9971,0.99746,0.99543,0.99425,0.99484,0.99834,0.99498,0.99745,0.99408,0.99552,0.99552,0.99408,0.99536,0.99458,0.99648,0.99568,0.99519,0.99518,0.99592,0.99654,0.99518,0.99733,0.9943,0.99724,0.99658,0.997,0.99801,0.99416,0.99774,0.99712,0.99418,0.99774,0.99562,0.99693,0.99596,0.99556,0.99596,0.99694,0.99694,0.99697,0.99554,0.99162,0.99495,0.99603,0.9928,0.99516,0.99516,0.99549,0.99354,0.9957,0.99604,0.99635,0.99454,0.99486,0.99007,0.99636,0.99642,0.99642,0.99584,0.99506,0.99568,0.99822,0.99364,0.99378,0.99568,0.99854,0.99739,0.99683,0.99356,0.9953,0.99692,0.99547,0.99294,0.99438,0.99612,0.99634,0.99702,0.99704,0.99702,0.99258,0.99426,0.99747,0.99586,0.99784,0.9971,0.99586,0.9981,0.99462,0.9956,0.99565,0.99418,0.9963,0.99358,0.99572,0.997,0.99498,0.99892,0.9972,0.99534,0.99817,0.99316,0.99316,0.99685,0.99617,0.99529,0.99738,0.994,0.99735,0.99735,0.99451,0.99546,0.99479,0.99615,0.99655,0.99655,0.99666,0.99392,0.99388,0.99388,0.9936,0.99374,0.99523,0.99855,0.9982,0.99593,0.99471,0.99396,0.9902,0.99572,0.99572,0.99572,0.99252,0.99256,0.99235,0.9922,0.99394,0.99379,0.9984,0.9977,0.9933,0.99684,0.99524,0.9946,0.99774,0.99786,0.99764,0.9969,0.99624,0.99354,0.99672,0.99588,0.99672,0.996,0.99702,0.99526,0.99585,0.99352,0.99616,0.99622,0.99616,0.99524,0.9924,0.99434,0.99692,0.99528,0.99384,0.99502,0.99667,0.99649,0.99716,0.99716,0.99541,0.99572,0.99346,0.99599,0.99478,0.99572,0.99538,0.99538,0.99616,0.99652,0.99551,0.99439,0.99588,0.99633,0.99458,0.9951,0.99686,0.99458,0.99419,0.99516,0.99878,0.99534,0.99534,0.99752,0.99534,0.99428,0.99498,0.99498,0.99628,0.99677,0.99478,0.99734,0.99734,0.9992,0.99922,0.99592,0.99769,0.99157,0.99718,0.9947,0.99621,0.99718,0.99242,0.99659,0.99242,0.99798,0.99488,0.99494,0.9983,0.99655,0.99502,0.99514,0.9963,0.99627,0.99569,0.99628,0.99499,0.99633,0.99538,0.99632,0.99437,0.99726,0.99456,0.99564,0.99564,0.996,0.99668,0.99084,0.9935,0.99385,0.99494,0.9944,0.99688,0.99566,0.99636,0.99688,0.9948,0.9956,0.9956,0.99619,0.99734,0.99476,0.99734,0.99914,0.99914,0.99521,0.99638,0.99362,0.99558,0.99323,0.99191,0.99476,0.99444,0.99598,0.99576,0.9955,0.99612,0.9979,0.996,0.9929,0.99532,0.99616,0.99258,0.99652,0.99258,0.99392,0.9948,0.9948,0.9948,0.9948,0.9955,0.99616,0.99616,0.99668,0.99581,0.9976,0.99608,0.99387,0.99448,0.99448,0.99448,0.99538,0.99538,0.99538,0.99538,0.99852,0.99613,0.99472,0.99587,0.99332,0.9969,0.99464,0.99464,0.99648,0.99736,0.99704,0.99724,0.99704,0.995,0.99576,0.99725,0.99656,0.99623,0.99476,0.99623,0.9946,0.99609,0.99557,0.99557,0.99613,0.99613,0.99593,0.99668,0.9961,0.99718,0.99292,0.99612,0.9942,0.99612,0.99745,0.99745,0.99584,0.9956,0.9962,0.9963,0.996,0.9985,0.9974,0.995,0.995,0.995,0.9936,0.9963,0.9974,0.9963,0.9994,0.9966,0.9994,0.9952,0.995,0.9956,0.995,0.9965,0.9956,0.9968,0.9957,0.9962,0.996,0.9956,0.9958,0.9955,1.00369,0.99914,0.99577,0.996,0.99566,0.99322,0.99713,0.99701,0.99472,0.9947,0.99732,0.99374,0.99974,0.99467,0.99706,0.99603,0.99458,0.99724,0.99664,0.99522,0.9958,0.99728,0.99648,0.99728,0.99705,0.99578,0.99334,0.99656,0.99336,1.00242,0.99182,1.00242,0.99182,0.99808,0.99828,0.99498,0.99828,0.99542,0.99606,0.99546,0.99496,0.9942,0.99344,0.99348,0.99636,0.99459,0.99492,0.99508,0.99508,0.99642,0.99555,0.99605,0.996,0.99562,0.99605,0.99814,0.9941,0.99661,0.99712,0.99842,0.99842,0.99489,0.99647,0.99665,0.99633,0.9953,0.99552,0.99553,0.99714,0.99608,0.99444,0.99631,0.99573,0.99717,0.99397,0.9959,0.99538,0.99646,0.9955,0.99531,0.99575,0.99783,0.99419,0.99768,0.99586,0.99765,0.99514,0.99636,0.99627,0.99787,0.99622,0.99622,0.99622,0.99546,0.99546,0.99489,0.99494,0.99546,0.99629,0.99396,0.9934,0.99514,0.99632,0.99467,0.99474,0.99588,0.99622,0.9954,0.9947,0.99362,0.99578,0.99484,0.99492,0.99483,0.99314,0.99402,0.99574,0.99651,0.9949,0.99512,0.99547],\"xaxis\":\"x\",\"yaxis\":\"y\",\"type\":\"histogram\"}],                        {\"template\":{\"data\":{\"histogram2dcontour\":[{\"type\":\"histogram2dcontour\",\"colorbar\":{\"outlinewidth\":0,\"ticks\":\"\"},\"colorscale\":[[0.0,\"#0d0887\"],[0.1111111111111111,\"#46039f\"],[0.2222222222222222,\"#7201a8\"],[0.3333333333333333,\"#9c179e\"],[0.4444444444444444,\"#bd3786\"],[0.5555555555555556,\"#d8576b\"],[0.6666666666666666,\"#ed7953\"],[0.7777777777777778,\"#fb9f3a\"],[0.8888888888888888,\"#fdca26\"],[1.0,\"#f0f921\"]]}],\"choropleth\":[{\"type\":\"choropleth\",\"colorbar\":{\"outlinewidth\":0,\"ticks\":\"\"}}],\"histogram2d\":[{\"type\":\"histogram2d\",\"colorbar\":{\"outlinewidth\":0,\"ticks\":\"\"},\"colorscale\":[[0.0,\"#0d0887\"],[0.1111111111111111,\"#46039f\"],[0.2222222222222222,\"#7201a8\"],[0.3333333333333333,\"#9c179e\"],[0.4444444444444444,\"#bd3786\"],[0.5555555555555556,\"#d8576b\"],[0.6666666666666666,\"#ed7953\"],[0.7777777777777778,\"#fb9f3a\"],[0.8888888888888888,\"#fdca26\"],[1.0,\"#f0f921\"]]}],\"heatmap\":[{\"type\":\"heatmap\",\"colorbar\":{\"outlinewidth\":0,\"ticks\":\"\"},\"colorscale\":[[0.0,\"#0d0887\"],[0.1111111111111111,\"#46039f\"],[0.2222222222222222,\"#7201a8\"],[0.3333333333333333,\"#9c179e\"],[0.4444444444444444,\"#bd3786\"],[0.5555555555555556,\"#d8576b\"],[0.6666666666666666,\"#ed7953\"],[0.7777777777777778,\"#fb9f3a\"],[0.8888888888888888,\"#fdca26\"],[1.0,\"#f0f921\"]]}],\"heatmapgl\":[{\"type\":\"heatmapgl\",\"colorbar\":{\"outlinewidth\":0,\"ticks\":\"\"},\"colorscale\":[[0.0,\"#0d0887\"],[0.1111111111111111,\"#46039f\"],[0.2222222222222222,\"#7201a8\"],[0.3333333333333333,\"#9c179e\"],[0.4444444444444444,\"#bd3786\"],[0.5555555555555556,\"#d8576b\"],[0.6666666666666666,\"#ed7953\"],[0.7777777777777778,\"#fb9f3a\"],[0.8888888888888888,\"#fdca26\"],[1.0,\"#f0f921\"]]}],\"contourcarpet\":[{\"type\":\"contourcarpet\",\"colorbar\":{\"outlinewidth\":0,\"ticks\":\"\"}}],\"contour\":[{\"type\":\"contour\",\"colorbar\":{\"outlinewidth\":0,\"ticks\":\"\"},\"colorscale\":[[0.0,\"#0d0887\"],[0.1111111111111111,\"#46039f\"],[0.2222222222222222,\"#7201a8\"],[0.3333333333333333,\"#9c179e\"],[0.4444444444444444,\"#bd3786\"],[0.5555555555555556,\"#d8576b\"],[0.6666666666666666,\"#ed7953\"],[0.7777777777777778,\"#fb9f3a\"],[0.8888888888888888,\"#fdca26\"],[1.0,\"#f0f921\"]]}],\"surface\":[{\"type\":\"surface\",\"colorbar\":{\"outlinewidth\":0,\"ticks\":\"\"},\"colorscale\":[[0.0,\"#0d0887\"],[0.1111111111111111,\"#46039f\"],[0.2222222222222222,\"#7201a8\"],[0.3333333333333333,\"#9c179e\"],[0.4444444444444444,\"#bd3786\"],[0.5555555555555556,\"#d8576b\"],[0.6666666666666666,\"#ed7953\"],[0.7777777777777778,\"#fb9f3a\"],[0.8888888888888888,\"#fdca26\"],[1.0,\"#f0f921\"]]}],\"mesh3d\":[{\"type\":\"mesh3d\",\"colorbar\":{\"outlinewidth\":0,\"ticks\":\"\"}}],\"scatter\":[{\"fillpattern\":{\"fillmode\":\"overlay\",\"size\":10,\"solidity\":0.2},\"type\":\"scatter\"}],\"parcoords\":[{\"type\":\"parcoords\",\"line\":{\"colorbar\":{\"outlinewidth\":0,\"ticks\":\"\"}}}],\"scatterpolargl\":[{\"type\":\"scatterpolargl\",\"marker\":{\"colorbar\":{\"outlinewidth\":0,\"ticks\":\"\"}}}],\"bar\":[{\"error_x\":{\"color\":\"#2a3f5f\"},\"error_y\":{\"color\":\"#2a3f5f\"},\"marker\":{\"line\":{\"color\":\"#E5ECF6\",\"width\":0.5},\"pattern\":{\"fillmode\":\"overlay\",\"size\":10,\"solidity\":0.2}},\"type\":\"bar\"}],\"scattergeo\":[{\"type\":\"scattergeo\",\"marker\":{\"colorbar\":{\"outlinewidth\":0,\"ticks\":\"\"}}}],\"scatterpolar\":[{\"type\":\"scatterpolar\",\"marker\":{\"colorbar\":{\"outlinewidth\":0,\"ticks\":\"\"}}}],\"histogram\":[{\"marker\":{\"pattern\":{\"fillmode\":\"overlay\",\"size\":10,\"solidity\":0.2}},\"type\":\"histogram\"}],\"scattergl\":[{\"type\":\"scattergl\",\"marker\":{\"colorbar\":{\"outlinewidth\":0,\"ticks\":\"\"}}}],\"scatter3d\":[{\"type\":\"scatter3d\",\"line\":{\"colorbar\":{\"outlinewidth\":0,\"ticks\":\"\"}},\"marker\":{\"colorbar\":{\"outlinewidth\":0,\"ticks\":\"\"}}}],\"scattermapbox\":[{\"type\":\"scattermapbox\",\"marker\":{\"colorbar\":{\"outlinewidth\":0,\"ticks\":\"\"}}}],\"scatterternary\":[{\"type\":\"scatterternary\",\"marker\":{\"colorbar\":{\"outlinewidth\":0,\"ticks\":\"\"}}}],\"scattercarpet\":[{\"type\":\"scattercarpet\",\"marker\":{\"colorbar\":{\"outlinewidth\":0,\"ticks\":\"\"}}}],\"carpet\":[{\"aaxis\":{\"endlinecolor\":\"#2a3f5f\",\"gridcolor\":\"white\",\"linecolor\":\"white\",\"minorgridcolor\":\"white\",\"startlinecolor\":\"#2a3f5f\"},\"baxis\":{\"endlinecolor\":\"#2a3f5f\",\"gridcolor\":\"white\",\"linecolor\":\"white\",\"minorgridcolor\":\"white\",\"startlinecolor\":\"#2a3f5f\"},\"type\":\"carpet\"}],\"table\":[{\"cells\":{\"fill\":{\"color\":\"#EBF0F8\"},\"line\":{\"color\":\"white\"}},\"header\":{\"fill\":{\"color\":\"#C8D4E3\"},\"line\":{\"color\":\"white\"}},\"type\":\"table\"}],\"barpolar\":[{\"marker\":{\"line\":{\"color\":\"#E5ECF6\",\"width\":0.5},\"pattern\":{\"fillmode\":\"overlay\",\"size\":10,\"solidity\":0.2}},\"type\":\"barpolar\"}],\"pie\":[{\"automargin\":true,\"type\":\"pie\"}]},\"layout\":{\"autotypenumbers\":\"strict\",\"colorway\":[\"#636efa\",\"#EF553B\",\"#00cc96\",\"#ab63fa\",\"#FFA15A\",\"#19d3f3\",\"#FF6692\",\"#B6E880\",\"#FF97FF\",\"#FECB52\"],\"font\":{\"color\":\"#2a3f5f\"},\"hovermode\":\"closest\",\"hoverlabel\":{\"align\":\"left\"},\"paper_bgcolor\":\"white\",\"plot_bgcolor\":\"#E5ECF6\",\"polar\":{\"bgcolor\":\"#E5ECF6\",\"angularaxis\":{\"gridcolor\":\"white\",\"linecolor\":\"white\",\"ticks\":\"\"},\"radialaxis\":{\"gridcolor\":\"white\",\"linecolor\":\"white\",\"ticks\":\"\"}},\"ternary\":{\"bgcolor\":\"#E5ECF6\",\"aaxis\":{\"gridcolor\":\"white\",\"linecolor\":\"white\",\"ticks\":\"\"},\"baxis\":{\"gridcolor\":\"white\",\"linecolor\":\"white\",\"ticks\":\"\"},\"caxis\":{\"gridcolor\":\"white\",\"linecolor\":\"white\",\"ticks\":\"\"}},\"coloraxis\":{\"colorbar\":{\"outlinewidth\":0,\"ticks\":\"\"}},\"colorscale\":{\"sequential\":[[0.0,\"#0d0887\"],[0.1111111111111111,\"#46039f\"],[0.2222222222222222,\"#7201a8\"],[0.3333333333333333,\"#9c179e\"],[0.4444444444444444,\"#bd3786\"],[0.5555555555555556,\"#d8576b\"],[0.6666666666666666,\"#ed7953\"],[0.7777777777777778,\"#fb9f3a\"],[0.8888888888888888,\"#fdca26\"],[1.0,\"#f0f921\"]],\"sequentialminus\":[[0.0,\"#0d0887\"],[0.1111111111111111,\"#46039f\"],[0.2222222222222222,\"#7201a8\"],[0.3333333333333333,\"#9c179e\"],[0.4444444444444444,\"#bd3786\"],[0.5555555555555556,\"#d8576b\"],[0.6666666666666666,\"#ed7953\"],[0.7777777777777778,\"#fb9f3a\"],[0.8888888888888888,\"#fdca26\"],[1.0,\"#f0f921\"]],\"diverging\":[[0,\"#8e0152\"],[0.1,\"#c51b7d\"],[0.2,\"#de77ae\"],[0.3,\"#f1b6da\"],[0.4,\"#fde0ef\"],[0.5,\"#f7f7f7\"],[0.6,\"#e6f5d0\"],[0.7,\"#b8e186\"],[0.8,\"#7fbc41\"],[0.9,\"#4d9221\"],[1,\"#276419\"]]},\"xaxis\":{\"gridcolor\":\"white\",\"linecolor\":\"white\",\"ticks\":\"\",\"title\":{\"standoff\":15},\"zerolinecolor\":\"white\",\"automargin\":true,\"zerolinewidth\":2},\"yaxis\":{\"gridcolor\":\"white\",\"linecolor\":\"white\",\"ticks\":\"\",\"title\":{\"standoff\":15},\"zerolinecolor\":\"white\",\"automargin\":true,\"zerolinewidth\":2},\"scene\":{\"xaxis\":{\"backgroundcolor\":\"#E5ECF6\",\"gridcolor\":\"white\",\"linecolor\":\"white\",\"showbackground\":true,\"ticks\":\"\",\"zerolinecolor\":\"white\",\"gridwidth\":2},\"yaxis\":{\"backgroundcolor\":\"#E5ECF6\",\"gridcolor\":\"white\",\"linecolor\":\"white\",\"showbackground\":true,\"ticks\":\"\",\"zerolinecolor\":\"white\",\"gridwidth\":2},\"zaxis\":{\"backgroundcolor\":\"#E5ECF6\",\"gridcolor\":\"white\",\"linecolor\":\"white\",\"showbackground\":true,\"ticks\":\"\",\"zerolinecolor\":\"white\",\"gridwidth\":2}},\"shapedefaults\":{\"line\":{\"color\":\"#2a3f5f\"}},\"annotationdefaults\":{\"arrowcolor\":\"#2a3f5f\",\"arrowhead\":0,\"arrowwidth\":1},\"geo\":{\"bgcolor\":\"white\",\"landcolor\":\"#E5ECF6\",\"subunitcolor\":\"white\",\"showland\":true,\"showlakes\":true,\"lakecolor\":\"white\"},\"title\":{\"x\":0.05},\"mapbox\":{\"style\":\"light\"}}},\"xaxis\":{\"anchor\":\"y\",\"domain\":[0.0,1.0],\"title\":{\"text\":\"density\"}},\"yaxis\":{\"anchor\":\"x\",\"domain\":[0.0,1.0],\"title\":{\"text\":\"count\"}},\"legend\":{\"tracegroupgap\":0},\"title\":{\"text\":\"Histogramme pour density\"},\"barmode\":\"relative\"},                        {\"responsive\": true}                    ).then(function(){\n",
              "                            \n",
              "var gd = document.getElementById('7c40afdd-b778-4b57-95c5-22147ccee54c');\n",
              "var x = new MutationObserver(function (mutations, observer) {{\n",
              "        var display = window.getComputedStyle(gd).display;\n",
              "        if (!display || display === 'none') {{\n",
              "            console.log([gd, 'removed!']);\n",
              "            Plotly.purge(gd);\n",
              "            observer.disconnect();\n",
              "        }}\n",
              "}});\n",
              "\n",
              "// Listen for the removal of the full notebook cells\n",
              "var notebookContainer = gd.closest('#notebook-container');\n",
              "if (notebookContainer) {{\n",
              "    x.observe(notebookContainer, {childList: true});\n",
              "}}\n",
              "\n",
              "// Listen for the clearing of the current output cell\n",
              "var outputEl = gd.closest('.output');\n",
              "if (outputEl) {{\n",
              "    x.observe(outputEl, {childList: true});\n",
              "}}\n",
              "\n",
              "                        })                };                            </script>        </div>\n",
              "</body>\n",
              "</html>"
            ]
          },
          "metadata": {}
        },
        {
          "output_type": "display_data",
          "data": {
            "text/html": [
              "<html>\n",
              "<head><meta charset=\"utf-8\" /></head>\n",
              "<body>\n",
              "    <div>            <script src=\"https://cdnjs.cloudflare.com/ajax/libs/mathjax/2.7.5/MathJax.js?config=TeX-AMS-MML_SVG\"></script><script type=\"text/javascript\">if (window.MathJax && window.MathJax.Hub && window.MathJax.Hub.Config) {window.MathJax.Hub.Config({SVG: {font: \"STIX-Web\"}});}</script>                <script type=\"text/javascript\">window.PlotlyConfig = {MathJaxConfig: 'local'};</script>\n",
              "        <script charset=\"utf-8\" src=\"https://cdn.plot.ly/plotly-2.24.1.min.js\"></script>                <div id=\"d84403d2-8060-4e89-87df-ee0e8becf410\" class=\"plotly-graph-div\" style=\"height:525px; width:100%;\"></div>            <script type=\"text/javascript\">                                    window.PLOTLYENV=window.PLOTLYENV || {};                                    if (document.getElementById(\"d84403d2-8060-4e89-87df-ee0e8becf410\")) {                    Plotly.newPlot(                        \"d84403d2-8060-4e89-87df-ee0e8becf410\",                        [{\"alignmentgroup\":\"True\",\"bingroup\":\"x\",\"hovertemplate\":\"pH=%{x}\\u003cbr\\u003ecount=%{y}\\u003cextra\\u003e\\u003c\\u002fextra\\u003e\",\"legendgroup\":\"\",\"marker\":{\"color\":\"#636efa\",\"pattern\":{\"shape\":\"\"}},\"name\":\"\",\"offsetgroup\":\"\",\"orientation\":\"v\",\"showlegend\":false,\"x\":[3.51,3.2,3.26,3.16,3.51,3.51,3.3,3.39,3.36,3.28,3.58,3.26,3.3,3.04,3.52,3.17,3.17,3.43,3.34,3.28,3.47,3.38,3.35,3.17,3.38,3.4,3.42,3.23,3.33,3.26,3.21,3.3,3.9,3.25,3.15,3.4,3.39,3.2,3.17,3.04,3.43,3.41,3.44,3.21,3.39,3.41,3.41,3.44,3.34,3.31,3.31,3.54,3.52,3.38,3.16,3.41,3.36,3.44,3.41,2.93,3.39,3.14,3.48,3.23,2.93,3.39,3.75,3.45,3.39,3.3,3.4,3.3,3.29,3.33,3.29,3.08,3.46,3.19,3.15,3.32,3.19,3.07,3.39,3.3,3.21,3.49,3.39,3.53,3.54,3.42,3.24,3.63,3.22,3.19,3.48,3.19,3.68,3.34,3.68,3.17,3.54,3.42,3.33,2.74,3.35,3.35,3.42,3.42,3.42,3.48,3.59,3.2,3.17,3.33,3.37,3.37,3.19,3.34,3.37,3.47,3.36,3.29,3.42,3.35,3.33,3.58,3.48,3.19,3.19,3.12,3.44,3.54,3.52,3.26,3.34,3.2,3.23,3.57,3.28,3.28,3.46,3.11,3.51,3.22,3.34,3.2,3.2,3.22,3.3,3.35,3.3,3.24,3.34,3.14,3.36,3.39,3.34,3.15,3.42,3.28,3.37,3.04,3.54,3.37,3.34,3.32,3.37,3.0,3.14,3.08,3.07,3.07,3.61,3.38,3.61,3.22,3.47,3.17,3.23,3.26,3.22,3.49,3.06,3.36,3.29,3.35,3.34,3.28,3.08,3.6,3.35,3.69,3.28,3.36,3.36,3.69,3.28,3.23,3.38,3.12,3.25,3.38,3.31,3.31,3.1,3.37,3.34,3.2,3.34,3.22,3.41,3.05,3.05,3.16,3.67,3.67,3.38,3.22,3.51,3.2,3.36,3.19,3.19,3.27,3.32,3.3,3.39,3.37,3.3,3.24,3.16,3.16,3.05,3.28,3.16,3.13,3.34,3.17,3.35,3.31,3.11,3.3,3.3,3.12,3.02,3.11,3.35,3.27,3.18,3.25,3.55,3.26,3.24,3.15,3.17,3.19,3.37,3.05,2.99,3.07,3.07,3.16,3.2,3.32,3.32,3.26,3.2,3.11,3.21,3.42,3.43,3.56,3.06,3.18,3.22,3.47,3.18,3.1,3.47,3.1,3.15,3.26,3.24,3.18,3.05,3.38,3.27,3.27,3.26,3.32,3.26,3.44,3.24,3.62,3.52,3.36,3.15,3.52,3.49,3.26,3.24,3.1,3.15,3.25,3.16,3.15,3.16,3.26,3.17,3.08,2.88,2.95,3.57,3.1,3.22,3.2,3.1,3.1,3.44,3.26,3.5,3.22,3.37,3.28,3.25,3.35,3.26,2.98,3.16,3.32,3.17,3.2,3.05,3.2,3.15,3.14,3.28,3.18,3.19,3.12,3.15,3.04,3.17,3.17,3.34,3.34,3.32,3.48,3.44,3.15,3.43,3.32,3.15,3.48,3.43,3.17,3.17,3.21,3.16,3.25,3.17,3.04,3.18,3.03,3.09,3.09,3.31,3.25,3.16,3.42,3.22,3.23,3.39,3.09,3.41,3.16,3.16,3.22,3.28,3.41,3.09,3.37,3.2,3.22,3.26,3.21,3.12,3.06,2.86,3.08,3.45,3.26,3.12,3.33,3.19,3.12,3.74,2.92,3.07,2.92,3.3,3.14,3.08,3.31,3.3,3.14,3.32,3.31,3.57,3.32,3.14,3.34,3.3,3.29,3.14,3.19,3.19,2.98,3.26,3.72,3.35,3.12,3.35,3.29,3.27,3.04,3.2,3.3,3.17,3.31,3.32,3.56,3.39,2.98,3.32,3.5,3.03,3.09,3.27,3.28,3.13,3.46,3.36,3.36,3.27,3.21,3.27,3.25,3.32,3.43,3.27,3.27,3.24,3.24,3.18,3.39,3.39,3.39,3.32,3.33,3.16,2.89,2.98,3.12,3.08,3.14,2.89,2.92,3.32,3.32,3.31,3.36,3.14,3.18,2.94,2.94,3.2,3.2,3.08,3.4,3.48,3.13,3.21,3.33,3.37,3.25,3.37,3.4,3.3,3.48,3.03,3.32,3.31,3.9,3.47,3.31,3.11,3.08,3.47,3.47,3.32,3.29,3.37,3.4,3.37,3.34,3.06,3.38,3.28,3.21,3.22,3.46,3.22,3.1,2.94,3.29,3.43,3.46,3.46,3.61,3.17,3.44,3.39,3.55,3.48,3.26,3.5,3.35,3.45,3.21,3.13,3.52,3.3,3.52,3.52,3.29,3.39,3.29,3.09,3.51,3.6,3.25,3.25,3.19,3.23,3.25,3.31,3.31,3.31,3.14,3.55,3.39,3.55,3.28,3.27,3.3,3.43,3.4,3.36,3.5,3.31,3.66,3.55,3.21,3.18,3.18,3.09,3.33,3.23,3.48,3.38,3.17,2.99,3.1,3.24,3.29,3.23,3.56,3.24,3.26,3.27,3.26,3.22,3.3,3.09,3.44,3.21,3.28,3.34,3.71,3.61,3.24,3.4,3.36,3.38,3.56,3.38,3.26,3.26,3.24,3.45,3.23,3.28,3.59,3.5,3.59,3.28,3.28,3.47,3.47,3.47,3.4,3.15,3.51,3.24,3.51,3.51,3.53,3.43,3.31,3.41,3.48,3.22,3.22,3.34,3.33,3.43,3.22,3.53,3.22,3.53,3.53,3.42,3.31,3.42,3.31,3.4,3.58,3.58,3.41,3.39,3.59,3.43,3.23,3.18,3.33,3.27,3.62,3.38,3.3,3.38,3.24,3.38,3.18,3.47,3.47,3.2,3.18,3.3,3.48,3.45,3.69,3.39,3.61,3.19,3.22,3.27,3.29,3.26,3.41,3.41,3.26,3.31,3.2,3.36,3.31,3.47,3.16,3.27,3.38,3.16,3.13,3.2,3.33,3.3,3.44,3.15,3.28,3.32,3.25,3.34,3.32,3.45,3.44,3.16,3.14,3.16,3.45,3.45,3.39,3.12,3.47,3.44,3.25,3.36,3.26,3.26,3.23,3.25,3.17,3.23,3.38,3.22,3.27,2.89,3.53,3.2,3.2,3.35,3.27,3.32,3.33,3.41,3.49,3.32,3.36,3.2,3.17,3.22,3.24,3.33,3.38,3.36,3.32,3.31,3.49,3.27,3.27,3.03,3.56,3.38,3.13,3.21,3.15,3.19,3.21,3.14,3.21,3.3,3.22,3.28,3.29,3.4,3.02,3.31,3.18,3.2,3.31,3.15,3.27,3.01,3.01,3.42,3.33,3.12,3.38,3.29,3.02,3.02,2.98,3.35,3.43,3.33,3.35,3.35,3.2,3.11,3.35,3.35,3.28,3.41,3.27,3.36,3.17,3.25,3.78,3.29,3.49,3.38,3.38,3.38,3.3,3.52,3.2,3.45,3.14,3.51,3.22,3.18,3.38,3.37,3.3,3.38,3.22,3.14,3.34,3.41,3.27,3.3,3.61,3.43,3.53,3.28,3.21,3.39,3.23,3.46,3.15,3.23,3.15,3.33,3.46,3.14,3.29,3.32,3.21,3.32,3.2,3.27,3.46,3.46,3.61,3.58,3.68,3.27,3.19,3.29,3.36,3.36,3.3,3.28,3.56,3.52,3.22,3.52,3.16,3.15,3.21,3.16,3.27,3.35,3.14,3.4,3.4,3.35,3.4,3.45,3.35,3.35,3.1,3.29,3.2,3.28,3.28,3.07,3.15,3.02,3.27,3.68,3.4,3.37,3.38,3.4,3.39,3.26,3.39,3.38,3.45,3.1,3.37,3.49,3.12,3.4,3.28,3.45,3.43,3.4,3.1,3.32,3.44,3.02,3.59,3.15,3.38,3.38,3.38,3.1,3.47,3.7,3.38,3.5,3.1,3.24,3.24,3.28,3.35,3.24,3.14,3.37,3.37,3.33,3.26,3.39,3.15,3.3,3.3,3.36,3.29,3.62,3.2,3.35,3.45,3.5,3.78,3.6,3.3,3.12,3.3,3.29,3.28,3.33,3.34,3.26,4.01,2.9,4.01,3.18,3.39,3.39,3.39,3.39,3.34,3.29,3.29,3.26,3.09,3.18,3.39,3.38,3.36,3.36,3.36,3.36,3.36,3.36,3.36,3.09,3.25,3.52,3.34,3.32,3.37,3.36,3.36,3.6,3.28,3.07,3.36,3.07,3.46,3.24,3.25,3.27,3.0,3.21,3.0,3.11,3.29,3.36,3.36,3.3,3.3,3.19,3.19,3.3,3.35,3.58,3.37,3.17,3.3,3.31,3.31,3.28,3.42,3.25,3.44,3.23,3.43,3.22,3.54,3.27,3.54,3.5,3.56,3.22,3.04,3.2,3.56,3.2,3.35,3.16,3.27,3.16,3.34,3.39,3.5,3.3,3.31,3.33,3.37,3.26,3.42,3.18,3.15,3.53,3.41,3.32,3.38,3.16,3.4,3.23,3.23,3.33,3.35,3.21,3.5,3.41,3.39,3.32,3.41,3.59,3.34,3.41,3.3,3.52,3.3,3.31,2.88,3.43,3.38,3.38,3.16,3.54,3.16,3.54,3.4,3.39,3.66,3.39,3.35,3.37,3.38,3.52,3.72,3.39,3.57,3.26,3.42,3.35,3.45,3.45,3.16,3.51,3.36,3.55,3.51,3.36,3.38,3.28,3.47,3.44,3.53,3.53,3.38,3.32,3.44,3.42,3.34,3.33,3.3,3.31,3.42,3.42,3.6,3.21,3.39,3.42,3.36,3.57,3.56,3.17,3.36,3.36,3.1,3.24,3.44,3.51,3.41,3.44,3.53,3.54,3.22,3.21,3.21,3.21,3.29,3.29,3.39,3.34,3.29,3.34,3.48,3.37,3.44,3.33,3.58,3.26,3.3,3.54,3.42,3.36,3.57,3.33,3.29,3.34,3.55,3.32,3.67,3.42,3.42,3.45,3.52,3.57],\"xaxis\":\"x\",\"yaxis\":\"y\",\"type\":\"histogram\"}],                        {\"template\":{\"data\":{\"histogram2dcontour\":[{\"type\":\"histogram2dcontour\",\"colorbar\":{\"outlinewidth\":0,\"ticks\":\"\"},\"colorscale\":[[0.0,\"#0d0887\"],[0.1111111111111111,\"#46039f\"],[0.2222222222222222,\"#7201a8\"],[0.3333333333333333,\"#9c179e\"],[0.4444444444444444,\"#bd3786\"],[0.5555555555555556,\"#d8576b\"],[0.6666666666666666,\"#ed7953\"],[0.7777777777777778,\"#fb9f3a\"],[0.8888888888888888,\"#fdca26\"],[1.0,\"#f0f921\"]]}],\"choropleth\":[{\"type\":\"choropleth\",\"colorbar\":{\"outlinewidth\":0,\"ticks\":\"\"}}],\"histogram2d\":[{\"type\":\"histogram2d\",\"colorbar\":{\"outlinewidth\":0,\"ticks\":\"\"},\"colorscale\":[[0.0,\"#0d0887\"],[0.1111111111111111,\"#46039f\"],[0.2222222222222222,\"#7201a8\"],[0.3333333333333333,\"#9c179e\"],[0.4444444444444444,\"#bd3786\"],[0.5555555555555556,\"#d8576b\"],[0.6666666666666666,\"#ed7953\"],[0.7777777777777778,\"#fb9f3a\"],[0.8888888888888888,\"#fdca26\"],[1.0,\"#f0f921\"]]}],\"heatmap\":[{\"type\":\"heatmap\",\"colorbar\":{\"outlinewidth\":0,\"ticks\":\"\"},\"colorscale\":[[0.0,\"#0d0887\"],[0.1111111111111111,\"#46039f\"],[0.2222222222222222,\"#7201a8\"],[0.3333333333333333,\"#9c179e\"],[0.4444444444444444,\"#bd3786\"],[0.5555555555555556,\"#d8576b\"],[0.6666666666666666,\"#ed7953\"],[0.7777777777777778,\"#fb9f3a\"],[0.8888888888888888,\"#fdca26\"],[1.0,\"#f0f921\"]]}],\"heatmapgl\":[{\"type\":\"heatmapgl\",\"colorbar\":{\"outlinewidth\":0,\"ticks\":\"\"},\"colorscale\":[[0.0,\"#0d0887\"],[0.1111111111111111,\"#46039f\"],[0.2222222222222222,\"#7201a8\"],[0.3333333333333333,\"#9c179e\"],[0.4444444444444444,\"#bd3786\"],[0.5555555555555556,\"#d8576b\"],[0.6666666666666666,\"#ed7953\"],[0.7777777777777778,\"#fb9f3a\"],[0.8888888888888888,\"#fdca26\"],[1.0,\"#f0f921\"]]}],\"contourcarpet\":[{\"type\":\"contourcarpet\",\"colorbar\":{\"outlinewidth\":0,\"ticks\":\"\"}}],\"contour\":[{\"type\":\"contour\",\"colorbar\":{\"outlinewidth\":0,\"ticks\":\"\"},\"colorscale\":[[0.0,\"#0d0887\"],[0.1111111111111111,\"#46039f\"],[0.2222222222222222,\"#7201a8\"],[0.3333333333333333,\"#9c179e\"],[0.4444444444444444,\"#bd3786\"],[0.5555555555555556,\"#d8576b\"],[0.6666666666666666,\"#ed7953\"],[0.7777777777777778,\"#fb9f3a\"],[0.8888888888888888,\"#fdca26\"],[1.0,\"#f0f921\"]]}],\"surface\":[{\"type\":\"surface\",\"colorbar\":{\"outlinewidth\":0,\"ticks\":\"\"},\"colorscale\":[[0.0,\"#0d0887\"],[0.1111111111111111,\"#46039f\"],[0.2222222222222222,\"#7201a8\"],[0.3333333333333333,\"#9c179e\"],[0.4444444444444444,\"#bd3786\"],[0.5555555555555556,\"#d8576b\"],[0.6666666666666666,\"#ed7953\"],[0.7777777777777778,\"#fb9f3a\"],[0.8888888888888888,\"#fdca26\"],[1.0,\"#f0f921\"]]}],\"mesh3d\":[{\"type\":\"mesh3d\",\"colorbar\":{\"outlinewidth\":0,\"ticks\":\"\"}}],\"scatter\":[{\"fillpattern\":{\"fillmode\":\"overlay\",\"size\":10,\"solidity\":0.2},\"type\":\"scatter\"}],\"parcoords\":[{\"type\":\"parcoords\",\"line\":{\"colorbar\":{\"outlinewidth\":0,\"ticks\":\"\"}}}],\"scatterpolargl\":[{\"type\":\"scatterpolargl\",\"marker\":{\"colorbar\":{\"outlinewidth\":0,\"ticks\":\"\"}}}],\"bar\":[{\"error_x\":{\"color\":\"#2a3f5f\"},\"error_y\":{\"color\":\"#2a3f5f\"},\"marker\":{\"line\":{\"color\":\"#E5ECF6\",\"width\":0.5},\"pattern\":{\"fillmode\":\"overlay\",\"size\":10,\"solidity\":0.2}},\"type\":\"bar\"}],\"scattergeo\":[{\"type\":\"scattergeo\",\"marker\":{\"colorbar\":{\"outlinewidth\":0,\"ticks\":\"\"}}}],\"scatterpolar\":[{\"type\":\"scatterpolar\",\"marker\":{\"colorbar\":{\"outlinewidth\":0,\"ticks\":\"\"}}}],\"histogram\":[{\"marker\":{\"pattern\":{\"fillmode\":\"overlay\",\"size\":10,\"solidity\":0.2}},\"type\":\"histogram\"}],\"scattergl\":[{\"type\":\"scattergl\",\"marker\":{\"colorbar\":{\"outlinewidth\":0,\"ticks\":\"\"}}}],\"scatter3d\":[{\"type\":\"scatter3d\",\"line\":{\"colorbar\":{\"outlinewidth\":0,\"ticks\":\"\"}},\"marker\":{\"colorbar\":{\"outlinewidth\":0,\"ticks\":\"\"}}}],\"scattermapbox\":[{\"type\":\"scattermapbox\",\"marker\":{\"colorbar\":{\"outlinewidth\":0,\"ticks\":\"\"}}}],\"scatterternary\":[{\"type\":\"scatterternary\",\"marker\":{\"colorbar\":{\"outlinewidth\":0,\"ticks\":\"\"}}}],\"scattercarpet\":[{\"type\":\"scattercarpet\",\"marker\":{\"colorbar\":{\"outlinewidth\":0,\"ticks\":\"\"}}}],\"carpet\":[{\"aaxis\":{\"endlinecolor\":\"#2a3f5f\",\"gridcolor\":\"white\",\"linecolor\":\"white\",\"minorgridcolor\":\"white\",\"startlinecolor\":\"#2a3f5f\"},\"baxis\":{\"endlinecolor\":\"#2a3f5f\",\"gridcolor\":\"white\",\"linecolor\":\"white\",\"minorgridcolor\":\"white\",\"startlinecolor\":\"#2a3f5f\"},\"type\":\"carpet\"}],\"table\":[{\"cells\":{\"fill\":{\"color\":\"#EBF0F8\"},\"line\":{\"color\":\"white\"}},\"header\":{\"fill\":{\"color\":\"#C8D4E3\"},\"line\":{\"color\":\"white\"}},\"type\":\"table\"}],\"barpolar\":[{\"marker\":{\"line\":{\"color\":\"#E5ECF6\",\"width\":0.5},\"pattern\":{\"fillmode\":\"overlay\",\"size\":10,\"solidity\":0.2}},\"type\":\"barpolar\"}],\"pie\":[{\"automargin\":true,\"type\":\"pie\"}]},\"layout\":{\"autotypenumbers\":\"strict\",\"colorway\":[\"#636efa\",\"#EF553B\",\"#00cc96\",\"#ab63fa\",\"#FFA15A\",\"#19d3f3\",\"#FF6692\",\"#B6E880\",\"#FF97FF\",\"#FECB52\"],\"font\":{\"color\":\"#2a3f5f\"},\"hovermode\":\"closest\",\"hoverlabel\":{\"align\":\"left\"},\"paper_bgcolor\":\"white\",\"plot_bgcolor\":\"#E5ECF6\",\"polar\":{\"bgcolor\":\"#E5ECF6\",\"angularaxis\":{\"gridcolor\":\"white\",\"linecolor\":\"white\",\"ticks\":\"\"},\"radialaxis\":{\"gridcolor\":\"white\",\"linecolor\":\"white\",\"ticks\":\"\"}},\"ternary\":{\"bgcolor\":\"#E5ECF6\",\"aaxis\":{\"gridcolor\":\"white\",\"linecolor\":\"white\",\"ticks\":\"\"},\"baxis\":{\"gridcolor\":\"white\",\"linecolor\":\"white\",\"ticks\":\"\"},\"caxis\":{\"gridcolor\":\"white\",\"linecolor\":\"white\",\"ticks\":\"\"}},\"coloraxis\":{\"colorbar\":{\"outlinewidth\":0,\"ticks\":\"\"}},\"colorscale\":{\"sequential\":[[0.0,\"#0d0887\"],[0.1111111111111111,\"#46039f\"],[0.2222222222222222,\"#7201a8\"],[0.3333333333333333,\"#9c179e\"],[0.4444444444444444,\"#bd3786\"],[0.5555555555555556,\"#d8576b\"],[0.6666666666666666,\"#ed7953\"],[0.7777777777777778,\"#fb9f3a\"],[0.8888888888888888,\"#fdca26\"],[1.0,\"#f0f921\"]],\"sequentialminus\":[[0.0,\"#0d0887\"],[0.1111111111111111,\"#46039f\"],[0.2222222222222222,\"#7201a8\"],[0.3333333333333333,\"#9c179e\"],[0.4444444444444444,\"#bd3786\"],[0.5555555555555556,\"#d8576b\"],[0.6666666666666666,\"#ed7953\"],[0.7777777777777778,\"#fb9f3a\"],[0.8888888888888888,\"#fdca26\"],[1.0,\"#f0f921\"]],\"diverging\":[[0,\"#8e0152\"],[0.1,\"#c51b7d\"],[0.2,\"#de77ae\"],[0.3,\"#f1b6da\"],[0.4,\"#fde0ef\"],[0.5,\"#f7f7f7\"],[0.6,\"#e6f5d0\"],[0.7,\"#b8e186\"],[0.8,\"#7fbc41\"],[0.9,\"#4d9221\"],[1,\"#276419\"]]},\"xaxis\":{\"gridcolor\":\"white\",\"linecolor\":\"white\",\"ticks\":\"\",\"title\":{\"standoff\":15},\"zerolinecolor\":\"white\",\"automargin\":true,\"zerolinewidth\":2},\"yaxis\":{\"gridcolor\":\"white\",\"linecolor\":\"white\",\"ticks\":\"\",\"title\":{\"standoff\":15},\"zerolinecolor\":\"white\",\"automargin\":true,\"zerolinewidth\":2},\"scene\":{\"xaxis\":{\"backgroundcolor\":\"#E5ECF6\",\"gridcolor\":\"white\",\"linecolor\":\"white\",\"showbackground\":true,\"ticks\":\"\",\"zerolinecolor\":\"white\",\"gridwidth\":2},\"yaxis\":{\"backgroundcolor\":\"#E5ECF6\",\"gridcolor\":\"white\",\"linecolor\":\"white\",\"showbackground\":true,\"ticks\":\"\",\"zerolinecolor\":\"white\",\"gridwidth\":2},\"zaxis\":{\"backgroundcolor\":\"#E5ECF6\",\"gridcolor\":\"white\",\"linecolor\":\"white\",\"showbackground\":true,\"ticks\":\"\",\"zerolinecolor\":\"white\",\"gridwidth\":2}},\"shapedefaults\":{\"line\":{\"color\":\"#2a3f5f\"}},\"annotationdefaults\":{\"arrowcolor\":\"#2a3f5f\",\"arrowhead\":0,\"arrowwidth\":1},\"geo\":{\"bgcolor\":\"white\",\"landcolor\":\"#E5ECF6\",\"subunitcolor\":\"white\",\"showland\":true,\"showlakes\":true,\"lakecolor\":\"white\"},\"title\":{\"x\":0.05},\"mapbox\":{\"style\":\"light\"}}},\"xaxis\":{\"anchor\":\"y\",\"domain\":[0.0,1.0],\"title\":{\"text\":\"pH\"}},\"yaxis\":{\"anchor\":\"x\",\"domain\":[0.0,1.0],\"title\":{\"text\":\"count\"}},\"legend\":{\"tracegroupgap\":0},\"title\":{\"text\":\"Histogramme pour pH\"},\"barmode\":\"relative\"},                        {\"responsive\": true}                    ).then(function(){\n",
              "                            \n",
              "var gd = document.getElementById('d84403d2-8060-4e89-87df-ee0e8becf410');\n",
              "var x = new MutationObserver(function (mutations, observer) {{\n",
              "        var display = window.getComputedStyle(gd).display;\n",
              "        if (!display || display === 'none') {{\n",
              "            console.log([gd, 'removed!']);\n",
              "            Plotly.purge(gd);\n",
              "            observer.disconnect();\n",
              "        }}\n",
              "}});\n",
              "\n",
              "// Listen for the removal of the full notebook cells\n",
              "var notebookContainer = gd.closest('#notebook-container');\n",
              "if (notebookContainer) {{\n",
              "    x.observe(notebookContainer, {childList: true});\n",
              "}}\n",
              "\n",
              "// Listen for the clearing of the current output cell\n",
              "var outputEl = gd.closest('.output');\n",
              "if (outputEl) {{\n",
              "    x.observe(outputEl, {childList: true});\n",
              "}}\n",
              "\n",
              "                        })                };                            </script>        </div>\n",
              "</body>\n",
              "</html>"
            ]
          },
          "metadata": {}
        },
        {
          "output_type": "display_data",
          "data": {
            "text/html": [
              "<html>\n",
              "<head><meta charset=\"utf-8\" /></head>\n",
              "<body>\n",
              "    <div>            <script src=\"https://cdnjs.cloudflare.com/ajax/libs/mathjax/2.7.5/MathJax.js?config=TeX-AMS-MML_SVG\"></script><script type=\"text/javascript\">if (window.MathJax && window.MathJax.Hub && window.MathJax.Hub.Config) {window.MathJax.Hub.Config({SVG: {font: \"STIX-Web\"}});}</script>                <script type=\"text/javascript\">window.PlotlyConfig = {MathJaxConfig: 'local'};</script>\n",
              "        <script charset=\"utf-8\" src=\"https://cdn.plot.ly/plotly-2.24.1.min.js\"></script>                <div id=\"8d2422e2-e00b-44dd-9680-b74aa9e50db1\" class=\"plotly-graph-div\" style=\"height:525px; width:100%;\"></div>            <script type=\"text/javascript\">                                    window.PLOTLYENV=window.PLOTLYENV || {};                                    if (document.getElementById(\"8d2422e2-e00b-44dd-9680-b74aa9e50db1\")) {                    Plotly.newPlot(                        \"8d2422e2-e00b-44dd-9680-b74aa9e50db1\",                        [{\"alignmentgroup\":\"True\",\"bingroup\":\"x\",\"hovertemplate\":\"sulphates=%{x}\\u003cbr\\u003ecount=%{y}\\u003cextra\\u003e\\u003c\\u002fextra\\u003e\",\"legendgroup\":\"\",\"marker\":{\"color\":\"#636efa\",\"pattern\":{\"shape\":\"\"}},\"name\":\"\",\"offsetgroup\":\"\",\"orientation\":\"v\",\"showlegend\":false,\"x\":[0.56,0.68,0.65,0.58,0.56,0.56,0.46,0.47,0.57,0.54,0.52,1.56,0.75,1.08,0.65,0.91,0.53,0.63,0.56,0.59,0.55,0.59,0.54,0.66,0.55,0.55,0.6,0.73,0.83,0.51,0.9,1.2,0.56,0.73,0.74,0.63,0.64,0.56,0.63,0.63,0.59,0.54,0.64,0.71,0.57,0.39,0.39,0.58,0.95,0.48,0.53,0.66,0.55,0.52,1.12,0.56,0.57,0.78,0.59,1.95,0.64,1.22,0.53,0.54,1.95,0.64,0.48,0.56,0.56,0.59,0.61,0.59,0.51,0.48,0.51,1.31,0.79,0.93,0.66,0.67,0.93,0.63,0.61,0.57,0.6,0.52,0.48,0.49,0.48,0.92,0.66,0.63,0.55,0.82,0.64,0.82,0.79,0.58,0.79,0.62,0.52,0.58,0.53,2.0,0.54,0.54,0.71,0.72,0.71,0.5,0.57,0.56,1.08,0.56,0.49,0.49,0.62,0.52,0.48,0.55,0.33,0.61,0.57,0.78,0.47,0.61,0.56,0.59,0.59,1.02,0.52,0.58,0.58,0.53,0.55,0.55,0.62,0.62,0.55,0.55,0.59,0.97,0.43,0.82,0.56,0.77,0.77,0.67,0.86,0.56,0.43,0.71,0.76,0.57,0.55,0.54,0.59,0.57,0.6,0.6,0.58,1.61,0.62,0.52,0.7,0.55,0.58,1.09,0.71,0.49,0.84,0.84,0.96,0.52,0.96,0.78,0.7,0.53,0.59,0.57,0.62,0.67,1.26,0.8,0.65,0.6,0.57,0.67,0.87,0.72,0.86,0.91,0.97,0.67,0.67,0.91,0.97,0.82,0.77,0.82,1.08,0.77,0.71,0.71,0.76,0.7,0.86,0.95,0.86,0.64,0.6,0.81,0.64,0.52,0.73,0.8,0.59,0.64,0.72,0.52,0.52,0.62,0.63,0.54,0.63,0.53,0.68,0.71,0.64,0.62,0.69,0.69,0.74,0.83,0.67,0.52,0.74,0.84,0.7,0.64,1.36,0.75,0.75,0.78,0.93,0.92,0.83,0.73,0.77,0.59,0.61,0.88,0.75,0.85,0.68,0.7,0.91,0.56,0.87,0.73,0.73,0.69,1.13,0.87,1.04,1.11,1.13,0.99,0.8,0.74,0.74,0.82,0.8,0.51,0.6,0.53,0.65,0.55,0.53,0.61,0.63,0.61,0.65,0.63,0.57,0.62,0.64,0.82,0.61,1.07,0.66,0.48,0.76,0.68,0.56,0.44,0.9,0.56,0.49,0.56,0.6,0.6,0.9,0.56,0.49,0.89,0.49,0.56,0.66,0.6,0.82,0.68,0.84,0.73,0.72,0.56,0.61,0.61,0.63,0.74,0.63,0.69,0.58,0.58,0.57,0.61,0.61,0.7,0.72,0.79,0.62,0.58,0.61,0.71,0.82,0.6,0.7,1.06,0.7,0.66,0.92,1.06,0.47,0.42,0.75,0.79,0.9,0.74,0.55,0.65,0.65,0.79,0.65,0.74,0.65,0.85,0.85,1.05,0.78,1.02,0.71,0.68,0.63,0.81,0.66,0.66,1.14,0.74,0.63,0.9,0.55,0.64,0.77,0.57,0.87,0.61,0.61,0.66,0.56,0.87,0.57,0.77,0.66,0.62,0.67,0.73,0.59,0.72,0.79,0.59,0.78,0.86,0.75,0.56,0.73,0.74,0.62,0.74,0.56,0.74,0.68,0.57,0.61,0.61,0.68,0.57,0.6,0.79,0.57,0.91,0.61,0.52,0.6,0.6,0.51,0.44,0.44,0.66,0.59,0.74,0.57,0.5,0.57,0.58,0.57,0.6,0.48,0.52,0.62,0.53,0.64,0.52,0.54,0.54,0.6,0.57,0.93,0.8,0.61,0.62,0.55,0.72,0.49,0.49,0.6,0.61,0.6,0.63,0.57,0.64,0.58,0.55,0.53,0.53,1.36,0.62,0.62,0.62,0.58,0.67,0.57,0.5,0.84,0.54,0.46,0.61,0.5,0.68,0.81,0.81,0.64,0.7,0.56,0.6,0.66,0.66,0.52,0.52,0.67,0.48,0.53,0.54,0.49,0.54,0.56,0.48,0.56,0.47,1.05,0.54,1.17,0.62,0.61,0.62,0.67,0.53,0.62,0.57,0.67,0.67,0.7,0.54,0.49,0.47,0.51,0.61,0.57,0.61,0.51,0.57,0.44,0.54,0.44,0.53,1.62,0.55,0.72,0.68,0.68,0.49,0.67,0.52,0.47,0.6,0.62,0.5,0.65,0.6,0.68,0.57,0.51,0.73,0.47,0.72,0.73,0.55,0.61,0.55,1.06,0.43,0.46,0.5,0.5,0.52,0.57,0.42,0.53,0.55,0.54,0.54,0.53,0.54,0.53,0.55,0.55,0.92,0.46,0.59,0.61,0.6,0.6,0.65,0.59,0.5,0.56,0.56,0.52,0.68,0.54,0.6,0.56,0.53,1.18,0.74,0.81,0.52,0.44,0.94,0.66,0.57,0.71,0.86,0.55,0.47,0.68,0.58,0.76,0.54,0.6,0.74,0.64,0.53,0.64,0.49,0.55,0.77,0.86,0.39,0.39,0.83,0.63,0.72,0.62,0.66,0.7,0.66,0.55,0.55,0.73,0.73,0.73,0.78,0.67,0.54,0.44,0.53,0.54,0.57,0.54,0.79,0.57,0.65,0.78,0.5,0.64,0.65,0.56,0.68,0.57,0.65,0.57,0.58,0.58,0.77,0.58,0.77,0.69,0.69,0.69,0.59,0.71,0.54,0.59,0.57,0.6,0.62,0.67,0.61,0.64,0.72,0.89,0.56,0.89,0.8,0.87,0.9,0.59,0.8,0.73,0.65,0.59,0.73,0.72,0.54,0.52,0.64,0.64,0.99,0.62,0.76,0.76,0.62,0.68,0.69,0.67,0.62,0.71,0.85,0.62,0.69,0.85,0.48,0.6,0.87,0.62,0.52,0.5,0.49,0.71,0.62,0.82,0.71,0.58,0.5,0.49,0.51,0.49,0.48,0.48,0.62,0.48,0.53,0.72,0.54,0.55,0.84,0.84,0.7,0.55,0.55,0.48,0.58,0.58,0.75,0.44,0.61,0.53,0.53,0.54,0.55,0.56,0.6,0.56,0.52,0.56,0.53,0.47,0.65,0.59,0.77,0.83,0.64,0.62,0.58,0.62,0.64,0.78,0.77,1.34,0.55,0.77,0.62,0.59,0.57,0.76,0.59,0.7,0.69,0.64,0.63,0.57,0.6,0.72,0.83,0.62,0.89,0.58,0.58,0.73,0.58,0.51,0.51,0.59,0.77,0.49,0.66,0.69,0.76,0.76,0.63,0.6,0.59,0.86,0.49,0.49,0.52,0.78,0.63,0.63,0.66,0.6,0.85,0.49,0.76,0.64,0.64,0.71,0.66,0.6,0.6,0.6,0.53,0.58,0.72,0.48,0.59,0.6,0.68,0.63,0.88,0.68,0.74,0.6,0.76,0.58,0.64,0.65,0.85,0.65,0.82,0.62,0.81,0.87,0.49,0.66,0.52,0.65,0.53,0.66,0.53,0.76,0.87,0.71,0.67,0.88,0.56,0.62,0.67,0.74,0.62,0.62,0.7,0.5,0.73,0.81,0.46,0.6,0.7,0.7,0.44,0.57,0.51,0.8,0.59,0.6,0.54,0.79,0.58,0.54,0.54,0.69,0.55,0.85,0.85,0.94,0.85,0.87,0.62,0.62,0.48,0.69,0.83,0.77,0.77,0.82,0.51,0.47,0.72,0.73,0.64,0.78,0.62,0.64,0.4,0.64,0.4,0.46,0.56,0.4,0.62,0.68,0.48,0.61,0.59,0.58,0.58,0.69,0.42,0.7,0.63,1.15,0.55,0.58,0.72,0.6,0.6,0.87,0.55,0.75,0.57,0.53,0.43,0.53,0.54,0.56,0.6,0.54,0.57,0.64,0.64,0.68,0.63,0.56,0.57,1.17,1.17,0.59,0.75,0.67,0.45,0.61,0.56,0.4,0.61,0.74,0.8,0.44,0.53,0.62,0.61,0.59,0.47,0.58,0.59,1.33,0.59,0.55,0.6,0.6,0.6,0.6,0.52,0.56,0.56,0.46,0.43,0.51,0.52,0.66,0.45,0.45,0.45,0.54,0.54,0.54,0.54,0.53,0.53,0.56,0.39,0.51,0.46,0.44,0.44,0.59,0.5,0.65,0.54,0.65,0.53,0.5,1.18,0.5,1.17,1.03,1.17,0.46,0.51,0.62,0.62,0.49,0.49,0.5,0.42,0.58,0.68,0.59,0.58,0.48,0.48,0.65,0.65,0.52,0.72,0.51,0.82,1.1,0.62,0.94,0.93,1.01,0.93,0.44,0.73,0.94,0.9,0.78,0.84,0.78,0.77,0.46,0.45,0.46,0.58,0.84,0.67,0.58,0.63,0.93,0.62,0.54,0.74,0.77,0.65,0.54,0.47,0.68,0.49,0.52,0.74,0.76,0.73,0.78,0.76,0.69,0.63,0.58,0.6,0.8,0.68,0.61,0.53,0.67,0.65,0.57,0.65,0.55,0.47,0.52,0.79,0.54,0.75,0.88,0.75,0.88,0.52,0.68,0.62,0.68,0.61,0.55,0.6,0.78,0.58,0.56,0.54,0.59,0.7,0.81,0.63,0.63,0.53,0.69,0.55,0.63,0.66,0.55,0.72,0.7,0.77,0.67,0.72,0.72,0.83,0.63,0.58,0.97,0.6,0.64,0.65,0.67,0.6,0.69,0.66,0.68,0.61,0.62,0.59,0.63,0.63,0.81,0.64,0.61,0.58,0.7,0.54,0.66,0.6,0.68,0.56,0.6,0.56,0.52,0.52,0.52,0.54,0.54,0.82,0.71,0.54,0.59,0.57,0.93,0.65,0.51,0.67,0.64,0.78,0.6,0.67,0.6,0.5,0.62,0.8,0.85,0.66,0.82,0.56,0.75,0.82,0.58,0.76,0.71],\"xaxis\":\"x\",\"yaxis\":\"y\",\"type\":\"histogram\"}],                        {\"template\":{\"data\":{\"histogram2dcontour\":[{\"type\":\"histogram2dcontour\",\"colorbar\":{\"outlinewidth\":0,\"ticks\":\"\"},\"colorscale\":[[0.0,\"#0d0887\"],[0.1111111111111111,\"#46039f\"],[0.2222222222222222,\"#7201a8\"],[0.3333333333333333,\"#9c179e\"],[0.4444444444444444,\"#bd3786\"],[0.5555555555555556,\"#d8576b\"],[0.6666666666666666,\"#ed7953\"],[0.7777777777777778,\"#fb9f3a\"],[0.8888888888888888,\"#fdca26\"],[1.0,\"#f0f921\"]]}],\"choropleth\":[{\"type\":\"choropleth\",\"colorbar\":{\"outlinewidth\":0,\"ticks\":\"\"}}],\"histogram2d\":[{\"type\":\"histogram2d\",\"colorbar\":{\"outlinewidth\":0,\"ticks\":\"\"},\"colorscale\":[[0.0,\"#0d0887\"],[0.1111111111111111,\"#46039f\"],[0.2222222222222222,\"#7201a8\"],[0.3333333333333333,\"#9c179e\"],[0.4444444444444444,\"#bd3786\"],[0.5555555555555556,\"#d8576b\"],[0.6666666666666666,\"#ed7953\"],[0.7777777777777778,\"#fb9f3a\"],[0.8888888888888888,\"#fdca26\"],[1.0,\"#f0f921\"]]}],\"heatmap\":[{\"type\":\"heatmap\",\"colorbar\":{\"outlinewidth\":0,\"ticks\":\"\"},\"colorscale\":[[0.0,\"#0d0887\"],[0.1111111111111111,\"#46039f\"],[0.2222222222222222,\"#7201a8\"],[0.3333333333333333,\"#9c179e\"],[0.4444444444444444,\"#bd3786\"],[0.5555555555555556,\"#d8576b\"],[0.6666666666666666,\"#ed7953\"],[0.7777777777777778,\"#fb9f3a\"],[0.8888888888888888,\"#fdca26\"],[1.0,\"#f0f921\"]]}],\"heatmapgl\":[{\"type\":\"heatmapgl\",\"colorbar\":{\"outlinewidth\":0,\"ticks\":\"\"},\"colorscale\":[[0.0,\"#0d0887\"],[0.1111111111111111,\"#46039f\"],[0.2222222222222222,\"#7201a8\"],[0.3333333333333333,\"#9c179e\"],[0.4444444444444444,\"#bd3786\"],[0.5555555555555556,\"#d8576b\"],[0.6666666666666666,\"#ed7953\"],[0.7777777777777778,\"#fb9f3a\"],[0.8888888888888888,\"#fdca26\"],[1.0,\"#f0f921\"]]}],\"contourcarpet\":[{\"type\":\"contourcarpet\",\"colorbar\":{\"outlinewidth\":0,\"ticks\":\"\"}}],\"contour\":[{\"type\":\"contour\",\"colorbar\":{\"outlinewidth\":0,\"ticks\":\"\"},\"colorscale\":[[0.0,\"#0d0887\"],[0.1111111111111111,\"#46039f\"],[0.2222222222222222,\"#7201a8\"],[0.3333333333333333,\"#9c179e\"],[0.4444444444444444,\"#bd3786\"],[0.5555555555555556,\"#d8576b\"],[0.6666666666666666,\"#ed7953\"],[0.7777777777777778,\"#fb9f3a\"],[0.8888888888888888,\"#fdca26\"],[1.0,\"#f0f921\"]]}],\"surface\":[{\"type\":\"surface\",\"colorbar\":{\"outlinewidth\":0,\"ticks\":\"\"},\"colorscale\":[[0.0,\"#0d0887\"],[0.1111111111111111,\"#46039f\"],[0.2222222222222222,\"#7201a8\"],[0.3333333333333333,\"#9c179e\"],[0.4444444444444444,\"#bd3786\"],[0.5555555555555556,\"#d8576b\"],[0.6666666666666666,\"#ed7953\"],[0.7777777777777778,\"#fb9f3a\"],[0.8888888888888888,\"#fdca26\"],[1.0,\"#f0f921\"]]}],\"mesh3d\":[{\"type\":\"mesh3d\",\"colorbar\":{\"outlinewidth\":0,\"ticks\":\"\"}}],\"scatter\":[{\"fillpattern\":{\"fillmode\":\"overlay\",\"size\":10,\"solidity\":0.2},\"type\":\"scatter\"}],\"parcoords\":[{\"type\":\"parcoords\",\"line\":{\"colorbar\":{\"outlinewidth\":0,\"ticks\":\"\"}}}],\"scatterpolargl\":[{\"type\":\"scatterpolargl\",\"marker\":{\"colorbar\":{\"outlinewidth\":0,\"ticks\":\"\"}}}],\"bar\":[{\"error_x\":{\"color\":\"#2a3f5f\"},\"error_y\":{\"color\":\"#2a3f5f\"},\"marker\":{\"line\":{\"color\":\"#E5ECF6\",\"width\":0.5},\"pattern\":{\"fillmode\":\"overlay\",\"size\":10,\"solidity\":0.2}},\"type\":\"bar\"}],\"scattergeo\":[{\"type\":\"scattergeo\",\"marker\":{\"colorbar\":{\"outlinewidth\":0,\"ticks\":\"\"}}}],\"scatterpolar\":[{\"type\":\"scatterpolar\",\"marker\":{\"colorbar\":{\"outlinewidth\":0,\"ticks\":\"\"}}}],\"histogram\":[{\"marker\":{\"pattern\":{\"fillmode\":\"overlay\",\"size\":10,\"solidity\":0.2}},\"type\":\"histogram\"}],\"scattergl\":[{\"type\":\"scattergl\",\"marker\":{\"colorbar\":{\"outlinewidth\":0,\"ticks\":\"\"}}}],\"scatter3d\":[{\"type\":\"scatter3d\",\"line\":{\"colorbar\":{\"outlinewidth\":0,\"ticks\":\"\"}},\"marker\":{\"colorbar\":{\"outlinewidth\":0,\"ticks\":\"\"}}}],\"scattermapbox\":[{\"type\":\"scattermapbox\",\"marker\":{\"colorbar\":{\"outlinewidth\":0,\"ticks\":\"\"}}}],\"scatterternary\":[{\"type\":\"scatterternary\",\"marker\":{\"colorbar\":{\"outlinewidth\":0,\"ticks\":\"\"}}}],\"scattercarpet\":[{\"type\":\"scattercarpet\",\"marker\":{\"colorbar\":{\"outlinewidth\":0,\"ticks\":\"\"}}}],\"carpet\":[{\"aaxis\":{\"endlinecolor\":\"#2a3f5f\",\"gridcolor\":\"white\",\"linecolor\":\"white\",\"minorgridcolor\":\"white\",\"startlinecolor\":\"#2a3f5f\"},\"baxis\":{\"endlinecolor\":\"#2a3f5f\",\"gridcolor\":\"white\",\"linecolor\":\"white\",\"minorgridcolor\":\"white\",\"startlinecolor\":\"#2a3f5f\"},\"type\":\"carpet\"}],\"table\":[{\"cells\":{\"fill\":{\"color\":\"#EBF0F8\"},\"line\":{\"color\":\"white\"}},\"header\":{\"fill\":{\"color\":\"#C8D4E3\"},\"line\":{\"color\":\"white\"}},\"type\":\"table\"}],\"barpolar\":[{\"marker\":{\"line\":{\"color\":\"#E5ECF6\",\"width\":0.5},\"pattern\":{\"fillmode\":\"overlay\",\"size\":10,\"solidity\":0.2}},\"type\":\"barpolar\"}],\"pie\":[{\"automargin\":true,\"type\":\"pie\"}]},\"layout\":{\"autotypenumbers\":\"strict\",\"colorway\":[\"#636efa\",\"#EF553B\",\"#00cc96\",\"#ab63fa\",\"#FFA15A\",\"#19d3f3\",\"#FF6692\",\"#B6E880\",\"#FF97FF\",\"#FECB52\"],\"font\":{\"color\":\"#2a3f5f\"},\"hovermode\":\"closest\",\"hoverlabel\":{\"align\":\"left\"},\"paper_bgcolor\":\"white\",\"plot_bgcolor\":\"#E5ECF6\",\"polar\":{\"bgcolor\":\"#E5ECF6\",\"angularaxis\":{\"gridcolor\":\"white\",\"linecolor\":\"white\",\"ticks\":\"\"},\"radialaxis\":{\"gridcolor\":\"white\",\"linecolor\":\"white\",\"ticks\":\"\"}},\"ternary\":{\"bgcolor\":\"#E5ECF6\",\"aaxis\":{\"gridcolor\":\"white\",\"linecolor\":\"white\",\"ticks\":\"\"},\"baxis\":{\"gridcolor\":\"white\",\"linecolor\":\"white\",\"ticks\":\"\"},\"caxis\":{\"gridcolor\":\"white\",\"linecolor\":\"white\",\"ticks\":\"\"}},\"coloraxis\":{\"colorbar\":{\"outlinewidth\":0,\"ticks\":\"\"}},\"colorscale\":{\"sequential\":[[0.0,\"#0d0887\"],[0.1111111111111111,\"#46039f\"],[0.2222222222222222,\"#7201a8\"],[0.3333333333333333,\"#9c179e\"],[0.4444444444444444,\"#bd3786\"],[0.5555555555555556,\"#d8576b\"],[0.6666666666666666,\"#ed7953\"],[0.7777777777777778,\"#fb9f3a\"],[0.8888888888888888,\"#fdca26\"],[1.0,\"#f0f921\"]],\"sequentialminus\":[[0.0,\"#0d0887\"],[0.1111111111111111,\"#46039f\"],[0.2222222222222222,\"#7201a8\"],[0.3333333333333333,\"#9c179e\"],[0.4444444444444444,\"#bd3786\"],[0.5555555555555556,\"#d8576b\"],[0.6666666666666666,\"#ed7953\"],[0.7777777777777778,\"#fb9f3a\"],[0.8888888888888888,\"#fdca26\"],[1.0,\"#f0f921\"]],\"diverging\":[[0,\"#8e0152\"],[0.1,\"#c51b7d\"],[0.2,\"#de77ae\"],[0.3,\"#f1b6da\"],[0.4,\"#fde0ef\"],[0.5,\"#f7f7f7\"],[0.6,\"#e6f5d0\"],[0.7,\"#b8e186\"],[0.8,\"#7fbc41\"],[0.9,\"#4d9221\"],[1,\"#276419\"]]},\"xaxis\":{\"gridcolor\":\"white\",\"linecolor\":\"white\",\"ticks\":\"\",\"title\":{\"standoff\":15},\"zerolinecolor\":\"white\",\"automargin\":true,\"zerolinewidth\":2},\"yaxis\":{\"gridcolor\":\"white\",\"linecolor\":\"white\",\"ticks\":\"\",\"title\":{\"standoff\":15},\"zerolinecolor\":\"white\",\"automargin\":true,\"zerolinewidth\":2},\"scene\":{\"xaxis\":{\"backgroundcolor\":\"#E5ECF6\",\"gridcolor\":\"white\",\"linecolor\":\"white\",\"showbackground\":true,\"ticks\":\"\",\"zerolinecolor\":\"white\",\"gridwidth\":2},\"yaxis\":{\"backgroundcolor\":\"#E5ECF6\",\"gridcolor\":\"white\",\"linecolor\":\"white\",\"showbackground\":true,\"ticks\":\"\",\"zerolinecolor\":\"white\",\"gridwidth\":2},\"zaxis\":{\"backgroundcolor\":\"#E5ECF6\",\"gridcolor\":\"white\",\"linecolor\":\"white\",\"showbackground\":true,\"ticks\":\"\",\"zerolinecolor\":\"white\",\"gridwidth\":2}},\"shapedefaults\":{\"line\":{\"color\":\"#2a3f5f\"}},\"annotationdefaults\":{\"arrowcolor\":\"#2a3f5f\",\"arrowhead\":0,\"arrowwidth\":1},\"geo\":{\"bgcolor\":\"white\",\"landcolor\":\"#E5ECF6\",\"subunitcolor\":\"white\",\"showland\":true,\"showlakes\":true,\"lakecolor\":\"white\"},\"title\":{\"x\":0.05},\"mapbox\":{\"style\":\"light\"}}},\"xaxis\":{\"anchor\":\"y\",\"domain\":[0.0,1.0],\"title\":{\"text\":\"sulphates\"}},\"yaxis\":{\"anchor\":\"x\",\"domain\":[0.0,1.0],\"title\":{\"text\":\"count\"}},\"legend\":{\"tracegroupgap\":0},\"title\":{\"text\":\"Histogramme pour sulphates\"},\"barmode\":\"relative\"},                        {\"responsive\": true}                    ).then(function(){\n",
              "                            \n",
              "var gd = document.getElementById('8d2422e2-e00b-44dd-9680-b74aa9e50db1');\n",
              "var x = new MutationObserver(function (mutations, observer) {{\n",
              "        var display = window.getComputedStyle(gd).display;\n",
              "        if (!display || display === 'none') {{\n",
              "            console.log([gd, 'removed!']);\n",
              "            Plotly.purge(gd);\n",
              "            observer.disconnect();\n",
              "        }}\n",
              "}});\n",
              "\n",
              "// Listen for the removal of the full notebook cells\n",
              "var notebookContainer = gd.closest('#notebook-container');\n",
              "if (notebookContainer) {{\n",
              "    x.observe(notebookContainer, {childList: true});\n",
              "}}\n",
              "\n",
              "// Listen for the clearing of the current output cell\n",
              "var outputEl = gd.closest('.output');\n",
              "if (outputEl) {{\n",
              "    x.observe(outputEl, {childList: true});\n",
              "}}\n",
              "\n",
              "                        })                };                            </script>        </div>\n",
              "</body>\n",
              "</html>"
            ]
          },
          "metadata": {}
        },
        {
          "output_type": "display_data",
          "data": {
            "text/html": [
              "<html>\n",
              "<head><meta charset=\"utf-8\" /></head>\n",
              "<body>\n",
              "    <div>            <script src=\"https://cdnjs.cloudflare.com/ajax/libs/mathjax/2.7.5/MathJax.js?config=TeX-AMS-MML_SVG\"></script><script type=\"text/javascript\">if (window.MathJax && window.MathJax.Hub && window.MathJax.Hub.Config) {window.MathJax.Hub.Config({SVG: {font: \"STIX-Web\"}});}</script>                <script type=\"text/javascript\">window.PlotlyConfig = {MathJaxConfig: 'local'};</script>\n",
              "        <script charset=\"utf-8\" src=\"https://cdn.plot.ly/plotly-2.24.1.min.js\"></script>                <div id=\"74eee63c-6009-44e5-8861-4f81b44314c6\" class=\"plotly-graph-div\" style=\"height:525px; width:100%;\"></div>            <script type=\"text/javascript\">                                    window.PLOTLYENV=window.PLOTLYENV || {};                                    if (document.getElementById(\"74eee63c-6009-44e5-8861-4f81b44314c6\")) {                    Plotly.newPlot(                        \"74eee63c-6009-44e5-8861-4f81b44314c6\",                        [{\"alignmentgroup\":\"True\",\"bingroup\":\"x\",\"hovertemplate\":\"alcohol=%{x}\\u003cbr\\u003ecount=%{y}\\u003cextra\\u003e\\u003c\\u002fextra\\u003e\",\"legendgroup\":\"\",\"marker\":{\"color\":\"#636efa\",\"pattern\":{\"shape\":\"\"}},\"name\":\"\",\"offsetgroup\":\"\",\"orientation\":\"v\",\"showlegend\":false,\"x\":[9.4,9.8,9.8,9.8,9.4,9.4,9.4,10.0,9.5,9.2,9.9,9.1,10.5,9.2,9.7,9.5,9.4,9.7,9.3,9.5,9.4,9.8,10.1,9.8,9.2,9.6,10.8,9.7,10.5,9.3,10.5,10.3,13.1,9.2,9.2,9.4,9.4,9.4,10.2,9.6,10.0,9.4,9.2,9.3,9.8,10.9,10.9,10.7,10.5,9.5,9.2,10.5,10.7,10.1,9.1,9.2,9.1,10.3,10.1,9.9,9.6,9.5,9.0,9.5,9.9,9.6,10.5,10.7,9.8,9.0,10.2,9.0,9.2,9.4,9.2,9.3,9.3,9.5,9.8,9.7,9.5,10.5,10.0,9.0,10.9,9.2,9.5,10.9,10.9,10.5,9.4,13.0,9.9,9.6,9.2,9.6,14.0,9.4,14.0,9.4,10.0,10.2,10.3,9.4,10.1,10.1,10.5,10.5,10.5,9.3,9.3,9.6,9.2,10.0,9.4,9.4,9.5,10.2,9.0,10.4,9.1,9.2,11.5,9.5,9.5,10.5,9.6,9.5,9.5,9.3,9.3,9.3,9.3,9.7,9.2,9.5,9.4,9.8,9.7,9.7,10.2,10.1,11.4,10.3,9.2,10.8,10.8,9.4,12.4,10.0,10.1,9.8,10.5,11.0,9.1,9.7,9.4,9.4,9.5,10.0,10.5,9.5,12.2,9.9,9.6,9.0,9.0,9.3,10.9,9.8,9.2,9.2,9.9,9.5,9.9,10.0,9.9,10.5,9.5,9.3,9.2,9.2,9.4,10.5,9.3,9.4,10.0,9.3,10.9,9.8,12.8,9.4,10.1,10.7,10.7,9.4,10.1,12.6,10.5,9.3,9.9,10.5,9.8,9.8,10.3,10.3,10.6,9.2,10.6,10.3,10.1,9.5,9.5,9.9,9.6,9.7,10.7,10.1,10.0,9.2,9.4,9.5,9.5,9.4,9.5,9.4,11.0,11.5,10.4,9.7,9.2,9.2,11.5,11.5,9.7,11.0,11.7,12.2,12.5,10.3,9.8,9.8,9.8,10.7,12.0,10.0,9.4,9.3,13.0,11.9,12.8,11.0,11.7,10.4,9.8,9.4,9.9,10.0,10.2,10.0,10.0,9.0,12.0,8.7,10.6,11.0,12.0,13.3,9.4,9.2,9.2,12.9,10.0,9.5,13.0,9.9,11.0,9.4,9.9,10.5,10.5,9.1,10.8,10.8,9.6,9.5,9.3,11.7,9.5,9.3,11.7,10.5,10.4,9.9,12.3,10.9,11.0,12.3,11.4,10.6,9.3,10.4,11.0,9.2,9.5,9.9,9.5,10.2,11.2,9.3,9.8,11.2,12.5,10.5,11.2,10.2,10.8,10.8,10.0,11.2,11.1,13.4,10.3,9.6,9.0,11.3,9.3,9.2,11.5,14.0,9.2,9.8,10.6,11.4,10.4,10.2,9.7,11.0,10.1,9.2,11.7,9.4,10.0,10.0,10.2,13.3,13.4,11.6,12.1,11.0,9.0,11.1,11.0,11.6,9.0,12.0,12.0,10.8,12.5,10.8,9.5,11.4,10.2,9.7,11.8,11.8,9.3,11.9,8.4,10.0,9.4,9.5,11.4,9.4,10.3,10.3,10.3,12.8,10.0,10.3,9.4,10.7,12.0,11.2,9.6,11.0,9.9,11.0,8.4,9.1,9.5,10.7,10.4,9.5,10.0,10.0,11.5,11.1,11.7,11.1,12.7,11.4,9.2,10.1,12.7,11.4,9.0,10.7,11.7,11.0,10.4,10.0,9.5,9.8,9.8,9.6,9.6,9.9,9.3,14.0,9.7,11.5,9.7,9.0,9.3,9.3,9.8,9.3,9.1,10.5,10.4,12.7,9.2,9.4,10.0,9.7,9.8,9.3,9.4,9.4,9.5,10.2,9.1,9.1,9.3,9.3,9.3,9.5,10.5,11.3,9.5,9.7,9.4,9.4,10.3,9.4,9.4,9.4,11.0,11.2,11.3,9.6,14.9,12.0,9.5,9.4,9.6,10.5,9.6,9.6,9.0,9.6,9.7,9.5,9.2,9.2,9.5,9.5,9.3,9.9,10.0,9.6,10.2,9.8,11.3,9.4,11.3,9.4,9.4,9.8,9.0,9.4,9.4,12.8,9.5,9.7,10.8,10.1,9.5,9.4,9.6,9.7,9.9,10.0,10.5,11.6,10.1,9.5,9.8,10.0,9.6,9.5,9.6,9.2,9.5,10.4,11.1,9.5,9.5,12.7,9.6,11.5,9.6,9.5,9.3,9.5,9.3,9.3,11.5,9.5,9.5,9.5,9.0,9.6,9.5,9.5,9.4,9.5,9.1,10.7,11.2,9.8,9.8,9.2,9.7,9.6,10.0,9.5,9.5,9.4,9.7,9.6,9.7,9.4,9.4,9.5,10.0,10.3,10.5,9.8,9.4,9.8,9.8,9.5,10.1,10.1,9.3,9.7,9.6,9.7,10.8,12.5,10.2,9.6,10.8,10.7,10.0,12.9,9.6,9.9,12.5,9.2,10.3,10.5,10.9,11.4,11.3,9.6,9.7,14.0,9.8,10.3,11.0,10.7,10.9,11.1,9.9,11.7,11.7,11.2,10.3,10.9,9.4,9.8,9.9,9.8,9.5,9.5,10.9,10.9,10.9,11.3,10.6,9.5,10.4,9.7,9.7,10.6,10.0,11.8,11.8,11.4,12.0,10.0,10.5,10.4,11.2,9.3,9.7,9.3,9.7,9.8,10.7,12.5,10.7,12.5,11.8,10.8,10.8,10.8,11.0,11.5,10.8,13.2,10.9,12.2,11.9,11.0,10.1,11.0,11.8,10.5,11.8,11.2,11.0,10.2,9.2,11.2,12.0,9.8,9.5,10.5,11.8,11.4,12.5,10.0,12.1,12.0,12.4,11.9,11.9,12.4,11.2,12.1,10.4,11.3,11.3,11.1,9.3,9.5,11.1,9.2,12.2,10.9,12.1,9.4,9.1,11.3,10.5,10.0,12.9,10.5,11.3,9.4,9.4,10.9,9.4,9.4,9.4,10.1,9.1,12.9,11.5,10.3,12.8,11.7,11.7,12.0,12.3,10.4,10.0,10.0,11.2,12.6,12.7,10.4,11.9,11.9,10.5,12.3,10.5,10.4,12.6,11.6,10.5,9.6,9.7,10.6,12.5,12.6,11.1,9.8,12.2,11.4,10.7,10.4,10.9,10.8,9.2,12.9,12.7,9.1,12.1,9.1,11.6,12.1,9.9,12.5,11.4,11.8,11.8,10.2,12.5,10.9,10.8,11.1,9.2,10.7,11.4,11.0,12.3,12.3,9.5,12.0,9.6,11.6,11.2,9.9,9.9,11.8,11.4,11.5,12.0,10.8,10.8,9.4,12.4,12.0,12.0,12.4,12.8,11.7,9.5,10.8,10.0,12.3,11.0,13.6,11.3,11.3,11.3,13.3,12.9,13.1,12.3,11.3,11.5,10.0,10.4,13.6,11.2,11.8,11.9,11.4,9.1,9.5,9.5,11.0,11.4,10.0,10.1,10.4,9.8,11.8,11.6,12.0,12.5,9.8,11.1,9.8,11.8,12.9,11.8,10.0,12.4,12.0,11.5,10.5,12.3,9.5,9.5,11.5,11.2,11.4,11.0,11.4,9.3,10.9,10.9,9.6,12.5,10.8,12.4,9.5,9.5,9.8,10.9,9.5,9.8,11.2,11.7,9.4,11.0,11.0,10.0,11.0,11.2,10.4,10.4,10.4,9.5,10.9,11.5,11.5,10.3,9.4,9.2,9.6,13.6,9.5,11.8,10.8,9.5,12.8,9.4,12.8,9.6,11.8,9.3,9.5,10.5,10.0,10.9,9.8,9.8,9.5,10.9,9.2,11.0,11.3,9.3,11.2,9.8,11.8,10.3,10.3,11.4,9.5,14.0,11.7,11.2,9.3,11.2,9.5,12.0,9.7,9.5,11.5,10.4,10.4,10.9,10.2,10.9,10.5,10.2,10.2,11.0,10.9,12.4,9.5,12.1,12.2,10.9,12.5,11.7,11.2,9.2,9.8,10.1,9.2,12.8,10.5,9.8,12.5,9.1,12.5,11.4,10.6,10.6,10.6,10.6,9.3,9.8,9.8,9.2,9.7,9.6,10.0,12.6,9.5,9.5,9.5,10.5,10.5,10.5,10.5,11.0,10.2,11.4,9.5,11.8,10.3,10.1,10.1,11.1,9.5,10.0333333333333,10.1,10.0333333333333,11.8,9.8,10.5,9.8,9.2,11.6,9.2,10.0,9.9,10.8,10.8,9.9,9.9,9.5,9.2,9.6,10.3,12.5,11.0,9.8,10.2,9.55,9.55,9.9,11.1,9.9,11.9,10.0,10.7,10.9,10.7,12.4,10.7,11.9,10.6,10.9,10.1,9.6,9.4,9.6,12.1,9.8,9.9,9.8,9.4,11.4,11.0,11.2,11.0,11.3,10.4,9.9,10.1,9.0,8.5,11.1,10.3,11.066666666666698,11.7,9.6,9.7,11.3,11.3,11.0,11.6,10.9,10.9,9.0,10.5,11.9,10.4,10.0,10.8,9.7,10.0,11.0,10.0,9.7,9.7,12.6,11.1,11.0,8.8,13.566666666666698,8.8,13.6,10.2,10.6,10.1,10.6,10.7,9.7,10.3,10.6,11.4,12.4,11.95,9.7,10.0,10.6,11.5,11.5,9.4,11.0,11.4,9.95,10.8,11.4,10.6,11.1,9.7,9.8,9.23333333333333,9.25,10.3,10.5,10.2,10.6,10.4,9.7,9.6,10.1,10.2,11.3,10.2,9.9,9.0,11.7,9.7,12.0,11.6,11.2,10.1,10.2,10.4,11.4,9.4,11.3,9.4,10.55,9.9,11.0,9.5,9.9,9.9,9.9,10.1,10.1,10.9,11.2,10.1,9.2,11.5,12.4,11.1,9.5,12.5,11.8,10.8,11.9,11.3,11.9,11.9,9.8,11.6,11.4,10.9,11.6,11.6,11.0,9.5,10.5,11.2,10.2],\"xaxis\":\"x\",\"yaxis\":\"y\",\"type\":\"histogram\"}],                        {\"template\":{\"data\":{\"histogram2dcontour\":[{\"type\":\"histogram2dcontour\",\"colorbar\":{\"outlinewidth\":0,\"ticks\":\"\"},\"colorscale\":[[0.0,\"#0d0887\"],[0.1111111111111111,\"#46039f\"],[0.2222222222222222,\"#7201a8\"],[0.3333333333333333,\"#9c179e\"],[0.4444444444444444,\"#bd3786\"],[0.5555555555555556,\"#d8576b\"],[0.6666666666666666,\"#ed7953\"],[0.7777777777777778,\"#fb9f3a\"],[0.8888888888888888,\"#fdca26\"],[1.0,\"#f0f921\"]]}],\"choropleth\":[{\"type\":\"choropleth\",\"colorbar\":{\"outlinewidth\":0,\"ticks\":\"\"}}],\"histogram2d\":[{\"type\":\"histogram2d\",\"colorbar\":{\"outlinewidth\":0,\"ticks\":\"\"},\"colorscale\":[[0.0,\"#0d0887\"],[0.1111111111111111,\"#46039f\"],[0.2222222222222222,\"#7201a8\"],[0.3333333333333333,\"#9c179e\"],[0.4444444444444444,\"#bd3786\"],[0.5555555555555556,\"#d8576b\"],[0.6666666666666666,\"#ed7953\"],[0.7777777777777778,\"#fb9f3a\"],[0.8888888888888888,\"#fdca26\"],[1.0,\"#f0f921\"]]}],\"heatmap\":[{\"type\":\"heatmap\",\"colorbar\":{\"outlinewidth\":0,\"ticks\":\"\"},\"colorscale\":[[0.0,\"#0d0887\"],[0.1111111111111111,\"#46039f\"],[0.2222222222222222,\"#7201a8\"],[0.3333333333333333,\"#9c179e\"],[0.4444444444444444,\"#bd3786\"],[0.5555555555555556,\"#d8576b\"],[0.6666666666666666,\"#ed7953\"],[0.7777777777777778,\"#fb9f3a\"],[0.8888888888888888,\"#fdca26\"],[1.0,\"#f0f921\"]]}],\"heatmapgl\":[{\"type\":\"heatmapgl\",\"colorbar\":{\"outlinewidth\":0,\"ticks\":\"\"},\"colorscale\":[[0.0,\"#0d0887\"],[0.1111111111111111,\"#46039f\"],[0.2222222222222222,\"#7201a8\"],[0.3333333333333333,\"#9c179e\"],[0.4444444444444444,\"#bd3786\"],[0.5555555555555556,\"#d8576b\"],[0.6666666666666666,\"#ed7953\"],[0.7777777777777778,\"#fb9f3a\"],[0.8888888888888888,\"#fdca26\"],[1.0,\"#f0f921\"]]}],\"contourcarpet\":[{\"type\":\"contourcarpet\",\"colorbar\":{\"outlinewidth\":0,\"ticks\":\"\"}}],\"contour\":[{\"type\":\"contour\",\"colorbar\":{\"outlinewidth\":0,\"ticks\":\"\"},\"colorscale\":[[0.0,\"#0d0887\"],[0.1111111111111111,\"#46039f\"],[0.2222222222222222,\"#7201a8\"],[0.3333333333333333,\"#9c179e\"],[0.4444444444444444,\"#bd3786\"],[0.5555555555555556,\"#d8576b\"],[0.6666666666666666,\"#ed7953\"],[0.7777777777777778,\"#fb9f3a\"],[0.8888888888888888,\"#fdca26\"],[1.0,\"#f0f921\"]]}],\"surface\":[{\"type\":\"surface\",\"colorbar\":{\"outlinewidth\":0,\"ticks\":\"\"},\"colorscale\":[[0.0,\"#0d0887\"],[0.1111111111111111,\"#46039f\"],[0.2222222222222222,\"#7201a8\"],[0.3333333333333333,\"#9c179e\"],[0.4444444444444444,\"#bd3786\"],[0.5555555555555556,\"#d8576b\"],[0.6666666666666666,\"#ed7953\"],[0.7777777777777778,\"#fb9f3a\"],[0.8888888888888888,\"#fdca26\"],[1.0,\"#f0f921\"]]}],\"mesh3d\":[{\"type\":\"mesh3d\",\"colorbar\":{\"outlinewidth\":0,\"ticks\":\"\"}}],\"scatter\":[{\"fillpattern\":{\"fillmode\":\"overlay\",\"size\":10,\"solidity\":0.2},\"type\":\"scatter\"}],\"parcoords\":[{\"type\":\"parcoords\",\"line\":{\"colorbar\":{\"outlinewidth\":0,\"ticks\":\"\"}}}],\"scatterpolargl\":[{\"type\":\"scatterpolargl\",\"marker\":{\"colorbar\":{\"outlinewidth\":0,\"ticks\":\"\"}}}],\"bar\":[{\"error_x\":{\"color\":\"#2a3f5f\"},\"error_y\":{\"color\":\"#2a3f5f\"},\"marker\":{\"line\":{\"color\":\"#E5ECF6\",\"width\":0.5},\"pattern\":{\"fillmode\":\"overlay\",\"size\":10,\"solidity\":0.2}},\"type\":\"bar\"}],\"scattergeo\":[{\"type\":\"scattergeo\",\"marker\":{\"colorbar\":{\"outlinewidth\":0,\"ticks\":\"\"}}}],\"scatterpolar\":[{\"type\":\"scatterpolar\",\"marker\":{\"colorbar\":{\"outlinewidth\":0,\"ticks\":\"\"}}}],\"histogram\":[{\"marker\":{\"pattern\":{\"fillmode\":\"overlay\",\"size\":10,\"solidity\":0.2}},\"type\":\"histogram\"}],\"scattergl\":[{\"type\":\"scattergl\",\"marker\":{\"colorbar\":{\"outlinewidth\":0,\"ticks\":\"\"}}}],\"scatter3d\":[{\"type\":\"scatter3d\",\"line\":{\"colorbar\":{\"outlinewidth\":0,\"ticks\":\"\"}},\"marker\":{\"colorbar\":{\"outlinewidth\":0,\"ticks\":\"\"}}}],\"scattermapbox\":[{\"type\":\"scattermapbox\",\"marker\":{\"colorbar\":{\"outlinewidth\":0,\"ticks\":\"\"}}}],\"scatterternary\":[{\"type\":\"scatterternary\",\"marker\":{\"colorbar\":{\"outlinewidth\":0,\"ticks\":\"\"}}}],\"scattercarpet\":[{\"type\":\"scattercarpet\",\"marker\":{\"colorbar\":{\"outlinewidth\":0,\"ticks\":\"\"}}}],\"carpet\":[{\"aaxis\":{\"endlinecolor\":\"#2a3f5f\",\"gridcolor\":\"white\",\"linecolor\":\"white\",\"minorgridcolor\":\"white\",\"startlinecolor\":\"#2a3f5f\"},\"baxis\":{\"endlinecolor\":\"#2a3f5f\",\"gridcolor\":\"white\",\"linecolor\":\"white\",\"minorgridcolor\":\"white\",\"startlinecolor\":\"#2a3f5f\"},\"type\":\"carpet\"}],\"table\":[{\"cells\":{\"fill\":{\"color\":\"#EBF0F8\"},\"line\":{\"color\":\"white\"}},\"header\":{\"fill\":{\"color\":\"#C8D4E3\"},\"line\":{\"color\":\"white\"}},\"type\":\"table\"}],\"barpolar\":[{\"marker\":{\"line\":{\"color\":\"#E5ECF6\",\"width\":0.5},\"pattern\":{\"fillmode\":\"overlay\",\"size\":10,\"solidity\":0.2}},\"type\":\"barpolar\"}],\"pie\":[{\"automargin\":true,\"type\":\"pie\"}]},\"layout\":{\"autotypenumbers\":\"strict\",\"colorway\":[\"#636efa\",\"#EF553B\",\"#00cc96\",\"#ab63fa\",\"#FFA15A\",\"#19d3f3\",\"#FF6692\",\"#B6E880\",\"#FF97FF\",\"#FECB52\"],\"font\":{\"color\":\"#2a3f5f\"},\"hovermode\":\"closest\",\"hoverlabel\":{\"align\":\"left\"},\"paper_bgcolor\":\"white\",\"plot_bgcolor\":\"#E5ECF6\",\"polar\":{\"bgcolor\":\"#E5ECF6\",\"angularaxis\":{\"gridcolor\":\"white\",\"linecolor\":\"white\",\"ticks\":\"\"},\"radialaxis\":{\"gridcolor\":\"white\",\"linecolor\":\"white\",\"ticks\":\"\"}},\"ternary\":{\"bgcolor\":\"#E5ECF6\",\"aaxis\":{\"gridcolor\":\"white\",\"linecolor\":\"white\",\"ticks\":\"\"},\"baxis\":{\"gridcolor\":\"white\",\"linecolor\":\"white\",\"ticks\":\"\"},\"caxis\":{\"gridcolor\":\"white\",\"linecolor\":\"white\",\"ticks\":\"\"}},\"coloraxis\":{\"colorbar\":{\"outlinewidth\":0,\"ticks\":\"\"}},\"colorscale\":{\"sequential\":[[0.0,\"#0d0887\"],[0.1111111111111111,\"#46039f\"],[0.2222222222222222,\"#7201a8\"],[0.3333333333333333,\"#9c179e\"],[0.4444444444444444,\"#bd3786\"],[0.5555555555555556,\"#d8576b\"],[0.6666666666666666,\"#ed7953\"],[0.7777777777777778,\"#fb9f3a\"],[0.8888888888888888,\"#fdca26\"],[1.0,\"#f0f921\"]],\"sequentialminus\":[[0.0,\"#0d0887\"],[0.1111111111111111,\"#46039f\"],[0.2222222222222222,\"#7201a8\"],[0.3333333333333333,\"#9c179e\"],[0.4444444444444444,\"#bd3786\"],[0.5555555555555556,\"#d8576b\"],[0.6666666666666666,\"#ed7953\"],[0.7777777777777778,\"#fb9f3a\"],[0.8888888888888888,\"#fdca26\"],[1.0,\"#f0f921\"]],\"diverging\":[[0,\"#8e0152\"],[0.1,\"#c51b7d\"],[0.2,\"#de77ae\"],[0.3,\"#f1b6da\"],[0.4,\"#fde0ef\"],[0.5,\"#f7f7f7\"],[0.6,\"#e6f5d0\"],[0.7,\"#b8e186\"],[0.8,\"#7fbc41\"],[0.9,\"#4d9221\"],[1,\"#276419\"]]},\"xaxis\":{\"gridcolor\":\"white\",\"linecolor\":\"white\",\"ticks\":\"\",\"title\":{\"standoff\":15},\"zerolinecolor\":\"white\",\"automargin\":true,\"zerolinewidth\":2},\"yaxis\":{\"gridcolor\":\"white\",\"linecolor\":\"white\",\"ticks\":\"\",\"title\":{\"standoff\":15},\"zerolinecolor\":\"white\",\"automargin\":true,\"zerolinewidth\":2},\"scene\":{\"xaxis\":{\"backgroundcolor\":\"#E5ECF6\",\"gridcolor\":\"white\",\"linecolor\":\"white\",\"showbackground\":true,\"ticks\":\"\",\"zerolinecolor\":\"white\",\"gridwidth\":2},\"yaxis\":{\"backgroundcolor\":\"#E5ECF6\",\"gridcolor\":\"white\",\"linecolor\":\"white\",\"showbackground\":true,\"ticks\":\"\",\"zerolinecolor\":\"white\",\"gridwidth\":2},\"zaxis\":{\"backgroundcolor\":\"#E5ECF6\",\"gridcolor\":\"white\",\"linecolor\":\"white\",\"showbackground\":true,\"ticks\":\"\",\"zerolinecolor\":\"white\",\"gridwidth\":2}},\"shapedefaults\":{\"line\":{\"color\":\"#2a3f5f\"}},\"annotationdefaults\":{\"arrowcolor\":\"#2a3f5f\",\"arrowhead\":0,\"arrowwidth\":1},\"geo\":{\"bgcolor\":\"white\",\"landcolor\":\"#E5ECF6\",\"subunitcolor\":\"white\",\"showland\":true,\"showlakes\":true,\"lakecolor\":\"white\"},\"title\":{\"x\":0.05},\"mapbox\":{\"style\":\"light\"}}},\"xaxis\":{\"anchor\":\"y\",\"domain\":[0.0,1.0],\"title\":{\"text\":\"alcohol\"}},\"yaxis\":{\"anchor\":\"x\",\"domain\":[0.0,1.0],\"title\":{\"text\":\"count\"}},\"legend\":{\"tracegroupgap\":0},\"title\":{\"text\":\"Histogramme pour alcohol\"},\"barmode\":\"relative\"},                        {\"responsive\": true}                    ).then(function(){\n",
              "                            \n",
              "var gd = document.getElementById('74eee63c-6009-44e5-8861-4f81b44314c6');\n",
              "var x = new MutationObserver(function (mutations, observer) {{\n",
              "        var display = window.getComputedStyle(gd).display;\n",
              "        if (!display || display === 'none') {{\n",
              "            console.log([gd, 'removed!']);\n",
              "            Plotly.purge(gd);\n",
              "            observer.disconnect();\n",
              "        }}\n",
              "}});\n",
              "\n",
              "// Listen for the removal of the full notebook cells\n",
              "var notebookContainer = gd.closest('#notebook-container');\n",
              "if (notebookContainer) {{\n",
              "    x.observe(notebookContainer, {childList: true});\n",
              "}}\n",
              "\n",
              "// Listen for the clearing of the current output cell\n",
              "var outputEl = gd.closest('.output');\n",
              "if (outputEl) {{\n",
              "    x.observe(outputEl, {childList: true});\n",
              "}}\n",
              "\n",
              "                        })                };                            </script>        </div>\n",
              "</body>\n",
              "</html>"
            ]
          },
          "metadata": {}
        },
        {
          "output_type": "display_data",
          "data": {
            "text/html": [
              "<html>\n",
              "<head><meta charset=\"utf-8\" /></head>\n",
              "<body>\n",
              "    <div>            <script src=\"https://cdnjs.cloudflare.com/ajax/libs/mathjax/2.7.5/MathJax.js?config=TeX-AMS-MML_SVG\"></script><script type=\"text/javascript\">if (window.MathJax && window.MathJax.Hub && window.MathJax.Hub.Config) {window.MathJax.Hub.Config({SVG: {font: \"STIX-Web\"}});}</script>                <script type=\"text/javascript\">window.PlotlyConfig = {MathJaxConfig: 'local'};</script>\n",
              "        <script charset=\"utf-8\" src=\"https://cdn.plot.ly/plotly-2.24.1.min.js\"></script>                <div id=\"a9689ad7-403e-4464-ba18-85f8d701801d\" class=\"plotly-graph-div\" style=\"height:525px; width:100%;\"></div>            <script type=\"text/javascript\">                                    window.PLOTLYENV=window.PLOTLYENV || {};                                    if (document.getElementById(\"a9689ad7-403e-4464-ba18-85f8d701801d\")) {                    Plotly.newPlot(                        \"a9689ad7-403e-4464-ba18-85f8d701801d\",                        [{\"alignmentgroup\":\"True\",\"bingroup\":\"x\",\"hovertemplate\":\"quality=%{x}\\u003cbr\\u003ecount=%{y}\\u003cextra\\u003e\\u003c\\u002fextra\\u003e\",\"legendgroup\":\"\",\"marker\":{\"color\":\"#636efa\",\"pattern\":{\"shape\":\"\"}},\"name\":\"\",\"offsetgroup\":\"\",\"orientation\":\"v\",\"showlegend\":false,\"x\":[5,5,5,6,5,5,5,7,7,5,5,5,7,6,5,5,5,6,5,5,5,6,5,5,5,6,6,7,5,4,6,5,4,5,5,6,6,5,6,5,5,6,5,5,5,5,5,5,6,5,4,5,6,5,4,5,5,6,5,6,5,5,5,5,6,5,4,5,5,6,6,6,5,5,5,5,5,5,5,6,5,6,6,5,6,5,5,5,5,7,5,5,6,5,5,5,6,5,6,5,5,6,6,4,5,5,5,5,5,5,6,5,4,6,5,5,5,5,4,6,4,6,6,5,5,6,5,5,5,5,5,5,6,5,5,5,5,6,5,5,5,6,4,7,6,7,7,5,6,6,5,6,5,5,5,5,6,5,5,6,6,6,7,6,6,6,6,5,6,6,7,7,6,5,6,6,6,5,5,5,5,5,5,7,5,4,5,5,5,4,8,6,6,6,6,6,6,8,7,6,7,7,5,5,6,6,7,5,7,6,6,6,5,5,5,5,6,6,5,5,5,6,6,6,6,5,5,7,6,5,6,6,7,5,6,5,7,7,6,5,7,6,6,6,6,6,6,5,5,6,6,5,7,7,6,5,6,5,5,7,7,5,7,6,6,6,7,6,6,5,6,8,6,5,7,5,6,5,5,6,6,5,6,7,4,6,5,7,5,5,6,5,6,5,7,5,7,7,6,6,5,6,7,5,5,6,5,6,6,5,8,7,7,5,5,6,6,6,6,7,5,8,5,5,3,6,5,6,6,6,6,5,5,6,6,5,5,6,6,5,8,5,5,6,6,7,7,6,6,8,6,5,8,6,6,7,7,7,7,7,6,7,6,6,7,7,5,6,3,6,5,5,6,5,6,5,5,6,6,6,5,6,7,5,5,6,5,6,6,5,6,6,6,6,6,6,5,5,6,5,6,5,5,6,6,5,6,6,6,6,5,4,5,5,6,5,5,7,5,8,5,6,5,5,5,6,6,5,6,6,6,6,5,5,6,5,6,5,5,5,5,5,5,5,6,5,6,5,6,4,5,5,5,5,6,5,5,5,4,7,6,5,5,6,5,5,5,7,6,6,5,6,5,6,6,6,5,5,6,5,5,5,6,5,5,5,5,5,5,5,5,5,5,6,6,5,6,6,6,6,4,4,5,5,5,6,5,5,5,5,5,5,5,5,5,5,6,5,5,6,5,5,5,5,5,5,6,5,6,5,5,6,6,6,6,5,5,5,6,6,6,5,5,5,5,5,6,6,6,5,6,5,6,5,5,6,5,6,5,5,6,5,5,5,6,6,5,6,5,6,5,6,5,5,7,6,5,7,6,6,7,5,6,5,6,4,6,5,5,7,5,5,7,5,4,6,4,7,7,7,5,6,5,5,6,5,5,5,6,6,6,7,7,5,5,5,5,5,4,7,6,6,6,6,5,6,6,5,5,6,5,6,6,7,6,7,5,7,7,7,5,6,6,6,6,6,6,5,6,6,6,5,6,5,7,6,4,5,7,5,6,5,6,5,7,7,7,7,7,7,7,7,7,7,5,6,7,6,5,5,6,5,6,6,7,5,5,7,6,5,6,6,6,5,5,6,5,5,5,6,6,6,7,5,7,7,7,7,7,6,5,6,6,7,6,5,6,6,5,6,7,6,6,5,7,5,6,7,7,7,6,6,6,6,6,5,6,6,5,5,7,6,7,5,7,7,6,8,6,6,6,6,7,7,5,7,5,6,6,5,7,7,6,6,5,7,6,7,7,8,6,6,7,6,6,5,6,6,6,6,5,7,5,6,6,7,6,6,6,6,6,6,5,8,6,7,6,5,6,7,7,7,6,6,5,6,6,6,6,6,5,6,6,7,6,6,6,5,6,5,7,7,7,5,7,6,6,6,6,6,6,6,4,5,6,5,5,5,5,4,6,5,7,6,6,6,6,6,6,7,8,5,7,7,5,7,7,6,6,6,6,6,6,6,6,5,5,5,7,5,6,5,5,6,6,6,4,4,5,5,5,5,6,5,5,5,5,5,6,6,5,4,5,6,6,6,6,6,6,6,5,5,6,6,4,6,6,7,6,6,6,6,5,5,5,5,5,6,6,5,6,6,3,6,6,6,5,5,5,5,6,5,6,6,6,6,5,6,6,6,6,5,6,6,5,6,5,5,6,5,5,5,6,6,6,6,5,6,5,5,6,5,5,5,6,5,6,5,6,6,5,6,6,5,6,5,5,6,6,6,5,5,5,5,5,5,6,5,5,5,6,5,5,6,5,6,8,6,6,6,7,6,6,6,6,5,5,5,5,7,5,5,5,5,6,4,5,5,5,5,6,7,6,5,5,5,6,5,6,5,8,7,7,7,6,6,5,5,7,6,4,6,5,7,4,7,3,5,5,6,5,5,7,5,7,3,5,4,5,5,5,5,5,5,6,5,5,7,6,6,6,5,6,6,3,6,6,6,5,6,5,6,6,6,5,5,5,5,5,6,6,6,6,5,6,5,7,6,5,6,7,6,5,5,8,5,6,5,7,5,6,5,5,5,5,5,5,6,6,5,5,6,6,6,5,6,6,6,6,6,6,5,5,7,6,6,6,6,6,6,5,6,5],\"xaxis\":\"x\",\"yaxis\":\"y\",\"type\":\"histogram\"}],                        {\"template\":{\"data\":{\"histogram2dcontour\":[{\"type\":\"histogram2dcontour\",\"colorbar\":{\"outlinewidth\":0,\"ticks\":\"\"},\"colorscale\":[[0.0,\"#0d0887\"],[0.1111111111111111,\"#46039f\"],[0.2222222222222222,\"#7201a8\"],[0.3333333333333333,\"#9c179e\"],[0.4444444444444444,\"#bd3786\"],[0.5555555555555556,\"#d8576b\"],[0.6666666666666666,\"#ed7953\"],[0.7777777777777778,\"#fb9f3a\"],[0.8888888888888888,\"#fdca26\"],[1.0,\"#f0f921\"]]}],\"choropleth\":[{\"type\":\"choropleth\",\"colorbar\":{\"outlinewidth\":0,\"ticks\":\"\"}}],\"histogram2d\":[{\"type\":\"histogram2d\",\"colorbar\":{\"outlinewidth\":0,\"ticks\":\"\"},\"colorscale\":[[0.0,\"#0d0887\"],[0.1111111111111111,\"#46039f\"],[0.2222222222222222,\"#7201a8\"],[0.3333333333333333,\"#9c179e\"],[0.4444444444444444,\"#bd3786\"],[0.5555555555555556,\"#d8576b\"],[0.6666666666666666,\"#ed7953\"],[0.7777777777777778,\"#fb9f3a\"],[0.8888888888888888,\"#fdca26\"],[1.0,\"#f0f921\"]]}],\"heatmap\":[{\"type\":\"heatmap\",\"colorbar\":{\"outlinewidth\":0,\"ticks\":\"\"},\"colorscale\":[[0.0,\"#0d0887\"],[0.1111111111111111,\"#46039f\"],[0.2222222222222222,\"#7201a8\"],[0.3333333333333333,\"#9c179e\"],[0.4444444444444444,\"#bd3786\"],[0.5555555555555556,\"#d8576b\"],[0.6666666666666666,\"#ed7953\"],[0.7777777777777778,\"#fb9f3a\"],[0.8888888888888888,\"#fdca26\"],[1.0,\"#f0f921\"]]}],\"heatmapgl\":[{\"type\":\"heatmapgl\",\"colorbar\":{\"outlinewidth\":0,\"ticks\":\"\"},\"colorscale\":[[0.0,\"#0d0887\"],[0.1111111111111111,\"#46039f\"],[0.2222222222222222,\"#7201a8\"],[0.3333333333333333,\"#9c179e\"],[0.4444444444444444,\"#bd3786\"],[0.5555555555555556,\"#d8576b\"],[0.6666666666666666,\"#ed7953\"],[0.7777777777777778,\"#fb9f3a\"],[0.8888888888888888,\"#fdca26\"],[1.0,\"#f0f921\"]]}],\"contourcarpet\":[{\"type\":\"contourcarpet\",\"colorbar\":{\"outlinewidth\":0,\"ticks\":\"\"}}],\"contour\":[{\"type\":\"contour\",\"colorbar\":{\"outlinewidth\":0,\"ticks\":\"\"},\"colorscale\":[[0.0,\"#0d0887\"],[0.1111111111111111,\"#46039f\"],[0.2222222222222222,\"#7201a8\"],[0.3333333333333333,\"#9c179e\"],[0.4444444444444444,\"#bd3786\"],[0.5555555555555556,\"#d8576b\"],[0.6666666666666666,\"#ed7953\"],[0.7777777777777778,\"#fb9f3a\"],[0.8888888888888888,\"#fdca26\"],[1.0,\"#f0f921\"]]}],\"surface\":[{\"type\":\"surface\",\"colorbar\":{\"outlinewidth\":0,\"ticks\":\"\"},\"colorscale\":[[0.0,\"#0d0887\"],[0.1111111111111111,\"#46039f\"],[0.2222222222222222,\"#7201a8\"],[0.3333333333333333,\"#9c179e\"],[0.4444444444444444,\"#bd3786\"],[0.5555555555555556,\"#d8576b\"],[0.6666666666666666,\"#ed7953\"],[0.7777777777777778,\"#fb9f3a\"],[0.8888888888888888,\"#fdca26\"],[1.0,\"#f0f921\"]]}],\"mesh3d\":[{\"type\":\"mesh3d\",\"colorbar\":{\"outlinewidth\":0,\"ticks\":\"\"}}],\"scatter\":[{\"fillpattern\":{\"fillmode\":\"overlay\",\"size\":10,\"solidity\":0.2},\"type\":\"scatter\"}],\"parcoords\":[{\"type\":\"parcoords\",\"line\":{\"colorbar\":{\"outlinewidth\":0,\"ticks\":\"\"}}}],\"scatterpolargl\":[{\"type\":\"scatterpolargl\",\"marker\":{\"colorbar\":{\"outlinewidth\":0,\"ticks\":\"\"}}}],\"bar\":[{\"error_x\":{\"color\":\"#2a3f5f\"},\"error_y\":{\"color\":\"#2a3f5f\"},\"marker\":{\"line\":{\"color\":\"#E5ECF6\",\"width\":0.5},\"pattern\":{\"fillmode\":\"overlay\",\"size\":10,\"solidity\":0.2}},\"type\":\"bar\"}],\"scattergeo\":[{\"type\":\"scattergeo\",\"marker\":{\"colorbar\":{\"outlinewidth\":0,\"ticks\":\"\"}}}],\"scatterpolar\":[{\"type\":\"scatterpolar\",\"marker\":{\"colorbar\":{\"outlinewidth\":0,\"ticks\":\"\"}}}],\"histogram\":[{\"marker\":{\"pattern\":{\"fillmode\":\"overlay\",\"size\":10,\"solidity\":0.2}},\"type\":\"histogram\"}],\"scattergl\":[{\"type\":\"scattergl\",\"marker\":{\"colorbar\":{\"outlinewidth\":0,\"ticks\":\"\"}}}],\"scatter3d\":[{\"type\":\"scatter3d\",\"line\":{\"colorbar\":{\"outlinewidth\":0,\"ticks\":\"\"}},\"marker\":{\"colorbar\":{\"outlinewidth\":0,\"ticks\":\"\"}}}],\"scattermapbox\":[{\"type\":\"scattermapbox\",\"marker\":{\"colorbar\":{\"outlinewidth\":0,\"ticks\":\"\"}}}],\"scatterternary\":[{\"type\":\"scatterternary\",\"marker\":{\"colorbar\":{\"outlinewidth\":0,\"ticks\":\"\"}}}],\"scattercarpet\":[{\"type\":\"scattercarpet\",\"marker\":{\"colorbar\":{\"outlinewidth\":0,\"ticks\":\"\"}}}],\"carpet\":[{\"aaxis\":{\"endlinecolor\":\"#2a3f5f\",\"gridcolor\":\"white\",\"linecolor\":\"white\",\"minorgridcolor\":\"white\",\"startlinecolor\":\"#2a3f5f\"},\"baxis\":{\"endlinecolor\":\"#2a3f5f\",\"gridcolor\":\"white\",\"linecolor\":\"white\",\"minorgridcolor\":\"white\",\"startlinecolor\":\"#2a3f5f\"},\"type\":\"carpet\"}],\"table\":[{\"cells\":{\"fill\":{\"color\":\"#EBF0F8\"},\"line\":{\"color\":\"white\"}},\"header\":{\"fill\":{\"color\":\"#C8D4E3\"},\"line\":{\"color\":\"white\"}},\"type\":\"table\"}],\"barpolar\":[{\"marker\":{\"line\":{\"color\":\"#E5ECF6\",\"width\":0.5},\"pattern\":{\"fillmode\":\"overlay\",\"size\":10,\"solidity\":0.2}},\"type\":\"barpolar\"}],\"pie\":[{\"automargin\":true,\"type\":\"pie\"}]},\"layout\":{\"autotypenumbers\":\"strict\",\"colorway\":[\"#636efa\",\"#EF553B\",\"#00cc96\",\"#ab63fa\",\"#FFA15A\",\"#19d3f3\",\"#FF6692\",\"#B6E880\",\"#FF97FF\",\"#FECB52\"],\"font\":{\"color\":\"#2a3f5f\"},\"hovermode\":\"closest\",\"hoverlabel\":{\"align\":\"left\"},\"paper_bgcolor\":\"white\",\"plot_bgcolor\":\"#E5ECF6\",\"polar\":{\"bgcolor\":\"#E5ECF6\",\"angularaxis\":{\"gridcolor\":\"white\",\"linecolor\":\"white\",\"ticks\":\"\"},\"radialaxis\":{\"gridcolor\":\"white\",\"linecolor\":\"white\",\"ticks\":\"\"}},\"ternary\":{\"bgcolor\":\"#E5ECF6\",\"aaxis\":{\"gridcolor\":\"white\",\"linecolor\":\"white\",\"ticks\":\"\"},\"baxis\":{\"gridcolor\":\"white\",\"linecolor\":\"white\",\"ticks\":\"\"},\"caxis\":{\"gridcolor\":\"white\",\"linecolor\":\"white\",\"ticks\":\"\"}},\"coloraxis\":{\"colorbar\":{\"outlinewidth\":0,\"ticks\":\"\"}},\"colorscale\":{\"sequential\":[[0.0,\"#0d0887\"],[0.1111111111111111,\"#46039f\"],[0.2222222222222222,\"#7201a8\"],[0.3333333333333333,\"#9c179e\"],[0.4444444444444444,\"#bd3786\"],[0.5555555555555556,\"#d8576b\"],[0.6666666666666666,\"#ed7953\"],[0.7777777777777778,\"#fb9f3a\"],[0.8888888888888888,\"#fdca26\"],[1.0,\"#f0f921\"]],\"sequentialminus\":[[0.0,\"#0d0887\"],[0.1111111111111111,\"#46039f\"],[0.2222222222222222,\"#7201a8\"],[0.3333333333333333,\"#9c179e\"],[0.4444444444444444,\"#bd3786\"],[0.5555555555555556,\"#d8576b\"],[0.6666666666666666,\"#ed7953\"],[0.7777777777777778,\"#fb9f3a\"],[0.8888888888888888,\"#fdca26\"],[1.0,\"#f0f921\"]],\"diverging\":[[0,\"#8e0152\"],[0.1,\"#c51b7d\"],[0.2,\"#de77ae\"],[0.3,\"#f1b6da\"],[0.4,\"#fde0ef\"],[0.5,\"#f7f7f7\"],[0.6,\"#e6f5d0\"],[0.7,\"#b8e186\"],[0.8,\"#7fbc41\"],[0.9,\"#4d9221\"],[1,\"#276419\"]]},\"xaxis\":{\"gridcolor\":\"white\",\"linecolor\":\"white\",\"ticks\":\"\",\"title\":{\"standoff\":15},\"zerolinecolor\":\"white\",\"automargin\":true,\"zerolinewidth\":2},\"yaxis\":{\"gridcolor\":\"white\",\"linecolor\":\"white\",\"ticks\":\"\",\"title\":{\"standoff\":15},\"zerolinecolor\":\"white\",\"automargin\":true,\"zerolinewidth\":2},\"scene\":{\"xaxis\":{\"backgroundcolor\":\"#E5ECF6\",\"gridcolor\":\"white\",\"linecolor\":\"white\",\"showbackground\":true,\"ticks\":\"\",\"zerolinecolor\":\"white\",\"gridwidth\":2},\"yaxis\":{\"backgroundcolor\":\"#E5ECF6\",\"gridcolor\":\"white\",\"linecolor\":\"white\",\"showbackground\":true,\"ticks\":\"\",\"zerolinecolor\":\"white\",\"gridwidth\":2},\"zaxis\":{\"backgroundcolor\":\"#E5ECF6\",\"gridcolor\":\"white\",\"linecolor\":\"white\",\"showbackground\":true,\"ticks\":\"\",\"zerolinecolor\":\"white\",\"gridwidth\":2}},\"shapedefaults\":{\"line\":{\"color\":\"#2a3f5f\"}},\"annotationdefaults\":{\"arrowcolor\":\"#2a3f5f\",\"arrowhead\":0,\"arrowwidth\":1},\"geo\":{\"bgcolor\":\"white\",\"landcolor\":\"#E5ECF6\",\"subunitcolor\":\"white\",\"showland\":true,\"showlakes\":true,\"lakecolor\":\"white\"},\"title\":{\"x\":0.05},\"mapbox\":{\"style\":\"light\"}}},\"xaxis\":{\"anchor\":\"y\",\"domain\":[0.0,1.0],\"title\":{\"text\":\"quality\"}},\"yaxis\":{\"anchor\":\"x\",\"domain\":[0.0,1.0],\"title\":{\"text\":\"count\"}},\"legend\":{\"tracegroupgap\":0},\"title\":{\"text\":\"Histogramme pour quality\"},\"barmode\":\"relative\"},                        {\"responsive\": true}                    ).then(function(){\n",
              "                            \n",
              "var gd = document.getElementById('a9689ad7-403e-4464-ba18-85f8d701801d');\n",
              "var x = new MutationObserver(function (mutations, observer) {{\n",
              "        var display = window.getComputedStyle(gd).display;\n",
              "        if (!display || display === 'none') {{\n",
              "            console.log([gd, 'removed!']);\n",
              "            Plotly.purge(gd);\n",
              "            observer.disconnect();\n",
              "        }}\n",
              "}});\n",
              "\n",
              "// Listen for the removal of the full notebook cells\n",
              "var notebookContainer = gd.closest('#notebook-container');\n",
              "if (notebookContainer) {{\n",
              "    x.observe(notebookContainer, {childList: true});\n",
              "}}\n",
              "\n",
              "// Listen for the clearing of the current output cell\n",
              "var outputEl = gd.closest('.output');\n",
              "if (outputEl) {{\n",
              "    x.observe(outputEl, {childList: true});\n",
              "}}\n",
              "\n",
              "                        })                };                            </script>        </div>\n",
              "</body>\n",
              "</html>"
            ]
          },
          "metadata": {}
        }
      ]
    },
    {
      "cell_type": "code",
      "source": [
        "corr_matrix = df.corr()\n",
        "fig = px.imshow(corr_matrix,\n",
        "                text_auto=True,\n",
        "                aspect=\"auto\",\n",
        "                color_continuous_scale='Viridis',\n",
        "                title='Matrice de corrélation')\n",
        "fig.show()"
      ],
      "metadata": {
        "colab": {
          "base_uri": "https://localhost:8080/",
          "height": 542
        },
        "id": "8XZBSMMhIDNx",
        "outputId": "809e2c7f-c028-45b4-868b-52c29154fe3a"
      },
      "execution_count": 88,
      "outputs": [
        {
          "output_type": "display_data",
          "data": {
            "text/html": [
              "<html>\n",
              "<head><meta charset=\"utf-8\" /></head>\n",
              "<body>\n",
              "    <div>            <script src=\"https://cdnjs.cloudflare.com/ajax/libs/mathjax/2.7.5/MathJax.js?config=TeX-AMS-MML_SVG\"></script><script type=\"text/javascript\">if (window.MathJax && window.MathJax.Hub && window.MathJax.Hub.Config) {window.MathJax.Hub.Config({SVG: {font: \"STIX-Web\"}});}</script>                <script type=\"text/javascript\">window.PlotlyConfig = {MathJaxConfig: 'local'};</script>\n",
              "        <script charset=\"utf-8\" src=\"https://cdn.plot.ly/plotly-2.24.1.min.js\"></script>                <div id=\"681c492b-3d33-4c14-952f-89ffa056f74c\" class=\"plotly-graph-div\" style=\"height:525px; width:100%;\"></div>            <script type=\"text/javascript\">                                    window.PLOTLYENV=window.PLOTLYENV || {};                                    if (document.getElementById(\"681c492b-3d33-4c14-952f-89ffa056f74c\")) {                    Plotly.newPlot(                        \"681c492b-3d33-4c14-952f-89ffa056f74c\",                        [{\"coloraxis\":\"coloraxis\",\"name\":\"0\",\"texttemplate\":\"%{z}\",\"x\":[\"fixed acidity\",\"volatile acidity\",\"citric acid\",\"residual sugar\",\"chlorides\",\"free sulfur dioxide\",\"total sulfur dioxide\",\"density\",\"pH\",\"sulphates\",\"alcohol\",\"quality\"],\"y\":[\"fixed acidity\",\"volatile acidity\",\"citric acid\",\"residual sugar\",\"chlorides\",\"free sulfur dioxide\",\"total sulfur dioxide\",\"density\",\"pH\",\"sulphates\",\"alcohol\",\"quality\"],\"z\":[[1.0,-0.2507283222922267,0.6731572507629235,0.17183053523615718,0.10788856981486475,-0.16483079329778236,-0.11062836769999605,0.6815008826691703,-0.6851625988235482,0.1745918252127846,-0.07505485317982612,0.12197009989725939],[-0.2507283222922267,1.0,-0.5441869374183994,-0.005751096727715598,0.05633625898948119,-0.0019624789024567917,0.07774772174216345,0.01651151969842792,0.2214915179882762,-0.27607859664162426,-0.20390927263243766,-0.40739351292438425],[0.6731572507629235,-0.5441869374183994,1.0,0.17581485365184404,0.24531248978995243,-0.05758910401502515,0.0368711101713151,0.3752432604912532,-0.5463391381265055,0.33123175783491793,0.106250343253282,0.24082083714719305],[0.17183053523615718,-0.005751096727715598,0.17581485365184404,1.0,0.07086311181911287,0.1653387971252345,0.1907900349517252,0.38014695171471213,-0.11695893598551792,0.01747450374054128,0.05842060594172391,0.02200193057996692],[0.10788856981486475,0.05633625898948119,0.24531248978995243,0.07086311181911287,1.0,0.015280458103643783,0.04816316089792963,0.20890071067822524,-0.2777590680558625,0.37478389389790284,-0.2299170942071166,-0.12408453132892894],[-0.16483079329778236,-0.0019624789024567917,-0.05758910401502515,0.1653387971252345,0.015280458103643783,1.0,0.6610928721834333,-0.054150318124640315,0.0728037064384535,0.03444512164275631,-0.047094832015450706,-0.06325964147253875],[-0.11062836769999605,0.07774772174216345,0.0368711101713151,0.1907900349517252,0.04816316089792963,0.6610928721834333,1.0,0.05017482698912892,-0.0591257200125416,0.026893682152839316,-0.18816479879899578,-0.18333914747213004],[0.6815008826691703,0.01651151969842792,0.3752432604912532,0.38014695171471213,0.20890071067822524,-0.054150318124640315,0.05017482698912892,1.0,-0.3527746247768655,0.14313929001288817,-0.49472689818400944,-0.17520792322644704],[-0.6851625988235482,0.2214915179882762,-0.5463391381265055,-0.11695893598551792,-0.2777590680558625,0.0728037064384535,-0.0591257200125416,-0.3527746247768655,1.0,-0.18549903114396318,0.22532220287324645,-0.05245303335788242],[0.1745918252127846,-0.27607859664162426,0.33123175783491793,0.01747450374054128,0.37478389389790284,0.03444512164275631,0.026893682152839316,0.14313929001288817,-0.18549903114396318,1.0,0.094421126411993,0.2577102599306222],[-0.07505485317982612,-0.20390927263243766,0.106250343253282,0.05842060594172391,-0.2299170942071166,-0.047094832015450706,-0.18816479879899578,-0.49472689818400944,0.22532220287324645,0.094421126411993,1.0,0.48486621180851264],[0.12197009989725939,-0.40739351292438425,0.24082083714719305,0.02200193057996692,-0.12408453132892894,-0.06325964147253875,-0.18333914747213004,-0.17520792322644704,-0.05245303335788242,0.2577102599306222,0.48486621180851264,1.0]],\"type\":\"heatmap\",\"xaxis\":\"x\",\"yaxis\":\"y\",\"hovertemplate\":\"x: %{x}\\u003cbr\\u003ey: %{y}\\u003cbr\\u003ecolor: %{z}\\u003cextra\\u003e\\u003c\\u002fextra\\u003e\"}],                        {\"template\":{\"data\":{\"histogram2dcontour\":[{\"type\":\"histogram2dcontour\",\"colorbar\":{\"outlinewidth\":0,\"ticks\":\"\"},\"colorscale\":[[0.0,\"#0d0887\"],[0.1111111111111111,\"#46039f\"],[0.2222222222222222,\"#7201a8\"],[0.3333333333333333,\"#9c179e\"],[0.4444444444444444,\"#bd3786\"],[0.5555555555555556,\"#d8576b\"],[0.6666666666666666,\"#ed7953\"],[0.7777777777777778,\"#fb9f3a\"],[0.8888888888888888,\"#fdca26\"],[1.0,\"#f0f921\"]]}],\"choropleth\":[{\"type\":\"choropleth\",\"colorbar\":{\"outlinewidth\":0,\"ticks\":\"\"}}],\"histogram2d\":[{\"type\":\"histogram2d\",\"colorbar\":{\"outlinewidth\":0,\"ticks\":\"\"},\"colorscale\":[[0.0,\"#0d0887\"],[0.1111111111111111,\"#46039f\"],[0.2222222222222222,\"#7201a8\"],[0.3333333333333333,\"#9c179e\"],[0.4444444444444444,\"#bd3786\"],[0.5555555555555556,\"#d8576b\"],[0.6666666666666666,\"#ed7953\"],[0.7777777777777778,\"#fb9f3a\"],[0.8888888888888888,\"#fdca26\"],[1.0,\"#f0f921\"]]}],\"heatmap\":[{\"type\":\"heatmap\",\"colorbar\":{\"outlinewidth\":0,\"ticks\":\"\"},\"colorscale\":[[0.0,\"#0d0887\"],[0.1111111111111111,\"#46039f\"],[0.2222222222222222,\"#7201a8\"],[0.3333333333333333,\"#9c179e\"],[0.4444444444444444,\"#bd3786\"],[0.5555555555555556,\"#d8576b\"],[0.6666666666666666,\"#ed7953\"],[0.7777777777777778,\"#fb9f3a\"],[0.8888888888888888,\"#fdca26\"],[1.0,\"#f0f921\"]]}],\"heatmapgl\":[{\"type\":\"heatmapgl\",\"colorbar\":{\"outlinewidth\":0,\"ticks\":\"\"},\"colorscale\":[[0.0,\"#0d0887\"],[0.1111111111111111,\"#46039f\"],[0.2222222222222222,\"#7201a8\"],[0.3333333333333333,\"#9c179e\"],[0.4444444444444444,\"#bd3786\"],[0.5555555555555556,\"#d8576b\"],[0.6666666666666666,\"#ed7953\"],[0.7777777777777778,\"#fb9f3a\"],[0.8888888888888888,\"#fdca26\"],[1.0,\"#f0f921\"]]}],\"contourcarpet\":[{\"type\":\"contourcarpet\",\"colorbar\":{\"outlinewidth\":0,\"ticks\":\"\"}}],\"contour\":[{\"type\":\"contour\",\"colorbar\":{\"outlinewidth\":0,\"ticks\":\"\"},\"colorscale\":[[0.0,\"#0d0887\"],[0.1111111111111111,\"#46039f\"],[0.2222222222222222,\"#7201a8\"],[0.3333333333333333,\"#9c179e\"],[0.4444444444444444,\"#bd3786\"],[0.5555555555555556,\"#d8576b\"],[0.6666666666666666,\"#ed7953\"],[0.7777777777777778,\"#fb9f3a\"],[0.8888888888888888,\"#fdca26\"],[1.0,\"#f0f921\"]]}],\"surface\":[{\"type\":\"surface\",\"colorbar\":{\"outlinewidth\":0,\"ticks\":\"\"},\"colorscale\":[[0.0,\"#0d0887\"],[0.1111111111111111,\"#46039f\"],[0.2222222222222222,\"#7201a8\"],[0.3333333333333333,\"#9c179e\"],[0.4444444444444444,\"#bd3786\"],[0.5555555555555556,\"#d8576b\"],[0.6666666666666666,\"#ed7953\"],[0.7777777777777778,\"#fb9f3a\"],[0.8888888888888888,\"#fdca26\"],[1.0,\"#f0f921\"]]}],\"mesh3d\":[{\"type\":\"mesh3d\",\"colorbar\":{\"outlinewidth\":0,\"ticks\":\"\"}}],\"scatter\":[{\"fillpattern\":{\"fillmode\":\"overlay\",\"size\":10,\"solidity\":0.2},\"type\":\"scatter\"}],\"parcoords\":[{\"type\":\"parcoords\",\"line\":{\"colorbar\":{\"outlinewidth\":0,\"ticks\":\"\"}}}],\"scatterpolargl\":[{\"type\":\"scatterpolargl\",\"marker\":{\"colorbar\":{\"outlinewidth\":0,\"ticks\":\"\"}}}],\"bar\":[{\"error_x\":{\"color\":\"#2a3f5f\"},\"error_y\":{\"color\":\"#2a3f5f\"},\"marker\":{\"line\":{\"color\":\"#E5ECF6\",\"width\":0.5},\"pattern\":{\"fillmode\":\"overlay\",\"size\":10,\"solidity\":0.2}},\"type\":\"bar\"}],\"scattergeo\":[{\"type\":\"scattergeo\",\"marker\":{\"colorbar\":{\"outlinewidth\":0,\"ticks\":\"\"}}}],\"scatterpolar\":[{\"type\":\"scatterpolar\",\"marker\":{\"colorbar\":{\"outlinewidth\":0,\"ticks\":\"\"}}}],\"histogram\":[{\"marker\":{\"pattern\":{\"fillmode\":\"overlay\",\"size\":10,\"solidity\":0.2}},\"type\":\"histogram\"}],\"scattergl\":[{\"type\":\"scattergl\",\"marker\":{\"colorbar\":{\"outlinewidth\":0,\"ticks\":\"\"}}}],\"scatter3d\":[{\"type\":\"scatter3d\",\"line\":{\"colorbar\":{\"outlinewidth\":0,\"ticks\":\"\"}},\"marker\":{\"colorbar\":{\"outlinewidth\":0,\"ticks\":\"\"}}}],\"scattermapbox\":[{\"type\":\"scattermapbox\",\"marker\":{\"colorbar\":{\"outlinewidth\":0,\"ticks\":\"\"}}}],\"scatterternary\":[{\"type\":\"scatterternary\",\"marker\":{\"colorbar\":{\"outlinewidth\":0,\"ticks\":\"\"}}}],\"scattercarpet\":[{\"type\":\"scattercarpet\",\"marker\":{\"colorbar\":{\"outlinewidth\":0,\"ticks\":\"\"}}}],\"carpet\":[{\"aaxis\":{\"endlinecolor\":\"#2a3f5f\",\"gridcolor\":\"white\",\"linecolor\":\"white\",\"minorgridcolor\":\"white\",\"startlinecolor\":\"#2a3f5f\"},\"baxis\":{\"endlinecolor\":\"#2a3f5f\",\"gridcolor\":\"white\",\"linecolor\":\"white\",\"minorgridcolor\":\"white\",\"startlinecolor\":\"#2a3f5f\"},\"type\":\"carpet\"}],\"table\":[{\"cells\":{\"fill\":{\"color\":\"#EBF0F8\"},\"line\":{\"color\":\"white\"}},\"header\":{\"fill\":{\"color\":\"#C8D4E3\"},\"line\":{\"color\":\"white\"}},\"type\":\"table\"}],\"barpolar\":[{\"marker\":{\"line\":{\"color\":\"#E5ECF6\",\"width\":0.5},\"pattern\":{\"fillmode\":\"overlay\",\"size\":10,\"solidity\":0.2}},\"type\":\"barpolar\"}],\"pie\":[{\"automargin\":true,\"type\":\"pie\"}]},\"layout\":{\"autotypenumbers\":\"strict\",\"colorway\":[\"#636efa\",\"#EF553B\",\"#00cc96\",\"#ab63fa\",\"#FFA15A\",\"#19d3f3\",\"#FF6692\",\"#B6E880\",\"#FF97FF\",\"#FECB52\"],\"font\":{\"color\":\"#2a3f5f\"},\"hovermode\":\"closest\",\"hoverlabel\":{\"align\":\"left\"},\"paper_bgcolor\":\"white\",\"plot_bgcolor\":\"#E5ECF6\",\"polar\":{\"bgcolor\":\"#E5ECF6\",\"angularaxis\":{\"gridcolor\":\"white\",\"linecolor\":\"white\",\"ticks\":\"\"},\"radialaxis\":{\"gridcolor\":\"white\",\"linecolor\":\"white\",\"ticks\":\"\"}},\"ternary\":{\"bgcolor\":\"#E5ECF6\",\"aaxis\":{\"gridcolor\":\"white\",\"linecolor\":\"white\",\"ticks\":\"\"},\"baxis\":{\"gridcolor\":\"white\",\"linecolor\":\"white\",\"ticks\":\"\"},\"caxis\":{\"gridcolor\":\"white\",\"linecolor\":\"white\",\"ticks\":\"\"}},\"coloraxis\":{\"colorbar\":{\"outlinewidth\":0,\"ticks\":\"\"}},\"colorscale\":{\"sequential\":[[0.0,\"#0d0887\"],[0.1111111111111111,\"#46039f\"],[0.2222222222222222,\"#7201a8\"],[0.3333333333333333,\"#9c179e\"],[0.4444444444444444,\"#bd3786\"],[0.5555555555555556,\"#d8576b\"],[0.6666666666666666,\"#ed7953\"],[0.7777777777777778,\"#fb9f3a\"],[0.8888888888888888,\"#fdca26\"],[1.0,\"#f0f921\"]],\"sequentialminus\":[[0.0,\"#0d0887\"],[0.1111111111111111,\"#46039f\"],[0.2222222222222222,\"#7201a8\"],[0.3333333333333333,\"#9c179e\"],[0.4444444444444444,\"#bd3786\"],[0.5555555555555556,\"#d8576b\"],[0.6666666666666666,\"#ed7953\"],[0.7777777777777778,\"#fb9f3a\"],[0.8888888888888888,\"#fdca26\"],[1.0,\"#f0f921\"]],\"diverging\":[[0,\"#8e0152\"],[0.1,\"#c51b7d\"],[0.2,\"#de77ae\"],[0.3,\"#f1b6da\"],[0.4,\"#fde0ef\"],[0.5,\"#f7f7f7\"],[0.6,\"#e6f5d0\"],[0.7,\"#b8e186\"],[0.8,\"#7fbc41\"],[0.9,\"#4d9221\"],[1,\"#276419\"]]},\"xaxis\":{\"gridcolor\":\"white\",\"linecolor\":\"white\",\"ticks\":\"\",\"title\":{\"standoff\":15},\"zerolinecolor\":\"white\",\"automargin\":true,\"zerolinewidth\":2},\"yaxis\":{\"gridcolor\":\"white\",\"linecolor\":\"white\",\"ticks\":\"\",\"title\":{\"standoff\":15},\"zerolinecolor\":\"white\",\"automargin\":true,\"zerolinewidth\":2},\"scene\":{\"xaxis\":{\"backgroundcolor\":\"#E5ECF6\",\"gridcolor\":\"white\",\"linecolor\":\"white\",\"showbackground\":true,\"ticks\":\"\",\"zerolinecolor\":\"white\",\"gridwidth\":2},\"yaxis\":{\"backgroundcolor\":\"#E5ECF6\",\"gridcolor\":\"white\",\"linecolor\":\"white\",\"showbackground\":true,\"ticks\":\"\",\"zerolinecolor\":\"white\",\"gridwidth\":2},\"zaxis\":{\"backgroundcolor\":\"#E5ECF6\",\"gridcolor\":\"white\",\"linecolor\":\"white\",\"showbackground\":true,\"ticks\":\"\",\"zerolinecolor\":\"white\",\"gridwidth\":2}},\"shapedefaults\":{\"line\":{\"color\":\"#2a3f5f\"}},\"annotationdefaults\":{\"arrowcolor\":\"#2a3f5f\",\"arrowhead\":0,\"arrowwidth\":1},\"geo\":{\"bgcolor\":\"white\",\"landcolor\":\"#E5ECF6\",\"subunitcolor\":\"white\",\"showland\":true,\"showlakes\":true,\"lakecolor\":\"white\"},\"title\":{\"x\":0.05},\"mapbox\":{\"style\":\"light\"}}},\"xaxis\":{\"anchor\":\"y\",\"domain\":[0.0,1.0]},\"yaxis\":{\"anchor\":\"x\",\"domain\":[0.0,1.0],\"autorange\":\"reversed\"},\"coloraxis\":{\"colorscale\":[[0.0,\"#440154\"],[0.1111111111111111,\"#482878\"],[0.2222222222222222,\"#3e4989\"],[0.3333333333333333,\"#31688e\"],[0.4444444444444444,\"#26828e\"],[0.5555555555555556,\"#1f9e89\"],[0.6666666666666666,\"#35b779\"],[0.7777777777777778,\"#6ece58\"],[0.8888888888888888,\"#b5de2b\"],[1.0,\"#fde725\"]]},\"title\":{\"text\":\"Matrice de corr\\u00e9lation\"}},                        {\"responsive\": true}                    ).then(function(){\n",
              "                            \n",
              "var gd = document.getElementById('681c492b-3d33-4c14-952f-89ffa056f74c');\n",
              "var x = new MutationObserver(function (mutations, observer) {{\n",
              "        var display = window.getComputedStyle(gd).display;\n",
              "        if (!display || display === 'none') {{\n",
              "            console.log([gd, 'removed!']);\n",
              "            Plotly.purge(gd);\n",
              "            observer.disconnect();\n",
              "        }}\n",
              "}});\n",
              "\n",
              "// Listen for the removal of the full notebook cells\n",
              "var notebookContainer = gd.closest('#notebook-container');\n",
              "if (notebookContainer) {{\n",
              "    x.observe(notebookContainer, {childList: true});\n",
              "}}\n",
              "\n",
              "// Listen for the clearing of the current output cell\n",
              "var outputEl = gd.closest('.output');\n",
              "if (outputEl) {{\n",
              "    x.observe(outputEl, {childList: true});\n",
              "}}\n",
              "\n",
              "                        })                };                            </script>        </div>\n",
              "</body>\n",
              "</html>"
            ]
          },
          "metadata": {}
        }
      ]
    },
    {
      "cell_type": "code",
      "source": [
        "df['best quality'] = [1 if x > 5 else 0 for x in df.quality]\n"
      ],
      "metadata": {
        "id": "e-5_9UQdYIak"
      },
      "execution_count": 89,
      "outputs": []
    },
    {
      "cell_type": "code",
      "source": [
        "df['best quality'].value_counts()"
      ],
      "metadata": {
        "colab": {
          "base_uri": "https://localhost:8080/",
          "height": 178
        },
        "id": "sdTQBuzQZicd",
        "outputId": "7636d142-344f-4468-d883-e712b8738609"
      },
      "execution_count": 90,
      "outputs": [
        {
          "output_type": "execute_result",
          "data": {
            "text/plain": [
              "best quality\n",
              "1    621\n",
              "0    522\n",
              "Name: count, dtype: int64"
            ],
            "text/html": [
              "<table border=\"1\" class=\"dataframe\">\n",
              "  <thead>\n",
              "    <tr style=\"text-align: right;\">\n",
              "      <th></th>\n",
              "      <th>count</th>\n",
              "    </tr>\n",
              "    <tr>\n",
              "      <th>best quality</th>\n",
              "      <th></th>\n",
              "    </tr>\n",
              "  </thead>\n",
              "  <tbody>\n",
              "    <tr>\n",
              "      <th>1</th>\n",
              "      <td>621</td>\n",
              "    </tr>\n",
              "    <tr>\n",
              "      <th>0</th>\n",
              "      <td>522</td>\n",
              "    </tr>\n",
              "  </tbody>\n",
              "</table><br><label><b>dtype:</b> int64</label>"
            ]
          },
          "metadata": {},
          "execution_count": 90
        }
      ]
    },
    {
      "cell_type": "code",
      "source": [
        "df=df.drop('quality',axis=1)"
      ],
      "metadata": {
        "id": "-idlqcWsZ09C"
      },
      "execution_count": 91,
      "outputs": []
    },
    {
      "cell_type": "code",
      "source": [
        "x=df.drop('best quality',axis=1)\n",
        "y=df['best quality']"
      ],
      "metadata": {
        "id": "MDFC7CnyZ8Re"
      },
      "execution_count": 92,
      "outputs": []
    },
    {
      "cell_type": "code",
      "source": [
        "\n",
        "\n",
        "scaler=StandardScaler()\n",
        "x=scaler.fit_transform(x)"
      ],
      "metadata": {
        "id": "U-lKJA2AaAJw"
      },
      "execution_count": 93,
      "outputs": []
    },
    {
      "cell_type": "code",
      "source": [
        "\n",
        "\n",
        "X_train, X_test, y_train, y_test = train_test_split(x, y, test_size=0.2, random_state=42)\n",
        "X_train.shape, X_test.shape, y_train.shape, y_test.shape"
      ],
      "metadata": {
        "colab": {
          "base_uri": "https://localhost:8080/"
        },
        "id": "w1Mjr-xOadby",
        "outputId": "c2fdf06c-07be-4cf8-b6a0-fab655d11ebf"
      },
      "execution_count": 94,
      "outputs": [
        {
          "output_type": "execute_result",
          "data": {
            "text/plain": [
              "((914, 11), (229, 11), (914,), (229,))"
            ]
          },
          "metadata": {},
          "execution_count": 94
        }
      ]
    },
    {
      "cell_type": "code",
      "source": [
        "\n",
        "rf=RandomForestClassifier()\n",
        "rf.fit(X_train,y_train)"
      ],
      "metadata": {
        "colab": {
          "base_uri": "https://localhost:8080/",
          "height": 75
        },
        "id": "sN01t7B2a8BL",
        "outputId": "52f87ab7-0916-4b38-eb9e-9bd7664ecb43"
      },
      "execution_count": 95,
      "outputs": [
        {
          "output_type": "execute_result",
          "data": {
            "text/plain": [
              "RandomForestClassifier()"
            ],
            "text/html": [
              "<style>#sk-container-id-15 {color: black;}#sk-container-id-15 pre{padding: 0;}#sk-container-id-15 div.sk-toggleable {background-color: white;}#sk-container-id-15 label.sk-toggleable__label {cursor: pointer;display: block;width: 100%;margin-bottom: 0;padding: 0.3em;box-sizing: border-box;text-align: center;}#sk-container-id-15 label.sk-toggleable__label-arrow:before {content: \"▸\";float: left;margin-right: 0.25em;color: #696969;}#sk-container-id-15 label.sk-toggleable__label-arrow:hover:before {color: black;}#sk-container-id-15 div.sk-estimator:hover label.sk-toggleable__label-arrow:before {color: black;}#sk-container-id-15 div.sk-toggleable__content {max-height: 0;max-width: 0;overflow: hidden;text-align: left;background-color: #f0f8ff;}#sk-container-id-15 div.sk-toggleable__content pre {margin: 0.2em;color: black;border-radius: 0.25em;background-color: #f0f8ff;}#sk-container-id-15 input.sk-toggleable__control:checked~div.sk-toggleable__content {max-height: 200px;max-width: 100%;overflow: auto;}#sk-container-id-15 input.sk-toggleable__control:checked~label.sk-toggleable__label-arrow:before {content: \"▾\";}#sk-container-id-15 div.sk-estimator input.sk-toggleable__control:checked~label.sk-toggleable__label {background-color: #d4ebff;}#sk-container-id-15 div.sk-label input.sk-toggleable__control:checked~label.sk-toggleable__label {background-color: #d4ebff;}#sk-container-id-15 input.sk-hidden--visually {border: 0;clip: rect(1px 1px 1px 1px);clip: rect(1px, 1px, 1px, 1px);height: 1px;margin: -1px;overflow: hidden;padding: 0;position: absolute;width: 1px;}#sk-container-id-15 div.sk-estimator {font-family: monospace;background-color: #f0f8ff;border: 1px dotted black;border-radius: 0.25em;box-sizing: border-box;margin-bottom: 0.5em;}#sk-container-id-15 div.sk-estimator:hover {background-color: #d4ebff;}#sk-container-id-15 div.sk-parallel-item::after {content: \"\";width: 100%;border-bottom: 1px solid gray;flex-grow: 1;}#sk-container-id-15 div.sk-label:hover label.sk-toggleable__label {background-color: #d4ebff;}#sk-container-id-15 div.sk-serial::before {content: \"\";position: absolute;border-left: 1px solid gray;box-sizing: border-box;top: 0;bottom: 0;left: 50%;z-index: 0;}#sk-container-id-15 div.sk-serial {display: flex;flex-direction: column;align-items: center;background-color: white;padding-right: 0.2em;padding-left: 0.2em;position: relative;}#sk-container-id-15 div.sk-item {position: relative;z-index: 1;}#sk-container-id-15 div.sk-parallel {display: flex;align-items: stretch;justify-content: center;background-color: white;position: relative;}#sk-container-id-15 div.sk-item::before, #sk-container-id-15 div.sk-parallel-item::before {content: \"\";position: absolute;border-left: 1px solid gray;box-sizing: border-box;top: 0;bottom: 0;left: 50%;z-index: -1;}#sk-container-id-15 div.sk-parallel-item {display: flex;flex-direction: column;z-index: 1;position: relative;background-color: white;}#sk-container-id-15 div.sk-parallel-item:first-child::after {align-self: flex-end;width: 50%;}#sk-container-id-15 div.sk-parallel-item:last-child::after {align-self: flex-start;width: 50%;}#sk-container-id-15 div.sk-parallel-item:only-child::after {width: 0;}#sk-container-id-15 div.sk-dashed-wrapped {border: 1px dashed gray;margin: 0 0.4em 0.5em 0.4em;box-sizing: border-box;padding-bottom: 0.4em;background-color: white;}#sk-container-id-15 div.sk-label label {font-family: monospace;font-weight: bold;display: inline-block;line-height: 1.2em;}#sk-container-id-15 div.sk-label-container {text-align: center;}#sk-container-id-15 div.sk-container {/* jupyter's `normalize.less` sets `[hidden] { display: none; }` but bootstrap.min.css set `[hidden] { display: none !important; }` so we also need the `!important` here to be able to override the default hidden behavior on the sphinx rendered scikit-learn.org. See: https://github.com/scikit-learn/scikit-learn/issues/21755 */display: inline-block !important;position: relative;}#sk-container-id-15 div.sk-text-repr-fallback {display: none;}</style><div id=\"sk-container-id-15\" class=\"sk-top-container\"><div class=\"sk-text-repr-fallback\"><pre>RandomForestClassifier()</pre><b>In a Jupyter environment, please rerun this cell to show the HTML representation or trust the notebook. <br />On GitHub, the HTML representation is unable to render, please try loading this page with nbviewer.org.</b></div><div class=\"sk-container\" hidden><div class=\"sk-item\"><div class=\"sk-estimator sk-toggleable\"><input class=\"sk-toggleable__control sk-hidden--visually\" id=\"sk-estimator-id-15\" type=\"checkbox\" checked><label for=\"sk-estimator-id-15\" class=\"sk-toggleable__label sk-toggleable__label-arrow\">RandomForestClassifier</label><div class=\"sk-toggleable__content\"><pre>RandomForestClassifier()</pre></div></div></div></div></div>"
            ]
          },
          "metadata": {},
          "execution_count": 95
        }
      ]
    },
    {
      "cell_type": "code",
      "source": [
        "\n",
        "pred_rf = rf.predict(X_test)\n",
        "predt_rf = rf.predict(X_train)\n",
        "accuracyt=accuracy_score(y_train,predt_rf)\n",
        "precisiont=precision_score(y_train,predt_rf)\n",
        "recallt=recall_score(y_train,predt_rf)\n",
        "f1t=2*(precisiont*recallt)/(precisiont+recallt)\n",
        "print(f'accuracy for training : {accuracyt}')\n",
        "print(f'precision for training : {precisiont}')\n",
        "print(f'recall for training: {recallt}')\n",
        "print(f'f1 for training : {f1t}')\n",
        "accuracy=accuracy_score(y_test,pred_rf)\n",
        "precision=precision_score(y_test,pred_rf)\n",
        "recall=recall_score(y_test,pred_rf)\n",
        "f1=2*(precision*recall)/(precision+recall)\n",
        "print(f'accuracy for validation : {accuracy}')\n",
        "print(f'precision for validation : {precision}')\n",
        "print(f'recall for validation: {recall}')\n",
        "print(f'f1 for validation : {f1}')"
      ],
      "metadata": {
        "colab": {
          "base_uri": "https://localhost:8080/"
        },
        "id": "6M0T8QBgbcjT",
        "outputId": "bec188c9-5dba-46e4-d797-97dae092732a"
      },
      "execution_count": 96,
      "outputs": [
        {
          "output_type": "stream",
          "name": "stdout",
          "text": [
            "accuracy for training : 1.0\n",
            "precision for training : 1.0\n",
            "recall for training: 1.0\n",
            "f1 for training : 1.0\n",
            "accuracy for validation : 0.7903930131004366\n",
            "precision for validation : 0.8376068376068376\n",
            "recall for validation: 0.7716535433070866\n",
            "f1 for validation : 0.8032786885245901\n"
          ]
        }
      ]
    },
    {
      "cell_type": "code",
      "source": [
        "\n",
        "lr=LogisticRegression()\n",
        "lr.fit(X_train,y_train)"
      ],
      "metadata": {
        "colab": {
          "base_uri": "https://localhost:8080/",
          "height": 75
        },
        "id": "Xf_xB30idxXN",
        "outputId": "e4c7e8f3-4977-4fdb-9c3a-3aecb3234901"
      },
      "execution_count": 97,
      "outputs": [
        {
          "output_type": "execute_result",
          "data": {
            "text/plain": [
              "LogisticRegression()"
            ],
            "text/html": [
              "<style>#sk-container-id-16 {color: black;}#sk-container-id-16 pre{padding: 0;}#sk-container-id-16 div.sk-toggleable {background-color: white;}#sk-container-id-16 label.sk-toggleable__label {cursor: pointer;display: block;width: 100%;margin-bottom: 0;padding: 0.3em;box-sizing: border-box;text-align: center;}#sk-container-id-16 label.sk-toggleable__label-arrow:before {content: \"▸\";float: left;margin-right: 0.25em;color: #696969;}#sk-container-id-16 label.sk-toggleable__label-arrow:hover:before {color: black;}#sk-container-id-16 div.sk-estimator:hover label.sk-toggleable__label-arrow:before {color: black;}#sk-container-id-16 div.sk-toggleable__content {max-height: 0;max-width: 0;overflow: hidden;text-align: left;background-color: #f0f8ff;}#sk-container-id-16 div.sk-toggleable__content pre {margin: 0.2em;color: black;border-radius: 0.25em;background-color: #f0f8ff;}#sk-container-id-16 input.sk-toggleable__control:checked~div.sk-toggleable__content {max-height: 200px;max-width: 100%;overflow: auto;}#sk-container-id-16 input.sk-toggleable__control:checked~label.sk-toggleable__label-arrow:before {content: \"▾\";}#sk-container-id-16 div.sk-estimator input.sk-toggleable__control:checked~label.sk-toggleable__label {background-color: #d4ebff;}#sk-container-id-16 div.sk-label input.sk-toggleable__control:checked~label.sk-toggleable__label {background-color: #d4ebff;}#sk-container-id-16 input.sk-hidden--visually {border: 0;clip: rect(1px 1px 1px 1px);clip: rect(1px, 1px, 1px, 1px);height: 1px;margin: -1px;overflow: hidden;padding: 0;position: absolute;width: 1px;}#sk-container-id-16 div.sk-estimator {font-family: monospace;background-color: #f0f8ff;border: 1px dotted black;border-radius: 0.25em;box-sizing: border-box;margin-bottom: 0.5em;}#sk-container-id-16 div.sk-estimator:hover {background-color: #d4ebff;}#sk-container-id-16 div.sk-parallel-item::after {content: \"\";width: 100%;border-bottom: 1px solid gray;flex-grow: 1;}#sk-container-id-16 div.sk-label:hover label.sk-toggleable__label {background-color: #d4ebff;}#sk-container-id-16 div.sk-serial::before {content: \"\";position: absolute;border-left: 1px solid gray;box-sizing: border-box;top: 0;bottom: 0;left: 50%;z-index: 0;}#sk-container-id-16 div.sk-serial {display: flex;flex-direction: column;align-items: center;background-color: white;padding-right: 0.2em;padding-left: 0.2em;position: relative;}#sk-container-id-16 div.sk-item {position: relative;z-index: 1;}#sk-container-id-16 div.sk-parallel {display: flex;align-items: stretch;justify-content: center;background-color: white;position: relative;}#sk-container-id-16 div.sk-item::before, #sk-container-id-16 div.sk-parallel-item::before {content: \"\";position: absolute;border-left: 1px solid gray;box-sizing: border-box;top: 0;bottom: 0;left: 50%;z-index: -1;}#sk-container-id-16 div.sk-parallel-item {display: flex;flex-direction: column;z-index: 1;position: relative;background-color: white;}#sk-container-id-16 div.sk-parallel-item:first-child::after {align-self: flex-end;width: 50%;}#sk-container-id-16 div.sk-parallel-item:last-child::after {align-self: flex-start;width: 50%;}#sk-container-id-16 div.sk-parallel-item:only-child::after {width: 0;}#sk-container-id-16 div.sk-dashed-wrapped {border: 1px dashed gray;margin: 0 0.4em 0.5em 0.4em;box-sizing: border-box;padding-bottom: 0.4em;background-color: white;}#sk-container-id-16 div.sk-label label {font-family: monospace;font-weight: bold;display: inline-block;line-height: 1.2em;}#sk-container-id-16 div.sk-label-container {text-align: center;}#sk-container-id-16 div.sk-container {/* jupyter's `normalize.less` sets `[hidden] { display: none; }` but bootstrap.min.css set `[hidden] { display: none !important; }` so we also need the `!important` here to be able to override the default hidden behavior on the sphinx rendered scikit-learn.org. See: https://github.com/scikit-learn/scikit-learn/issues/21755 */display: inline-block !important;position: relative;}#sk-container-id-16 div.sk-text-repr-fallback {display: none;}</style><div id=\"sk-container-id-16\" class=\"sk-top-container\"><div class=\"sk-text-repr-fallback\"><pre>LogisticRegression()</pre><b>In a Jupyter environment, please rerun this cell to show the HTML representation or trust the notebook. <br />On GitHub, the HTML representation is unable to render, please try loading this page with nbviewer.org.</b></div><div class=\"sk-container\" hidden><div class=\"sk-item\"><div class=\"sk-estimator sk-toggleable\"><input class=\"sk-toggleable__control sk-hidden--visually\" id=\"sk-estimator-id-16\" type=\"checkbox\" checked><label for=\"sk-estimator-id-16\" class=\"sk-toggleable__label sk-toggleable__label-arrow\">LogisticRegression</label><div class=\"sk-toggleable__content\"><pre>LogisticRegression()</pre></div></div></div></div></div>"
            ]
          },
          "metadata": {},
          "execution_count": 97
        }
      ]
    },
    {
      "cell_type": "code",
      "source": [
        "pred_lr = lr.predict(X_test)\n",
        "predt_lr = lr.predict(X_train)\n",
        "accuracyt=accuracy_score(y_train,predt_lr)\n",
        "precisiont=precision_score(y_train,predt_lr)\n",
        "recallt=recall_score(y_train,predt_lr)\n",
        "f1t=2*(precisiont*recallt)/(precisiont+recallt)\n",
        "print(f'accuracy for training : {accuracyt}')\n",
        "print(f'precision for training : {precisiont}')\n",
        "print(f'recall for training: {recallt}')\n",
        "print(f'f1 for training : {f1t}')\n",
        "accuracy=accuracy_score(y_test,pred_lr)\n",
        "precision=precision_score(y_test,pred_lr)\n",
        "recall=recall_score(y_test,pred_lr)\n",
        "f1=2*(precision*recall)/(precision+recall)\n",
        "print(f'accuracy for validation : {accuracy}')\n",
        "print(f'precision for validation : {precision}')\n",
        "print(f'recall for validation: {recall}')\n",
        "print(f'f1 for validation : {f1}')"
      ],
      "metadata": {
        "colab": {
          "base_uri": "https://localhost:8080/"
        },
        "id": "WQHQQVcIeCFK",
        "outputId": "c71e2c17-e2e4-452e-d2e0-08409dfb53d0"
      },
      "execution_count": 98,
      "outputs": [
        {
          "output_type": "stream",
          "name": "stdout",
          "text": [
            "accuracy for training : 0.7582056892778993\n",
            "precision for training : 0.7814432989690722\n",
            "recall for training: 0.7672064777327935\n",
            "f1 for training : 0.7742594484167516\n",
            "accuracy for validation : 0.7685589519650655\n",
            "precision for validation : 0.7936507936507936\n",
            "recall for validation: 0.7874015748031497\n",
            "f1 for validation : 0.7905138339920948\n"
          ]
        }
      ]
    },
    {
      "cell_type": "code",
      "source": [
        "\n",
        "xgboost=XGBClassifier()\n",
        "xgboost.fit(X_train,y_train)"
      ],
      "metadata": {
        "colab": {
          "base_uri": "https://localhost:8080/",
          "height": 248
        },
        "id": "t2GWrke6_XSU",
        "outputId": "df25c9a6-21c1-46d3-d20f-f92adf218d0a"
      },
      "execution_count": 99,
      "outputs": [
        {
          "output_type": "execute_result",
          "data": {
            "text/plain": [
              "XGBClassifier(base_score=None, booster=None, callbacks=None,\n",
              "              colsample_bylevel=None, colsample_bynode=None,\n",
              "              colsample_bytree=None, device=None, early_stopping_rounds=None,\n",
              "              enable_categorical=False, eval_metric=None, feature_types=None,\n",
              "              gamma=None, grow_policy=None, importance_type=None,\n",
              "              interaction_constraints=None, learning_rate=None, max_bin=None,\n",
              "              max_cat_threshold=None, max_cat_to_onehot=None,\n",
              "              max_delta_step=None, max_depth=None, max_leaves=None,\n",
              "              min_child_weight=None, missing=nan, monotone_constraints=None,\n",
              "              multi_strategy=None, n_estimators=None, n_jobs=None,\n",
              "              num_parallel_tree=None, random_state=None, ...)"
            ],
            "text/html": [
              "<style>#sk-container-id-17 {color: black;}#sk-container-id-17 pre{padding: 0;}#sk-container-id-17 div.sk-toggleable {background-color: white;}#sk-container-id-17 label.sk-toggleable__label {cursor: pointer;display: block;width: 100%;margin-bottom: 0;padding: 0.3em;box-sizing: border-box;text-align: center;}#sk-container-id-17 label.sk-toggleable__label-arrow:before {content: \"▸\";float: left;margin-right: 0.25em;color: #696969;}#sk-container-id-17 label.sk-toggleable__label-arrow:hover:before {color: black;}#sk-container-id-17 div.sk-estimator:hover label.sk-toggleable__label-arrow:before {color: black;}#sk-container-id-17 div.sk-toggleable__content {max-height: 0;max-width: 0;overflow: hidden;text-align: left;background-color: #f0f8ff;}#sk-container-id-17 div.sk-toggleable__content pre {margin: 0.2em;color: black;border-radius: 0.25em;background-color: #f0f8ff;}#sk-container-id-17 input.sk-toggleable__control:checked~div.sk-toggleable__content {max-height: 200px;max-width: 100%;overflow: auto;}#sk-container-id-17 input.sk-toggleable__control:checked~label.sk-toggleable__label-arrow:before {content: \"▾\";}#sk-container-id-17 div.sk-estimator input.sk-toggleable__control:checked~label.sk-toggleable__label {background-color: #d4ebff;}#sk-container-id-17 div.sk-label input.sk-toggleable__control:checked~label.sk-toggleable__label {background-color: #d4ebff;}#sk-container-id-17 input.sk-hidden--visually {border: 0;clip: rect(1px 1px 1px 1px);clip: rect(1px, 1px, 1px, 1px);height: 1px;margin: -1px;overflow: hidden;padding: 0;position: absolute;width: 1px;}#sk-container-id-17 div.sk-estimator {font-family: monospace;background-color: #f0f8ff;border: 1px dotted black;border-radius: 0.25em;box-sizing: border-box;margin-bottom: 0.5em;}#sk-container-id-17 div.sk-estimator:hover {background-color: #d4ebff;}#sk-container-id-17 div.sk-parallel-item::after {content: \"\";width: 100%;border-bottom: 1px solid gray;flex-grow: 1;}#sk-container-id-17 div.sk-label:hover label.sk-toggleable__label {background-color: #d4ebff;}#sk-container-id-17 div.sk-serial::before {content: \"\";position: absolute;border-left: 1px solid gray;box-sizing: border-box;top: 0;bottom: 0;left: 50%;z-index: 0;}#sk-container-id-17 div.sk-serial {display: flex;flex-direction: column;align-items: center;background-color: white;padding-right: 0.2em;padding-left: 0.2em;position: relative;}#sk-container-id-17 div.sk-item {position: relative;z-index: 1;}#sk-container-id-17 div.sk-parallel {display: flex;align-items: stretch;justify-content: center;background-color: white;position: relative;}#sk-container-id-17 div.sk-item::before, #sk-container-id-17 div.sk-parallel-item::before {content: \"\";position: absolute;border-left: 1px solid gray;box-sizing: border-box;top: 0;bottom: 0;left: 50%;z-index: -1;}#sk-container-id-17 div.sk-parallel-item {display: flex;flex-direction: column;z-index: 1;position: relative;background-color: white;}#sk-container-id-17 div.sk-parallel-item:first-child::after {align-self: flex-end;width: 50%;}#sk-container-id-17 div.sk-parallel-item:last-child::after {align-self: flex-start;width: 50%;}#sk-container-id-17 div.sk-parallel-item:only-child::after {width: 0;}#sk-container-id-17 div.sk-dashed-wrapped {border: 1px dashed gray;margin: 0 0.4em 0.5em 0.4em;box-sizing: border-box;padding-bottom: 0.4em;background-color: white;}#sk-container-id-17 div.sk-label label {font-family: monospace;font-weight: bold;display: inline-block;line-height: 1.2em;}#sk-container-id-17 div.sk-label-container {text-align: center;}#sk-container-id-17 div.sk-container {/* jupyter's `normalize.less` sets `[hidden] { display: none; }` but bootstrap.min.css set `[hidden] { display: none !important; }` so we also need the `!important` here to be able to override the default hidden behavior on the sphinx rendered scikit-learn.org. See: https://github.com/scikit-learn/scikit-learn/issues/21755 */display: inline-block !important;position: relative;}#sk-container-id-17 div.sk-text-repr-fallback {display: none;}</style><div id=\"sk-container-id-17\" class=\"sk-top-container\"><div class=\"sk-text-repr-fallback\"><pre>XGBClassifier(base_score=None, booster=None, callbacks=None,\n",
              "              colsample_bylevel=None, colsample_bynode=None,\n",
              "              colsample_bytree=None, device=None, early_stopping_rounds=None,\n",
              "              enable_categorical=False, eval_metric=None, feature_types=None,\n",
              "              gamma=None, grow_policy=None, importance_type=None,\n",
              "              interaction_constraints=None, learning_rate=None, max_bin=None,\n",
              "              max_cat_threshold=None, max_cat_to_onehot=None,\n",
              "              max_delta_step=None, max_depth=None, max_leaves=None,\n",
              "              min_child_weight=None, missing=nan, monotone_constraints=None,\n",
              "              multi_strategy=None, n_estimators=None, n_jobs=None,\n",
              "              num_parallel_tree=None, random_state=None, ...)</pre><b>In a Jupyter environment, please rerun this cell to show the HTML representation or trust the notebook. <br />On GitHub, the HTML representation is unable to render, please try loading this page with nbviewer.org.</b></div><div class=\"sk-container\" hidden><div class=\"sk-item\"><div class=\"sk-estimator sk-toggleable\"><input class=\"sk-toggleable__control sk-hidden--visually\" id=\"sk-estimator-id-17\" type=\"checkbox\" checked><label for=\"sk-estimator-id-17\" class=\"sk-toggleable__label sk-toggleable__label-arrow\">XGBClassifier</label><div class=\"sk-toggleable__content\"><pre>XGBClassifier(base_score=None, booster=None, callbacks=None,\n",
              "              colsample_bylevel=None, colsample_bynode=None,\n",
              "              colsample_bytree=None, device=None, early_stopping_rounds=None,\n",
              "              enable_categorical=False, eval_metric=None, feature_types=None,\n",
              "              gamma=None, grow_policy=None, importance_type=None,\n",
              "              interaction_constraints=None, learning_rate=None, max_bin=None,\n",
              "              max_cat_threshold=None, max_cat_to_onehot=None,\n",
              "              max_delta_step=None, max_depth=None, max_leaves=None,\n",
              "              min_child_weight=None, missing=nan, monotone_constraints=None,\n",
              "              multi_strategy=None, n_estimators=None, n_jobs=None,\n",
              "              num_parallel_tree=None, random_state=None, ...)</pre></div></div></div></div></div>"
            ]
          },
          "metadata": {},
          "execution_count": 99
        }
      ]
    },
    {
      "cell_type": "code",
      "source": [
        "pred_xgb = xgboost.predict(X_test)\n",
        "predt_xgb = xgboost.predict(X_train)\n",
        "accuracyt=accuracy_score(y_train,predt_xgb)\n",
        "precisiont=precision_score(y_train,predt_xgb)\n",
        "recallt=recall_score(y_train,predt_xgb)\n",
        "f1t=2*(precisiont*recallt)/(precisiont+recallt)\n",
        "print(f'accuracy for training : {accuracyt}')\n",
        "print(f'precision for training : {precisiont}')\n",
        "print(f'recall for training: {recallt}')\n",
        "print(f'f1 for training : {f1t}')\n",
        "accuracy=accuracy_score(y_test,pred_xgb)\n",
        "precision=precision_score(y_test,pred_xgb)\n",
        "recall=recall_score(y_test,pred_xgb)\n",
        "f1=2*(precision*recall)/(precision+recall)\n",
        "print(f'accuracy for validation : {accuracy}')\n",
        "print(f'precision for validation : {precision}')\n",
        "print(f'recall for validation: {recall}')\n",
        "print(f'f1 for validation : {f1}')"
      ],
      "metadata": {
        "colab": {
          "base_uri": "https://localhost:8080/"
        },
        "id": "pwmFyjDBAfDC",
        "outputId": "611a04d5-6cdb-462f-ba64-414459d74842"
      },
      "execution_count": 100,
      "outputs": [
        {
          "output_type": "stream",
          "name": "stdout",
          "text": [
            "accuracy for training : 1.0\n",
            "precision for training : 1.0\n",
            "recall for training: 1.0\n",
            "f1 for training : 1.0\n",
            "accuracy for validation : 0.7467248908296943\n",
            "precision for validation : 0.7804878048780488\n",
            "recall for validation: 0.7559055118110236\n",
            "f1 for validation : 0.768\n"
          ]
        }
      ]
    },
    {
      "cell_type": "code",
      "source": [
        "\n",
        "svc=SVC()\n",
        "svc.fit(X_train,y_train)"
      ],
      "metadata": {
        "colab": {
          "base_uri": "https://localhost:8080/",
          "height": 75
        },
        "id": "8bZuP145BZfo",
        "outputId": "8c377daa-663d-4431-b732-61bfd55434c3"
      },
      "execution_count": 101,
      "outputs": [
        {
          "output_type": "execute_result",
          "data": {
            "text/plain": [
              "SVC()"
            ],
            "text/html": [
              "<style>#sk-container-id-18 {color: black;}#sk-container-id-18 pre{padding: 0;}#sk-container-id-18 div.sk-toggleable {background-color: white;}#sk-container-id-18 label.sk-toggleable__label {cursor: pointer;display: block;width: 100%;margin-bottom: 0;padding: 0.3em;box-sizing: border-box;text-align: center;}#sk-container-id-18 label.sk-toggleable__label-arrow:before {content: \"▸\";float: left;margin-right: 0.25em;color: #696969;}#sk-container-id-18 label.sk-toggleable__label-arrow:hover:before {color: black;}#sk-container-id-18 div.sk-estimator:hover label.sk-toggleable__label-arrow:before {color: black;}#sk-container-id-18 div.sk-toggleable__content {max-height: 0;max-width: 0;overflow: hidden;text-align: left;background-color: #f0f8ff;}#sk-container-id-18 div.sk-toggleable__content pre {margin: 0.2em;color: black;border-radius: 0.25em;background-color: #f0f8ff;}#sk-container-id-18 input.sk-toggleable__control:checked~div.sk-toggleable__content {max-height: 200px;max-width: 100%;overflow: auto;}#sk-container-id-18 input.sk-toggleable__control:checked~label.sk-toggleable__label-arrow:before {content: \"▾\";}#sk-container-id-18 div.sk-estimator input.sk-toggleable__control:checked~label.sk-toggleable__label {background-color: #d4ebff;}#sk-container-id-18 div.sk-label input.sk-toggleable__control:checked~label.sk-toggleable__label {background-color: #d4ebff;}#sk-container-id-18 input.sk-hidden--visually {border: 0;clip: rect(1px 1px 1px 1px);clip: rect(1px, 1px, 1px, 1px);height: 1px;margin: -1px;overflow: hidden;padding: 0;position: absolute;width: 1px;}#sk-container-id-18 div.sk-estimator {font-family: monospace;background-color: #f0f8ff;border: 1px dotted black;border-radius: 0.25em;box-sizing: border-box;margin-bottom: 0.5em;}#sk-container-id-18 div.sk-estimator:hover {background-color: #d4ebff;}#sk-container-id-18 div.sk-parallel-item::after {content: \"\";width: 100%;border-bottom: 1px solid gray;flex-grow: 1;}#sk-container-id-18 div.sk-label:hover label.sk-toggleable__label {background-color: #d4ebff;}#sk-container-id-18 div.sk-serial::before {content: \"\";position: absolute;border-left: 1px solid gray;box-sizing: border-box;top: 0;bottom: 0;left: 50%;z-index: 0;}#sk-container-id-18 div.sk-serial {display: flex;flex-direction: column;align-items: center;background-color: white;padding-right: 0.2em;padding-left: 0.2em;position: relative;}#sk-container-id-18 div.sk-item {position: relative;z-index: 1;}#sk-container-id-18 div.sk-parallel {display: flex;align-items: stretch;justify-content: center;background-color: white;position: relative;}#sk-container-id-18 div.sk-item::before, #sk-container-id-18 div.sk-parallel-item::before {content: \"\";position: absolute;border-left: 1px solid gray;box-sizing: border-box;top: 0;bottom: 0;left: 50%;z-index: -1;}#sk-container-id-18 div.sk-parallel-item {display: flex;flex-direction: column;z-index: 1;position: relative;background-color: white;}#sk-container-id-18 div.sk-parallel-item:first-child::after {align-self: flex-end;width: 50%;}#sk-container-id-18 div.sk-parallel-item:last-child::after {align-self: flex-start;width: 50%;}#sk-container-id-18 div.sk-parallel-item:only-child::after {width: 0;}#sk-container-id-18 div.sk-dashed-wrapped {border: 1px dashed gray;margin: 0 0.4em 0.5em 0.4em;box-sizing: border-box;padding-bottom: 0.4em;background-color: white;}#sk-container-id-18 div.sk-label label {font-family: monospace;font-weight: bold;display: inline-block;line-height: 1.2em;}#sk-container-id-18 div.sk-label-container {text-align: center;}#sk-container-id-18 div.sk-container {/* jupyter's `normalize.less` sets `[hidden] { display: none; }` but bootstrap.min.css set `[hidden] { display: none !important; }` so we also need the `!important` here to be able to override the default hidden behavior on the sphinx rendered scikit-learn.org. See: https://github.com/scikit-learn/scikit-learn/issues/21755 */display: inline-block !important;position: relative;}#sk-container-id-18 div.sk-text-repr-fallback {display: none;}</style><div id=\"sk-container-id-18\" class=\"sk-top-container\"><div class=\"sk-text-repr-fallback\"><pre>SVC()</pre><b>In a Jupyter environment, please rerun this cell to show the HTML representation or trust the notebook. <br />On GitHub, the HTML representation is unable to render, please try loading this page with nbviewer.org.</b></div><div class=\"sk-container\" hidden><div class=\"sk-item\"><div class=\"sk-estimator sk-toggleable\"><input class=\"sk-toggleable__control sk-hidden--visually\" id=\"sk-estimator-id-18\" type=\"checkbox\" checked><label for=\"sk-estimator-id-18\" class=\"sk-toggleable__label sk-toggleable__label-arrow\">SVC</label><div class=\"sk-toggleable__content\"><pre>SVC()</pre></div></div></div></div></div>"
            ]
          },
          "metadata": {},
          "execution_count": 101
        }
      ]
    },
    {
      "cell_type": "code",
      "source": [
        "pred_svc = svc.predict(X_test)\n",
        "predt_svc = svc.predict(X_train)\n",
        "accuracyt=accuracy_score(y_train,predt_svc)\n",
        "precisiont=precision_score(y_train,predt_svc)\n",
        "recallt=recall_score(y_train,predt_svc)\n",
        "f1t=2*(precisiont*recallt)/(precisiont+recallt)\n",
        "print(f'accuracy for training : {accuracyt}')\n",
        "print(f'precision for training : {precisiont}')\n",
        "print(f'recall for training: {recallt}')\n",
        "print(f'f1 for training : {f1t}')\n",
        "accuracy=accuracy_score(y_test,pred_svc)\n",
        "precision=precision_score(y_test,pred_svc)\n",
        "recall=recall_score(y_test,pred_svc)\n",
        "f1=2*(precision*recall)/(precision+recall)\n",
        "print(f'accuracy for validation : {accuracy}')\n",
        "print(f'precision for validation : {precision}')\n",
        "print(f'recall for validation: {recall}')\n",
        "print(f'f1 for validation : {f1}')"
      ],
      "metadata": {
        "colab": {
          "base_uri": "https://localhost:8080/"
        },
        "id": "zr-VTA0pCABW",
        "outputId": "6131f2dd-0a98-48f9-c2df-d75c6d3f8a5a"
      },
      "execution_count": 102,
      "outputs": [
        {
          "output_type": "stream",
          "name": "stdout",
          "text": [
            "accuracy for training : 0.8019693654266958\n",
            "precision for training : 0.8253638253638254\n",
            "recall for training: 0.8036437246963563\n",
            "f1 for training : 0.8143589743589743\n",
            "accuracy for validation : 0.7641921397379913\n",
            "precision for validation : 0.7786259541984732\n",
            "recall for validation: 0.8031496062992126\n",
            "f1 for validation : 0.7906976744186045\n"
          ]
        }
      ]
    },
    {
      "cell_type": "code",
      "source": [
        "train_stack = np.column_stack((predt_rf, predt_lr, predt_xgb, predt_svc))\n",
        "test_stack = np.column_stack((pred_rf, pred_lr, pred_xgb, pred_svc))"
      ],
      "metadata": {
        "id": "aPa7uEGDN13J"
      },
      "execution_count": 103,
      "outputs": []
    },
    {
      "cell_type": "code",
      "source": [
        "stack_model = RandomForestClassifier()\n",
        "stack_model.fit(train_stack, y_train)"
      ],
      "metadata": {
        "colab": {
          "base_uri": "https://localhost:8080/",
          "height": 75
        },
        "id": "KNNApt4-O-2v",
        "outputId": "72696ef6-e6f0-4898-92ee-3d4b30ba15ab"
      },
      "execution_count": 105,
      "outputs": [
        {
          "output_type": "execute_result",
          "data": {
            "text/plain": [
              "RandomForestClassifier()"
            ],
            "text/html": [
              "<style>#sk-container-id-19 {color: black;}#sk-container-id-19 pre{padding: 0;}#sk-container-id-19 div.sk-toggleable {background-color: white;}#sk-container-id-19 label.sk-toggleable__label {cursor: pointer;display: block;width: 100%;margin-bottom: 0;padding: 0.3em;box-sizing: border-box;text-align: center;}#sk-container-id-19 label.sk-toggleable__label-arrow:before {content: \"▸\";float: left;margin-right: 0.25em;color: #696969;}#sk-container-id-19 label.sk-toggleable__label-arrow:hover:before {color: black;}#sk-container-id-19 div.sk-estimator:hover label.sk-toggleable__label-arrow:before {color: black;}#sk-container-id-19 div.sk-toggleable__content {max-height: 0;max-width: 0;overflow: hidden;text-align: left;background-color: #f0f8ff;}#sk-container-id-19 div.sk-toggleable__content pre {margin: 0.2em;color: black;border-radius: 0.25em;background-color: #f0f8ff;}#sk-container-id-19 input.sk-toggleable__control:checked~div.sk-toggleable__content {max-height: 200px;max-width: 100%;overflow: auto;}#sk-container-id-19 input.sk-toggleable__control:checked~label.sk-toggleable__label-arrow:before {content: \"▾\";}#sk-container-id-19 div.sk-estimator input.sk-toggleable__control:checked~label.sk-toggleable__label {background-color: #d4ebff;}#sk-container-id-19 div.sk-label input.sk-toggleable__control:checked~label.sk-toggleable__label {background-color: #d4ebff;}#sk-container-id-19 input.sk-hidden--visually {border: 0;clip: rect(1px 1px 1px 1px);clip: rect(1px, 1px, 1px, 1px);height: 1px;margin: -1px;overflow: hidden;padding: 0;position: absolute;width: 1px;}#sk-container-id-19 div.sk-estimator {font-family: monospace;background-color: #f0f8ff;border: 1px dotted black;border-radius: 0.25em;box-sizing: border-box;margin-bottom: 0.5em;}#sk-container-id-19 div.sk-estimator:hover {background-color: #d4ebff;}#sk-container-id-19 div.sk-parallel-item::after {content: \"\";width: 100%;border-bottom: 1px solid gray;flex-grow: 1;}#sk-container-id-19 div.sk-label:hover label.sk-toggleable__label {background-color: #d4ebff;}#sk-container-id-19 div.sk-serial::before {content: \"\";position: absolute;border-left: 1px solid gray;box-sizing: border-box;top: 0;bottom: 0;left: 50%;z-index: 0;}#sk-container-id-19 div.sk-serial {display: flex;flex-direction: column;align-items: center;background-color: white;padding-right: 0.2em;padding-left: 0.2em;position: relative;}#sk-container-id-19 div.sk-item {position: relative;z-index: 1;}#sk-container-id-19 div.sk-parallel {display: flex;align-items: stretch;justify-content: center;background-color: white;position: relative;}#sk-container-id-19 div.sk-item::before, #sk-container-id-19 div.sk-parallel-item::before {content: \"\";position: absolute;border-left: 1px solid gray;box-sizing: border-box;top: 0;bottom: 0;left: 50%;z-index: -1;}#sk-container-id-19 div.sk-parallel-item {display: flex;flex-direction: column;z-index: 1;position: relative;background-color: white;}#sk-container-id-19 div.sk-parallel-item:first-child::after {align-self: flex-end;width: 50%;}#sk-container-id-19 div.sk-parallel-item:last-child::after {align-self: flex-start;width: 50%;}#sk-container-id-19 div.sk-parallel-item:only-child::after {width: 0;}#sk-container-id-19 div.sk-dashed-wrapped {border: 1px dashed gray;margin: 0 0.4em 0.5em 0.4em;box-sizing: border-box;padding-bottom: 0.4em;background-color: white;}#sk-container-id-19 div.sk-label label {font-family: monospace;font-weight: bold;display: inline-block;line-height: 1.2em;}#sk-container-id-19 div.sk-label-container {text-align: center;}#sk-container-id-19 div.sk-container {/* jupyter's `normalize.less` sets `[hidden] { display: none; }` but bootstrap.min.css set `[hidden] { display: none !important; }` so we also need the `!important` here to be able to override the default hidden behavior on the sphinx rendered scikit-learn.org. See: https://github.com/scikit-learn/scikit-learn/issues/21755 */display: inline-block !important;position: relative;}#sk-container-id-19 div.sk-text-repr-fallback {display: none;}</style><div id=\"sk-container-id-19\" class=\"sk-top-container\"><div class=\"sk-text-repr-fallback\"><pre>RandomForestClassifier()</pre><b>In a Jupyter environment, please rerun this cell to show the HTML representation or trust the notebook. <br />On GitHub, the HTML representation is unable to render, please try loading this page with nbviewer.org.</b></div><div class=\"sk-container\" hidden><div class=\"sk-item\"><div class=\"sk-estimator sk-toggleable\"><input class=\"sk-toggleable__control sk-hidden--visually\" id=\"sk-estimator-id-19\" type=\"checkbox\" checked><label for=\"sk-estimator-id-19\" class=\"sk-toggleable__label sk-toggleable__label-arrow\">RandomForestClassifier</label><div class=\"sk-toggleable__content\"><pre>RandomForestClassifier()</pre></div></div></div></div></div>"
            ]
          },
          "metadata": {},
          "execution_count": 105
        }
      ]
    },
    {
      "cell_type": "code",
      "source": [
        "stack_pred = stack_model.predict(test_stack)\n",
        "accuracy = accuracy_score(y_test, stack_pred)\n",
        "precision = precision_score(y_test, stack_pred, average='weighted')\n",
        "recall = recall_score(y_test, stack_pred, average='weighted')\n",
        "f1 = f1_score(y_test, stack_pred, average='weighted')\n",
        "\n",
        "print(f'Accuracy: {accuracy}')\n",
        "print(f'Precision: {precision}')\n",
        "print(f'Recall: {recall}')\n",
        "print(f'F1-Score: {f1}')"
      ],
      "metadata": {
        "colab": {
          "base_uri": "https://localhost:8080/"
        },
        "id": "hy0OBj0PPFo_",
        "outputId": "3481b26a-ee14-4c42-e5bc-002849a87217"
      },
      "execution_count": 106,
      "outputs": [
        {
          "output_type": "stream",
          "name": "stdout",
          "text": [
            "Accuracy: 0.7903930131004366\n",
            "Precision: 0.794608533145651\n",
            "Recall: 0.7903930131004366\n",
            "F1-Score: 0.7909951474660513\n"
          ]
        }
      ]
    }
  ]
}